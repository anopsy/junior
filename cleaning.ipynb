{
 "cells": [
  {
   "cell_type": "code",
   "execution_count": 1,
   "id": "1229fc99-9a87-4d36-9fc9-70ccacb5b735",
   "metadata": {},
   "outputs": [
    {
     "name": "stdout",
     "output_type": "stream",
     "text": [
      "Defaulting to user installation because normal site-packages is not writeable\n",
      "Requirement already satisfied: polars in /home/anopsy/.local/lib/python3.10/site-packages (0.20.30)\n",
      "Note: you may need to restart the kernel to use updated packages.\n"
     ]
    }
   ],
   "source": [
    "%pip install --upgrade polars"
   ]
  },
  {
   "cell_type": "code",
   "execution_count": 2,
   "id": "06fb62fa-03b3-45b9-92e2-e5e23e3ab9fa",
   "metadata": {},
   "outputs": [],
   "source": [
    "import polars as pl"
   ]
  },
  {
   "cell_type": "code",
   "execution_count": 3,
   "id": "3032a5eb-5f6e-45d6-b95b-9b0d0aeb0f1b",
   "metadata": {},
   "outputs": [],
   "source": [
    "#not paarsing dates so I can first perform string operation on it\n",
    "df_old = pl.read_csv(\"/home/anopsy/Portfolio/junior_roles/9june2023.csv\", try_parse_dates=False)\n",
    "df_new = pl.read_csv(\"/home/anopsy/Portfolio/junior_roles/2april2024.csv\", try_parse_dates=False)\n"
   ]
  },
  {
   "cell_type": "code",
   "execution_count": 4,
   "id": "fd9e0c31-52df-40ff-9e71-90498ae9c0d1",
   "metadata": {},
   "outputs": [],
   "source": [
    "df_old = df_old.with_columns(sample_date = pl.lit(\"2023\"))\n",
    "df_new = df_new.with_columns(sample_date = pl.lit(\"2024\"))"
   ]
  },
  {
   "cell_type": "code",
   "execution_count": 5,
   "id": "39e47505-1ae1-4107-af93-3e58ce02ee2d",
   "metadata": {},
   "outputs": [],
   "source": [
    "whole_df = df_old.vstack(df_new)"
   ]
  },
  {
   "cell_type": "markdown",
   "id": "1b6255f7-1fa0-45fe-817b-53cdda193977",
   "metadata": {},
   "source": [
    "1. Compensation\n",
    "   Compensation variable has a lot of issues. First of all it contains compensation in different currencies.\n",
    "   I'll convert the local currency of the most numerous countries, which are India, Mexico, Canada, Poland. I'll skip European Countries with EURO as their currency, as the conversion rate is almost 1:1.\n",
    "   The other issue I faced is the fact that the compensation can be expressed both as a monthly compensation for a full-time job. But it also contains values that look like an hourly wage. I'll assume that those are ineed hourly -reates and if the job is specified as full-time I'll multiply it by a full-time number of hours.\n",
    "   The third problem is that some comp_est string are amalgamations of two strings- lower and higher range. I'll then split them and I'll compute the average."
   ]
  },
  {
   "cell_type": "markdown",
   "id": "bb05572c-3afa-4058-a4a8-d1cb8c28b369",
   "metadata": {},
   "source": [
    "a) amalgamated strings into two strings -> float/int -> average\n",
    "There are 108 records that contain strings that contain lower and higher range of the compensation enstimation.\n",
    "\n",
    "\n",
    "What did I do, I created a column with the length of the comp_est string and focused only on the strings that are longer than 9 chars. Amalgamated strings (eg 120000160000) have a specific structure so I extracted those using regex. I ended up with 108 records with lower and higher bound.\n",
    "\n",
    "The logic is not perfect, I also generated 13 values, consisting of 3 extracted values, in 5 of them the first string is the lower bound and the two last striings combined will create the higher bound. In 4 other records there's an opposite problem, the first two string makes the lower bound while the two last strings can be combined into the higher bound. 4 other records doesn't make too much sense. I decided I wil therefore skip this step as creating a logic for cleaning only 8 records in total is in my opinion a suboptimal solution. But I could return to it as an exercise.\n"
   ]
  },
  {
   "cell_type": "code",
   "execution_count": 6,
   "id": "27ca79c9-2fff-4496-bd61-aa640e9993bc",
   "metadata": {},
   "outputs": [],
   "source": [
    "whole_df = whole_df.with_columns(len_comp = pl.col(\"comp_est\").str.len_chars())"
   ]
  },
  {
   "cell_type": "code",
   "execution_count": 7,
   "id": "53e3dbf1-d1f3-4da7-b2d7-62fba236ff88",
   "metadata": {},
   "outputs": [
    {
     "data": {
      "text/html": [
       "<div><style>\n",
       ".dataframe > thead > tr,\n",
       ".dataframe > tbody > tr {\n",
       "  text-align: right;\n",
       "  white-space: pre-wrap;\n",
       "}\n",
       "</style>\n",
       "<small>shape: (20, 2)</small><table border=\"1\" class=\"dataframe\"><thead><tr><th>len_comp</th><th>count</th></tr><tr><td>u32</td><td>u32</td></tr></thead><tbody><tr><td>null</td><td>47737</td></tr><tr><td>0</td><td>36939</td></tr><tr><td>9</td><td>5485</td></tr><tr><td>8</td><td>4642</td></tr><tr><td>4</td><td>1654</td></tr><tr><td>&hellip;</td><td>&hellip;</td></tr><tr><td>12</td><td>19</td></tr><tr><td>17</td><td>17</td></tr><tr><td>2</td><td>6</td></tr><tr><td>47</td><td>1</td></tr><tr><td>16</td><td>1</td></tr></tbody></table></div>"
      ],
      "text/plain": [
       "shape: (20, 2)\n",
       "┌──────────┬───────┐\n",
       "│ len_comp ┆ count │\n",
       "│ ---      ┆ ---   │\n",
       "│ u32      ┆ u32   │\n",
       "╞══════════╪═══════╡\n",
       "│ null     ┆ 47737 │\n",
       "│ 0        ┆ 36939 │\n",
       "│ 9        ┆ 5485  │\n",
       "│ 8        ┆ 4642  │\n",
       "│ 4        ┆ 1654  │\n",
       "│ …        ┆ …     │\n",
       "│ 12       ┆ 19    │\n",
       "│ 17       ┆ 17    │\n",
       "│ 2        ┆ 6     │\n",
       "│ 47       ┆ 1     │\n",
       "│ 16       ┆ 1     │\n",
       "└──────────┴───────┘"
      ]
     },
     "execution_count": 7,
     "metadata": {},
     "output_type": "execute_result"
    }
   ],
   "source": [
    "whole_df[\"len_comp\"].value_counts(sort=True)"
   ]
  },
  {
   "cell_type": "code",
   "execution_count": 8,
   "id": "0bc703d0-5a9b-4552-8cff-24d9af2491d9",
   "metadata": {},
   "outputs": [
    {
     "data": {
      "text/html": [
       "<div><style>\n",
       ".dataframe > thead > tr,\n",
       ".dataframe > tbody > tr {\n",
       "  text-align: right;\n",
       "  white-space: pre-wrap;\n",
       "}\n",
       "</style>\n",
       "<small>shape: (444, 1)</small><table border=\"1\" class=\"dataframe\"><thead><tr><th>comp_est</th></tr><tr><td>str</td></tr></thead><tbody><tr><td>&quot;123649.825&quot;</td></tr><tr><td>&quot;2500000000.00&quot;</td></tr><tr><td>&quot;32299.999999999996&quot;</td></tr><tr><td>&quot;133293.495&quot;</td></tr><tr><td>&quot;130000160000.00&quot;</td></tr><tr><td>&hellip;</td></tr><tr><td>&quot;79770.76000000001&quot;</td></tr><tr><td>&quot;1450000.00&quot;</td></tr><tr><td>&quot;19800000.00&quot;</td></tr><tr><td>&quot;1100000.00&quot;</td></tr><tr><td>&quot;1700000.00&quot;</td></tr></tbody></table></div>"
      ],
      "text/plain": [
       "shape: (444, 1)\n",
       "┌────────────────────┐\n",
       "│ comp_est           │\n",
       "│ ---                │\n",
       "│ str                │\n",
       "╞════════════════════╡\n",
       "│ 123649.825         │\n",
       "│ 2500000000.00      │\n",
       "│ 32299.999999999996 │\n",
       "│ 133293.495         │\n",
       "│ 130000160000.00    │\n",
       "│ …                  │\n",
       "│ 79770.76000000001  │\n",
       "│ 1450000.00         │\n",
       "│ 19800000.00        │\n",
       "│ 1100000.00         │\n",
       "│ 1700000.00         │\n",
       "└────────────────────┘"
      ]
     },
     "execution_count": 8,
     "metadata": {},
     "output_type": "execute_result"
    }
   ],
   "source": [
    "whole_df.filter(pl.col(\"len_comp\")>9).select(\"comp_est\")"
   ]
  },
  {
   "cell_type": "code",
   "execution_count": 9,
   "id": "c48dab51-c196-432d-b3d8-3dcf78894e87",
   "metadata": {},
   "outputs": [
    {
     "data": {
      "text/html": [
       "<div><style>\n",
       ".dataframe > thead > tr,\n",
       ".dataframe > tbody > tr {\n",
       "  text-align: right;\n",
       "  white-space: pre-wrap;\n",
       "}\n",
       "</style>\n",
       "<small>shape: (105, 19)</small><table border=\"1\" class=\"dataframe\"><thead><tr><th>job_name</th><th>job_location</th><th>hours</th><th>remote</th><th>company_name</th><th>education</th><th>tags_matched</th><th>tag_categories</th><th>categories</th><th>seniority</th><th>comp_est</th><th>language</th><th>city</th><th>country</th><th>job_published_at</th><th>last_indexed</th><th>sample_date</th><th>len_comp</th><th>est</th></tr><tr><td>str</td><td>str</td><td>str</td><td>bool</td><td>str</td><td>str</td><td>str</td><td>str</td><td>str</td><td>str</td><td>str</td><td>str</td><td>str</td><td>str</td><td>str</td><td>str</td><td>str</td><td>u32</td><td>list[str]</td></tr></thead><tbody><tr><td>&quot;Fluid Test Engineer (Thermal)&quot;</td><td>&quot;Titusville, FL&quot;</td><td>&quot;Full-Time&quot;</td><td>null</td><td>&quot;Latitude&quot;</td><td>null</td><td>&quot;[Microsoft]&quot;</td><td>&quot;[]&quot;</td><td>&quot;[Government, Recruiting &amp; Staf…</td><td>&quot;Manager&quot;</td><td>&quot;130000160000.00&quot;</td><td>&quot;en&quot;</td><td>&quot;Titusville&quot;</td><td>&quot;United States&quot;</td><td>null</td><td>&quot;2023-06-05 06:32:02&quot;</td><td>&quot;2023&quot;</td><td>15</td><td>[&quot;130000&quot;, &quot;160000&quot;]</td></tr><tr><td>&quot;Field Engineer I - Southern Co…</td><td>null</td><td>&quot;Full-Time&quot;</td><td>null</td><td>&quot;Colorado Opportunities&quot;</td><td>&quot;Bachelors&quot;</td><td>&quot;[Microsoft]&quot;</td><td>&quot;[]&quot;</td><td>&quot;[]&quot;</td><td>null</td><td>&quot;65000735000.00&quot;</td><td>&quot;en&quot;</td><td>&quot;Colorado Springs&quot;</td><td>&quot;United States&quot;</td><td>&quot;2023-05-26 15:13:27&quot;</td><td>&quot;2023-06-06 20:21:03&quot;</td><td>&quot;2023&quot;</td><td>14</td><td>[&quot;65000&quot;, &quot;735000&quot;]</td></tr><tr><td>&quot;Platform Security Engineer&quot;</td><td>&quot;Los Angeles, CA&quot;</td><td>&quot;Full-Time&quot;</td><td>null</td><td>&quot;StubHub&quot;</td><td>null</td><td>&quot;[C#, Java]&quot;</td><td>&quot;[Programming Languages, OSS]&quot;</td><td>&quot;[Security, Software]&quot;</td><td>null</td><td>&quot;200000350000.00&quot;</td><td>&quot;en&quot;</td><td>&quot;Los Angeles&quot;</td><td>&quot;United States&quot;</td><td>&quot;2022-11-16 00:00:00&quot;</td><td>&quot;2023-05-24 04:46:37&quot;</td><td>&quot;2023&quot;</td><td>15</td><td>[&quot;200000&quot;, &quot;350000&quot;]</td></tr><tr><td>&quot;GRC Security Consultant (Gover…</td><td>&quot;United States&quot;</td><td>&quot;Contract&quot;</td><td>null</td><td>&quot;Braintrust&quot;</td><td>null</td><td>&quot;[DFS, GDPR]&quot;</td><td>&quot;[Print on Demand, Compliance, …</td><td>&quot;[Consulting, Compliance, Freel…</td><td>&quot;Contract&quot;</td><td>&quot;230250000.00&quot;</td><td>&quot;en&quot;</td><td>null</td><td>&quot;United States&quot;</td><td>&quot;2023-05-30 00:00:00&quot;</td><td>&quot;2023-05-31 23:10:51&quot;</td><td>&quot;2023&quot;</td><td>12</td><td>[&quot;230&quot;, &quot;250000&quot;]</td></tr><tr><td>&quot;Experienced Instrumentation &amp; …</td><td>&quot;Richmond The Standard Cafeteri…</td><td>&quot;Full-Time&quot;</td><td>null</td><td>&quot;0061 Chevron Products Company&quot;</td><td>&quot;Bachelors&quot;</td><td>&quot;[]&quot;</td><td>&quot;[]&quot;</td><td>&quot;[Business, Chemicals, Oil &amp; Ga…</td><td>&quot;Senior IC&quot;</td><td>&quot;112200221900.00&quot;</td><td>&quot;en&quot;</td><td>null</td><td>&quot;United States&quot;</td><td>&quot;2023-06-02 00:00:00&quot;</td><td>&quot;2023-06-08 04:58:36&quot;</td><td>&quot;2023&quot;</td><td>15</td><td>[&quot;112200&quot;, &quot;221900&quot;]</td></tr><tr><td>&hellip;</td><td>&hellip;</td><td>&hellip;</td><td>&hellip;</td><td>&hellip;</td><td>&hellip;</td><td>&hellip;</td><td>&hellip;</td><td>&hellip;</td><td>&hellip;</td><td>&hellip;</td><td>&hellip;</td><td>&hellip;</td><td>&hellip;</td><td>&hellip;</td><td>&hellip;</td><td>&hellip;</td><td>&hellip;</td><td>&hellip;</td></tr><tr><td>&quot;Program Manager, Partnerships …</td><td>&quot;United States&quot;</td><td>&quot;Full-Time&quot;</td><td>null</td><td>&quot;Braintrust&quot;</td><td>&quot;Bachelors&quot;</td><td>&quot;[]&quot;</td><td>&quot;[]&quot;</td><td>&quot;[]&quot;</td><td>&quot;Manager&quot;</td><td>&quot;150000177000.00&quot;</td><td>&quot;en&quot;</td><td>null</td><td>&quot;United States&quot;</td><td>&quot;2023-10-17 00:00:00&quot;</td><td>&quot;2024-03-26 12:28:35&quot;</td><td>&quot;2024&quot;</td><td>15</td><td>[&quot;150000&quot;, &quot;177000&quot;]</td></tr><tr><td>&quot;Full-Stack Java Lead&quot;</td><td>&quot;Houston, Texas, 77001 United S…</td><td>&quot;Full-Time&quot;</td><td>null</td><td>&quot;KP Recruiting Group&quot;</td><td>null</td><td>&quot;[Terraform, Red Hat, Docker, B…</td><td>&quot;[Enterprise Software, SaaS, OS…</td><td>&quot;[Recruiting &amp; Staffing, IT]&quot;</td><td>null</td><td>&quot;130000140000.00&quot;</td><td>&quot;en&quot;</td><td>&quot;Houston&quot;</td><td>&quot;United States&quot;</td><td>&quot;2022-02-01 00:00:00&quot;</td><td>&quot;2024-03-25 19:14:06&quot;</td><td>&quot;2024&quot;</td><td>15</td><td>[&quot;130000&quot;, &quot;140000&quot;]</td></tr><tr><td>&quot;Mid-level Environmental Engine…</td><td>&quot;Denver, Colorado, United State…</td><td>&quot;Full-Time&quot;</td><td>null</td><td>&quot;Integral Consulting&quot;</td><td>&quot;Masters&quot;</td><td>&quot;[]&quot;</td><td>&quot;[]&quot;</td><td>&quot;[Dispute Resolution, Consultin…</td><td>null</td><td>&quot;75000100000.00&quot;</td><td>&quot;en-us&quot;</td><td>&quot;Denver&quot;</td><td>&quot;United States&quot;</td><td>&quot;2023-03-24 00:00:00&quot;</td><td>&quot;2024-03-22 04:45:58&quot;</td><td>&quot;2024&quot;</td><td>14</td><td>[&quot;75000&quot;, &quot;100000&quot;]</td></tr><tr><td>&quot;Senior Cyber Security Analyst&quot;</td><td>&quot;Brighton&quot;</td><td>&quot;Unclear&quot;</td><td>null</td><td>&quot;OneFamily&quot;</td><td>null</td><td>&quot;[]&quot;</td><td>&quot;[]&quot;</td><td>&quot;[Security]&quot;</td><td>&quot;Senior IC&quot;</td><td>&quot;500025000.0&quot;</td><td>&quot;en&quot;</td><td>&quot;Brighton&quot;</td><td>&quot;United Kingdom&quot;</td><td>&quot;2024-03-26 08:00:00&quot;</td><td>&quot;2024-03-28 00:19:56&quot;</td><td>&quot;2024&quot;</td><td>11</td><td>[&quot;5000&quot;, &quot;25000&quot;]</td></tr><tr><td>&quot;Information Technology - Senio…</td><td>&quot;Support Office (Vancouver)&quot;</td><td>&quot;Full-Time&quot;</td><td>null</td><td>&quot;Aritzia LP&quot;</td><td>null</td><td>&quot;[Docker, SAP, Google, Kubernet…</td><td>&quot;[Scheduling &amp; Orchestration, F…</td><td>&quot;[IT, RetailTech, Architecture …</td><td>&quot;Senior IC&quot;</td><td>&quot;130000150000.00&quot;</td><td>&quot;en&quot;</td><td>&quot;Vancouver&quot;</td><td>&quot;Canada&quot;</td><td>&quot;2023-11-02 00:00:00&quot;</td><td>&quot;2024-03-15 05:43:33&quot;</td><td>&quot;2024&quot;</td><td>15</td><td>[&quot;130000&quot;, &quot;150000&quot;]</td></tr></tbody></table></div>"
      ],
      "text/plain": [
       "shape: (105, 19)\n",
       "┌────────────┬────────────┬───────────┬────────┬───┬────────────┬───────────┬──────────┬───────────┐\n",
       "│ job_name   ┆ job_locati ┆ hours     ┆ remote ┆ … ┆ last_index ┆ sample_da ┆ len_comp ┆ est       │\n",
       "│ ---        ┆ on         ┆ ---       ┆ ---    ┆   ┆ ed         ┆ te        ┆ ---      ┆ ---       │\n",
       "│ str        ┆ ---        ┆ str       ┆ bool   ┆   ┆ ---        ┆ ---       ┆ u32      ┆ list[str] │\n",
       "│            ┆ str        ┆           ┆        ┆   ┆ str        ┆ str       ┆          ┆           │\n",
       "╞════════════╪════════════╪═══════════╪════════╪═══╪════════════╪═══════════╪══════════╪═══════════╡\n",
       "│ Fluid Test ┆ Titusville ┆ Full-Time ┆ null   ┆ … ┆ 2023-06-05 ┆ 2023      ┆ 15       ┆ [\"130000\" │\n",
       "│ Engineer   ┆ , FL       ┆           ┆        ┆   ┆ 06:32:02   ┆           ┆          ┆ ,         │\n",
       "│ (Thermal)  ┆            ┆           ┆        ┆   ┆            ┆           ┆          ┆ \"160000\"] │\n",
       "│ Field      ┆ null       ┆ Full-Time ┆ null   ┆ … ┆ 2023-06-06 ┆ 2023      ┆ 14       ┆ [\"65000\", │\n",
       "│ Engineer I ┆            ┆           ┆        ┆   ┆ 20:21:03   ┆           ┆          ┆ \"735000\"] │\n",
       "│ - Southern ┆            ┆           ┆        ┆   ┆            ┆           ┆          ┆           │\n",
       "│ Co…        ┆            ┆           ┆        ┆   ┆            ┆           ┆          ┆           │\n",
       "│ Platform   ┆ Los        ┆ Full-Time ┆ null   ┆ … ┆ 2023-05-24 ┆ 2023      ┆ 15       ┆ [\"200000\" │\n",
       "│ Security   ┆ Angeles,   ┆           ┆        ┆   ┆ 04:46:37   ┆           ┆          ┆ ,         │\n",
       "│ Engineer   ┆ CA         ┆           ┆        ┆   ┆            ┆           ┆          ┆ \"350000\"] │\n",
       "│ GRC        ┆ United     ┆ Contract  ┆ null   ┆ … ┆ 2023-05-31 ┆ 2023      ┆ 12       ┆ [\"230\",   │\n",
       "│ Security   ┆ States     ┆           ┆        ┆   ┆ 23:10:51   ┆           ┆          ┆ \"250000\"] │\n",
       "│ Consultant ┆            ┆           ┆        ┆   ┆            ┆           ┆          ┆           │\n",
       "│ (Gover…    ┆            ┆           ┆        ┆   ┆            ┆           ┆          ┆           │\n",
       "│ Experience ┆ Richmond   ┆ Full-Time ┆ null   ┆ … ┆ 2023-06-08 ┆ 2023      ┆ 15       ┆ [\"112200\" │\n",
       "│ d Instrume ┆ The        ┆           ┆        ┆   ┆ 04:58:36   ┆           ┆          ┆ ,         │\n",
       "│ ntation &  ┆ Standard   ┆           ┆        ┆   ┆            ┆           ┆          ┆ \"221900\"] │\n",
       "│ …          ┆ Cafeteri…  ┆           ┆        ┆   ┆            ┆           ┆          ┆           │\n",
       "│ …          ┆ …          ┆ …         ┆ …      ┆ … ┆ …          ┆ …         ┆ …        ┆ …         │\n",
       "│ Program    ┆ United     ┆ Full-Time ┆ null   ┆ … ┆ 2024-03-26 ┆ 2024      ┆ 15       ┆ [\"150000\" │\n",
       "│ Manager,   ┆ States     ┆           ┆        ┆   ┆ 12:28:35   ┆           ┆          ┆ ,         │\n",
       "│ Partnershi ┆            ┆           ┆        ┆   ┆            ┆           ┆          ┆ \"177000\"] │\n",
       "│ ps …       ┆            ┆           ┆        ┆   ┆            ┆           ┆          ┆           │\n",
       "│ Full-Stack ┆ Houston,   ┆ Full-Time ┆ null   ┆ … ┆ 2024-03-25 ┆ 2024      ┆ 15       ┆ [\"130000\" │\n",
       "│ Java Lead  ┆ Texas,     ┆           ┆        ┆   ┆ 19:14:06   ┆           ┆          ┆ ,         │\n",
       "│            ┆ 77001      ┆           ┆        ┆   ┆            ┆           ┆          ┆ \"140000\"] │\n",
       "│            ┆ United S…  ┆           ┆        ┆   ┆            ┆           ┆          ┆           │\n",
       "│ Mid-level  ┆ Denver,    ┆ Full-Time ┆ null   ┆ … ┆ 2024-03-22 ┆ 2024      ┆ 14       ┆ [\"75000\", │\n",
       "│ Environmen ┆ Colorado,  ┆           ┆        ┆   ┆ 04:45:58   ┆           ┆          ┆ \"100000\"] │\n",
       "│ tal        ┆ United     ┆           ┆        ┆   ┆            ┆           ┆          ┆           │\n",
       "│ Engine…    ┆ State…     ┆           ┆        ┆   ┆            ┆           ┆          ┆           │\n",
       "│ Senior     ┆ Brighton   ┆ Unclear   ┆ null   ┆ … ┆ 2024-03-28 ┆ 2024      ┆ 11       ┆ [\"5000\",  │\n",
       "│ Cyber      ┆            ┆           ┆        ┆   ┆ 00:19:56   ┆           ┆          ┆ \"25000\"]  │\n",
       "│ Security   ┆            ┆           ┆        ┆   ┆            ┆           ┆          ┆           │\n",
       "│ Analyst    ┆            ┆           ┆        ┆   ┆            ┆           ┆          ┆           │\n",
       "│ Informatio ┆ Support    ┆ Full-Time ┆ null   ┆ … ┆ 2024-03-15 ┆ 2024      ┆ 15       ┆ [\"130000\" │\n",
       "│ n          ┆ Office (Va ┆           ┆        ┆   ┆ 05:43:33   ┆           ┆          ┆ ,         │\n",
       "│ Technology ┆ ncouver)   ┆           ┆        ┆   ┆            ┆           ┆          ┆ \"150000\"] │\n",
       "│ - Senio…   ┆            ┆           ┆        ┆   ┆            ┆           ┆          ┆           │\n",
       "└────────────┴────────────┴───────────┴────────┴───┴────────────┴───────────┴──────────┴───────────┘"
      ]
     },
     "execution_count": 9,
     "metadata": {},
     "output_type": "execute_result"
    }
   ],
   "source": [
    "whole_df.filter(pl.col(\"len_comp\")>10, pl.col(\"comp_est\").str.contains(\"[123456789]+[0]+[123456789]+[0]+\")).with_columns(est=pl.col(\"comp_est\").str.extract_all(\"[123456789]+[0]+\")).filter(pl.col(\"est\").list.len()==2)"
   ]
  },
  {
   "cell_type": "code",
   "execution_count": 10,
   "id": "4a05eb13-9424-45b0-90cb-5becddcfe6c6",
   "metadata": {},
   "outputs": [],
   "source": [
    "whole_df = whole_df.with_columns(\n",
    "    est=pl.when((pl.col(\"len_comp\")>10) & (pl.col(\"comp_est\").str.contains(\"[123456789]+[0]+[123456789]+[0]+\")))\n",
    "            .then(pl.col(\"comp_est\").str.extract_all(\"[123456789]+[0]+\"))\n",
    "            .otherwise(pl.concat_list(\"comp_est\", \"comp_est\")))\n"
   ]
  },
  {
   "cell_type": "code",
   "execution_count": 11,
   "id": "2348c164-8e30-4d2c-acd2-692587d3fd12",
   "metadata": {},
   "outputs": [],
   "source": [
    "whole_df = whole_df.with_columns(est_float = pl.col(\"est\").cast(pl.List(pl.Float64)))\n"
   ]
  },
  {
   "cell_type": "code",
   "execution_count": 12,
   "id": "1d0e09d3-ec45-4e34-92fc-df88d4f37dda",
   "metadata": {},
   "outputs": [],
   "source": [
    "whole_df = whole_df.with_columns(compensation = pl.col(\"est_float\").list.mean())"
   ]
  },
  {
   "cell_type": "code",
   "execution_count": 13,
   "id": "947ff0a2-4725-497e-893e-9c272e5f3e8e",
   "metadata": {},
   "outputs": [
    {
     "data": {
      "text/html": [
       "<div><style>\n",
       ".dataframe > thead > tr,\n",
       ".dataframe > tbody > tr {\n",
       "  text-align: right;\n",
       "  white-space: pre-wrap;\n",
       "}\n",
       "</style>\n",
       "<small>shape: (14_962, 21)</small><table border=\"1\" class=\"dataframe\"><thead><tr><th>job_name</th><th>job_location</th><th>hours</th><th>remote</th><th>company_name</th><th>education</th><th>tags_matched</th><th>tag_categories</th><th>categories</th><th>seniority</th><th>comp_est</th><th>language</th><th>city</th><th>country</th><th>job_published_at</th><th>last_indexed</th><th>sample_date</th><th>len_comp</th><th>est</th><th>est_float</th><th>compensation</th></tr><tr><td>str</td><td>str</td><td>str</td><td>bool</td><td>str</td><td>str</td><td>str</td><td>str</td><td>str</td><td>str</td><td>str</td><td>str</td><td>str</td><td>str</td><td>str</td><td>str</td><td>str</td><td>u32</td><td>list[str]</td><td>list[f64]</td><td>f64</td></tr></thead><tbody><tr><td>&quot;Mgr Systems Engineering 1&quot;</td><td>&quot;COBO05&quot;</td><td>&quot;Full-Time&quot;</td><td>null</td><td>&quot;0811 SP&quot;</td><td>&quot;Bachelors&quot;</td><td>&quot;[]&quot;</td><td>&quot;[]&quot;</td><td>&quot;[]&quot;</td><td>&quot;Manager&quot;</td><td>&quot;154000.00&quot;</td><td>&quot;en&quot;</td><td>null</td><td>&quot;United States&quot;</td><td>&quot;2023-06-05 00:00:00&quot;</td><td>&quot;2023-06-08 08:27:08&quot;</td><td>&quot;2023&quot;</td><td>9</td><td>[&quot;154000.00&quot;, &quot;154000.00&quot;]</td><td>[154000.0, 154000.0]</td><td>154000.0</td></tr><tr><td>&quot;Relay Engineer&quot;</td><td>&quot;Centennial, Colorado, United S…</td><td>&quot;Unclear&quot;</td><td>null</td><td>&quot;Electric Power Systems&quot;</td><td>&quot;Bachelors&quot;</td><td>&quot;[]&quot;</td><td>&quot;[]&quot;</td><td>&quot;[]&quot;</td><td>null</td><td>&quot;105000.00&quot;</td><td>&quot;en-us&quot;</td><td>&quot;Centennial&quot;</td><td>&quot;United States&quot;</td><td>&quot;2023-05-10 04:00:00&quot;</td><td>&quot;2023-06-04 16:17:44&quot;</td><td>&quot;2023&quot;</td><td>9</td><td>[&quot;105000.00&quot;, &quot;105000.00&quot;]</td><td>[105000.0, 105000.0]</td><td>105000.0</td></tr><tr><td>&quot;Web Engineer&quot;</td><td>null</td><td>&quot;Full-Time&quot;</td><td>true</td><td>&quot;Calbright College&quot;</td><td>null</td><td>&quot;[WordPress, Ruby, Vue.js, Spri…</td><td>&quot;[Hosting, Advertising, OSS, SE…</td><td>&quot;[Education, Higher Education]&quot;</td><td>null</td><td>&quot;123649.825&quot;</td><td>&quot;en&quot;</td><td>null</td><td>null</td><td>&quot;2022-03-23 22:26:39&quot;</td><td>&quot;2023-05-20 06:28:17&quot;</td><td>&quot;2023&quot;</td><td>10</td><td>[&quot;123649.825&quot;, &quot;123649.825&quot;]</td><td>[123649.825, 123649.825]</td><td>123649.825</td></tr><tr><td>&quot;Chief Engineer at Large&quot;</td><td>null</td><td>&quot;Full-Time&quot;</td><td>null</td><td>&quot;All Opportunities&quot;</td><td>&quot;Bachelors&quot;</td><td>&quot;[]&quot;</td><td>&quot;[]&quot;</td><td>&quot;[]&quot;</td><td>&quot;Chief&quot;</td><td>&quot;190000.00&quot;</td><td>&quot;en&quot;</td><td>&quot;Andover&quot;</td><td>&quot;United States&quot;</td><td>&quot;2023-04-28 16:19:43&quot;</td><td>&quot;2023-06-07 18:57:00&quot;</td><td>&quot;2023&quot;</td><td>9</td><td>[&quot;190000.00&quot;, &quot;190000.00&quot;]</td><td>[190000.0, 190000.0]</td><td>190000.0</td></tr><tr><td>&quot;Industrial Engineer&quot;</td><td>&quot;Allflight HeadQuarters - Kent,…</td><td>&quot;Unclear&quot;</td><td>null</td><td>&quot;Infinity Air&quot;</td><td>&quot;Bachelors&quot;</td><td>&quot;[Microsoft]&quot;</td><td>&quot;[]&quot;</td><td>&quot;[Mechanical &amp; Industrial Engin…</td><td>null</td><td>&quot;66000.00&quot;</td><td>&quot;en&quot;</td><td>&quot;Kent&quot;</td><td>&quot;United States&quot;</td><td>&quot;2023-01-16 00:00:00&quot;</td><td>&quot;2023-05-30 23:38:22&quot;</td><td>&quot;2023&quot;</td><td>8</td><td>[&quot;66000.00&quot;, &quot;66000.00&quot;]</td><td>[66000.0, 66000.0]</td><td>66000.0</td></tr><tr><td>&hellip;</td><td>&hellip;</td><td>&hellip;</td><td>&hellip;</td><td>&hellip;</td><td>&hellip;</td><td>&hellip;</td><td>&hellip;</td><td>&hellip;</td><td>&hellip;</td><td>&hellip;</td><td>&hellip;</td><td>&hellip;</td><td>&hellip;</td><td>&hellip;</td><td>&hellip;</td><td>&hellip;</td><td>&hellip;</td><td>&hellip;</td><td>&hellip;</td><td>&hellip;</td></tr><tr><td>&quot;React native developer&quot;</td><td>&quot;Bangalore&quot;</td><td>&quot;Full-Time&quot;</td><td>null</td><td>&quot;Athreya Business Consultancy&quot;</td><td>null</td><td>&quot;[TypeScript, React, React Nati…</td><td>&quot;[Templating Languages, Program…</td><td>&quot;[Software]&quot;</td><td>&quot;Junior IC&quot;</td><td>&quot;400000.00&quot;</td><td>&quot;en&quot;</td><td>&quot;Bangalore&quot;</td><td>&quot;India&quot;</td><td>&quot;2024-03-11 00:00:00&quot;</td><td>&quot;2024-03-25 05:01:18&quot;</td><td>&quot;2024&quot;</td><td>9</td><td>[&quot;400000.00&quot;, &quot;400000.00&quot;]</td><td>[400000.0, 400000.0]</td><td>400000.0</td></tr><tr><td>&quot;Senior Full Stack Software Eng…</td><td>&quot;Remote&quot;</td><td>&quot;Full-Time&quot;</td><td>true</td><td>&quot;Mogo Finance Technology&quot;</td><td>&quot;Bachelors&quot;</td><td>&quot;[S3, Ruby, AWS, TypeScript, Re…</td><td>&quot;[Data Access &amp; Databases, Soft…</td><td>&quot;[Financial Services, Software]&quot;</td><td>&quot;Senior IC&quot;</td><td>&quot;130000.0&quot;</td><td>&quot;en&quot;</td><td>&quot;Vancouver&quot;</td><td>&quot;Canada&quot;</td><td>&quot;2024-03-28 00:00:00&quot;</td><td>&quot;2024-03-29 23:31:16&quot;</td><td>&quot;2024&quot;</td><td>8</td><td>[&quot;130000.0&quot;, &quot;130000.0&quot;]</td><td>[130000.0, 130000.0]</td><td>130000.0</td></tr><tr><td>&quot;Mechanical Engineer&quot;</td><td>&quot;Richland, WA, 99354&quot;</td><td>null</td><td>null</td><td>&quot;Craig Technologies&quot;</td><td>null</td><td>&quot;[]&quot;</td><td>&quot;[]&quot;</td><td>&quot;[Mechanical &amp; Industrial Engin…</td><td>null</td><td>&quot;89838.00&quot;</td><td>&quot;en-us&quot;</td><td>&quot;Richland&quot;</td><td>&quot;United States&quot;</td><td>null</td><td>&quot;2024-03-21 01:14:41&quot;</td><td>&quot;2024&quot;</td><td>8</td><td>[&quot;89838.00&quot;, &quot;89838.00&quot;]</td><td>[89838.0, 89838.0]</td><td>89838.0</td></tr><tr><td>&quot;Blockchain Security Engineer (…</td><td>&quot;Chicago&quot;</td><td>&quot;Contract&quot;</td><td>null</td><td>&quot;Jump Trading&quot;</td><td>null</td><td>&quot;[Telegram, NFT, Python, Discor…</td><td>&quot;[CDN, Payments, Crypto, Enterp…</td><td>&quot;[Crypto, Security]&quot;</td><td>&quot;Contract&quot;</td><td>&quot;250000.00&quot;</td><td>&quot;en&quot;</td><td>&quot;Chicago&quot;</td><td>&quot;United States&quot;</td><td>&quot;2023-09-14 00:00:00&quot;</td><td>&quot;2024-03-14 02:52:00&quot;</td><td>&quot;2024&quot;</td><td>9</td><td>[&quot;250000.00&quot;, &quot;250000.00&quot;]</td><td>[250000.0, 250000.0]</td><td>250000.0</td></tr><tr><td>&quot;Fire Protection Engineer (3+ y…</td><td>&quot;1455 Frazee Rd, San Diego, CA …</td><td>&quot;Full-Time&quot;</td><td>false</td><td>&quot;Coffman Engineers&quot;</td><td>null</td><td>&quot;[Facebook, Instagram, LinkedIn…</td><td>&quot;[Tracking, Social Share, Socia…</td><td>&quot;[Consulting]&quot;</td><td>null</td><td>&quot;97500.00&quot;</td><td>&quot;en&quot;</td><td>&quot;San Diego&quot;</td><td>&quot;United States&quot;</td><td>&quot;2024-01-08 16:44:53&quot;</td><td>&quot;2024-04-01 21:24:50&quot;</td><td>&quot;2024&quot;</td><td>8</td><td>[&quot;97500.00&quot;, &quot;97500.00&quot;]</td><td>[97500.0, 97500.0]</td><td>97500.0</td></tr></tbody></table></div>"
      ],
      "text/plain": [
       "shape: (14_962, 21)\n",
       "┌────────────┬────────────┬───────────┬────────┬───┬──────────┬────────────┬───────────┬───────────┐\n",
       "│ job_name   ┆ job_locati ┆ hours     ┆ remote ┆ … ┆ len_comp ┆ est        ┆ est_float ┆ compensat │\n",
       "│ ---        ┆ on         ┆ ---       ┆ ---    ┆   ┆ ---      ┆ ---        ┆ ---       ┆ ion       │\n",
       "│ str        ┆ ---        ┆ str       ┆ bool   ┆   ┆ u32      ┆ list[str]  ┆ list[f64] ┆ ---       │\n",
       "│            ┆ str        ┆           ┆        ┆   ┆          ┆            ┆           ┆ f64       │\n",
       "╞════════════╪════════════╪═══════════╪════════╪═══╪══════════╪════════════╪═══════════╪═══════════╡\n",
       "│ Mgr        ┆ COBO05     ┆ Full-Time ┆ null   ┆ … ┆ 9        ┆ [\"154000.0 ┆ [154000.0 ┆ 154000.0  │\n",
       "│ Systems    ┆            ┆           ┆        ┆   ┆          ┆ 0\", \"15400 ┆ ,         ┆           │\n",
       "│ Engineerin ┆            ┆           ┆        ┆   ┆          ┆ 0.00\"]     ┆ 154000.0] ┆           │\n",
       "│ g 1        ┆            ┆           ┆        ┆   ┆          ┆            ┆           ┆           │\n",
       "│ Relay      ┆ Centennial ┆ Unclear   ┆ null   ┆ … ┆ 9        ┆ [\"105000.0 ┆ [105000.0 ┆ 105000.0  │\n",
       "│ Engineer   ┆ ,          ┆           ┆        ┆   ┆          ┆ 0\", \"10500 ┆ ,         ┆           │\n",
       "│            ┆ Colorado,  ┆           ┆        ┆   ┆          ┆ 0.00\"]     ┆ 105000.0] ┆           │\n",
       "│            ┆ United S…  ┆           ┆        ┆   ┆          ┆            ┆           ┆           │\n",
       "│ Web        ┆ null       ┆ Full-Time ┆ true   ┆ … ┆ 10       ┆ [\"123649.8 ┆ [123649.8 ┆ 123649.82 │\n",
       "│ Engineer   ┆            ┆           ┆        ┆   ┆          ┆ 25\", \"1236 ┆ 25, 12364 ┆ 5         │\n",
       "│            ┆            ┆           ┆        ┆   ┆          ┆ 49.825\"]   ┆ 9.825]    ┆           │\n",
       "│ Chief      ┆ null       ┆ Full-Time ┆ null   ┆ … ┆ 9        ┆ [\"190000.0 ┆ [190000.0 ┆ 190000.0  │\n",
       "│ Engineer   ┆            ┆           ┆        ┆   ┆          ┆ 0\", \"19000 ┆ ,         ┆           │\n",
       "│ at Large   ┆            ┆           ┆        ┆   ┆          ┆ 0.00\"]     ┆ 190000.0] ┆           │\n",
       "│ Industrial ┆ Allflight  ┆ Unclear   ┆ null   ┆ … ┆ 8        ┆ [\"66000.00 ┆ [66000.0, ┆ 66000.0   │\n",
       "│ Engineer   ┆ HeadQuarte ┆           ┆        ┆   ┆          ┆ \", \"66000. ┆ 66000.0]  ┆           │\n",
       "│            ┆ rs -       ┆           ┆        ┆   ┆          ┆ 00\"]       ┆           ┆           │\n",
       "│            ┆ Kent,…     ┆           ┆        ┆   ┆          ┆            ┆           ┆           │\n",
       "│ …          ┆ …          ┆ …         ┆ …      ┆ … ┆ …        ┆ …          ┆ …         ┆ …         │\n",
       "│ React      ┆ Bangalore  ┆ Full-Time ┆ null   ┆ … ┆ 9        ┆ [\"400000.0 ┆ [400000.0 ┆ 400000.0  │\n",
       "│ native     ┆            ┆           ┆        ┆   ┆          ┆ 0\", \"40000 ┆ ,         ┆           │\n",
       "│ developer  ┆            ┆           ┆        ┆   ┆          ┆ 0.00\"]     ┆ 400000.0] ┆           │\n",
       "│ Senior     ┆ Remote     ┆ Full-Time ┆ true   ┆ … ┆ 8        ┆ [\"130000.0 ┆ [130000.0 ┆ 130000.0  │\n",
       "│ Full Stack ┆            ┆           ┆        ┆   ┆          ┆ \", \"130000 ┆ ,         ┆           │\n",
       "│ Software   ┆            ┆           ┆        ┆   ┆          ┆ .0\"]       ┆ 130000.0] ┆           │\n",
       "│ Eng…       ┆            ┆           ┆        ┆   ┆          ┆            ┆           ┆           │\n",
       "│ Mechanical ┆ Richland,  ┆ null      ┆ null   ┆ … ┆ 8        ┆ [\"89838.00 ┆ [89838.0, ┆ 89838.0   │\n",
       "│ Engineer   ┆ WA, 99354  ┆           ┆        ┆   ┆          ┆ \", \"89838. ┆ 89838.0]  ┆           │\n",
       "│            ┆            ┆           ┆        ┆   ┆          ┆ 00\"]       ┆           ┆           │\n",
       "│ Blockchain ┆ Chicago    ┆ Contract  ┆ null   ┆ … ┆ 9        ┆ [\"250000.0 ┆ [250000.0 ┆ 250000.0  │\n",
       "│ Security   ┆            ┆           ┆        ┆   ┆          ┆ 0\", \"25000 ┆ ,         ┆           │\n",
       "│ Engineer   ┆            ┆           ┆        ┆   ┆          ┆ 0.00\"]     ┆ 250000.0] ┆           │\n",
       "│ (…         ┆            ┆           ┆        ┆   ┆          ┆            ┆           ┆           │\n",
       "│ Fire       ┆ 1455       ┆ Full-Time ┆ false  ┆ … ┆ 8        ┆ [\"97500.00 ┆ [97500.0, ┆ 97500.0   │\n",
       "│ Protection ┆ Frazee Rd, ┆           ┆        ┆   ┆          ┆ \", \"97500. ┆ 97500.0]  ┆           │\n",
       "│ Engineer   ┆ San Diego, ┆           ┆        ┆   ┆          ┆ 00\"]       ┆           ┆           │\n",
       "│ (3+ y…     ┆ CA …       ┆           ┆        ┆   ┆          ┆            ┆           ┆           │\n",
       "└────────────┴────────────┴───────────┴────────┴───┴──────────┴────────────┴───────────┴───────────┘"
      ]
     },
     "execution_count": 13,
     "metadata": {},
     "output_type": "execute_result"
    }
   ],
   "source": [
    "whole_df.filter(pl.col(\"compensation\")>0)"
   ]
  },
  {
   "cell_type": "code",
   "execution_count": 14,
   "id": "d46350da-7adc-4d10-be94-9abf90761faf",
   "metadata": {},
   "outputs": [
    {
     "data": {
      "text/html": [
       "<div><style>\n",
       ".dataframe > thead > tr,\n",
       ".dataframe > tbody > tr {\n",
       "  text-align: right;\n",
       "  white-space: pre-wrap;\n",
       "}\n",
       "</style>\n",
       "<small>shape: (7, 21)</small><table border=\"1\" class=\"dataframe\"><thead><tr><th>job_name</th><th>job_location</th><th>hours</th><th>remote</th><th>company_name</th><th>education</th><th>tags_matched</th><th>tag_categories</th><th>categories</th><th>seniority</th><th>comp_est</th><th>language</th><th>city</th><th>country</th><th>job_published_at</th><th>last_indexed</th><th>sample_date</th><th>len_comp</th><th>est</th><th>est_float</th><th>compensation</th></tr><tr><td>str</td><td>str</td><td>str</td><td>bool</td><td>str</td><td>str</td><td>str</td><td>str</td><td>str</td><td>str</td><td>str</td><td>str</td><td>str</td><td>str</td><td>str</td><td>str</td><td>str</td><td>u32</td><td>list[str]</td><td>list[f64]</td><td>f64</td></tr></thead><tbody><tr><td>&quot;Professional-System Engineer&quot;</td><td>&quot;Texas-Dallas&quot;</td><td>&quot;Full-Time&quot;</td><td>null</td><td>&quot;Working at AT&amp;T&quot;</td><td>null</td><td>&quot;[Microsoft, Docker, Kubernetes…</td><td>&quot;[Orchestration &amp; Management, I…</td><td>&quot;[]&quot;</td><td>&quot;Unclear Seniority&quot;</td><td>&quot;105000196000.00&quot;</td><td>&quot;en&quot;</td><td>&quot;Dallas&quot;</td><td>&quot;United States&quot;</td><td>&quot;2023-05-10 00:00:00&quot;</td><td>&quot;2023-05-24 11:22:53&quot;</td><td>&quot;2023&quot;</td><td>15</td><td>[&quot;10&quot;, &quot;5000&quot;, &quot;196000&quot;]</td><td>[10.0, 5000.0, 196000.0]</td><td>67003.333333</td></tr><tr><td>&quot;Systems Engineer, Commercial -…</td><td>&quot;New York, NY&quot;</td><td>null</td><td>null</td><td>&quot;Pure Storage&quot;</td><td>null</td><td>&quot;[AWS, Gartner Magic Quadrant, …</td><td>&quot;[Infrastructure, Cloud Native …</td><td>&quot;[Data Storage]&quot;</td><td>null</td><td>&quot;130200196000.00&quot;</td><td>&quot;en&quot;</td><td>&quot;New York City&quot;</td><td>&quot;United States&quot;</td><td>&quot;2023-05-08 00:00:00&quot;</td><td>&quot;2023-05-31 19:03:35&quot;</td><td>&quot;2023&quot;</td><td>15</td><td>[&quot;130&quot;, &quot;200&quot;, &quot;196000&quot;]</td><td>[130.0, 200.0, 196000.0]</td><td>65443.333333</td></tr><tr><td>&quot;Systems Engineer II&quot;</td><td>&quot;Goleta, CA, USA ● Plano, TX, U…</td><td>&quot;Full-Time&quot;</td><td>null</td><td>&quot;Inogen&quot;</td><td>&quot;Bachelors&quot;</td><td>&quot;[]&quot;</td><td>&quot;[]&quot;</td><td>&quot;[Manufacturing]&quot;</td><td>null</td><td>&quot;102026.45000000001&quot;</td><td>&quot;en-us&quot;</td><td>&quot;Goleta&quot;</td><td>&quot;United States&quot;</td><td>&quot;2023-04-06 00:00:00&quot;</td><td>&quot;2023-05-20 23:56:56&quot;</td><td>&quot;2023&quot;</td><td>18</td><td>[&quot;10&quot;, &quot;20&quot;, &quot;4500000000&quot;]</td><td>[10.0, 20.0, 4.5000e9]</td><td>1.5000e9</td></tr><tr><td>&quot;Mechanical Maintenance Enginee…</td><td>&quot;United States&quot;</td><td>null</td><td>null</td><td>&quot;Rio Tinto Group&quot;</td><td>null</td><td>&quot;[Excel, SAP]&quot;</td><td>&quot;[Servers &amp; Compute, Cloud Mana…</td><td>&quot;[]&quot;</td><td>null</td><td>&quot;72960100320.00&quot;</td><td>&quot;en&quot;</td><td>null</td><td>&quot;United States&quot;</td><td>&quot;2023-01-10 00:00:00&quot;</td><td>&quot;2023-06-09 03:17:08&quot;</td><td>&quot;2023&quot;</td><td>14</td><td>[&quot;72960&quot;, &quot;100&quot;, &quot;320&quot;]</td><td>[72960.0, 100.0, 320.0]</td><td>24460.0</td></tr><tr><td>&quot;Senior Software Development En…</td><td>&quot;US.NE.Remote&quot;</td><td>&quot;Full-Time&quot;</td><td>true</td><td>&quot;US05&quot;</td><td>&quot;Bachelors&quot;</td><td>&quot;[C#, Git, Tanzu, Rundeck, .NET…</td><td>&quot;[Hadoop, Full Stack Framework,…</td><td>&quot;[Software, Software Developmen…</td><td>&quot;Senior IC&quot;</td><td>&quot;110160.76500000001&quot;</td><td>&quot;en&quot;</td><td>null</td><td>&quot;United States&quot;</td><td>&quot;2023-05-22 00:00:00&quot;</td><td>&quot;2023-06-08 18:02:16&quot;</td><td>&quot;2023&quot;</td><td>18</td><td>[&quot;110&quot;, &quot;160&quot;, &quot;7650000000&quot;]</td><td>[110.0, 160.0, 7.6500e9]</td><td>2.5500e9</td></tr><tr><td>&quot;Process Project Engineer&quot;</td><td>&quot;Martinez, CA&quot;</td><td>&quot;Full-Time&quot;</td><td>null</td><td>&quot;Martinez Refining Company&quot;</td><td>null</td><td>&quot;[]&quot;</td><td>&quot;[]&quot;</td><td>&quot;[]&quot;</td><td>null</td><td>&quot;130820.79000000001&quot;</td><td>&quot;en&quot;</td><td>&quot;Martinez&quot;</td><td>&quot;United States&quot;</td><td>&quot;2023-03-14 00:00:00&quot;</td><td>&quot;2023-05-26 02:25:26&quot;</td><td>&quot;2023&quot;</td><td>18</td><td>[&quot;130&quot;, &quot;820&quot;, &quot;7900000000&quot;]</td><td>[130.0, 820.0, 7.9000e9]</td><td>2.6333e9</td></tr><tr><td>&quot;Assistant Engineer&quot;</td><td>&quot;Poughkeepsie&quot;</td><td>&quot;Full-Time&quot;</td><td>null</td><td>&quot;Central Hudson Gas &amp; Electric …</td><td>&quot;Bachelors&quot;</td><td>&quot;[Microsoft, Excel]&quot;</td><td>&quot;[Enterprise Customers, Back Of…</td><td>&quot;[]&quot;</td><td>null</td><td>&quot;78900110400.00&quot;</td><td>&quot;en&quot;</td><td>&quot;Poughkeepsie&quot;</td><td>&quot;United States&quot;</td><td>&quot;2024-02-02 00:00:00&quot;</td><td>&quot;2024-03-29 10:18:08&quot;</td><td>&quot;2024&quot;</td><td>14</td><td>[&quot;78900&quot;, &quot;110&quot;, &quot;400&quot;]</td><td>[78900.0, 110.0, 400.0]</td><td>26470.0</td></tr></tbody></table></div>"
      ],
      "text/plain": [
       "shape: (7, 21)\n",
       "┌────────────┬────────────┬───────────┬────────┬───┬──────────┬────────────┬───────────┬───────────┐\n",
       "│ job_name   ┆ job_locati ┆ hours     ┆ remote ┆ … ┆ len_comp ┆ est        ┆ est_float ┆ compensat │\n",
       "│ ---        ┆ on         ┆ ---       ┆ ---    ┆   ┆ ---      ┆ ---        ┆ ---       ┆ ion       │\n",
       "│ str        ┆ ---        ┆ str       ┆ bool   ┆   ┆ u32      ┆ list[str]  ┆ list[f64] ┆ ---       │\n",
       "│            ┆ str        ┆           ┆        ┆   ┆          ┆            ┆           ┆ f64       │\n",
       "╞════════════╪════════════╪═══════════╪════════╪═══╪══════════╪════════════╪═══════════╪═══════════╡\n",
       "│ Profession ┆ Texas-Dall ┆ Full-Time ┆ null   ┆ … ┆ 15       ┆ [\"10\",     ┆ [10.0,    ┆ 67003.333 │\n",
       "│ al-System  ┆ as         ┆           ┆        ┆   ┆          ┆ \"5000\",    ┆ 5000.0,   ┆ 333       │\n",
       "│ Engineer   ┆            ┆           ┆        ┆   ┆          ┆ \"196000\"]  ┆ 196000.0] ┆           │\n",
       "│ Systems    ┆ New York,  ┆ null      ┆ null   ┆ … ┆ 15       ┆ [\"130\",    ┆ [130.0,   ┆ 65443.333 │\n",
       "│ Engineer,  ┆ NY         ┆           ┆        ┆   ┆          ┆ \"200\",     ┆ 200.0,    ┆ 333       │\n",
       "│ Commercial ┆            ┆           ┆        ┆   ┆          ┆ \"196000\"]  ┆ 196000.0] ┆           │\n",
       "│ -…         ┆            ┆           ┆        ┆   ┆          ┆            ┆           ┆           │\n",
       "│ Systems    ┆ Goleta,    ┆ Full-Time ┆ null   ┆ … ┆ 18       ┆ [\"10\",     ┆ [10.0,    ┆ 1.5000e9  │\n",
       "│ Engineer   ┆ CA, USA ●  ┆           ┆        ┆   ┆          ┆ \"20\", \"450 ┆ 20.0,     ┆           │\n",
       "│ II         ┆ Plano, TX, ┆           ┆        ┆   ┆          ┆ 0000000\"]  ┆ 4.5000e9] ┆           │\n",
       "│            ┆ U…         ┆           ┆        ┆   ┆          ┆            ┆           ┆           │\n",
       "│ Mechanical ┆ United     ┆ null      ┆ null   ┆ … ┆ 14       ┆ [\"72960\",  ┆ [72960.0, ┆ 24460.0   │\n",
       "│ Maintenanc ┆ States     ┆           ┆        ┆   ┆          ┆ \"100\",     ┆ 100.0,    ┆           │\n",
       "│ e Enginee… ┆            ┆           ┆        ┆   ┆          ┆ \"320\"]     ┆ 320.0]    ┆           │\n",
       "│ Senior     ┆ US.NE.Remo ┆ Full-Time ┆ true   ┆ … ┆ 18       ┆ [\"110\",    ┆ [110.0,   ┆ 2.5500e9  │\n",
       "│ Software   ┆ te         ┆           ┆        ┆   ┆          ┆ \"160\", \"76 ┆ 160.0,    ┆           │\n",
       "│ Developmen ┆            ┆           ┆        ┆   ┆          ┆ 50000000\"] ┆ 7.6500e9] ┆           │\n",
       "│ t En…      ┆            ┆           ┆        ┆   ┆          ┆            ┆           ┆           │\n",
       "│ Process    ┆ Martinez,  ┆ Full-Time ┆ null   ┆ … ┆ 18       ┆ [\"130\",    ┆ [130.0,   ┆ 2.6333e9  │\n",
       "│ Project    ┆ CA         ┆           ┆        ┆   ┆          ┆ \"820\", \"79 ┆ 820.0,    ┆           │\n",
       "│ Engineer   ┆            ┆           ┆        ┆   ┆          ┆ 00000000\"] ┆ 7.9000e9] ┆           │\n",
       "│ Assistant  ┆ Poughkeeps ┆ Full-Time ┆ null   ┆ … ┆ 14       ┆ [\"78900\",  ┆ [78900.0, ┆ 26470.0   │\n",
       "│ Engineer   ┆ ie         ┆           ┆        ┆   ┆          ┆ \"110\",     ┆ 110.0,    ┆           │\n",
       "│            ┆            ┆           ┆        ┆   ┆          ┆ \"400\"]     ┆ 400.0]    ┆           │\n",
       "└────────────┴────────────┴───────────┴────────┴───┴──────────┴────────────┴───────────┴───────────┘"
      ]
     },
     "execution_count": 14,
     "metadata": {},
     "output_type": "execute_result"
    }
   ],
   "source": [
    "whole_df.filter(pl.col(\"len_comp\")>10, pl.col(\"comp_est\").str.contains(\"[123456789]+[0]+[123456789]+[0]+\")).with_columns(est=pl.col(\"comp_est\").str.extract_all(\"[123456789]+[0]+\")).filter(pl.col(\"est\").list.len()>2).head(7)\n",
    "#skipping cleaning those records as there are only 8 of them that would benefit from creating a logic to combine the first twoo or the last two strings into respectively lower or higher bound of the compensation estimation. I'll proceed only with the records that have only the lower and higher limit."
   ]
  },
  {
   "cell_type": "markdown",
   "id": "bdda6549-fd78-44db-ada1-5d0cc70c01e1",
   "metadata": {},
   "source": [
    "b) currency"
   ]
  },
  {
   "cell_type": "code",
   "execution_count": 15,
   "id": "921607c0-e8ec-4fc4-8b2b-834239b0dd3f",
   "metadata": {},
   "outputs": [
    {
     "data": {
      "text/html": [
       "<div><style>\n",
       ".dataframe > thead > tr,\n",
       ".dataframe > tbody > tr {\n",
       "  text-align: right;\n",
       "  white-space: pre-wrap;\n",
       "}\n",
       "</style>\n",
       "<small>shape: (10, 2)</small><table border=\"1\" class=\"dataframe\"><thead><tr><th>country</th><th>count</th></tr><tr><td>str</td><td>u32</td></tr></thead><tbody><tr><td>&quot;United States&quot;</td><td>44581</td></tr><tr><td>&quot;India&quot;</td><td>10276</td></tr><tr><td>null</td><td>9708</td></tr><tr><td>&quot;United Kingdom&quot;</td><td>4191</td></tr><tr><td>&quot;Germany&quot;</td><td>3560</td></tr><tr><td>&quot;Canada&quot;</td><td>2362</td></tr><tr><td>&quot;Brazil&quot;</td><td>1783</td></tr><tr><td>&quot;France&quot;</td><td>1530</td></tr><tr><td>&quot;Australia&quot;</td><td>1340</td></tr><tr><td>&quot;Mexico&quot;</td><td>1015</td></tr></tbody></table></div>"
      ],
      "text/plain": [
       "shape: (10, 2)\n",
       "┌────────────────┬───────┐\n",
       "│ country        ┆ count │\n",
       "│ ---            ┆ ---   │\n",
       "│ str            ┆ u32   │\n",
       "╞════════════════╪═══════╡\n",
       "│ United States  ┆ 44581 │\n",
       "│ India          ┆ 10276 │\n",
       "│ null           ┆ 9708  │\n",
       "│ United Kingdom ┆ 4191  │\n",
       "│ Germany        ┆ 3560  │\n",
       "│ Canada         ┆ 2362  │\n",
       "│ Brazil         ┆ 1783  │\n",
       "│ France         ┆ 1530  │\n",
       "│ Australia      ┆ 1340  │\n",
       "│ Mexico         ┆ 1015  │\n",
       "└────────────────┴───────┘"
      ]
     },
     "execution_count": 15,
     "metadata": {},
     "output_type": "execute_result"
    }
   ],
   "source": [
    "whole_df[\"country\"].value_counts(sort=True).head(10)"
   ]
  },
  {
   "cell_type": "code",
   "execution_count": 16,
   "id": "bb55c4b8-9b55-4077-822a-c34af6ab3349",
   "metadata": {},
   "outputs": [
    {
     "name": "stdout",
     "output_type": "stream",
     "text": [
      "Defaulting to user installation because normal site-packages is not writeable\n",
      "Requirement already satisfied: pyarrow in /home/anopsy/.local/lib/python3.10/site-packages (16.1.0)\n",
      "Requirement already satisfied: numpy>=1.16.6 in /home/anopsy/.local/lib/python3.10/site-packages (from pyarrow) (1.26.4)\n",
      "Note: you may need to restart the kernel to use updated packages.\n"
     ]
    }
   ],
   "source": [
    "%pip install pyarrow"
   ]
  },
  {
   "cell_type": "code",
   "execution_count": 17,
   "id": "7d0c93a8-91aa-418d-a9d1-8c22aa5ea0d7",
   "metadata": {},
   "outputs": [],
   "source": [
    "whole_df = whole_df.with_columns(\n",
    "    comp_dol = pl.when(pl.col(\"country\") == \"India\")\n",
    "        .then(pl.col(\"compensation\")/83.4)\n",
    "        .otherwise(pl.col(\"compensation\"))\n",
    ")"
   ]
  },
  {
   "cell_type": "code",
   "execution_count": 18,
   "id": "50584726-c278-46ba-a319-9da320f211a5",
   "metadata": {},
   "outputs": [
    {
     "data": {
      "text/html": [
       "<div><style>\n",
       ".dataframe > thead > tr,\n",
       ".dataframe > tbody > tr {\n",
       "  text-align: right;\n",
       "  white-space: pre-wrap;\n",
       "}\n",
       "</style>\n",
       "<small>shape: (100_000, 22)</small><table border=\"1\" class=\"dataframe\"><thead><tr><th>job_name</th><th>job_location</th><th>hours</th><th>remote</th><th>company_name</th><th>education</th><th>tags_matched</th><th>tag_categories</th><th>categories</th><th>seniority</th><th>comp_est</th><th>language</th><th>city</th><th>country</th><th>job_published_at</th><th>last_indexed</th><th>sample_date</th><th>len_comp</th><th>est</th><th>est_float</th><th>compensation</th><th>comp_dol</th></tr><tr><td>str</td><td>str</td><td>str</td><td>bool</td><td>str</td><td>str</td><td>str</td><td>str</td><td>str</td><td>str</td><td>str</td><td>str</td><td>str</td><td>str</td><td>str</td><td>str</td><td>str</td><td>u32</td><td>list[str]</td><td>list[f64]</td><td>f64</td><td>f64</td></tr></thead><tbody><tr><td>&quot;Backend Developer&quot;</td><td>&quot;Praha, Czech Republic&quot;</td><td>null</td><td>null</td><td>&quot;IBM&quot;</td><td>null</td><td>&quot;[Docker, GraphQL, NoSQL, IBM, …</td><td>&quot;[Container Orchestration, Quer…</td><td>&quot;[Software]&quot;</td><td>null</td><td>&quot;&quot;</td><td>&quot;pl&quot;</td><td>&quot;Praha&quot;</td><td>&quot;Czech Republic&quot;</td><td>&quot;2023-03-13 05:12:29&quot;</td><td>&quot;2023-06-05 13:43:49&quot;</td><td>&quot;2023&quot;</td><td>0</td><td>[&quot;&quot;, &quot;&quot;]</td><td>[null, null]</td><td>null</td><td>null</td></tr><tr><td>&quot;Manufacturing Engineer&quot;</td><td>null</td><td>&quot;Full-Time&quot;</td><td>false</td><td>null</td><td>null</td><td>&quot;[Sigma]&quot;</td><td>&quot;[Tools, Serverless]&quot;</td><td>&quot;[Manufacturing]&quot;</td><td>null</td><td>&quot;&quot;</td><td>&quot;en&quot;</td><td>&quot;Sterling Heights&quot;</td><td>&quot;United States&quot;</td><td>&quot;2021-10-09 00:00:00&quot;</td><td>&quot;2023-05-24 05:35:57&quot;</td><td>&quot;2023&quot;</td><td>0</td><td>[&quot;&quot;, &quot;&quot;]</td><td>[null, null]</td><td>null</td><td>null</td></tr><tr><td>&quot;Design Engineer, Motorized Pro…</td><td>&quot;520 S Byrkit St Mishawaka, Ind…</td><td>&quot;Full-Time&quot;</td><td>null</td><td>&quot;ABI Attachments&quot;</td><td>&quot;Bachelors&quot;</td><td>&quot;[]&quot;</td><td>&quot;[]&quot;</td><td>&quot;[Design]&quot;</td><td>&quot;Senior IC&quot;</td><td>&quot;&quot;</td><td>&quot;en&quot;</td><td>&quot;Mishawaka&quot;</td><td>&quot;United States&quot;</td><td>&quot;2023-04-28 03:04:28&quot;</td><td>&quot;2023-05-19 14:48:10&quot;</td><td>&quot;2023&quot;</td><td>0</td><td>[&quot;&quot;, &quot;&quot;]</td><td>[null, null]</td><td>null</td><td>null</td></tr><tr><td>&quot;Cybersecurity Engineer&quot;</td><td>null</td><td>&quot;Full-Time&quot;</td><td>false</td><td>null</td><td>&quot;Bachelors&quot;</td><td>&quot;[AWS, Qualys, Splunk]&quot;</td><td>&quot;[Compute, Logging &amp; Monitoring…</td><td>&quot;[Cybersecurity, Security]&quot;</td><td>null</td><td>&quot;&quot;</td><td>&quot;en&quot;</td><td>&quot;Herndon&quot;</td><td>&quot;United States&quot;</td><td>&quot;2023-04-03 00:00:00&quot;</td><td>&quot;2023-05-28 11:47:09&quot;</td><td>&quot;2023&quot;</td><td>0</td><td>[&quot;&quot;, &quot;&quot;]</td><td>[null, null]</td><td>null</td><td>null</td></tr><tr><td>&quot;Your Career so choose wisely w…</td><td>&quot;Kolkata, India&quot;</td><td>&quot;Full-Time&quot;</td><td>false</td><td>&quot;Adeeba e Services&quot;</td><td>null</td><td>&quot;[Objective-C, Subversion, Swif…</td><td>&quot;[Cloud Native Storage, Program…</td><td>&quot;[Software]&quot;</td><td>null</td><td>&quot;&quot;</td><td>&quot;en&quot;</td><td>&quot;Kolkata&quot;</td><td>&quot;India&quot;</td><td>&quot;2017-01-17 11:35:48&quot;</td><td>&quot;2023-05-30 11:51:08&quot;</td><td>&quot;2023&quot;</td><td>0</td><td>[&quot;&quot;, &quot;&quot;]</td><td>[null, null]</td><td>null</td><td>null</td></tr><tr><td>&hellip;</td><td>&hellip;</td><td>&hellip;</td><td>&hellip;</td><td>&hellip;</td><td>&hellip;</td><td>&hellip;</td><td>&hellip;</td><td>&hellip;</td><td>&hellip;</td><td>&hellip;</td><td>&hellip;</td><td>&hellip;</td><td>&hellip;</td><td>&hellip;</td><td>&hellip;</td><td>&hellip;</td><td>&hellip;</td><td>&hellip;</td><td>&hellip;</td><td>&hellip;</td><td>&hellip;</td></tr><tr><td>&quot;Fire Protection Engineer (3+ y…</td><td>&quot;1455 Frazee Rd, San Diego, CA …</td><td>&quot;Full-Time&quot;</td><td>false</td><td>&quot;Coffman Engineers&quot;</td><td>null</td><td>&quot;[Facebook, Instagram, LinkedIn…</td><td>&quot;[Tracking, Social Share, Socia…</td><td>&quot;[Consulting]&quot;</td><td>null</td><td>&quot;97500.00&quot;</td><td>&quot;en&quot;</td><td>&quot;San Diego&quot;</td><td>&quot;United States&quot;</td><td>&quot;2024-01-08 16:44:53&quot;</td><td>&quot;2024-04-01 21:24:50&quot;</td><td>&quot;2024&quot;</td><td>8</td><td>[&quot;97500.00&quot;, &quot;97500.00&quot;]</td><td>[97500.0, 97500.0]</td><td>97500.0</td><td>97500.0</td></tr><tr><td>&quot;Mechanical Engineering Intern&quot;</td><td>null</td><td>&quot;Intern&quot;</td><td>null</td><td>&quot;Study and Work&quot;</td><td>null</td><td>&quot;[]&quot;</td><td>&quot;[]&quot;</td><td>&quot;[Mechanical &amp; Industrial Engin…</td><td>&quot;Intern&quot;</td><td>null</td><td>&quot;en&quot;</td><td>null</td><td>null</td><td>&quot;2024-03-12 00:00:00&quot;</td><td>&quot;2024-03-27 17:53:22&quot;</td><td>&quot;2024&quot;</td><td>null</td><td>[null, null]</td><td>[null, null]</td><td>null</td><td>null</td></tr><tr><td>&quot;Automation Engineer (m/f/d)&quot;</td><td>&quot;Puurs&quot;</td><td>null</td><td>null</td><td>&quot;Novartis&quot;</td><td>null</td><td>&quot;[]&quot;</td><td>&quot;[]&quot;</td><td>&quot;[]&quot;</td><td>null</td><td>null</td><td>&quot;fr&quot;</td><td>&quot;Puurs&quot;</td><td>&quot;Belgium&quot;</td><td>null</td><td>&quot;2024-03-16 21:47:44&quot;</td><td>&quot;2024&quot;</td><td>null</td><td>[null, null]</td><td>[null, null]</td><td>null</td><td>null</td></tr><tr><td>&quot;Computer Vision Engineer (Chen…</td><td>&quot;Chennai&quot;</td><td>&quot;Full-Time&quot;</td><td>false</td><td>&quot;Zigsaw&quot;</td><td>&quot;Bachelors&quot;</td><td>&quot;[PyTorch, Java, C++, OpenCV, P…</td><td>&quot;[OSS, AI/ML Tools/Deep Learnin…</td><td>&quot;[Machine Learning]&quot;</td><td>null</td><td>null</td><td>&quot;en&quot;</td><td>&quot;Chennai&quot;</td><td>&quot;India&quot;</td><td>&quot;2023-10-05 14:10:33&quot;</td><td>&quot;2024-03-26 12:35:25&quot;</td><td>&quot;2024&quot;</td><td>null</td><td>[null, null]</td><td>[null, null]</td><td>null</td><td>null</td></tr><tr><td>&quot;Associate Engineering Speciali…</td><td>&quot;Juncos, PR, Puerto Rico&quot;</td><td>&quot;Contract&quot;</td><td>null</td><td>&quot;Flexible &amp; Integrated Technica…</td><td>&quot;Bachelors&quot;</td><td>&quot;[]&quot;</td><td>&quot;[]&quot;</td><td>&quot;[Medical Devices]&quot;</td><td>&quot;Junior IC&quot;</td><td>null</td><td>&quot;en&quot;</td><td>&quot;Juncos&quot;</td><td>&quot;United States&quot;</td><td>&quot;2024-01-29 00:00:00&quot;</td><td>&quot;2024-03-14 12:55:11&quot;</td><td>&quot;2024&quot;</td><td>null</td><td>[null, null]</td><td>[null, null]</td><td>null</td><td>null</td></tr></tbody></table></div>"
      ],
      "text/plain": [
       "shape: (100_000, 22)\n",
       "┌────────────┬────────────┬───────────┬────────┬───┬────────────┬───────────┬───────────┬──────────┐\n",
       "│ job_name   ┆ job_locati ┆ hours     ┆ remote ┆ … ┆ est        ┆ est_float ┆ compensat ┆ comp_dol │\n",
       "│ ---        ┆ on         ┆ ---       ┆ ---    ┆   ┆ ---        ┆ ---       ┆ ion       ┆ ---      │\n",
       "│ str        ┆ ---        ┆ str       ┆ bool   ┆   ┆ list[str]  ┆ list[f64] ┆ ---       ┆ f64      │\n",
       "│            ┆ str        ┆           ┆        ┆   ┆            ┆           ┆ f64       ┆          │\n",
       "╞════════════╪════════════╪═══════════╪════════╪═══╪════════════╪═══════════╪═══════════╪══════════╡\n",
       "│ Backend    ┆ Praha,     ┆ null      ┆ null   ┆ … ┆ [\"\", \"\"]   ┆ [null,    ┆ null      ┆ null     │\n",
       "│ Developer  ┆ Czech      ┆           ┆        ┆   ┆            ┆ null]     ┆           ┆          │\n",
       "│            ┆ Republic   ┆           ┆        ┆   ┆            ┆           ┆           ┆          │\n",
       "│ Manufactur ┆ null       ┆ Full-Time ┆ false  ┆ … ┆ [\"\", \"\"]   ┆ [null,    ┆ null      ┆ null     │\n",
       "│ ing        ┆            ┆           ┆        ┆   ┆            ┆ null]     ┆           ┆          │\n",
       "│ Engineer   ┆            ┆           ┆        ┆   ┆            ┆           ┆           ┆          │\n",
       "│ Design     ┆ 520 S      ┆ Full-Time ┆ null   ┆ … ┆ [\"\", \"\"]   ┆ [null,    ┆ null      ┆ null     │\n",
       "│ Engineer,  ┆ Byrkit St  ┆           ┆        ┆   ┆            ┆ null]     ┆           ┆          │\n",
       "│ Motorized  ┆ Mishawaka, ┆           ┆        ┆   ┆            ┆           ┆           ┆          │\n",
       "│ Pro…       ┆ Ind…       ┆           ┆        ┆   ┆            ┆           ┆           ┆          │\n",
       "│ Cybersecur ┆ null       ┆ Full-Time ┆ false  ┆ … ┆ [\"\", \"\"]   ┆ [null,    ┆ null      ┆ null     │\n",
       "│ ity        ┆            ┆           ┆        ┆   ┆            ┆ null]     ┆           ┆          │\n",
       "│ Engineer   ┆            ┆           ┆        ┆   ┆            ┆           ┆           ┆          │\n",
       "│ Your       ┆ Kolkata,   ┆ Full-Time ┆ false  ┆ … ┆ [\"\", \"\"]   ┆ [null,    ┆ null      ┆ null     │\n",
       "│ Career so  ┆ India      ┆           ┆        ┆   ┆            ┆ null]     ┆           ┆          │\n",
       "│ choose     ┆            ┆           ┆        ┆   ┆            ┆           ┆           ┆          │\n",
       "│ wisely w…  ┆            ┆           ┆        ┆   ┆            ┆           ┆           ┆          │\n",
       "│ …          ┆ …          ┆ …         ┆ …      ┆ … ┆ …          ┆ …         ┆ …         ┆ …        │\n",
       "│ Fire       ┆ 1455       ┆ Full-Time ┆ false  ┆ … ┆ [\"97500.00 ┆ [97500.0, ┆ 97500.0   ┆ 97500.0  │\n",
       "│ Protection ┆ Frazee Rd, ┆           ┆        ┆   ┆ \", \"97500. ┆ 97500.0]  ┆           ┆          │\n",
       "│ Engineer   ┆ San Diego, ┆           ┆        ┆   ┆ 00\"]       ┆           ┆           ┆          │\n",
       "│ (3+ y…     ┆ CA …       ┆           ┆        ┆   ┆            ┆           ┆           ┆          │\n",
       "│ Mechanical ┆ null       ┆ Intern    ┆ null   ┆ … ┆ [null,     ┆ [null,    ┆ null      ┆ null     │\n",
       "│ Engineerin ┆            ┆           ┆        ┆   ┆ null]      ┆ null]     ┆           ┆          │\n",
       "│ g Intern   ┆            ┆           ┆        ┆   ┆            ┆           ┆           ┆          │\n",
       "│ Automation ┆ Puurs      ┆ null      ┆ null   ┆ … ┆ [null,     ┆ [null,    ┆ null      ┆ null     │\n",
       "│ Engineer   ┆            ┆           ┆        ┆   ┆ null]      ┆ null]     ┆           ┆          │\n",
       "│ (m/f/d)    ┆            ┆           ┆        ┆   ┆            ┆           ┆           ┆          │\n",
       "│ Computer   ┆ Chennai    ┆ Full-Time ┆ false  ┆ … ┆ [null,     ┆ [null,    ┆ null      ┆ null     │\n",
       "│ Vision     ┆            ┆           ┆        ┆   ┆ null]      ┆ null]     ┆           ┆          │\n",
       "│ Engineer   ┆            ┆           ┆        ┆   ┆            ┆           ┆           ┆          │\n",
       "│ (Chen…     ┆            ┆           ┆        ┆   ┆            ┆           ┆           ┆          │\n",
       "│ Associate  ┆ Juncos,    ┆ Contract  ┆ null   ┆ … ┆ [null,     ┆ [null,    ┆ null      ┆ null     │\n",
       "│ Engineerin ┆ PR, Puerto ┆           ┆        ┆   ┆ null]      ┆ null]     ┆           ┆          │\n",
       "│ g          ┆ Rico       ┆           ┆        ┆   ┆            ┆           ┆           ┆          │\n",
       "│ Speciali…  ┆            ┆           ┆        ┆   ┆            ┆           ┆           ┆          │\n",
       "└────────────┴────────────┴───────────┴────────┴───┴────────────┴───────────┴───────────┴──────────┘"
      ]
     },
     "execution_count": 18,
     "metadata": {},
     "output_type": "execute_result"
    }
   ],
   "source": [
    "whole_df"
   ]
  },
  {
   "cell_type": "code",
   "execution_count": 19,
   "id": "c800cab5-aa80-48c7-afe4-fda8e967d831",
   "metadata": {},
   "outputs": [
    {
     "data": {
      "text/html": [
       "<div><style>\n",
       ".dataframe > thead > tr,\n",
       ".dataframe > tbody > tr {\n",
       "  text-align: right;\n",
       "  white-space: pre-wrap;\n",
       "}\n",
       "</style>\n",
       "<small>shape: (183, 2)</small><table border=\"1\" class=\"dataframe\"><thead><tr><th>country</th><th>compensation</th></tr><tr><td>str</td><td>f64</td></tr></thead><tbody><tr><td>&quot;Cuba&quot;</td><td>150336.1875</td></tr><tr><td>&quot;Israel&quot;</td><td>50819.526316</td></tr><tr><td>&quot;Australia&quot;</td><td>81917.478538</td></tr><tr><td>&quot;Belarus&quot;</td><td>1.0</td></tr><tr><td>&quot;Zimbabwe&quot;</td><td>null</td></tr><tr><td>&hellip;</td><td>&hellip;</td></tr><tr><td>&quot;Uruguay&quot;</td><td>null</td></tr><tr><td>&quot;Sudan&quot;</td><td>null</td></tr><tr><td>&quot;Switzerland&quot;</td><td>68037.75</td></tr><tr><td>&quot;Trinidad And Tobago&quot;</td><td>null</td></tr><tr><td>&quot;Guatemala&quot;</td><td>61667.0</td></tr></tbody></table></div>"
      ],
      "text/plain": [
       "shape: (183, 2)\n",
       "┌─────────────────────┬──────────────┐\n",
       "│ country             ┆ compensation │\n",
       "│ ---                 ┆ ---          │\n",
       "│ str                 ┆ f64          │\n",
       "╞═════════════════════╪══════════════╡\n",
       "│ Cuba                ┆ 150336.1875  │\n",
       "│ Israel              ┆ 50819.526316 │\n",
       "│ Australia           ┆ 81917.478538 │\n",
       "│ Belarus             ┆ 1.0          │\n",
       "│ Zimbabwe            ┆ null         │\n",
       "│ …                   ┆ …            │\n",
       "│ Uruguay             ┆ null         │\n",
       "│ Sudan               ┆ null         │\n",
       "│ Switzerland         ┆ 68037.75     │\n",
       "│ Trinidad And Tobago ┆ null         │\n",
       "│ Guatemala           ┆ 61667.0      │\n",
       "└─────────────────────┴──────────────┘"
      ]
     },
     "execution_count": 19,
     "metadata": {},
     "output_type": "execute_result"
    }
   ],
   "source": [
    "whole_df.group_by(\"country\").agg(pl.col(\"compensation\").mean())"
   ]
  },
  {
   "cell_type": "code",
   "execution_count": 20,
   "id": "c691d226-ace7-4159-88f0-6c4c3b9b6c68",
   "metadata": {},
   "outputs": [],
   "source": [
    "whole_df = whole_df.with_columns(\n",
    "    pl.when(pl.col(\"country\") == \"Mexico\")\n",
    "        .then(pl.col(\"comp_dol\")/17)\n",
    "        .otherwise(pl.col(\"comp_dol\"))\n",
    ")"
   ]
  },
  {
   "cell_type": "code",
   "execution_count": 21,
   "id": "952abf9b-96eb-4d10-a570-7cc6456ed287",
   "metadata": {},
   "outputs": [],
   "source": [
    "whole_df = whole_df.with_columns(\n",
    "    pl.when(pl.col(\"country\") == \"Poland\")\n",
    "        .then(pl.col(\"comp_dol\")/4)\n",
    "        .otherwise(pl.col(\"comp_dol\"))\n",
    ")"
   ]
  },
  {
   "cell_type": "code",
   "execution_count": 22,
   "id": "c0dd6dd5-ea39-4df7-baaf-0673bcbf22bb",
   "metadata": {},
   "outputs": [],
   "source": [
    "whole_df = whole_df.with_columns(\n",
    "    pl.when(pl.col(\"country\") == \"Japan\")\n",
    "        .then(pl.col(\"comp_dol\")/158)\n",
    "        .otherwise(pl.col(\"comp_dol\"))\n",
    ")"
   ]
  },
  {
   "cell_type": "code",
   "execution_count": 23,
   "id": "ca511216-655c-4868-bd46-da6e9eb4acda",
   "metadata": {},
   "outputs": [],
   "source": [
    "whole_df = whole_df.with_columns(\n",
    "    pl.when(pl.col(\"country\") == \"Colombia\")\n",
    "        .then(pl.col(\"comp_dol\")/3_872) \n",
    "        .otherwise(pl.col(\"comp_dol\"))\n",
    ")"
   ]
  },
  {
   "cell_type": "code",
   "execution_count": 24,
   "id": "99f92473-0fcc-47da-900e-50b7f94c70ac",
   "metadata": {},
   "outputs": [],
   "source": [
    "whole_df = whole_df.with_columns(\n",
    "    pl.when(pl.col(\"country\") == \"South Africa\")\n",
    "        .then(pl.col(\"comp_dol\")/18.4) \n",
    "        .otherwise(pl.col(\"comp_dol\"))\n",
    ")\n"
   ]
  },
  {
   "cell_type": "code",
   "execution_count": 25,
   "id": "ac34a086-b5ff-4a21-8b2d-58a3a4f4e34c",
   "metadata": {},
   "outputs": [],
   "source": [
    "whole_df = whole_df.with_columns(\n",
    "    pl.when(pl.col(\"country\") == \"Indonesia\")\n",
    "        .then(pl.col(\"comp_dol\")/16_237) #16.237\n",
    "        .otherwise(pl.col(\"comp_dol\"))\n",
    ")"
   ]
  },
  {
   "cell_type": "code",
   "execution_count": 26,
   "id": "f32719f8-a97e-4ee8-8837-1de8a835d897",
   "metadata": {},
   "outputs": [],
   "source": [
    "whole_df = whole_df.with_columns(\n",
    "    pl.when(pl.col(\"country\") == \"Kyrgyzstan\")\n",
    "        .then(pl.col(\"comp_dol\")/87.7) #16.237\n",
    "        .otherwise(pl.col(\"comp_dol\"))\n",
    ")"
   ]
  },
  {
   "cell_type": "markdown",
   "id": "1c7dae26-c717-44c1-afc8-a2a2875fc348",
   "metadata": {},
   "source": [
    "c) hour rates -> monthly estimation"
   ]
  },
  {
   "cell_type": "code",
   "execution_count": 27,
   "id": "1b9956d1-d19f-44cd-b6d0-90584ca3d919",
   "metadata": {},
   "outputs": [
    {
     "data": {
      "application/javascript": [
       "(function(root) {\n",
       "  function now() {\n",
       "    return new Date();\n",
       "  }\n",
       "\n",
       "  var force = true;\n",
       "  var py_version = '3.3.4'.replace('rc', '-rc.').replace('.dev', '-dev.');\n",
       "  var reloading = false;\n",
       "  var Bokeh = root.Bokeh;\n",
       "\n",
       "  if (typeof (root._bokeh_timeout) === \"undefined\" || force) {\n",
       "    root._bokeh_timeout = Date.now() + 5000;\n",
       "    root._bokeh_failed_load = false;\n",
       "  }\n",
       "\n",
       "  function run_callbacks() {\n",
       "    try {\n",
       "      root._bokeh_onload_callbacks.forEach(function(callback) {\n",
       "        if (callback != null)\n",
       "          callback();\n",
       "      });\n",
       "    } finally {\n",
       "      delete root._bokeh_onload_callbacks;\n",
       "    }\n",
       "    console.debug(\"Bokeh: all callbacks have finished\");\n",
       "  }\n",
       "\n",
       "  function load_libs(css_urls, js_urls, js_modules, js_exports, callback) {\n",
       "    if (css_urls == null) css_urls = [];\n",
       "    if (js_urls == null) js_urls = [];\n",
       "    if (js_modules == null) js_modules = [];\n",
       "    if (js_exports == null) js_exports = {};\n",
       "\n",
       "    root._bokeh_onload_callbacks.push(callback);\n",
       "\n",
       "    if (root._bokeh_is_loading > 0) {\n",
       "      console.debug(\"Bokeh: BokehJS is being loaded, scheduling callback at\", now());\n",
       "      return null;\n",
       "    }\n",
       "    if (js_urls.length === 0 && js_modules.length === 0 && Object.keys(js_exports).length === 0) {\n",
       "      run_callbacks();\n",
       "      return null;\n",
       "    }\n",
       "    if (!reloading) {\n",
       "      console.debug(\"Bokeh: BokehJS not loaded, scheduling load and callback at\", now());\n",
       "    }\n",
       "\n",
       "    function on_load() {\n",
       "      root._bokeh_is_loading--;\n",
       "      if (root._bokeh_is_loading === 0) {\n",
       "        console.debug(\"Bokeh: all BokehJS libraries/stylesheets loaded\");\n",
       "        run_callbacks()\n",
       "      }\n",
       "    }\n",
       "    window._bokeh_on_load = on_load\n",
       "\n",
       "    function on_error() {\n",
       "      console.error(\"failed to load \" + url);\n",
       "    }\n",
       "\n",
       "    var skip = [];\n",
       "    if (window.requirejs) {\n",
       "      window.requirejs.config({'packages': {}, 'paths': {'jspanel': 'https://cdn.jsdelivr.net/npm/jspanel4@4.12.0/dist/jspanel', 'jspanel-modal': 'https://cdn.jsdelivr.net/npm/jspanel4@4.12.0/dist/extensions/modal/jspanel.modal', 'jspanel-tooltip': 'https://cdn.jsdelivr.net/npm/jspanel4@4.12.0/dist/extensions/tooltip/jspanel.tooltip', 'jspanel-hint': 'https://cdn.jsdelivr.net/npm/jspanel4@4.12.0/dist/extensions/hint/jspanel.hint', 'jspanel-layout': 'https://cdn.jsdelivr.net/npm/jspanel4@4.12.0/dist/extensions/layout/jspanel.layout', 'jspanel-contextmenu': 'https://cdn.jsdelivr.net/npm/jspanel4@4.12.0/dist/extensions/contextmenu/jspanel.contextmenu', 'jspanel-dock': 'https://cdn.jsdelivr.net/npm/jspanel4@4.12.0/dist/extensions/dock/jspanel.dock', 'gridstack': 'https://cdn.jsdelivr.net/npm/gridstack@7.2.3/dist/gridstack-all', 'notyf': 'https://cdn.jsdelivr.net/npm/notyf@3/notyf.min'}, 'shim': {'jspanel': {'exports': 'jsPanel'}, 'gridstack': {'exports': 'GridStack'}}});\n",
       "      require([\"jspanel\"], function(jsPanel) {\n",
       "\twindow.jsPanel = jsPanel\n",
       "\ton_load()\n",
       "      })\n",
       "      require([\"jspanel-modal\"], function() {\n",
       "\ton_load()\n",
       "      })\n",
       "      require([\"jspanel-tooltip\"], function() {\n",
       "\ton_load()\n",
       "      })\n",
       "      require([\"jspanel-hint\"], function() {\n",
       "\ton_load()\n",
       "      })\n",
       "      require([\"jspanel-layout\"], function() {\n",
       "\ton_load()\n",
       "      })\n",
       "      require([\"jspanel-contextmenu\"], function() {\n",
       "\ton_load()\n",
       "      })\n",
       "      require([\"jspanel-dock\"], function() {\n",
       "\ton_load()\n",
       "      })\n",
       "      require([\"gridstack\"], function(GridStack) {\n",
       "\twindow.GridStack = GridStack\n",
       "\ton_load()\n",
       "      })\n",
       "      require([\"notyf\"], function() {\n",
       "\ton_load()\n",
       "      })\n",
       "      root._bokeh_is_loading = css_urls.length + 9;\n",
       "    } else {\n",
       "      root._bokeh_is_loading = css_urls.length + js_urls.length + js_modules.length + Object.keys(js_exports).length;\n",
       "    }\n",
       "\n",
       "    var existing_stylesheets = []\n",
       "    var links = document.getElementsByTagName('link')\n",
       "    for (var i = 0; i < links.length; i++) {\n",
       "      var link = links[i]\n",
       "      if (link.href != null) {\n",
       "\texisting_stylesheets.push(link.href)\n",
       "      }\n",
       "    }\n",
       "    for (var i = 0; i < css_urls.length; i++) {\n",
       "      var url = css_urls[i];\n",
       "      if (existing_stylesheets.indexOf(url) !== -1) {\n",
       "\ton_load()\n",
       "\tcontinue;\n",
       "      }\n",
       "      const element = document.createElement(\"link\");\n",
       "      element.onload = on_load;\n",
       "      element.onerror = on_error;\n",
       "      element.rel = \"stylesheet\";\n",
       "      element.type = \"text/css\";\n",
       "      element.href = url;\n",
       "      console.debug(\"Bokeh: injecting link tag for BokehJS stylesheet: \", url);\n",
       "      document.body.appendChild(element);\n",
       "    }    if (((window['jsPanel'] !== undefined) && (!(window['jsPanel'] instanceof HTMLElement))) || window.requirejs) {\n",
       "      var urls = ['https://cdn.holoviz.org/panel/1.3.8/dist/bundled/floatpanel/jspanel4@4.12.0/dist/jspanel.js', 'https://cdn.holoviz.org/panel/1.3.8/dist/bundled/floatpanel/jspanel4@4.12.0/dist/extensions/modal/jspanel.modal.js', 'https://cdn.holoviz.org/panel/1.3.8/dist/bundled/floatpanel/jspanel4@4.12.0/dist/extensions/tooltip/jspanel.tooltip.js', 'https://cdn.holoviz.org/panel/1.3.8/dist/bundled/floatpanel/jspanel4@4.12.0/dist/extensions/hint/jspanel.hint.js', 'https://cdn.holoviz.org/panel/1.3.8/dist/bundled/floatpanel/jspanel4@4.12.0/dist/extensions/layout/jspanel.layout.js', 'https://cdn.holoviz.org/panel/1.3.8/dist/bundled/floatpanel/jspanel4@4.12.0/dist/extensions/contextmenu/jspanel.contextmenu.js', 'https://cdn.holoviz.org/panel/1.3.8/dist/bundled/floatpanel/jspanel4@4.12.0/dist/extensions/dock/jspanel.dock.js'];\n",
       "      for (var i = 0; i < urls.length; i++) {\n",
       "        skip.push(urls[i])\n",
       "      }\n",
       "    }    if (((window['GridStack'] !== undefined) && (!(window['GridStack'] instanceof HTMLElement))) || window.requirejs) {\n",
       "      var urls = ['https://cdn.holoviz.org/panel/1.3.8/dist/bundled/gridstack/gridstack@7.2.3/dist/gridstack-all.js'];\n",
       "      for (var i = 0; i < urls.length; i++) {\n",
       "        skip.push(urls[i])\n",
       "      }\n",
       "    }    if (((window['Notyf'] !== undefined) && (!(window['Notyf'] instanceof HTMLElement))) || window.requirejs) {\n",
       "      var urls = ['https://cdn.holoviz.org/panel/1.3.8/dist/bundled/notificationarea/notyf@3/notyf.min.js'];\n",
       "      for (var i = 0; i < urls.length; i++) {\n",
       "        skip.push(urls[i])\n",
       "      }\n",
       "    }    var existing_scripts = []\n",
       "    var scripts = document.getElementsByTagName('script')\n",
       "    for (var i = 0; i < scripts.length; i++) {\n",
       "      var script = scripts[i]\n",
       "      if (script.src != null) {\n",
       "\texisting_scripts.push(script.src)\n",
       "      }\n",
       "    }\n",
       "    for (var i = 0; i < js_urls.length; i++) {\n",
       "      var url = js_urls[i];\n",
       "      if (skip.indexOf(url) !== -1 || existing_scripts.indexOf(url) !== -1) {\n",
       "\tif (!window.requirejs) {\n",
       "\t  on_load();\n",
       "\t}\n",
       "\tcontinue;\n",
       "      }\n",
       "      var element = document.createElement('script');\n",
       "      element.onload = on_load;\n",
       "      element.onerror = on_error;\n",
       "      element.async = false;\n",
       "      element.src = url;\n",
       "      console.debug(\"Bokeh: injecting script tag for BokehJS library: \", url);\n",
       "      document.head.appendChild(element);\n",
       "    }\n",
       "    for (var i = 0; i < js_modules.length; i++) {\n",
       "      var url = js_modules[i];\n",
       "      if (skip.indexOf(url) !== -1 || existing_scripts.indexOf(url) !== -1) {\n",
       "\tif (!window.requirejs) {\n",
       "\t  on_load();\n",
       "\t}\n",
       "\tcontinue;\n",
       "      }\n",
       "      var element = document.createElement('script');\n",
       "      element.onload = on_load;\n",
       "      element.onerror = on_error;\n",
       "      element.async = false;\n",
       "      element.src = url;\n",
       "      element.type = \"module\";\n",
       "      console.debug(\"Bokeh: injecting script tag for BokehJS library: \", url);\n",
       "      document.head.appendChild(element);\n",
       "    }\n",
       "    for (const name in js_exports) {\n",
       "      var url = js_exports[name];\n",
       "      if (skip.indexOf(url) >= 0 || root[name] != null) {\n",
       "\tif (!window.requirejs) {\n",
       "\t  on_load();\n",
       "\t}\n",
       "\tcontinue;\n",
       "      }\n",
       "      var element = document.createElement('script');\n",
       "      element.onerror = on_error;\n",
       "      element.async = false;\n",
       "      element.type = \"module\";\n",
       "      console.debug(\"Bokeh: injecting script tag for BokehJS library: \", url);\n",
       "      element.textContent = `\n",
       "      import ${name} from \"${url}\"\n",
       "      window.${name} = ${name}\n",
       "      window._bokeh_on_load()\n",
       "      `\n",
       "      document.head.appendChild(element);\n",
       "    }\n",
       "    if (!js_urls.length && !js_modules.length) {\n",
       "      on_load()\n",
       "    }\n",
       "  };\n",
       "\n",
       "  function inject_raw_css(css) {\n",
       "    const element = document.createElement(\"style\");\n",
       "    element.appendChild(document.createTextNode(css));\n",
       "    document.body.appendChild(element);\n",
       "  }\n",
       "\n",
       "  var js_urls = [\"https://cdn.bokeh.org/bokeh/release/bokeh-3.3.4.min.js\", \"https://cdn.bokeh.org/bokeh/release/bokeh-gl-3.3.4.min.js\", \"https://cdn.bokeh.org/bokeh/release/bokeh-widgets-3.3.4.min.js\", \"https://cdn.bokeh.org/bokeh/release/bokeh-tables-3.3.4.min.js\", \"https://cdn.holoviz.org/panel/1.3.8/dist/panel.min.js\"];\n",
       "  var js_modules = [];\n",
       "  var js_exports = {};\n",
       "  var css_urls = [];\n",
       "  var inline_js = [    function(Bokeh) {\n",
       "      Bokeh.set_log_level(\"info\");\n",
       "    },\n",
       "function(Bokeh) {} // ensure no trailing comma for IE\n",
       "  ];\n",
       "\n",
       "  function run_inline_js() {\n",
       "    if ((root.Bokeh !== undefined) || (force === true)) {\n",
       "      for (var i = 0; i < inline_js.length; i++) {\n",
       "\ttry {\n",
       "          inline_js[i].call(root, root.Bokeh);\n",
       "\t} catch(e) {\n",
       "\t  if (!reloading) {\n",
       "\t    throw e;\n",
       "\t  }\n",
       "\t}\n",
       "      }\n",
       "      // Cache old bokeh versions\n",
       "      if (Bokeh != undefined && !reloading) {\n",
       "\tvar NewBokeh = root.Bokeh;\n",
       "\tif (Bokeh.versions === undefined) {\n",
       "\t  Bokeh.versions = new Map();\n",
       "\t}\n",
       "\tif (NewBokeh.version !== Bokeh.version) {\n",
       "\t  Bokeh.versions.set(NewBokeh.version, NewBokeh)\n",
       "\t}\n",
       "\troot.Bokeh = Bokeh;\n",
       "      }} else if (Date.now() < root._bokeh_timeout) {\n",
       "      setTimeout(run_inline_js, 100);\n",
       "    } else if (!root._bokeh_failed_load) {\n",
       "      console.log(\"Bokeh: BokehJS failed to load within specified timeout.\");\n",
       "      root._bokeh_failed_load = true;\n",
       "    }\n",
       "    root._bokeh_is_initializing = false\n",
       "  }\n",
       "\n",
       "  function load_or_wait() {\n",
       "    // Implement a backoff loop that tries to ensure we do not load multiple\n",
       "    // versions of Bokeh and its dependencies at the same time.\n",
       "    // In recent versions we use the root._bokeh_is_initializing flag\n",
       "    // to determine whether there is an ongoing attempt to initialize\n",
       "    // bokeh, however for backward compatibility we also try to ensure\n",
       "    // that we do not start loading a newer (Panel>=1.0 and Bokeh>3) version\n",
       "    // before older versions are fully initialized.\n",
       "    if (root._bokeh_is_initializing && Date.now() > root._bokeh_timeout) {\n",
       "      root._bokeh_is_initializing = false;\n",
       "      root._bokeh_onload_callbacks = undefined;\n",
       "      console.log(\"Bokeh: BokehJS was loaded multiple times but one version failed to initialize.\");\n",
       "      load_or_wait();\n",
       "    } else if (root._bokeh_is_initializing || (typeof root._bokeh_is_initializing === \"undefined\" && root._bokeh_onload_callbacks !== undefined)) {\n",
       "      setTimeout(load_or_wait, 100);\n",
       "    } else {\n",
       "      root._bokeh_is_initializing = true\n",
       "      root._bokeh_onload_callbacks = []\n",
       "      var bokeh_loaded = Bokeh != null && (Bokeh.version === py_version || (Bokeh.versions !== undefined && Bokeh.versions.has(py_version)));\n",
       "      if (!reloading && !bokeh_loaded) {\n",
       "\troot.Bokeh = undefined;\n",
       "      }\n",
       "      load_libs(css_urls, js_urls, js_modules, js_exports, function() {\n",
       "\tconsole.debug(\"Bokeh: BokehJS plotting callback run at\", now());\n",
       "\trun_inline_js();\n",
       "      });\n",
       "    }\n",
       "  }\n",
       "  // Give older versions of the autoload script a head-start to ensure\n",
       "  // they initialize before we start loading newer version.\n",
       "  setTimeout(load_or_wait, 100)\n",
       "}(window));"
      ],
      "application/vnd.holoviews_load.v0+json": "(function(root) {\n  function now() {\n    return new Date();\n  }\n\n  var force = true;\n  var py_version = '3.3.4'.replace('rc', '-rc.').replace('.dev', '-dev.');\n  var reloading = false;\n  var Bokeh = root.Bokeh;\n\n  if (typeof (root._bokeh_timeout) === \"undefined\" || force) {\n    root._bokeh_timeout = Date.now() + 5000;\n    root._bokeh_failed_load = false;\n  }\n\n  function run_callbacks() {\n    try {\n      root._bokeh_onload_callbacks.forEach(function(callback) {\n        if (callback != null)\n          callback();\n      });\n    } finally {\n      delete root._bokeh_onload_callbacks;\n    }\n    console.debug(\"Bokeh: all callbacks have finished\");\n  }\n\n  function load_libs(css_urls, js_urls, js_modules, js_exports, callback) {\n    if (css_urls == null) css_urls = [];\n    if (js_urls == null) js_urls = [];\n    if (js_modules == null) js_modules = [];\n    if (js_exports == null) js_exports = {};\n\n    root._bokeh_onload_callbacks.push(callback);\n\n    if (root._bokeh_is_loading > 0) {\n      console.debug(\"Bokeh: BokehJS is being loaded, scheduling callback at\", now());\n      return null;\n    }\n    if (js_urls.length === 0 && js_modules.length === 0 && Object.keys(js_exports).length === 0) {\n      run_callbacks();\n      return null;\n    }\n    if (!reloading) {\n      console.debug(\"Bokeh: BokehJS not loaded, scheduling load and callback at\", now());\n    }\n\n    function on_load() {\n      root._bokeh_is_loading--;\n      if (root._bokeh_is_loading === 0) {\n        console.debug(\"Bokeh: all BokehJS libraries/stylesheets loaded\");\n        run_callbacks()\n      }\n    }\n    window._bokeh_on_load = on_load\n\n    function on_error() {\n      console.error(\"failed to load \" + url);\n    }\n\n    var skip = [];\n    if (window.requirejs) {\n      window.requirejs.config({'packages': {}, 'paths': {'jspanel': 'https://cdn.jsdelivr.net/npm/jspanel4@4.12.0/dist/jspanel', 'jspanel-modal': 'https://cdn.jsdelivr.net/npm/jspanel4@4.12.0/dist/extensions/modal/jspanel.modal', 'jspanel-tooltip': 'https://cdn.jsdelivr.net/npm/jspanel4@4.12.0/dist/extensions/tooltip/jspanel.tooltip', 'jspanel-hint': 'https://cdn.jsdelivr.net/npm/jspanel4@4.12.0/dist/extensions/hint/jspanel.hint', 'jspanel-layout': 'https://cdn.jsdelivr.net/npm/jspanel4@4.12.0/dist/extensions/layout/jspanel.layout', 'jspanel-contextmenu': 'https://cdn.jsdelivr.net/npm/jspanel4@4.12.0/dist/extensions/contextmenu/jspanel.contextmenu', 'jspanel-dock': 'https://cdn.jsdelivr.net/npm/jspanel4@4.12.0/dist/extensions/dock/jspanel.dock', 'gridstack': 'https://cdn.jsdelivr.net/npm/gridstack@7.2.3/dist/gridstack-all', 'notyf': 'https://cdn.jsdelivr.net/npm/notyf@3/notyf.min'}, 'shim': {'jspanel': {'exports': 'jsPanel'}, 'gridstack': {'exports': 'GridStack'}}});\n      require([\"jspanel\"], function(jsPanel) {\n\twindow.jsPanel = jsPanel\n\ton_load()\n      })\n      require([\"jspanel-modal\"], function() {\n\ton_load()\n      })\n      require([\"jspanel-tooltip\"], function() {\n\ton_load()\n      })\n      require([\"jspanel-hint\"], function() {\n\ton_load()\n      })\n      require([\"jspanel-layout\"], function() {\n\ton_load()\n      })\n      require([\"jspanel-contextmenu\"], function() {\n\ton_load()\n      })\n      require([\"jspanel-dock\"], function() {\n\ton_load()\n      })\n      require([\"gridstack\"], function(GridStack) {\n\twindow.GridStack = GridStack\n\ton_load()\n      })\n      require([\"notyf\"], function() {\n\ton_load()\n      })\n      root._bokeh_is_loading = css_urls.length + 9;\n    } else {\n      root._bokeh_is_loading = css_urls.length + js_urls.length + js_modules.length + Object.keys(js_exports).length;\n    }\n\n    var existing_stylesheets = []\n    var links = document.getElementsByTagName('link')\n    for (var i = 0; i < links.length; i++) {\n      var link = links[i]\n      if (link.href != null) {\n\texisting_stylesheets.push(link.href)\n      }\n    }\n    for (var i = 0; i < css_urls.length; i++) {\n      var url = css_urls[i];\n      if (existing_stylesheets.indexOf(url) !== -1) {\n\ton_load()\n\tcontinue;\n      }\n      const element = document.createElement(\"link\");\n      element.onload = on_load;\n      element.onerror = on_error;\n      element.rel = \"stylesheet\";\n      element.type = \"text/css\";\n      element.href = url;\n      console.debug(\"Bokeh: injecting link tag for BokehJS stylesheet: \", url);\n      document.body.appendChild(element);\n    }    if (((window['jsPanel'] !== undefined) && (!(window['jsPanel'] instanceof HTMLElement))) || window.requirejs) {\n      var urls = ['https://cdn.holoviz.org/panel/1.3.8/dist/bundled/floatpanel/jspanel4@4.12.0/dist/jspanel.js', 'https://cdn.holoviz.org/panel/1.3.8/dist/bundled/floatpanel/jspanel4@4.12.0/dist/extensions/modal/jspanel.modal.js', 'https://cdn.holoviz.org/panel/1.3.8/dist/bundled/floatpanel/jspanel4@4.12.0/dist/extensions/tooltip/jspanel.tooltip.js', 'https://cdn.holoviz.org/panel/1.3.8/dist/bundled/floatpanel/jspanel4@4.12.0/dist/extensions/hint/jspanel.hint.js', 'https://cdn.holoviz.org/panel/1.3.8/dist/bundled/floatpanel/jspanel4@4.12.0/dist/extensions/layout/jspanel.layout.js', 'https://cdn.holoviz.org/panel/1.3.8/dist/bundled/floatpanel/jspanel4@4.12.0/dist/extensions/contextmenu/jspanel.contextmenu.js', 'https://cdn.holoviz.org/panel/1.3.8/dist/bundled/floatpanel/jspanel4@4.12.0/dist/extensions/dock/jspanel.dock.js'];\n      for (var i = 0; i < urls.length; i++) {\n        skip.push(urls[i])\n      }\n    }    if (((window['GridStack'] !== undefined) && (!(window['GridStack'] instanceof HTMLElement))) || window.requirejs) {\n      var urls = ['https://cdn.holoviz.org/panel/1.3.8/dist/bundled/gridstack/gridstack@7.2.3/dist/gridstack-all.js'];\n      for (var i = 0; i < urls.length; i++) {\n        skip.push(urls[i])\n      }\n    }    if (((window['Notyf'] !== undefined) && (!(window['Notyf'] instanceof HTMLElement))) || window.requirejs) {\n      var urls = ['https://cdn.holoviz.org/panel/1.3.8/dist/bundled/notificationarea/notyf@3/notyf.min.js'];\n      for (var i = 0; i < urls.length; i++) {\n        skip.push(urls[i])\n      }\n    }    var existing_scripts = []\n    var scripts = document.getElementsByTagName('script')\n    for (var i = 0; i < scripts.length; i++) {\n      var script = scripts[i]\n      if (script.src != null) {\n\texisting_scripts.push(script.src)\n      }\n    }\n    for (var i = 0; i < js_urls.length; i++) {\n      var url = js_urls[i];\n      if (skip.indexOf(url) !== -1 || existing_scripts.indexOf(url) !== -1) {\n\tif (!window.requirejs) {\n\t  on_load();\n\t}\n\tcontinue;\n      }\n      var element = document.createElement('script');\n      element.onload = on_load;\n      element.onerror = on_error;\n      element.async = false;\n      element.src = url;\n      console.debug(\"Bokeh: injecting script tag for BokehJS library: \", url);\n      document.head.appendChild(element);\n    }\n    for (var i = 0; i < js_modules.length; i++) {\n      var url = js_modules[i];\n      if (skip.indexOf(url) !== -1 || existing_scripts.indexOf(url) !== -1) {\n\tif (!window.requirejs) {\n\t  on_load();\n\t}\n\tcontinue;\n      }\n      var element = document.createElement('script');\n      element.onload = on_load;\n      element.onerror = on_error;\n      element.async = false;\n      element.src = url;\n      element.type = \"module\";\n      console.debug(\"Bokeh: injecting script tag for BokehJS library: \", url);\n      document.head.appendChild(element);\n    }\n    for (const name in js_exports) {\n      var url = js_exports[name];\n      if (skip.indexOf(url) >= 0 || root[name] != null) {\n\tif (!window.requirejs) {\n\t  on_load();\n\t}\n\tcontinue;\n      }\n      var element = document.createElement('script');\n      element.onerror = on_error;\n      element.async = false;\n      element.type = \"module\";\n      console.debug(\"Bokeh: injecting script tag for BokehJS library: \", url);\n      element.textContent = `\n      import ${name} from \"${url}\"\n      window.${name} = ${name}\n      window._bokeh_on_load()\n      `\n      document.head.appendChild(element);\n    }\n    if (!js_urls.length && !js_modules.length) {\n      on_load()\n    }\n  };\n\n  function inject_raw_css(css) {\n    const element = document.createElement(\"style\");\n    element.appendChild(document.createTextNode(css));\n    document.body.appendChild(element);\n  }\n\n  var js_urls = [\"https://cdn.bokeh.org/bokeh/release/bokeh-3.3.4.min.js\", \"https://cdn.bokeh.org/bokeh/release/bokeh-gl-3.3.4.min.js\", \"https://cdn.bokeh.org/bokeh/release/bokeh-widgets-3.3.4.min.js\", \"https://cdn.bokeh.org/bokeh/release/bokeh-tables-3.3.4.min.js\", \"https://cdn.holoviz.org/panel/1.3.8/dist/panel.min.js\"];\n  var js_modules = [];\n  var js_exports = {};\n  var css_urls = [];\n  var inline_js = [    function(Bokeh) {\n      Bokeh.set_log_level(\"info\");\n    },\nfunction(Bokeh) {} // ensure no trailing comma for IE\n  ];\n\n  function run_inline_js() {\n    if ((root.Bokeh !== undefined) || (force === true)) {\n      for (var i = 0; i < inline_js.length; i++) {\n\ttry {\n          inline_js[i].call(root, root.Bokeh);\n\t} catch(e) {\n\t  if (!reloading) {\n\t    throw e;\n\t  }\n\t}\n      }\n      // Cache old bokeh versions\n      if (Bokeh != undefined && !reloading) {\n\tvar NewBokeh = root.Bokeh;\n\tif (Bokeh.versions === undefined) {\n\t  Bokeh.versions = new Map();\n\t}\n\tif (NewBokeh.version !== Bokeh.version) {\n\t  Bokeh.versions.set(NewBokeh.version, NewBokeh)\n\t}\n\troot.Bokeh = Bokeh;\n      }} else if (Date.now() < root._bokeh_timeout) {\n      setTimeout(run_inline_js, 100);\n    } else if (!root._bokeh_failed_load) {\n      console.log(\"Bokeh: BokehJS failed to load within specified timeout.\");\n      root._bokeh_failed_load = true;\n    }\n    root._bokeh_is_initializing = false\n  }\n\n  function load_or_wait() {\n    // Implement a backoff loop that tries to ensure we do not load multiple\n    // versions of Bokeh and its dependencies at the same time.\n    // In recent versions we use the root._bokeh_is_initializing flag\n    // to determine whether there is an ongoing attempt to initialize\n    // bokeh, however for backward compatibility we also try to ensure\n    // that we do not start loading a newer (Panel>=1.0 and Bokeh>3) version\n    // before older versions are fully initialized.\n    if (root._bokeh_is_initializing && Date.now() > root._bokeh_timeout) {\n      root._bokeh_is_initializing = false;\n      root._bokeh_onload_callbacks = undefined;\n      console.log(\"Bokeh: BokehJS was loaded multiple times but one version failed to initialize.\");\n      load_or_wait();\n    } else if (root._bokeh_is_initializing || (typeof root._bokeh_is_initializing === \"undefined\" && root._bokeh_onload_callbacks !== undefined)) {\n      setTimeout(load_or_wait, 100);\n    } else {\n      root._bokeh_is_initializing = true\n      root._bokeh_onload_callbacks = []\n      var bokeh_loaded = Bokeh != null && (Bokeh.version === py_version || (Bokeh.versions !== undefined && Bokeh.versions.has(py_version)));\n      if (!reloading && !bokeh_loaded) {\n\troot.Bokeh = undefined;\n      }\n      load_libs(css_urls, js_urls, js_modules, js_exports, function() {\n\tconsole.debug(\"Bokeh: BokehJS plotting callback run at\", now());\n\trun_inline_js();\n      });\n    }\n  }\n  // Give older versions of the autoload script a head-start to ensure\n  // they initialize before we start loading newer version.\n  setTimeout(load_or_wait, 100)\n}(window));"
     },
     "metadata": {},
     "output_type": "display_data"
    },
    {
     "data": {
      "application/javascript": [
       "\n",
       "if ((window.PyViz === undefined) || (window.PyViz instanceof HTMLElement)) {\n",
       "  window.PyViz = {comms: {}, comm_status:{}, kernels:{}, receivers: {}, plot_index: []}\n",
       "}\n",
       "\n",
       "\n",
       "    function JupyterCommManager() {\n",
       "    }\n",
       "\n",
       "    JupyterCommManager.prototype.register_target = function(plot_id, comm_id, msg_handler) {\n",
       "      if (window.comm_manager || ((window.Jupyter !== undefined) && (Jupyter.notebook.kernel != null))) {\n",
       "        var comm_manager = window.comm_manager || Jupyter.notebook.kernel.comm_manager;\n",
       "        comm_manager.register_target(comm_id, function(comm) {\n",
       "          comm.on_msg(msg_handler);\n",
       "        });\n",
       "      } else if ((plot_id in window.PyViz.kernels) && (window.PyViz.kernels[plot_id])) {\n",
       "        window.PyViz.kernels[plot_id].registerCommTarget(comm_id, function(comm) {\n",
       "          comm.onMsg = msg_handler;\n",
       "        });\n",
       "      } else if (typeof google != 'undefined' && google.colab.kernel != null) {\n",
       "        google.colab.kernel.comms.registerTarget(comm_id, (comm) => {\n",
       "          var messages = comm.messages[Symbol.asyncIterator]();\n",
       "          function processIteratorResult(result) {\n",
       "            var message = result.value;\n",
       "            console.log(message)\n",
       "            var content = {data: message.data, comm_id};\n",
       "            var buffers = []\n",
       "            for (var buffer of message.buffers || []) {\n",
       "              buffers.push(new DataView(buffer))\n",
       "            }\n",
       "            var metadata = message.metadata || {};\n",
       "            var msg = {content, buffers, metadata}\n",
       "            msg_handler(msg);\n",
       "            return messages.next().then(processIteratorResult);\n",
       "          }\n",
       "          return messages.next().then(processIteratorResult);\n",
       "        })\n",
       "      }\n",
       "    }\n",
       "\n",
       "    JupyterCommManager.prototype.get_client_comm = function(plot_id, comm_id, msg_handler) {\n",
       "      if (comm_id in window.PyViz.comms) {\n",
       "        return window.PyViz.comms[comm_id];\n",
       "      } else if (window.comm_manager || ((window.Jupyter !== undefined) && (Jupyter.notebook.kernel != null))) {\n",
       "        var comm_manager = window.comm_manager || Jupyter.notebook.kernel.comm_manager;\n",
       "        var comm = comm_manager.new_comm(comm_id, {}, {}, {}, comm_id);\n",
       "        if (msg_handler) {\n",
       "          comm.on_msg(msg_handler);\n",
       "        }\n",
       "      } else if ((plot_id in window.PyViz.kernels) && (window.PyViz.kernels[plot_id])) {\n",
       "        var comm = window.PyViz.kernels[plot_id].connectToComm(comm_id);\n",
       "        comm.open();\n",
       "        if (msg_handler) {\n",
       "          comm.onMsg = msg_handler;\n",
       "        }\n",
       "      } else if (typeof google != 'undefined' && google.colab.kernel != null) {\n",
       "        var comm_promise = google.colab.kernel.comms.open(comm_id)\n",
       "        comm_promise.then((comm) => {\n",
       "          window.PyViz.comms[comm_id] = comm;\n",
       "          if (msg_handler) {\n",
       "            var messages = comm.messages[Symbol.asyncIterator]();\n",
       "            function processIteratorResult(result) {\n",
       "              var message = result.value;\n",
       "              var content = {data: message.data};\n",
       "              var metadata = message.metadata || {comm_id};\n",
       "              var msg = {content, metadata}\n",
       "              msg_handler(msg);\n",
       "              return messages.next().then(processIteratorResult);\n",
       "            }\n",
       "            return messages.next().then(processIteratorResult);\n",
       "          }\n",
       "        }) \n",
       "        var sendClosure = (data, metadata, buffers, disposeOnDone) => {\n",
       "          return comm_promise.then((comm) => {\n",
       "            comm.send(data, metadata, buffers, disposeOnDone);\n",
       "          });\n",
       "        };\n",
       "        var comm = {\n",
       "          send: sendClosure\n",
       "        };\n",
       "      }\n",
       "      window.PyViz.comms[comm_id] = comm;\n",
       "      return comm;\n",
       "    }\n",
       "    window.PyViz.comm_manager = new JupyterCommManager();\n",
       "    \n",
       "\n",
       "\n",
       "var JS_MIME_TYPE = 'application/javascript';\n",
       "var HTML_MIME_TYPE = 'text/html';\n",
       "var EXEC_MIME_TYPE = 'application/vnd.holoviews_exec.v0+json';\n",
       "var CLASS_NAME = 'output';\n",
       "\n",
       "/**\n",
       " * Render data to the DOM node\n",
       " */\n",
       "function render(props, node) {\n",
       "  var div = document.createElement(\"div\");\n",
       "  var script = document.createElement(\"script\");\n",
       "  node.appendChild(div);\n",
       "  node.appendChild(script);\n",
       "}\n",
       "\n",
       "/**\n",
       " * Handle when a new output is added\n",
       " */\n",
       "function handle_add_output(event, handle) {\n",
       "  var output_area = handle.output_area;\n",
       "  var output = handle.output;\n",
       "  if ((output.data == undefined) || (!output.data.hasOwnProperty(EXEC_MIME_TYPE))) {\n",
       "    return\n",
       "  }\n",
       "  var id = output.metadata[EXEC_MIME_TYPE][\"id\"];\n",
       "  var toinsert = output_area.element.find(\".\" + CLASS_NAME.split(' ')[0]);\n",
       "  if (id !== undefined) {\n",
       "    var nchildren = toinsert.length;\n",
       "    var html_node = toinsert[nchildren-1].children[0];\n",
       "    html_node.innerHTML = output.data[HTML_MIME_TYPE];\n",
       "    var scripts = [];\n",
       "    var nodelist = html_node.querySelectorAll(\"script\");\n",
       "    for (var i in nodelist) {\n",
       "      if (nodelist.hasOwnProperty(i)) {\n",
       "        scripts.push(nodelist[i])\n",
       "      }\n",
       "    }\n",
       "\n",
       "    scripts.forEach( function (oldScript) {\n",
       "      var newScript = document.createElement(\"script\");\n",
       "      var attrs = [];\n",
       "      var nodemap = oldScript.attributes;\n",
       "      for (var j in nodemap) {\n",
       "        if (nodemap.hasOwnProperty(j)) {\n",
       "          attrs.push(nodemap[j])\n",
       "        }\n",
       "      }\n",
       "      attrs.forEach(function(attr) { newScript.setAttribute(attr.name, attr.value) });\n",
       "      newScript.appendChild(document.createTextNode(oldScript.innerHTML));\n",
       "      oldScript.parentNode.replaceChild(newScript, oldScript);\n",
       "    });\n",
       "    if (JS_MIME_TYPE in output.data) {\n",
       "      toinsert[nchildren-1].children[1].textContent = output.data[JS_MIME_TYPE];\n",
       "    }\n",
       "    output_area._hv_plot_id = id;\n",
       "    if ((window.Bokeh !== undefined) && (id in Bokeh.index)) {\n",
       "      window.PyViz.plot_index[id] = Bokeh.index[id];\n",
       "    } else {\n",
       "      window.PyViz.plot_index[id] = null;\n",
       "    }\n",
       "  } else if (output.metadata[EXEC_MIME_TYPE][\"server_id\"] !== undefined) {\n",
       "    var bk_div = document.createElement(\"div\");\n",
       "    bk_div.innerHTML = output.data[HTML_MIME_TYPE];\n",
       "    var script_attrs = bk_div.children[0].attributes;\n",
       "    for (var i = 0; i < script_attrs.length; i++) {\n",
       "      toinsert[toinsert.length - 1].childNodes[1].setAttribute(script_attrs[i].name, script_attrs[i].value);\n",
       "    }\n",
       "    // store reference to server id on output_area\n",
       "    output_area._bokeh_server_id = output.metadata[EXEC_MIME_TYPE][\"server_id\"];\n",
       "  }\n",
       "}\n",
       "\n",
       "/**\n",
       " * Handle when an output is cleared or removed\n",
       " */\n",
       "function handle_clear_output(event, handle) {\n",
       "  var id = handle.cell.output_area._hv_plot_id;\n",
       "  var server_id = handle.cell.output_area._bokeh_server_id;\n",
       "  if (((id === undefined) || !(id in PyViz.plot_index)) && (server_id !== undefined)) { return; }\n",
       "  var comm = window.PyViz.comm_manager.get_client_comm(\"hv-extension-comm\", \"hv-extension-comm\", function () {});\n",
       "  if (server_id !== null) {\n",
       "    comm.send({event_type: 'server_delete', 'id': server_id});\n",
       "    return;\n",
       "  } else if (comm !== null) {\n",
       "    comm.send({event_type: 'delete', 'id': id});\n",
       "  }\n",
       "  delete PyViz.plot_index[id];\n",
       "  if ((window.Bokeh !== undefined) & (id in window.Bokeh.index)) {\n",
       "    var doc = window.Bokeh.index[id].model.document\n",
       "    doc.clear();\n",
       "    const i = window.Bokeh.documents.indexOf(doc);\n",
       "    if (i > -1) {\n",
       "      window.Bokeh.documents.splice(i, 1);\n",
       "    }\n",
       "  }\n",
       "}\n",
       "\n",
       "/**\n",
       " * Handle kernel restart event\n",
       " */\n",
       "function handle_kernel_cleanup(event, handle) {\n",
       "  delete PyViz.comms[\"hv-extension-comm\"];\n",
       "  window.PyViz.plot_index = {}\n",
       "}\n",
       "\n",
       "/**\n",
       " * Handle update_display_data messages\n",
       " */\n",
       "function handle_update_output(event, handle) {\n",
       "  handle_clear_output(event, {cell: {output_area: handle.output_area}})\n",
       "  handle_add_output(event, handle)\n",
       "}\n",
       "\n",
       "function register_renderer(events, OutputArea) {\n",
       "  function append_mime(data, metadata, element) {\n",
       "    // create a DOM node to render to\n",
       "    var toinsert = this.create_output_subarea(\n",
       "    metadata,\n",
       "    CLASS_NAME,\n",
       "    EXEC_MIME_TYPE\n",
       "    );\n",
       "    this.keyboard_manager.register_events(toinsert);\n",
       "    // Render to node\n",
       "    var props = {data: data, metadata: metadata[EXEC_MIME_TYPE]};\n",
       "    render(props, toinsert[0]);\n",
       "    element.append(toinsert);\n",
       "    return toinsert\n",
       "  }\n",
       "\n",
       "  events.on('output_added.OutputArea', handle_add_output);\n",
       "  events.on('output_updated.OutputArea', handle_update_output);\n",
       "  events.on('clear_output.CodeCell', handle_clear_output);\n",
       "  events.on('delete.Cell', handle_clear_output);\n",
       "  events.on('kernel_ready.Kernel', handle_kernel_cleanup);\n",
       "\n",
       "  OutputArea.prototype.register_mime_type(EXEC_MIME_TYPE, append_mime, {\n",
       "    safe: true,\n",
       "    index: 0\n",
       "  });\n",
       "}\n",
       "\n",
       "if (window.Jupyter !== undefined) {\n",
       "  try {\n",
       "    var events = require('base/js/events');\n",
       "    var OutputArea = require('notebook/js/outputarea').OutputArea;\n",
       "    if (OutputArea.prototype.mime_types().indexOf(EXEC_MIME_TYPE) == -1) {\n",
       "      register_renderer(events, OutputArea);\n",
       "    }\n",
       "  } catch(err) {\n",
       "  }\n",
       "}\n"
      ],
      "application/vnd.holoviews_load.v0+json": "\nif ((window.PyViz === undefined) || (window.PyViz instanceof HTMLElement)) {\n  window.PyViz = {comms: {}, comm_status:{}, kernels:{}, receivers: {}, plot_index: []}\n}\n\n\n    function JupyterCommManager() {\n    }\n\n    JupyterCommManager.prototype.register_target = function(plot_id, comm_id, msg_handler) {\n      if (window.comm_manager || ((window.Jupyter !== undefined) && (Jupyter.notebook.kernel != null))) {\n        var comm_manager = window.comm_manager || Jupyter.notebook.kernel.comm_manager;\n        comm_manager.register_target(comm_id, function(comm) {\n          comm.on_msg(msg_handler);\n        });\n      } else if ((plot_id in window.PyViz.kernels) && (window.PyViz.kernels[plot_id])) {\n        window.PyViz.kernels[plot_id].registerCommTarget(comm_id, function(comm) {\n          comm.onMsg = msg_handler;\n        });\n      } else if (typeof google != 'undefined' && google.colab.kernel != null) {\n        google.colab.kernel.comms.registerTarget(comm_id, (comm) => {\n          var messages = comm.messages[Symbol.asyncIterator]();\n          function processIteratorResult(result) {\n            var message = result.value;\n            console.log(message)\n            var content = {data: message.data, comm_id};\n            var buffers = []\n            for (var buffer of message.buffers || []) {\n              buffers.push(new DataView(buffer))\n            }\n            var metadata = message.metadata || {};\n            var msg = {content, buffers, metadata}\n            msg_handler(msg);\n            return messages.next().then(processIteratorResult);\n          }\n          return messages.next().then(processIteratorResult);\n        })\n      }\n    }\n\n    JupyterCommManager.prototype.get_client_comm = function(plot_id, comm_id, msg_handler) {\n      if (comm_id in window.PyViz.comms) {\n        return window.PyViz.comms[comm_id];\n      } else if (window.comm_manager || ((window.Jupyter !== undefined) && (Jupyter.notebook.kernel != null))) {\n        var comm_manager = window.comm_manager || Jupyter.notebook.kernel.comm_manager;\n        var comm = comm_manager.new_comm(comm_id, {}, {}, {}, comm_id);\n        if (msg_handler) {\n          comm.on_msg(msg_handler);\n        }\n      } else if ((plot_id in window.PyViz.kernels) && (window.PyViz.kernels[plot_id])) {\n        var comm = window.PyViz.kernels[plot_id].connectToComm(comm_id);\n        comm.open();\n        if (msg_handler) {\n          comm.onMsg = msg_handler;\n        }\n      } else if (typeof google != 'undefined' && google.colab.kernel != null) {\n        var comm_promise = google.colab.kernel.comms.open(comm_id)\n        comm_promise.then((comm) => {\n          window.PyViz.comms[comm_id] = comm;\n          if (msg_handler) {\n            var messages = comm.messages[Symbol.asyncIterator]();\n            function processIteratorResult(result) {\n              var message = result.value;\n              var content = {data: message.data};\n              var metadata = message.metadata || {comm_id};\n              var msg = {content, metadata}\n              msg_handler(msg);\n              return messages.next().then(processIteratorResult);\n            }\n            return messages.next().then(processIteratorResult);\n          }\n        }) \n        var sendClosure = (data, metadata, buffers, disposeOnDone) => {\n          return comm_promise.then((comm) => {\n            comm.send(data, metadata, buffers, disposeOnDone);\n          });\n        };\n        var comm = {\n          send: sendClosure\n        };\n      }\n      window.PyViz.comms[comm_id] = comm;\n      return comm;\n    }\n    window.PyViz.comm_manager = new JupyterCommManager();\n    \n\n\nvar JS_MIME_TYPE = 'application/javascript';\nvar HTML_MIME_TYPE = 'text/html';\nvar EXEC_MIME_TYPE = 'application/vnd.holoviews_exec.v0+json';\nvar CLASS_NAME = 'output';\n\n/**\n * Render data to the DOM node\n */\nfunction render(props, node) {\n  var div = document.createElement(\"div\");\n  var script = document.createElement(\"script\");\n  node.appendChild(div);\n  node.appendChild(script);\n}\n\n/**\n * Handle when a new output is added\n */\nfunction handle_add_output(event, handle) {\n  var output_area = handle.output_area;\n  var output = handle.output;\n  if ((output.data == undefined) || (!output.data.hasOwnProperty(EXEC_MIME_TYPE))) {\n    return\n  }\n  var id = output.metadata[EXEC_MIME_TYPE][\"id\"];\n  var toinsert = output_area.element.find(\".\" + CLASS_NAME.split(' ')[0]);\n  if (id !== undefined) {\n    var nchildren = toinsert.length;\n    var html_node = toinsert[nchildren-1].children[0];\n    html_node.innerHTML = output.data[HTML_MIME_TYPE];\n    var scripts = [];\n    var nodelist = html_node.querySelectorAll(\"script\");\n    for (var i in nodelist) {\n      if (nodelist.hasOwnProperty(i)) {\n        scripts.push(nodelist[i])\n      }\n    }\n\n    scripts.forEach( function (oldScript) {\n      var newScript = document.createElement(\"script\");\n      var attrs = [];\n      var nodemap = oldScript.attributes;\n      for (var j in nodemap) {\n        if (nodemap.hasOwnProperty(j)) {\n          attrs.push(nodemap[j])\n        }\n      }\n      attrs.forEach(function(attr) { newScript.setAttribute(attr.name, attr.value) });\n      newScript.appendChild(document.createTextNode(oldScript.innerHTML));\n      oldScript.parentNode.replaceChild(newScript, oldScript);\n    });\n    if (JS_MIME_TYPE in output.data) {\n      toinsert[nchildren-1].children[1].textContent = output.data[JS_MIME_TYPE];\n    }\n    output_area._hv_plot_id = id;\n    if ((window.Bokeh !== undefined) && (id in Bokeh.index)) {\n      window.PyViz.plot_index[id] = Bokeh.index[id];\n    } else {\n      window.PyViz.plot_index[id] = null;\n    }\n  } else if (output.metadata[EXEC_MIME_TYPE][\"server_id\"] !== undefined) {\n    var bk_div = document.createElement(\"div\");\n    bk_div.innerHTML = output.data[HTML_MIME_TYPE];\n    var script_attrs = bk_div.children[0].attributes;\n    for (var i = 0; i < script_attrs.length; i++) {\n      toinsert[toinsert.length - 1].childNodes[1].setAttribute(script_attrs[i].name, script_attrs[i].value);\n    }\n    // store reference to server id on output_area\n    output_area._bokeh_server_id = output.metadata[EXEC_MIME_TYPE][\"server_id\"];\n  }\n}\n\n/**\n * Handle when an output is cleared or removed\n */\nfunction handle_clear_output(event, handle) {\n  var id = handle.cell.output_area._hv_plot_id;\n  var server_id = handle.cell.output_area._bokeh_server_id;\n  if (((id === undefined) || !(id in PyViz.plot_index)) && (server_id !== undefined)) { return; }\n  var comm = window.PyViz.comm_manager.get_client_comm(\"hv-extension-comm\", \"hv-extension-comm\", function () {});\n  if (server_id !== null) {\n    comm.send({event_type: 'server_delete', 'id': server_id});\n    return;\n  } else if (comm !== null) {\n    comm.send({event_type: 'delete', 'id': id});\n  }\n  delete PyViz.plot_index[id];\n  if ((window.Bokeh !== undefined) & (id in window.Bokeh.index)) {\n    var doc = window.Bokeh.index[id].model.document\n    doc.clear();\n    const i = window.Bokeh.documents.indexOf(doc);\n    if (i > -1) {\n      window.Bokeh.documents.splice(i, 1);\n    }\n  }\n}\n\n/**\n * Handle kernel restart event\n */\nfunction handle_kernel_cleanup(event, handle) {\n  delete PyViz.comms[\"hv-extension-comm\"];\n  window.PyViz.plot_index = {}\n}\n\n/**\n * Handle update_display_data messages\n */\nfunction handle_update_output(event, handle) {\n  handle_clear_output(event, {cell: {output_area: handle.output_area}})\n  handle_add_output(event, handle)\n}\n\nfunction register_renderer(events, OutputArea) {\n  function append_mime(data, metadata, element) {\n    // create a DOM node to render to\n    var toinsert = this.create_output_subarea(\n    metadata,\n    CLASS_NAME,\n    EXEC_MIME_TYPE\n    );\n    this.keyboard_manager.register_events(toinsert);\n    // Render to node\n    var props = {data: data, metadata: metadata[EXEC_MIME_TYPE]};\n    render(props, toinsert[0]);\n    element.append(toinsert);\n    return toinsert\n  }\n\n  events.on('output_added.OutputArea', handle_add_output);\n  events.on('output_updated.OutputArea', handle_update_output);\n  events.on('clear_output.CodeCell', handle_clear_output);\n  events.on('delete.Cell', handle_clear_output);\n  events.on('kernel_ready.Kernel', handle_kernel_cleanup);\n\n  OutputArea.prototype.register_mime_type(EXEC_MIME_TYPE, append_mime, {\n    safe: true,\n    index: 0\n  });\n}\n\nif (window.Jupyter !== undefined) {\n  try {\n    var events = require('base/js/events');\n    var OutputArea = require('notebook/js/outputarea').OutputArea;\n    if (OutputArea.prototype.mime_types().indexOf(EXEC_MIME_TYPE) == -1) {\n      register_renderer(events, OutputArea);\n    }\n  } catch(err) {\n  }\n}\n"
     },
     "metadata": {},
     "output_type": "display_data"
    },
    {
     "data": {
      "text/html": [
       "<style>*[data-root-id],\n",
       "*[data-root-id] > * {\n",
       "  box-sizing: border-box;\n",
       "  font-family: var(--jp-ui-font-family);\n",
       "  font-size: var(--jp-ui-font-size1);\n",
       "  color: var(--vscode-editor-foreground, var(--jp-ui-font-color1));\n",
       "}\n",
       "\n",
       "/* Override VSCode background color */\n",
       ".cell-output-ipywidget-background:has(\n",
       "    > .cell-output-ipywidget-background > .lm-Widget > *[data-root-id]\n",
       "  ),\n",
       ".cell-output-ipywidget-background:has(> .lm-Widget > *[data-root-id]) {\n",
       "  background-color: transparent !important;\n",
       "}\n",
       "</style>"
      ]
     },
     "metadata": {},
     "output_type": "display_data"
    },
    {
     "data": {
      "application/vnd.holoviews_exec.v0+json": "",
      "text/html": [
       "<div id='p1002'>\n",
       "  <div id=\"da631bae-fc75-4f76-8e7c-ad2338053d23\" data-root-id=\"p1002\" style=\"display: contents;\"></div>\n",
       "</div>\n",
       "<script type=\"application/javascript\">(function(root) {\n",
       "  var docs_json = {\"d5e4b3ab-844f-41dd-9e1e-f6ce11a51ca1\":{\"version\":\"3.3.4\",\"title\":\"Bokeh Application\",\"roots\":[{\"type\":\"object\",\"name\":\"panel.models.browser.BrowserInfo\",\"id\":\"p1002\"},{\"type\":\"object\",\"name\":\"panel.models.comm_manager.CommManager\",\"id\":\"p1003\",\"attributes\":{\"plot_id\":\"p1002\",\"comm_id\":\"f13de1db478342de87d73d78fc968704\",\"client_comm_id\":\"7fe85471015a49138581ccea4db96b17\"}}],\"defs\":[{\"type\":\"model\",\"name\":\"ReactiveHTML1\"},{\"type\":\"model\",\"name\":\"FlexBox1\",\"properties\":[{\"name\":\"align_content\",\"kind\":\"Any\",\"default\":\"flex-start\"},{\"name\":\"align_items\",\"kind\":\"Any\",\"default\":\"flex-start\"},{\"name\":\"flex_direction\",\"kind\":\"Any\",\"default\":\"row\"},{\"name\":\"flex_wrap\",\"kind\":\"Any\",\"default\":\"wrap\"},{\"name\":\"justify_content\",\"kind\":\"Any\",\"default\":\"flex-start\"}]},{\"type\":\"model\",\"name\":\"FloatPanel1\",\"properties\":[{\"name\":\"config\",\"kind\":\"Any\",\"default\":{\"type\":\"map\"}},{\"name\":\"contained\",\"kind\":\"Any\",\"default\":true},{\"name\":\"position\",\"kind\":\"Any\",\"default\":\"right-top\"},{\"name\":\"offsetx\",\"kind\":\"Any\",\"default\":null},{\"name\":\"offsety\",\"kind\":\"Any\",\"default\":null},{\"name\":\"theme\",\"kind\":\"Any\",\"default\":\"primary\"},{\"name\":\"status\",\"kind\":\"Any\",\"default\":\"normalized\"}]},{\"type\":\"model\",\"name\":\"GridStack1\",\"properties\":[{\"name\":\"mode\",\"kind\":\"Any\",\"default\":\"warn\"},{\"name\":\"ncols\",\"kind\":\"Any\",\"default\":null},{\"name\":\"nrows\",\"kind\":\"Any\",\"default\":null},{\"name\":\"allow_resize\",\"kind\":\"Any\",\"default\":true},{\"name\":\"allow_drag\",\"kind\":\"Any\",\"default\":true},{\"name\":\"state\",\"kind\":\"Any\",\"default\":[]}]},{\"type\":\"model\",\"name\":\"drag1\",\"properties\":[{\"name\":\"slider_width\",\"kind\":\"Any\",\"default\":5},{\"name\":\"slider_color\",\"kind\":\"Any\",\"default\":\"black\"},{\"name\":\"value\",\"kind\":\"Any\",\"default\":50}]},{\"type\":\"model\",\"name\":\"click1\",\"properties\":[{\"name\":\"terminal_output\",\"kind\":\"Any\",\"default\":\"\"},{\"name\":\"debug_name\",\"kind\":\"Any\",\"default\":\"\"},{\"name\":\"clears\",\"kind\":\"Any\",\"default\":0}]},{\"type\":\"model\",\"name\":\"copy_to_clipboard1\",\"properties\":[{\"name\":\"fill\",\"kind\":\"Any\",\"default\":\"none\"},{\"name\":\"value\",\"kind\":\"Any\",\"default\":null}]},{\"type\":\"model\",\"name\":\"FastWrapper1\",\"properties\":[{\"name\":\"object\",\"kind\":\"Any\",\"default\":null},{\"name\":\"style\",\"kind\":\"Any\",\"default\":null}]},{\"type\":\"model\",\"name\":\"NotificationAreaBase1\",\"properties\":[{\"name\":\"js_events\",\"kind\":\"Any\",\"default\":{\"type\":\"map\"}},{\"name\":\"position\",\"kind\":\"Any\",\"default\":\"bottom-right\"},{\"name\":\"_clear\",\"kind\":\"Any\",\"default\":0}]},{\"type\":\"model\",\"name\":\"NotificationArea1\",\"properties\":[{\"name\":\"js_events\",\"kind\":\"Any\",\"default\":{\"type\":\"map\"}},{\"name\":\"notifications\",\"kind\":\"Any\",\"default\":[]},{\"name\":\"position\",\"kind\":\"Any\",\"default\":\"bottom-right\"},{\"name\":\"_clear\",\"kind\":\"Any\",\"default\":0},{\"name\":\"types\",\"kind\":\"Any\",\"default\":[{\"type\":\"map\",\"entries\":[[\"type\",\"warning\"],[\"background\",\"#ffc107\"],[\"icon\",{\"type\":\"map\",\"entries\":[[\"className\",\"fas fa-exclamation-triangle\"],[\"tagName\",\"i\"],[\"color\",\"white\"]]}]]},{\"type\":\"map\",\"entries\":[[\"type\",\"info\"],[\"background\",\"#007bff\"],[\"icon\",{\"type\":\"map\",\"entries\":[[\"className\",\"fas fa-info-circle\"],[\"tagName\",\"i\"],[\"color\",\"white\"]]}]]}]}]},{\"type\":\"model\",\"name\":\"Notification\",\"properties\":[{\"name\":\"background\",\"kind\":\"Any\",\"default\":null},{\"name\":\"duration\",\"kind\":\"Any\",\"default\":3000},{\"name\":\"icon\",\"kind\":\"Any\",\"default\":null},{\"name\":\"message\",\"kind\":\"Any\",\"default\":\"\"},{\"name\":\"notification_type\",\"kind\":\"Any\",\"default\":null},{\"name\":\"_destroyed\",\"kind\":\"Any\",\"default\":false}]},{\"type\":\"model\",\"name\":\"TemplateActions1\",\"properties\":[{\"name\":\"open_modal\",\"kind\":\"Any\",\"default\":0},{\"name\":\"close_modal\",\"kind\":\"Any\",\"default\":0}]},{\"type\":\"model\",\"name\":\"BootstrapTemplateActions1\",\"properties\":[{\"name\":\"open_modal\",\"kind\":\"Any\",\"default\":0},{\"name\":\"close_modal\",\"kind\":\"Any\",\"default\":0}]},{\"type\":\"model\",\"name\":\"MaterialTemplateActions1\",\"properties\":[{\"name\":\"open_modal\",\"kind\":\"Any\",\"default\":0},{\"name\":\"close_modal\",\"kind\":\"Any\",\"default\":0}]}]}};\n",
       "  var render_items = [{\"docid\":\"d5e4b3ab-844f-41dd-9e1e-f6ce11a51ca1\",\"roots\":{\"p1002\":\"da631bae-fc75-4f76-8e7c-ad2338053d23\"},\"root_ids\":[\"p1002\"]}];\n",
       "  var docs = Object.values(docs_json)\n",
       "  if (!docs) {\n",
       "    return\n",
       "  }\n",
       "  const py_version = docs[0].version.replace('rc', '-rc.').replace('.dev', '-dev.')\n",
       "  function embed_document(root) {\n",
       "    var Bokeh = get_bokeh(root)\n",
       "    Bokeh.embed.embed_items_notebook(docs_json, render_items);\n",
       "    for (const render_item of render_items) {\n",
       "      for (const root_id of render_item.root_ids) {\n",
       "\tconst id_el = document.getElementById(root_id)\n",
       "\tif (id_el.children.length && (id_el.children[0].className === 'bk-root')) {\n",
       "\t  const root_el = id_el.children[0]\n",
       "\t  root_el.id = root_el.id + '-rendered'\n",
       "\t}\n",
       "      }\n",
       "    }\n",
       "  }\n",
       "  function get_bokeh(root) {\n",
       "    if (root.Bokeh === undefined) {\n",
       "      return null\n",
       "    } else if (root.Bokeh.version !== py_version) {\n",
       "      if (root.Bokeh.versions === undefined || !root.Bokeh.versions.has(py_version)) {\n",
       "\treturn null\n",
       "      }\n",
       "      return root.Bokeh.versions.get(py_version);\n",
       "    } else if (root.Bokeh.version === py_version) {\n",
       "      return root.Bokeh\n",
       "    }\n",
       "    return null\n",
       "  }\n",
       "  function is_loaded(root) {\n",
       "    var Bokeh = get_bokeh(root)\n",
       "    return (Bokeh != null && Bokeh.Panel !== undefined)\n",
       "  }\n",
       "  if (is_loaded(root)) {\n",
       "    embed_document(root);\n",
       "  } else {\n",
       "    var attempts = 0;\n",
       "    var timer = setInterval(function(root) {\n",
       "      if (is_loaded(root)) {\n",
       "        clearInterval(timer);\n",
       "        embed_document(root);\n",
       "      } else if (document.readyState == \"complete\") {\n",
       "        attempts++;\n",
       "        if (attempts > 200) {\n",
       "          clearInterval(timer);\n",
       "\t  var Bokeh = get_bokeh(root)\n",
       "\t  if (Bokeh == null || Bokeh.Panel == null) {\n",
       "            console.warn(\"Panel: ERROR: Unable to run Panel code because Bokeh or Panel library is missing\");\n",
       "\t  } else {\n",
       "\t    console.warn(\"Panel: WARNING: Attempting to render but not all required libraries could be resolved.\")\n",
       "\t    embed_document(root)\n",
       "\t  }\n",
       "        }\n",
       "      }\n",
       "    }, 25, root)\n",
       "  }\n",
       "})(window);</script>"
      ]
     },
     "metadata": {
      "application/vnd.holoviews_exec.v0+json": {
       "id": "p1002"
      }
     },
     "output_type": "display_data"
    },
    {
     "data": {},
     "metadata": {},
     "output_type": "display_data"
    },
    {
     "data": {
      "application/vnd.holoviews_exec.v0+json": "",
      "text/html": [
       "<div id='p1004'>\n",
       "  <div id=\"f6c7ac26-a5cb-46e1-9d6d-09c158e9d279\" data-root-id=\"p1004\" style=\"display: contents;\"></div>\n",
       "</div>\n",
       "<script type=\"application/javascript\">(function(root) {\n",
       "  var docs_json = {\"1b6e739a-6ca0-4861-952c-82a1e1c581dd\":{\"version\":\"3.3.4\",\"title\":\"Bokeh Application\",\"roots\":[{\"type\":\"object\",\"name\":\"Row\",\"id\":\"p1004\",\"attributes\":{\"name\":\"Row00937\",\"tags\":[\"embedded\"],\"stylesheets\":[\"\\n:host(.pn-loading.pn-arc):before, .pn-loading.pn-arc:before {\\n  background-image: url(\\\"data:image/svg+xml;base64,PHN2ZyB4bWxucz0iaHR0cDovL3d3dy53My5vcmcvMjAwMC9zdmciIHN0eWxlPSJtYXJnaW46IGF1dG87IGJhY2tncm91bmQ6IG5vbmU7IGRpc3BsYXk6IGJsb2NrOyBzaGFwZS1yZW5kZXJpbmc6IGF1dG87IiB2aWV3Qm94PSIwIDAgMTAwIDEwMCIgcHJlc2VydmVBc3BlY3RSYXRpbz0ieE1pZFlNaWQiPiAgPGNpcmNsZSBjeD0iNTAiIGN5PSI1MCIgZmlsbD0ibm9uZSIgc3Ryb2tlPSIjYzNjM2MzIiBzdHJva2Utd2lkdGg9IjEwIiByPSIzNSIgc3Ryb2tlLWRhc2hhcnJheT0iMTY0LjkzMzYxNDMxMzQ2NDE1IDU2Ljk3Nzg3MTQzNzgyMTM4Ij4gICAgPGFuaW1hdGVUcmFuc2Zvcm0gYXR0cmlidXRlTmFtZT0idHJhbnNmb3JtIiB0eXBlPSJyb3RhdGUiIHJlcGVhdENvdW50PSJpbmRlZmluaXRlIiBkdXI9IjFzIiB2YWx1ZXM9IjAgNTAgNTA7MzYwIDUwIDUwIiBrZXlUaW1lcz0iMDsxIj48L2FuaW1hdGVUcmFuc2Zvcm0+ICA8L2NpcmNsZT48L3N2Zz4=\\\");\\n  background-size: auto calc(min(50%, 400px));\\n}\",{\"type\":\"object\",\"name\":\"ImportedStyleSheet\",\"id\":\"p1007\",\"attributes\":{\"url\":\"https://cdn.holoviz.org/panel/1.3.8/dist/css/loading.css\"}},{\"type\":\"object\",\"name\":\"ImportedStyleSheet\",\"id\":\"p1063\",\"attributes\":{\"url\":\"https://cdn.holoviz.org/panel/1.3.8/dist/css/listpanel.css\"}},{\"type\":\"object\",\"name\":\"ImportedStyleSheet\",\"id\":\"p1005\",\"attributes\":{\"url\":\"https://cdn.holoviz.org/panel/1.3.8/dist/bundled/theme/default.css\"}},{\"type\":\"object\",\"name\":\"ImportedStyleSheet\",\"id\":\"p1006\",\"attributes\":{\"url\":\"https://cdn.holoviz.org/panel/1.3.8/dist/bundled/theme/native.css\"}}],\"min_width\":700,\"margin\":0,\"sizing_mode\":\"stretch_width\",\"align\":\"start\",\"children\":[{\"type\":\"object\",\"name\":\"Spacer\",\"id\":\"p1008\",\"attributes\":{\"name\":\"HSpacer00944\",\"stylesheets\":[\"\\n:host(.pn-loading.pn-arc):before, .pn-loading.pn-arc:before {\\n  background-image: url(\\\"data:image/svg+xml;base64,PHN2ZyB4bWxucz0iaHR0cDovL3d3dy53My5vcmcvMjAwMC9zdmciIHN0eWxlPSJtYXJnaW46IGF1dG87IGJhY2tncm91bmQ6IG5vbmU7IGRpc3BsYXk6IGJsb2NrOyBzaGFwZS1yZW5kZXJpbmc6IGF1dG87IiB2aWV3Qm94PSIwIDAgMTAwIDEwMCIgcHJlc2VydmVBc3BlY3RSYXRpbz0ieE1pZFlNaWQiPiAgPGNpcmNsZSBjeD0iNTAiIGN5PSI1MCIgZmlsbD0ibm9uZSIgc3Ryb2tlPSIjYzNjM2MzIiBzdHJva2Utd2lkdGg9IjEwIiByPSIzNSIgc3Ryb2tlLWRhc2hhcnJheT0iMTY0LjkzMzYxNDMxMzQ2NDE1IDU2Ljk3Nzg3MTQzNzgyMTM4Ij4gICAgPGFuaW1hdGVUcmFuc2Zvcm0gYXR0cmlidXRlTmFtZT0idHJhbnNmb3JtIiB0eXBlPSJyb3RhdGUiIHJlcGVhdENvdW50PSJpbmRlZmluaXRlIiBkdXI9IjFzIiB2YWx1ZXM9IjAgNTAgNTA7MzYwIDUwIDUwIiBrZXlUaW1lcz0iMDsxIj48L2FuaW1hdGVUcmFuc2Zvcm0+ICA8L2NpcmNsZT48L3N2Zz4=\\\");\\n  background-size: auto calc(min(50%, 400px));\\n}\",{\"id\":\"p1007\"},{\"id\":\"p1005\"},{\"id\":\"p1006\"}],\"margin\":0,\"sizing_mode\":\"stretch_width\",\"align\":\"start\"}},{\"type\":\"object\",\"name\":\"Figure\",\"id\":\"p1016\",\"attributes\":{\"width\":700,\"height\":300,\"margin\":[5,10],\"sizing_mode\":\"fixed\",\"align\":\"start\",\"x_range\":{\"type\":\"object\",\"name\":\"Range1d\",\"id\":\"p1009\",\"attributes\":{\"tags\":[[[\"comp_dol\",\"comp_dol\",null]],[]],\"start\":-8.221868790681741,\"end\":200.06851147653305,\"reset_start\":-8.221868790681741,\"reset_end\":200.06851147653305}},\"y_range\":{\"type\":\"object\",\"name\":\"Range1d\",\"id\":\"p1010\",\"attributes\":{\"tags\":[[[\"comp_dol_count\",\"Count\",null]],{\"type\":\"map\",\"entries\":[[\"invert_yaxis\",false],[\"autorange\",false]]}],\"end\":1176.7,\"reset_start\":0.0,\"reset_end\":1176.7}},\"x_scale\":{\"type\":\"object\",\"name\":\"LinearScale\",\"id\":\"p1026\"},\"y_scale\":{\"type\":\"object\",\"name\":\"LinearScale\",\"id\":\"p1027\"},\"title\":{\"type\":\"object\",\"name\":\"Title\",\"id\":\"p1019\",\"attributes\":{\"text_color\":\"black\",\"text_font_size\":\"12pt\"}},\"renderers\":[{\"type\":\"object\",\"name\":\"GlyphRenderer\",\"id\":\"p1056\",\"attributes\":{\"data_source\":{\"type\":\"object\",\"name\":\"ColumnDataSource\",\"id\":\"p1047\",\"attributes\":{\"selected\":{\"type\":\"object\",\"name\":\"Selection\",\"id\":\"p1048\",\"attributes\":{\"indices\":[],\"line_indices\":[]}},\"selection_policy\":{\"type\":\"object\",\"name\":\"UnionRenderers\",\"id\":\"p1049\"},\"data\":{\"type\":\"map\",\"entries\":[[\"top\",{\"type\":\"ndarray\",\"array\":{\"type\":\"bytes\",\"data\":\"LgQAAPACAAC0AQAA/AAAAGkAAABKAAAAIwAAABsAAAAPAAAAEQAAACEAAAAHAAAACgAAAAYAAAAEAAAAEAAAAAYAAAADAAAABgAAAAMAAAA=\"},\"shape\":[20],\"dtype\":\"int32\",\"order\":\"little\"}],[\"left\",{\"type\":\"ndarray\",\"array\":{\"type\":\"bytes\",\"data\":\"BA1eWqBuHz/4q01NVC8jQGGVpXFMLzNAxlSkvO7GPEAVitGDSC9DQMfpUKkZ+0dAeknQzurGTECW1Cf6XclQQG+E54xGL1NASDSnHy+VVUAh5GayF/tXQPqTJkUAYVpA1EPm1+jGXECt86Vq0SxfQMPRsv5cyWBAr6kSSFH8YUCcgXKRRS9jQIlZ0to5YmRAdTEyJC6VZUBiCZJtIshmQA==\"},\"shape\":[20],\"dtype\":\"float64\",\"order\":\"little\"}],[\"right\",{\"type\":\"ndarray\",\"array\":{\"type\":\"bytes\",\"data\":\"+KtNTVQvI0BhlaVxTC8zQMZUpLzuxjxAFYrRg0gvQ0DH6VCpGftHQHpJ0M7qxkxAltQn+l3JUEBvhOeMRi9TQEg0px8vlVVAIeRmshf7V0D6kyZFAGFaQNRD5tfoxlxArfOlatEsX0DD0bL+XMlgQK+pEkhR/GFAnIFykUUvY0CJWdLaOWJkQHUxMiQulWVAYgmSbSLIZkBO4fG2FvtnQA==\"},\"shape\":[20],\"dtype\":\"float64\",\"order\":\"little\"}],[\"comp_dol\",{\"type\":\"ndarray\",\"array\":{\"type\":\"bytes\",\"data\":\"J9mdBGQvE0Bda0yY9sYsQBT1JJcd+zdAPNoR8V/JQEDuOZEWMZVFQKCZEDwCYUpAU/mPYdMsT0CCrIdDUvxRQFxcR9Y6YlRANAwHaSPIVkAOvMb7Cy5ZQOdrho70k1tAwBtGId35XUDN5QLa4i9gQLm9YiPXYmFAppXCbMuVYkCSbSK2v8hjQH9Fgv+z+2RAbB3iSKguZkBY9UGSnGFnQA==\"},\"shape\":[20],\"dtype\":\"float64\",\"order\":\"little\"}],[\"comp_dol_count\",{\"type\":\"ndarray\",\"array\":{\"type\":\"bytes\",\"data\":\"LgQAAPACAAC0AQAA/AAAAGkAAABKAAAAIwAAABsAAAAPAAAAEQAAACEAAAAHAAAACgAAAAYAAAAEAAAAEAAAAAYAAAADAAAABgAAAAMAAAA=\"},\"shape\":[20],\"dtype\":\"int32\",\"order\":\"little\"}]]}}},\"view\":{\"type\":\"object\",\"name\":\"CDSView\",\"id\":\"p1057\",\"attributes\":{\"filter\":{\"type\":\"object\",\"name\":\"AllIndices\",\"id\":\"p1058\"}}},\"glyph\":{\"type\":\"object\",\"name\":\"Quad\",\"id\":\"p1053\",\"attributes\":{\"tags\":[\"apply_ranges\"],\"left\":{\"type\":\"field\",\"field\":\"left\"},\"right\":{\"type\":\"field\",\"field\":\"right\"},\"bottom\":{\"type\":\"value\",\"value\":0},\"top\":{\"type\":\"field\",\"field\":\"top\"},\"fill_color\":{\"type\":\"value\",\"value\":\"#30a2da\"},\"hatch_color\":{\"type\":\"value\",\"value\":\"#30a2da\"}}},\"selection_glyph\":{\"type\":\"object\",\"name\":\"Quad\",\"id\":\"p1059\",\"attributes\":{\"tags\":[\"apply_ranges\"],\"left\":{\"type\":\"field\",\"field\":\"left\"},\"right\":{\"type\":\"field\",\"field\":\"right\"},\"bottom\":{\"type\":\"value\",\"value\":0},\"top\":{\"type\":\"field\",\"field\":\"top\"},\"line_color\":{\"type\":\"value\",\"value\":\"black\"},\"line_alpha\":{\"type\":\"value\",\"value\":1.0},\"line_width\":{\"type\":\"value\",\"value\":1},\"line_join\":{\"type\":\"value\",\"value\":\"bevel\"},\"line_cap\":{\"type\":\"value\",\"value\":\"butt\"},\"line_dash\":{\"type\":\"value\",\"value\":[]},\"line_dash_offset\":{\"type\":\"value\",\"value\":0},\"fill_color\":{\"type\":\"value\",\"value\":\"#30a2da\"},\"fill_alpha\":{\"type\":\"value\",\"value\":1.0},\"hatch_color\":{\"type\":\"value\",\"value\":\"#30a2da\"},\"hatch_alpha\":{\"type\":\"value\",\"value\":1.0},\"hatch_scale\":{\"type\":\"value\",\"value\":12.0},\"hatch_pattern\":{\"type\":\"value\",\"value\":null},\"hatch_weight\":{\"type\":\"value\",\"value\":1.0}}},\"nonselection_glyph\":{\"type\":\"object\",\"name\":\"Quad\",\"id\":\"p1054\",\"attributes\":{\"tags\":[\"apply_ranges\"],\"left\":{\"type\":\"field\",\"field\":\"left\"},\"right\":{\"type\":\"field\",\"field\":\"right\"},\"bottom\":{\"type\":\"value\",\"value\":0},\"top\":{\"type\":\"field\",\"field\":\"top\"},\"line_alpha\":{\"type\":\"value\",\"value\":0.1},\"fill_color\":{\"type\":\"value\",\"value\":\"#30a2da\"},\"fill_alpha\":{\"type\":\"value\",\"value\":0.1},\"hatch_color\":{\"type\":\"value\",\"value\":\"#30a2da\"},\"hatch_alpha\":{\"type\":\"value\",\"value\":0.1}}},\"muted_glyph\":{\"type\":\"object\",\"name\":\"Quad\",\"id\":\"p1055\",\"attributes\":{\"tags\":[\"apply_ranges\"],\"left\":{\"type\":\"field\",\"field\":\"left\"},\"right\":{\"type\":\"field\",\"field\":\"right\"},\"bottom\":{\"type\":\"value\",\"value\":0},\"top\":{\"type\":\"field\",\"field\":\"top\"},\"line_alpha\":{\"type\":\"value\",\"value\":0.2},\"fill_color\":{\"type\":\"value\",\"value\":\"#30a2da\"},\"fill_alpha\":{\"type\":\"value\",\"value\":0.2},\"hatch_color\":{\"type\":\"value\",\"value\":\"#30a2da\"},\"hatch_alpha\":{\"type\":\"value\",\"value\":0.2}}}}}],\"toolbar\":{\"type\":\"object\",\"name\":\"Toolbar\",\"id\":\"p1025\",\"attributes\":{\"tools\":[{\"type\":\"object\",\"name\":\"WheelZoomTool\",\"id\":\"p1014\",\"attributes\":{\"tags\":[\"hv_created\"],\"renderers\":\"auto\",\"zoom_together\":\"none\"}},{\"type\":\"object\",\"name\":\"HoverTool\",\"id\":\"p1015\",\"attributes\":{\"tags\":[\"hv_created\"],\"renderers\":[{\"id\":\"p1056\"}],\"tooltips\":[[\"comp_dol\",\"@{comp_dol}\"],[\"Count\",\"@{comp_dol_count}\"]]}},{\"type\":\"object\",\"name\":\"SaveTool\",\"id\":\"p1038\"},{\"type\":\"object\",\"name\":\"PanTool\",\"id\":\"p1039\"},{\"type\":\"object\",\"name\":\"BoxZoomTool\",\"id\":\"p1040\",\"attributes\":{\"overlay\":{\"type\":\"object\",\"name\":\"BoxAnnotation\",\"id\":\"p1041\",\"attributes\":{\"syncable\":false,\"level\":\"overlay\",\"visible\":false,\"left\":{\"type\":\"number\",\"value\":\"nan\"},\"right\":{\"type\":\"number\",\"value\":\"nan\"},\"top\":{\"type\":\"number\",\"value\":\"nan\"},\"bottom\":{\"type\":\"number\",\"value\":\"nan\"},\"left_units\":\"canvas\",\"right_units\":\"canvas\",\"top_units\":\"canvas\",\"bottom_units\":\"canvas\",\"line_color\":\"black\",\"line_alpha\":1.0,\"line_width\":2,\"line_dash\":[4,4],\"fill_color\":\"lightgrey\",\"fill_alpha\":0.5}}}},{\"type\":\"object\",\"name\":\"ResetTool\",\"id\":\"p1046\"}],\"active_drag\":{\"id\":\"p1039\"},\"active_scroll\":{\"id\":\"p1014\"}}},\"left\":[{\"type\":\"object\",\"name\":\"LinearAxis\",\"id\":\"p1033\",\"attributes\":{\"ticker\":{\"type\":\"object\",\"name\":\"BasicTicker\",\"id\":\"p1034\",\"attributes\":{\"mantissas\":[1,2,5]}},\"formatter\":{\"type\":\"object\",\"name\":\"BasicTickFormatter\",\"id\":\"p1035\"},\"axis_label\":\"\",\"major_label_policy\":{\"type\":\"object\",\"name\":\"AllLabels\",\"id\":\"p1036\"}}}],\"below\":[{\"type\":\"object\",\"name\":\"LinearAxis\",\"id\":\"p1028\",\"attributes\":{\"ticker\":{\"type\":\"object\",\"name\":\"BasicTicker\",\"id\":\"p1029\",\"attributes\":{\"mantissas\":[1,2,5]}},\"formatter\":{\"type\":\"object\",\"name\":\"BasicTickFormatter\",\"id\":\"p1030\"},\"axis_label\":\"comp_dol\",\"major_label_policy\":{\"type\":\"object\",\"name\":\"AllLabels\",\"id\":\"p1031\"}}}],\"center\":[{\"type\":\"object\",\"name\":\"Grid\",\"id\":\"p1032\",\"attributes\":{\"axis\":{\"id\":\"p1028\"},\"grid_line_color\":null}},{\"type\":\"object\",\"name\":\"Grid\",\"id\":\"p1037\",\"attributes\":{\"dimension\":1,\"axis\":{\"id\":\"p1033\"},\"grid_line_color\":null}}],\"min_border_top\":10,\"min_border_bottom\":10,\"min_border_left\":10,\"min_border_right\":10,\"output_backend\":\"webgl\"}},{\"type\":\"object\",\"name\":\"Spacer\",\"id\":\"p1061\",\"attributes\":{\"name\":\"HSpacer00945\",\"stylesheets\":[\"\\n:host(.pn-loading.pn-arc):before, .pn-loading.pn-arc:before {\\n  background-image: url(\\\"data:image/svg+xml;base64,PHN2ZyB4bWxucz0iaHR0cDovL3d3dy53My5vcmcvMjAwMC9zdmciIHN0eWxlPSJtYXJnaW46IGF1dG87IGJhY2tncm91bmQ6IG5vbmU7IGRpc3BsYXk6IGJsb2NrOyBzaGFwZS1yZW5kZXJpbmc6IGF1dG87IiB2aWV3Qm94PSIwIDAgMTAwIDEwMCIgcHJlc2VydmVBc3BlY3RSYXRpbz0ieE1pZFlNaWQiPiAgPGNpcmNsZSBjeD0iNTAiIGN5PSI1MCIgZmlsbD0ibm9uZSIgc3Ryb2tlPSIjYzNjM2MzIiBzdHJva2Utd2lkdGg9IjEwIiByPSIzNSIgc3Ryb2tlLWRhc2hhcnJheT0iMTY0LjkzMzYxNDMxMzQ2NDE1IDU2Ljk3Nzg3MTQzNzgyMTM4Ij4gICAgPGFuaW1hdGVUcmFuc2Zvcm0gYXR0cmlidXRlTmFtZT0idHJhbnNmb3JtIiB0eXBlPSJyb3RhdGUiIHJlcGVhdENvdW50PSJpbmRlZmluaXRlIiBkdXI9IjFzIiB2YWx1ZXM9IjAgNTAgNTA7MzYwIDUwIDUwIiBrZXlUaW1lcz0iMDsxIj48L2FuaW1hdGVUcmFuc2Zvcm0+ICA8L2NpcmNsZT48L3N2Zz4=\\\");\\n  background-size: auto calc(min(50%, 400px));\\n}\",{\"id\":\"p1007\"},{\"id\":\"p1005\"},{\"id\":\"p1006\"}],\"margin\":0,\"sizing_mode\":\"stretch_width\",\"align\":\"start\"}}]}}],\"defs\":[{\"type\":\"model\",\"name\":\"ReactiveHTML1\"},{\"type\":\"model\",\"name\":\"FlexBox1\",\"properties\":[{\"name\":\"align_content\",\"kind\":\"Any\",\"default\":\"flex-start\"},{\"name\":\"align_items\",\"kind\":\"Any\",\"default\":\"flex-start\"},{\"name\":\"flex_direction\",\"kind\":\"Any\",\"default\":\"row\"},{\"name\":\"flex_wrap\",\"kind\":\"Any\",\"default\":\"wrap\"},{\"name\":\"justify_content\",\"kind\":\"Any\",\"default\":\"flex-start\"}]},{\"type\":\"model\",\"name\":\"FloatPanel1\",\"properties\":[{\"name\":\"config\",\"kind\":\"Any\",\"default\":{\"type\":\"map\"}},{\"name\":\"contained\",\"kind\":\"Any\",\"default\":true},{\"name\":\"position\",\"kind\":\"Any\",\"default\":\"right-top\"},{\"name\":\"offsetx\",\"kind\":\"Any\",\"default\":null},{\"name\":\"offsety\",\"kind\":\"Any\",\"default\":null},{\"name\":\"theme\",\"kind\":\"Any\",\"default\":\"primary\"},{\"name\":\"status\",\"kind\":\"Any\",\"default\":\"normalized\"}]},{\"type\":\"model\",\"name\":\"GridStack1\",\"properties\":[{\"name\":\"mode\",\"kind\":\"Any\",\"default\":\"warn\"},{\"name\":\"ncols\",\"kind\":\"Any\",\"default\":null},{\"name\":\"nrows\",\"kind\":\"Any\",\"default\":null},{\"name\":\"allow_resize\",\"kind\":\"Any\",\"default\":true},{\"name\":\"allow_drag\",\"kind\":\"Any\",\"default\":true},{\"name\":\"state\",\"kind\":\"Any\",\"default\":[]}]},{\"type\":\"model\",\"name\":\"drag1\",\"properties\":[{\"name\":\"slider_width\",\"kind\":\"Any\",\"default\":5},{\"name\":\"slider_color\",\"kind\":\"Any\",\"default\":\"black\"},{\"name\":\"value\",\"kind\":\"Any\",\"default\":50}]},{\"type\":\"model\",\"name\":\"click1\",\"properties\":[{\"name\":\"terminal_output\",\"kind\":\"Any\",\"default\":\"\"},{\"name\":\"debug_name\",\"kind\":\"Any\",\"default\":\"\"},{\"name\":\"clears\",\"kind\":\"Any\",\"default\":0}]},{\"type\":\"model\",\"name\":\"copy_to_clipboard1\",\"properties\":[{\"name\":\"fill\",\"kind\":\"Any\",\"default\":\"none\"},{\"name\":\"value\",\"kind\":\"Any\",\"default\":null}]},{\"type\":\"model\",\"name\":\"FastWrapper1\",\"properties\":[{\"name\":\"object\",\"kind\":\"Any\",\"default\":null},{\"name\":\"style\",\"kind\":\"Any\",\"default\":null}]},{\"type\":\"model\",\"name\":\"NotificationAreaBase1\",\"properties\":[{\"name\":\"js_events\",\"kind\":\"Any\",\"default\":{\"type\":\"map\"}},{\"name\":\"position\",\"kind\":\"Any\",\"default\":\"bottom-right\"},{\"name\":\"_clear\",\"kind\":\"Any\",\"default\":0}]},{\"type\":\"model\",\"name\":\"NotificationArea1\",\"properties\":[{\"name\":\"js_events\",\"kind\":\"Any\",\"default\":{\"type\":\"map\"}},{\"name\":\"notifications\",\"kind\":\"Any\",\"default\":[]},{\"name\":\"position\",\"kind\":\"Any\",\"default\":\"bottom-right\"},{\"name\":\"_clear\",\"kind\":\"Any\",\"default\":0},{\"name\":\"types\",\"kind\":\"Any\",\"default\":[{\"type\":\"map\",\"entries\":[[\"type\",\"warning\"],[\"background\",\"#ffc107\"],[\"icon\",{\"type\":\"map\",\"entries\":[[\"className\",\"fas fa-exclamation-triangle\"],[\"tagName\",\"i\"],[\"color\",\"white\"]]}]]},{\"type\":\"map\",\"entries\":[[\"type\",\"info\"],[\"background\",\"#007bff\"],[\"icon\",{\"type\":\"map\",\"entries\":[[\"className\",\"fas fa-info-circle\"],[\"tagName\",\"i\"],[\"color\",\"white\"]]}]]}]}]},{\"type\":\"model\",\"name\":\"Notification\",\"properties\":[{\"name\":\"background\",\"kind\":\"Any\",\"default\":null},{\"name\":\"duration\",\"kind\":\"Any\",\"default\":3000},{\"name\":\"icon\",\"kind\":\"Any\",\"default\":null},{\"name\":\"message\",\"kind\":\"Any\",\"default\":\"\"},{\"name\":\"notification_type\",\"kind\":\"Any\",\"default\":null},{\"name\":\"_destroyed\",\"kind\":\"Any\",\"default\":false}]},{\"type\":\"model\",\"name\":\"TemplateActions1\",\"properties\":[{\"name\":\"open_modal\",\"kind\":\"Any\",\"default\":0},{\"name\":\"close_modal\",\"kind\":\"Any\",\"default\":0}]},{\"type\":\"model\",\"name\":\"BootstrapTemplateActions1\",\"properties\":[{\"name\":\"open_modal\",\"kind\":\"Any\",\"default\":0},{\"name\":\"close_modal\",\"kind\":\"Any\",\"default\":0}]},{\"type\":\"model\",\"name\":\"MaterialTemplateActions1\",\"properties\":[{\"name\":\"open_modal\",\"kind\":\"Any\",\"default\":0},{\"name\":\"close_modal\",\"kind\":\"Any\",\"default\":0}]}]}};\n",
       "  var render_items = [{\"docid\":\"1b6e739a-6ca0-4861-952c-82a1e1c581dd\",\"roots\":{\"p1004\":\"f6c7ac26-a5cb-46e1-9d6d-09c158e9d279\"},\"root_ids\":[\"p1004\"]}];\n",
       "  var docs = Object.values(docs_json)\n",
       "  if (!docs) {\n",
       "    return\n",
       "  }\n",
       "  const py_version = docs[0].version.replace('rc', '-rc.').replace('.dev', '-dev.')\n",
       "  function embed_document(root) {\n",
       "    var Bokeh = get_bokeh(root)\n",
       "    Bokeh.embed.embed_items_notebook(docs_json, render_items);\n",
       "    for (const render_item of render_items) {\n",
       "      for (const root_id of render_item.root_ids) {\n",
       "\tconst id_el = document.getElementById(root_id)\n",
       "\tif (id_el.children.length && (id_el.children[0].className === 'bk-root')) {\n",
       "\t  const root_el = id_el.children[0]\n",
       "\t  root_el.id = root_el.id + '-rendered'\n",
       "\t}\n",
       "      }\n",
       "    }\n",
       "  }\n",
       "  function get_bokeh(root) {\n",
       "    if (root.Bokeh === undefined) {\n",
       "      return null\n",
       "    } else if (root.Bokeh.version !== py_version) {\n",
       "      if (root.Bokeh.versions === undefined || !root.Bokeh.versions.has(py_version)) {\n",
       "\treturn null\n",
       "      }\n",
       "      return root.Bokeh.versions.get(py_version);\n",
       "    } else if (root.Bokeh.version === py_version) {\n",
       "      return root.Bokeh\n",
       "    }\n",
       "    return null\n",
       "  }\n",
       "  function is_loaded(root) {\n",
       "    var Bokeh = get_bokeh(root)\n",
       "    return (Bokeh != null && Bokeh.Panel !== undefined)\n",
       "  }\n",
       "  if (is_loaded(root)) {\n",
       "    embed_document(root);\n",
       "  } else {\n",
       "    var attempts = 0;\n",
       "    var timer = setInterval(function(root) {\n",
       "      if (is_loaded(root)) {\n",
       "        clearInterval(timer);\n",
       "        embed_document(root);\n",
       "      } else if (document.readyState == \"complete\") {\n",
       "        attempts++;\n",
       "        if (attempts > 200) {\n",
       "          clearInterval(timer);\n",
       "\t  var Bokeh = get_bokeh(root)\n",
       "\t  if (Bokeh == null || Bokeh.Panel == null) {\n",
       "            console.warn(\"Panel: ERROR: Unable to run Panel code because Bokeh or Panel library is missing\");\n",
       "\t  } else {\n",
       "\t    console.warn(\"Panel: WARNING: Attempting to render but not all required libraries could be resolved.\")\n",
       "\t    embed_document(root)\n",
       "\t  }\n",
       "        }\n",
       "      }\n",
       "    }, 25, root)\n",
       "  }\n",
       "})(window);</script>"
      ],
      "text/plain": [
       ":Histogram   [comp_dol]   (comp_dol_count)"
      ]
     },
     "execution_count": 27,
     "metadata": {
      "application/vnd.holoviews_exec.v0+json": {
       "id": "p1004"
      }
     },
     "output_type": "execute_result"
    }
   ],
   "source": [
    "whole_df.filter(pl.col(\"comp_dol\")>0, pl.col(\"comp_dol\")<200).select(pl.col(\"comp_dol\")).plot(kind=\"hist\")"
   ]
  },
  {
   "cell_type": "code",
   "execution_count": 28,
   "id": "2e8f37ab-7320-4319-bf91-2bca560b1988",
   "metadata": {},
   "outputs": [],
   "source": [
    "whole_df = whole_df.with_columns(\n",
    "    pl.when((pl.col(\"comp_dol\")>0) & (pl.col(\"comp_dol\")<200))\n",
    "        .then(pl.col(\"comp_dol\")*40*4.5*12)\n",
    "        .otherwise(pl.col(\"comp_dol\"))\n",
    ")"
   ]
  },
  {
   "cell_type": "code",
   "execution_count": 29,
   "id": "d6d7535a-f572-4ab7-8253-41d234a54c5e",
   "metadata": {},
   "outputs": [
    {
     "data": {},
     "metadata": {},
     "output_type": "display_data"
    },
    {
     "data": {
      "application/vnd.holoviews_exec.v0+json": "",
      "text/html": [
       "<div id='p1070'>\n",
       "  <div id=\"bfc30aba-307d-49a6-b268-e5cbba872671\" data-root-id=\"p1070\" style=\"display: contents;\"></div>\n",
       "</div>\n",
       "<script type=\"application/javascript\">(function(root) {\n",
       "  var docs_json = {\"7c90c05f-85a6-4a1f-8399-8c92eb23689a\":{\"version\":\"3.3.4\",\"title\":\"Bokeh Application\",\"roots\":[{\"type\":\"object\",\"name\":\"Row\",\"id\":\"p1070\",\"attributes\":{\"name\":\"Row01045\",\"tags\":[\"embedded\"],\"stylesheets\":[\"\\n:host(.pn-loading.pn-arc):before, .pn-loading.pn-arc:before {\\n  background-image: url(\\\"data:image/svg+xml;base64,PHN2ZyB4bWxucz0iaHR0cDovL3d3dy53My5vcmcvMjAwMC9zdmciIHN0eWxlPSJtYXJnaW46IGF1dG87IGJhY2tncm91bmQ6IG5vbmU7IGRpc3BsYXk6IGJsb2NrOyBzaGFwZS1yZW5kZXJpbmc6IGF1dG87IiB2aWV3Qm94PSIwIDAgMTAwIDEwMCIgcHJlc2VydmVBc3BlY3RSYXRpbz0ieE1pZFlNaWQiPiAgPGNpcmNsZSBjeD0iNTAiIGN5PSI1MCIgZmlsbD0ibm9uZSIgc3Ryb2tlPSIjYzNjM2MzIiBzdHJva2Utd2lkdGg9IjEwIiByPSIzNSIgc3Ryb2tlLWRhc2hhcnJheT0iMTY0LjkzMzYxNDMxMzQ2NDE1IDU2Ljk3Nzg3MTQzNzgyMTM4Ij4gICAgPGFuaW1hdGVUcmFuc2Zvcm0gYXR0cmlidXRlTmFtZT0idHJhbnNmb3JtIiB0eXBlPSJyb3RhdGUiIHJlcGVhdENvdW50PSJpbmRlZmluaXRlIiBkdXI9IjFzIiB2YWx1ZXM9IjAgNTAgNTA7MzYwIDUwIDUwIiBrZXlUaW1lcz0iMDsxIj48L2FuaW1hdGVUcmFuc2Zvcm0+ICA8L2NpcmNsZT48L3N2Zz4=\\\");\\n  background-size: auto calc(min(50%, 400px));\\n}\",{\"type\":\"object\",\"name\":\"ImportedStyleSheet\",\"id\":\"p1073\",\"attributes\":{\"url\":\"https://cdn.holoviz.org/panel/1.3.8/dist/css/loading.css\"}},{\"type\":\"object\",\"name\":\"ImportedStyleSheet\",\"id\":\"p1129\",\"attributes\":{\"url\":\"https://cdn.holoviz.org/panel/1.3.8/dist/css/listpanel.css\"}},{\"type\":\"object\",\"name\":\"ImportedStyleSheet\",\"id\":\"p1071\",\"attributes\":{\"url\":\"https://cdn.holoviz.org/panel/1.3.8/dist/bundled/theme/default.css\"}},{\"type\":\"object\",\"name\":\"ImportedStyleSheet\",\"id\":\"p1072\",\"attributes\":{\"url\":\"https://cdn.holoviz.org/panel/1.3.8/dist/bundled/theme/native.css\"}}],\"min_width\":700,\"margin\":0,\"sizing_mode\":\"stretch_width\",\"align\":\"start\",\"children\":[{\"type\":\"object\",\"name\":\"Spacer\",\"id\":\"p1074\",\"attributes\":{\"name\":\"HSpacer01052\",\"stylesheets\":[\"\\n:host(.pn-loading.pn-arc):before, .pn-loading.pn-arc:before {\\n  background-image: url(\\\"data:image/svg+xml;base64,PHN2ZyB4bWxucz0iaHR0cDovL3d3dy53My5vcmcvMjAwMC9zdmciIHN0eWxlPSJtYXJnaW46IGF1dG87IGJhY2tncm91bmQ6IG5vbmU7IGRpc3BsYXk6IGJsb2NrOyBzaGFwZS1yZW5kZXJpbmc6IGF1dG87IiB2aWV3Qm94PSIwIDAgMTAwIDEwMCIgcHJlc2VydmVBc3BlY3RSYXRpbz0ieE1pZFlNaWQiPiAgPGNpcmNsZSBjeD0iNTAiIGN5PSI1MCIgZmlsbD0ibm9uZSIgc3Ryb2tlPSIjYzNjM2MzIiBzdHJva2Utd2lkdGg9IjEwIiByPSIzNSIgc3Ryb2tlLWRhc2hhcnJheT0iMTY0LjkzMzYxNDMxMzQ2NDE1IDU2Ljk3Nzg3MTQzNzgyMTM4Ij4gICAgPGFuaW1hdGVUcmFuc2Zvcm0gYXR0cmlidXRlTmFtZT0idHJhbnNmb3JtIiB0eXBlPSJyb3RhdGUiIHJlcGVhdENvdW50PSJpbmRlZmluaXRlIiBkdXI9IjFzIiB2YWx1ZXM9IjAgNTAgNTA7MzYwIDUwIDUwIiBrZXlUaW1lcz0iMDsxIj48L2FuaW1hdGVUcmFuc2Zvcm0+ICA8L2NpcmNsZT48L3N2Zz4=\\\");\\n  background-size: auto calc(min(50%, 400px));\\n}\",{\"id\":\"p1073\"},{\"id\":\"p1071\"},{\"id\":\"p1072\"}],\"margin\":0,\"sizing_mode\":\"stretch_width\",\"align\":\"start\"}},{\"type\":\"object\",\"name\":\"Figure\",\"id\":\"p1082\",\"attributes\":{\"width\":700,\"height\":300,\"margin\":[5,10],\"sizing_mode\":\"fixed\",\"align\":\"start\",\"x_range\":{\"type\":\"object\",\"name\":\"Range1d\",\"id\":\"p1075\",\"attributes\":{\"tags\":[[[\"comp_dol\",\"comp_dol\",null]],[]],\"start\":-209228.301336074,\"end\":5091228.560328879,\"reset_start\":-209228.301336074,\"reset_end\":5091228.560328879}},\"y_range\":{\"type\":\"object\",\"name\":\"Range1d\",\"id\":\"p1076\",\"attributes\":{\"tags\":[[[\"comp_dol_count\",\"Count\",null]],{\"type\":\"map\",\"entries\":[[\"invert_yaxis\",false],[\"autorange\",false]]}],\"end\":15992.9,\"reset_start\":0.0,\"reset_end\":15992.9}},\"x_scale\":{\"type\":\"object\",\"name\":\"LinearScale\",\"id\":\"p1092\"},\"y_scale\":{\"type\":\"object\",\"name\":\"LinearScale\",\"id\":\"p1093\"},\"title\":{\"type\":\"object\",\"name\":\"Title\",\"id\":\"p1085\",\"attributes\":{\"text_color\":\"black\",\"text_font_size\":\"12pt\"}},\"renderers\":[{\"type\":\"object\",\"name\":\"GlyphRenderer\",\"id\":\"p1122\",\"attributes\":{\"data_source\":{\"type\":\"object\",\"name\":\"ColumnDataSource\",\"id\":\"p1113\",\"attributes\":{\"selected\":{\"type\":\"object\",\"name\":\"Selection\",\"id\":\"p1114\",\"attributes\":{\"indices\":[],\"line_indices\":[]}},\"selection_policy\":{\"type\":\"object\",\"name\":\"UnionRenderers\",\"id\":\"p1115\"},\"data\":{\"type\":\"map\",\"entries\":[[\"top\",{\"type\":\"ndarray\",\"array\":{\"type\":\"bytes\",\"data\":\"yzgAAEUBAAAYAAAACgAAAAgAAAACAAAAAQAAAAAAAAABAAAAAAAAAAEAAAAAAAAAAgAAAAAAAAABAAAAAgAAAAIAAAAAAAAAAQAAAAIAAAA=\"},\"shape\":[20],\"dtype\":\"int32\",\"order\":\"little\"}],[\"left\",{\"type\":\"ndarray\",\"array\":{\"type\":\"bytes\",\"data\":\"3Jinj1aT0D+oeuX3IcwNQa0RsO4gzB1BA7O2cBhZJkEwXRVqIMwtQa8DujGUnzJBxVhpLhhZNkHcrRgrnBI6QfICyCcgzD1BBKw7EtLCQEGPVpMQlJ9CQRoB6w5WfERBpatCDRhZRkEwVpoL2jVIQbwA8gmcEkpBR6tJCF7vS0HSVaEGIMxNQV0A+QTiqE9BdVWoAdLCUEG6KtQAM7FRQQ==\"},\"shape\":[20],\"dtype\":\"float64\",\"order\":\"little\"}],[\"right\",{\"type\":\"ndarray\",\"array\":{\"type\":\"bytes\",\"data\":\"qHrl9yHMDUGtEbDuIMwdQQOztnAYWSZBMF0VaiDMLUGvA7oxlJ8yQcVYaS4YWTZB3K0YK5wSOkHyAsgnIMw9QQSsOxLSwkBBj1aTEJSfQkEaAesOVnxEQaWrQg0YWUZBMFaaC9o1SEG8APIJnBJKQUerSQhe70tB0lWhBiDMTUFdAPkE4qhPQXVVqAHSwlBBuirUADOxUUEAAAAAlJ9SQQ==\"},\"shape\":[20],\"dtype\":\"float64\",\"order\":\"little\"}],[\"comp_dol\",{\"type\":\"ndarray\",\"array\":{\"type\":\"bytes\",\"data\":\"nUxQCiTM/UCAZ1H1GFkWQe1dB3SUnyJBGghmbZwSKkEkWWIz0sIwQTquETBWfDRBUAPBLNo1OEFnWHApXu87QX2tHybiqD9BSoFnETOxQUHUK78P9Y1DQWDWFg63akVB6oBuDHlHR0F2K8YKOyRJQQLWHQn9AEtBjIB1B7/dTEEYK80FgbpOQdJqEoKhS1BBGEA+gQI6UUFdFWqAYyhSQQ==\"},\"shape\":[20],\"dtype\":\"float64\",\"order\":\"little\"}],[\"comp_dol_count\",{\"type\":\"ndarray\",\"array\":{\"type\":\"bytes\",\"data\":\"yzgAAEUBAAAYAAAACgAAAAgAAAACAAAAAQAAAAAAAAABAAAAAAAAAAEAAAAAAAAAAgAAAAAAAAABAAAAAgAAAAIAAAAAAAAAAQAAAAIAAAA=\"},\"shape\":[20],\"dtype\":\"int32\",\"order\":\"little\"}]]}}},\"view\":{\"type\":\"object\",\"name\":\"CDSView\",\"id\":\"p1123\",\"attributes\":{\"filter\":{\"type\":\"object\",\"name\":\"AllIndices\",\"id\":\"p1124\"}}},\"glyph\":{\"type\":\"object\",\"name\":\"Quad\",\"id\":\"p1119\",\"attributes\":{\"tags\":[\"apply_ranges\"],\"left\":{\"type\":\"field\",\"field\":\"left\"},\"right\":{\"type\":\"field\",\"field\":\"right\"},\"bottom\":{\"type\":\"value\",\"value\":0},\"top\":{\"type\":\"field\",\"field\":\"top\"},\"fill_color\":{\"type\":\"value\",\"value\":\"#30a2da\"},\"hatch_color\":{\"type\":\"value\",\"value\":\"#30a2da\"}}},\"selection_glyph\":{\"type\":\"object\",\"name\":\"Quad\",\"id\":\"p1125\",\"attributes\":{\"tags\":[\"apply_ranges\"],\"left\":{\"type\":\"field\",\"field\":\"left\"},\"right\":{\"type\":\"field\",\"field\":\"right\"},\"bottom\":{\"type\":\"value\",\"value\":0},\"top\":{\"type\":\"field\",\"field\":\"top\"},\"line_color\":{\"type\":\"value\",\"value\":\"black\"},\"line_alpha\":{\"type\":\"value\",\"value\":1.0},\"line_width\":{\"type\":\"value\",\"value\":1},\"line_join\":{\"type\":\"value\",\"value\":\"bevel\"},\"line_cap\":{\"type\":\"value\",\"value\":\"butt\"},\"line_dash\":{\"type\":\"value\",\"value\":[]},\"line_dash_offset\":{\"type\":\"value\",\"value\":0},\"fill_color\":{\"type\":\"value\",\"value\":\"#30a2da\"},\"fill_alpha\":{\"type\":\"value\",\"value\":1.0},\"hatch_color\":{\"type\":\"value\",\"value\":\"#30a2da\"},\"hatch_alpha\":{\"type\":\"value\",\"value\":1.0},\"hatch_scale\":{\"type\":\"value\",\"value\":12.0},\"hatch_pattern\":{\"type\":\"value\",\"value\":null},\"hatch_weight\":{\"type\":\"value\",\"value\":1.0}}},\"nonselection_glyph\":{\"type\":\"object\",\"name\":\"Quad\",\"id\":\"p1120\",\"attributes\":{\"tags\":[\"apply_ranges\"],\"left\":{\"type\":\"field\",\"field\":\"left\"},\"right\":{\"type\":\"field\",\"field\":\"right\"},\"bottom\":{\"type\":\"value\",\"value\":0},\"top\":{\"type\":\"field\",\"field\":\"top\"},\"line_alpha\":{\"type\":\"value\",\"value\":0.1},\"fill_color\":{\"type\":\"value\",\"value\":\"#30a2da\"},\"fill_alpha\":{\"type\":\"value\",\"value\":0.1},\"hatch_color\":{\"type\":\"value\",\"value\":\"#30a2da\"},\"hatch_alpha\":{\"type\":\"value\",\"value\":0.1}}},\"muted_glyph\":{\"type\":\"object\",\"name\":\"Quad\",\"id\":\"p1121\",\"attributes\":{\"tags\":[\"apply_ranges\"],\"left\":{\"type\":\"field\",\"field\":\"left\"},\"right\":{\"type\":\"field\",\"field\":\"right\"},\"bottom\":{\"type\":\"value\",\"value\":0},\"top\":{\"type\":\"field\",\"field\":\"top\"},\"line_alpha\":{\"type\":\"value\",\"value\":0.2},\"fill_color\":{\"type\":\"value\",\"value\":\"#30a2da\"},\"fill_alpha\":{\"type\":\"value\",\"value\":0.2},\"hatch_color\":{\"type\":\"value\",\"value\":\"#30a2da\"},\"hatch_alpha\":{\"type\":\"value\",\"value\":0.2}}}}}],\"toolbar\":{\"type\":\"object\",\"name\":\"Toolbar\",\"id\":\"p1091\",\"attributes\":{\"tools\":[{\"type\":\"object\",\"name\":\"WheelZoomTool\",\"id\":\"p1080\",\"attributes\":{\"tags\":[\"hv_created\"],\"renderers\":\"auto\",\"zoom_together\":\"none\"}},{\"type\":\"object\",\"name\":\"HoverTool\",\"id\":\"p1081\",\"attributes\":{\"tags\":[\"hv_created\"],\"renderers\":[{\"id\":\"p1122\"}],\"tooltips\":[[\"comp_dol\",\"@{comp_dol}\"],[\"Count\",\"@{comp_dol_count}\"]]}},{\"type\":\"object\",\"name\":\"SaveTool\",\"id\":\"p1104\"},{\"type\":\"object\",\"name\":\"PanTool\",\"id\":\"p1105\"},{\"type\":\"object\",\"name\":\"BoxZoomTool\",\"id\":\"p1106\",\"attributes\":{\"overlay\":{\"type\":\"object\",\"name\":\"BoxAnnotation\",\"id\":\"p1107\",\"attributes\":{\"syncable\":false,\"level\":\"overlay\",\"visible\":false,\"left\":{\"type\":\"number\",\"value\":\"nan\"},\"right\":{\"type\":\"number\",\"value\":\"nan\"},\"top\":{\"type\":\"number\",\"value\":\"nan\"},\"bottom\":{\"type\":\"number\",\"value\":\"nan\"},\"left_units\":\"canvas\",\"right_units\":\"canvas\",\"top_units\":\"canvas\",\"bottom_units\":\"canvas\",\"line_color\":\"black\",\"line_alpha\":1.0,\"line_width\":2,\"line_dash\":[4,4],\"fill_color\":\"lightgrey\",\"fill_alpha\":0.5}}}},{\"type\":\"object\",\"name\":\"ResetTool\",\"id\":\"p1112\"}],\"active_drag\":{\"id\":\"p1105\"},\"active_scroll\":{\"id\":\"p1080\"}}},\"left\":[{\"type\":\"object\",\"name\":\"LinearAxis\",\"id\":\"p1099\",\"attributes\":{\"ticker\":{\"type\":\"object\",\"name\":\"BasicTicker\",\"id\":\"p1100\",\"attributes\":{\"mantissas\":[1,2,5]}},\"formatter\":{\"type\":\"object\",\"name\":\"BasicTickFormatter\",\"id\":\"p1101\"},\"axis_label\":\"\",\"major_label_policy\":{\"type\":\"object\",\"name\":\"AllLabels\",\"id\":\"p1102\"}}}],\"below\":[{\"type\":\"object\",\"name\":\"LinearAxis\",\"id\":\"p1094\",\"attributes\":{\"ticker\":{\"type\":\"object\",\"name\":\"BasicTicker\",\"id\":\"p1095\",\"attributes\":{\"mantissas\":[1,2,5]}},\"formatter\":{\"type\":\"object\",\"name\":\"BasicTickFormatter\",\"id\":\"p1096\"},\"axis_label\":\"comp_dol\",\"major_label_policy\":{\"type\":\"object\",\"name\":\"AllLabels\",\"id\":\"p1097\"}}}],\"center\":[{\"type\":\"object\",\"name\":\"Grid\",\"id\":\"p1098\",\"attributes\":{\"axis\":{\"id\":\"p1094\"},\"grid_line_color\":null}},{\"type\":\"object\",\"name\":\"Grid\",\"id\":\"p1103\",\"attributes\":{\"dimension\":1,\"axis\":{\"id\":\"p1099\"},\"grid_line_color\":null}}],\"min_border_top\":10,\"min_border_bottom\":10,\"min_border_left\":10,\"min_border_right\":10,\"output_backend\":\"webgl\"}},{\"type\":\"object\",\"name\":\"Spacer\",\"id\":\"p1127\",\"attributes\":{\"name\":\"HSpacer01053\",\"stylesheets\":[\"\\n:host(.pn-loading.pn-arc):before, .pn-loading.pn-arc:before {\\n  background-image: url(\\\"data:image/svg+xml;base64,PHN2ZyB4bWxucz0iaHR0cDovL3d3dy53My5vcmcvMjAwMC9zdmciIHN0eWxlPSJtYXJnaW46IGF1dG87IGJhY2tncm91bmQ6IG5vbmU7IGRpc3BsYXk6IGJsb2NrOyBzaGFwZS1yZW5kZXJpbmc6IGF1dG87IiB2aWV3Qm94PSIwIDAgMTAwIDEwMCIgcHJlc2VydmVBc3BlY3RSYXRpbz0ieE1pZFlNaWQiPiAgPGNpcmNsZSBjeD0iNTAiIGN5PSI1MCIgZmlsbD0ibm9uZSIgc3Ryb2tlPSIjYzNjM2MzIiBzdHJva2Utd2lkdGg9IjEwIiByPSIzNSIgc3Ryb2tlLWRhc2hhcnJheT0iMTY0LjkzMzYxNDMxMzQ2NDE1IDU2Ljk3Nzg3MTQzNzgyMTM4Ij4gICAgPGFuaW1hdGVUcmFuc2Zvcm0gYXR0cmlidXRlTmFtZT0idHJhbnNmb3JtIiB0eXBlPSJyb3RhdGUiIHJlcGVhdENvdW50PSJpbmRlZmluaXRlIiBkdXI9IjFzIiB2YWx1ZXM9IjAgNTAgNTA7MzYwIDUwIDUwIiBrZXlUaW1lcz0iMDsxIj48L2FuaW1hdGVUcmFuc2Zvcm0+ICA8L2NpcmNsZT48L3N2Zz4=\\\");\\n  background-size: auto calc(min(50%, 400px));\\n}\",{\"id\":\"p1073\"},{\"id\":\"p1071\"},{\"id\":\"p1072\"}],\"margin\":0,\"sizing_mode\":\"stretch_width\",\"align\":\"start\"}}]}}],\"defs\":[{\"type\":\"model\",\"name\":\"ReactiveHTML1\"},{\"type\":\"model\",\"name\":\"FlexBox1\",\"properties\":[{\"name\":\"align_content\",\"kind\":\"Any\",\"default\":\"flex-start\"},{\"name\":\"align_items\",\"kind\":\"Any\",\"default\":\"flex-start\"},{\"name\":\"flex_direction\",\"kind\":\"Any\",\"default\":\"row\"},{\"name\":\"flex_wrap\",\"kind\":\"Any\",\"default\":\"wrap\"},{\"name\":\"justify_content\",\"kind\":\"Any\",\"default\":\"flex-start\"}]},{\"type\":\"model\",\"name\":\"FloatPanel1\",\"properties\":[{\"name\":\"config\",\"kind\":\"Any\",\"default\":{\"type\":\"map\"}},{\"name\":\"contained\",\"kind\":\"Any\",\"default\":true},{\"name\":\"position\",\"kind\":\"Any\",\"default\":\"right-top\"},{\"name\":\"offsetx\",\"kind\":\"Any\",\"default\":null},{\"name\":\"offsety\",\"kind\":\"Any\",\"default\":null},{\"name\":\"theme\",\"kind\":\"Any\",\"default\":\"primary\"},{\"name\":\"status\",\"kind\":\"Any\",\"default\":\"normalized\"}]},{\"type\":\"model\",\"name\":\"GridStack1\",\"properties\":[{\"name\":\"mode\",\"kind\":\"Any\",\"default\":\"warn\"},{\"name\":\"ncols\",\"kind\":\"Any\",\"default\":null},{\"name\":\"nrows\",\"kind\":\"Any\",\"default\":null},{\"name\":\"allow_resize\",\"kind\":\"Any\",\"default\":true},{\"name\":\"allow_drag\",\"kind\":\"Any\",\"default\":true},{\"name\":\"state\",\"kind\":\"Any\",\"default\":[]}]},{\"type\":\"model\",\"name\":\"drag1\",\"properties\":[{\"name\":\"slider_width\",\"kind\":\"Any\",\"default\":5},{\"name\":\"slider_color\",\"kind\":\"Any\",\"default\":\"black\"},{\"name\":\"value\",\"kind\":\"Any\",\"default\":50}]},{\"type\":\"model\",\"name\":\"click1\",\"properties\":[{\"name\":\"terminal_output\",\"kind\":\"Any\",\"default\":\"\"},{\"name\":\"debug_name\",\"kind\":\"Any\",\"default\":\"\"},{\"name\":\"clears\",\"kind\":\"Any\",\"default\":0}]},{\"type\":\"model\",\"name\":\"copy_to_clipboard1\",\"properties\":[{\"name\":\"fill\",\"kind\":\"Any\",\"default\":\"none\"},{\"name\":\"value\",\"kind\":\"Any\",\"default\":null}]},{\"type\":\"model\",\"name\":\"FastWrapper1\",\"properties\":[{\"name\":\"object\",\"kind\":\"Any\",\"default\":null},{\"name\":\"style\",\"kind\":\"Any\",\"default\":null}]},{\"type\":\"model\",\"name\":\"NotificationAreaBase1\",\"properties\":[{\"name\":\"js_events\",\"kind\":\"Any\",\"default\":{\"type\":\"map\"}},{\"name\":\"position\",\"kind\":\"Any\",\"default\":\"bottom-right\"},{\"name\":\"_clear\",\"kind\":\"Any\",\"default\":0}]},{\"type\":\"model\",\"name\":\"NotificationArea1\",\"properties\":[{\"name\":\"js_events\",\"kind\":\"Any\",\"default\":{\"type\":\"map\"}},{\"name\":\"notifications\",\"kind\":\"Any\",\"default\":[]},{\"name\":\"position\",\"kind\":\"Any\",\"default\":\"bottom-right\"},{\"name\":\"_clear\",\"kind\":\"Any\",\"default\":0},{\"name\":\"types\",\"kind\":\"Any\",\"default\":[{\"type\":\"map\",\"entries\":[[\"type\",\"warning\"],[\"background\",\"#ffc107\"],[\"icon\",{\"type\":\"map\",\"entries\":[[\"className\",\"fas fa-exclamation-triangle\"],[\"tagName\",\"i\"],[\"color\",\"white\"]]}]]},{\"type\":\"map\",\"entries\":[[\"type\",\"info\"],[\"background\",\"#007bff\"],[\"icon\",{\"type\":\"map\",\"entries\":[[\"className\",\"fas fa-info-circle\"],[\"tagName\",\"i\"],[\"color\",\"white\"]]}]]}]}]},{\"type\":\"model\",\"name\":\"Notification\",\"properties\":[{\"name\":\"background\",\"kind\":\"Any\",\"default\":null},{\"name\":\"duration\",\"kind\":\"Any\",\"default\":3000},{\"name\":\"icon\",\"kind\":\"Any\",\"default\":null},{\"name\":\"message\",\"kind\":\"Any\",\"default\":\"\"},{\"name\":\"notification_type\",\"kind\":\"Any\",\"default\":null},{\"name\":\"_destroyed\",\"kind\":\"Any\",\"default\":false}]},{\"type\":\"model\",\"name\":\"TemplateActions1\",\"properties\":[{\"name\":\"open_modal\",\"kind\":\"Any\",\"default\":0},{\"name\":\"close_modal\",\"kind\":\"Any\",\"default\":0}]},{\"type\":\"model\",\"name\":\"BootstrapTemplateActions1\",\"properties\":[{\"name\":\"open_modal\",\"kind\":\"Any\",\"default\":0},{\"name\":\"close_modal\",\"kind\":\"Any\",\"default\":0}]},{\"type\":\"model\",\"name\":\"MaterialTemplateActions1\",\"properties\":[{\"name\":\"open_modal\",\"kind\":\"Any\",\"default\":0},{\"name\":\"close_modal\",\"kind\":\"Any\",\"default\":0}]}]}};\n",
       "  var render_items = [{\"docid\":\"7c90c05f-85a6-4a1f-8399-8c92eb23689a\",\"roots\":{\"p1070\":\"bfc30aba-307d-49a6-b268-e5cbba872671\"},\"root_ids\":[\"p1070\"]}];\n",
       "  var docs = Object.values(docs_json)\n",
       "  if (!docs) {\n",
       "    return\n",
       "  }\n",
       "  const py_version = docs[0].version.replace('rc', '-rc.').replace('.dev', '-dev.')\n",
       "  function embed_document(root) {\n",
       "    var Bokeh = get_bokeh(root)\n",
       "    Bokeh.embed.embed_items_notebook(docs_json, render_items);\n",
       "    for (const render_item of render_items) {\n",
       "      for (const root_id of render_item.root_ids) {\n",
       "\tconst id_el = document.getElementById(root_id)\n",
       "\tif (id_el.children.length && (id_el.children[0].className === 'bk-root')) {\n",
       "\t  const root_el = id_el.children[0]\n",
       "\t  root_el.id = root_el.id + '-rendered'\n",
       "\t}\n",
       "      }\n",
       "    }\n",
       "  }\n",
       "  function get_bokeh(root) {\n",
       "    if (root.Bokeh === undefined) {\n",
       "      return null\n",
       "    } else if (root.Bokeh.version !== py_version) {\n",
       "      if (root.Bokeh.versions === undefined || !root.Bokeh.versions.has(py_version)) {\n",
       "\treturn null\n",
       "      }\n",
       "      return root.Bokeh.versions.get(py_version);\n",
       "    } else if (root.Bokeh.version === py_version) {\n",
       "      return root.Bokeh\n",
       "    }\n",
       "    return null\n",
       "  }\n",
       "  function is_loaded(root) {\n",
       "    var Bokeh = get_bokeh(root)\n",
       "    return (Bokeh != null && Bokeh.Panel !== undefined)\n",
       "  }\n",
       "  if (is_loaded(root)) {\n",
       "    embed_document(root);\n",
       "  } else {\n",
       "    var attempts = 0;\n",
       "    var timer = setInterval(function(root) {\n",
       "      if (is_loaded(root)) {\n",
       "        clearInterval(timer);\n",
       "        embed_document(root);\n",
       "      } else if (document.readyState == \"complete\") {\n",
       "        attempts++;\n",
       "        if (attempts > 200) {\n",
       "          clearInterval(timer);\n",
       "\t  var Bokeh = get_bokeh(root)\n",
       "\t  if (Bokeh == null || Bokeh.Panel == null) {\n",
       "            console.warn(\"Panel: ERROR: Unable to run Panel code because Bokeh or Panel library is missing\");\n",
       "\t  } else {\n",
       "\t    console.warn(\"Panel: WARNING: Attempting to render but not all required libraries could be resolved.\")\n",
       "\t    embed_document(root)\n",
       "\t  }\n",
       "        }\n",
       "      }\n",
       "    }, 25, root)\n",
       "  }\n",
       "})(window);</script>"
      ],
      "text/plain": [
       ":Histogram   [comp_dol]   (comp_dol_count)"
      ]
     },
     "execution_count": 29,
     "metadata": {
      "application/vnd.holoviews_exec.v0+json": {
       "id": "p1070"
      }
     },
     "output_type": "execute_result"
    }
   ],
   "source": [
    "whole_df.filter(pl.col(\"comp_dol\")>0, pl.col(\"comp_dol\")<5_000_000).select(pl.col(\"comp_dol\")).plot(kind=\"hist\")"
   ]
  },
  {
   "cell_type": "code",
   "execution_count": 30,
   "id": "2ec7d466-7467-43c9-a3c2-ba6fa0d37d9f",
   "metadata": {},
   "outputs": [
    {
     "data": {},
     "metadata": {},
     "output_type": "display_data"
    },
    {
     "data": {
      "application/vnd.holoviews_exec.v0+json": "",
      "text/html": [
       "<div id='p1136'>\n",
       "  <div id=\"d835c775-49f3-48d5-a066-773551440f76\" data-root-id=\"p1136\" style=\"display: contents;\"></div>\n",
       "</div>\n",
       "<script type=\"application/javascript\">(function(root) {\n",
       "  var docs_json = {\"e584a889-56e1-43df-aee3-3a0078cf5f59\":{\"version\":\"3.3.4\",\"title\":\"Bokeh Application\",\"roots\":[{\"type\":\"object\",\"name\":\"Row\",\"id\":\"p1136\",\"attributes\":{\"name\":\"Row01153\",\"tags\":[\"embedded\"],\"stylesheets\":[\"\\n:host(.pn-loading.pn-arc):before, .pn-loading.pn-arc:before {\\n  background-image: url(\\\"data:image/svg+xml;base64,PHN2ZyB4bWxucz0iaHR0cDovL3d3dy53My5vcmcvMjAwMC9zdmciIHN0eWxlPSJtYXJnaW46IGF1dG87IGJhY2tncm91bmQ6IG5vbmU7IGRpc3BsYXk6IGJsb2NrOyBzaGFwZS1yZW5kZXJpbmc6IGF1dG87IiB2aWV3Qm94PSIwIDAgMTAwIDEwMCIgcHJlc2VydmVBc3BlY3RSYXRpbz0ieE1pZFlNaWQiPiAgPGNpcmNsZSBjeD0iNTAiIGN5PSI1MCIgZmlsbD0ibm9uZSIgc3Ryb2tlPSIjYzNjM2MzIiBzdHJva2Utd2lkdGg9IjEwIiByPSIzNSIgc3Ryb2tlLWRhc2hhcnJheT0iMTY0LjkzMzYxNDMxMzQ2NDE1IDU2Ljk3Nzg3MTQzNzgyMTM4Ij4gICAgPGFuaW1hdGVUcmFuc2Zvcm0gYXR0cmlidXRlTmFtZT0idHJhbnNmb3JtIiB0eXBlPSJyb3RhdGUiIHJlcGVhdENvdW50PSJpbmRlZmluaXRlIiBkdXI9IjFzIiB2YWx1ZXM9IjAgNTAgNTA7MzYwIDUwIDUwIiBrZXlUaW1lcz0iMDsxIj48L2FuaW1hdGVUcmFuc2Zvcm0+ICA8L2NpcmNsZT48L3N2Zz4=\\\");\\n  background-size: auto calc(min(50%, 400px));\\n}\",{\"type\":\"object\",\"name\":\"ImportedStyleSheet\",\"id\":\"p1139\",\"attributes\":{\"url\":\"https://cdn.holoviz.org/panel/1.3.8/dist/css/loading.css\"}},{\"type\":\"object\",\"name\":\"ImportedStyleSheet\",\"id\":\"p1195\",\"attributes\":{\"url\":\"https://cdn.holoviz.org/panel/1.3.8/dist/css/listpanel.css\"}},{\"type\":\"object\",\"name\":\"ImportedStyleSheet\",\"id\":\"p1137\",\"attributes\":{\"url\":\"https://cdn.holoviz.org/panel/1.3.8/dist/bundled/theme/default.css\"}},{\"type\":\"object\",\"name\":\"ImportedStyleSheet\",\"id\":\"p1138\",\"attributes\":{\"url\":\"https://cdn.holoviz.org/panel/1.3.8/dist/bundled/theme/native.css\"}}],\"min_width\":700,\"margin\":0,\"sizing_mode\":\"stretch_width\",\"align\":\"start\",\"children\":[{\"type\":\"object\",\"name\":\"Spacer\",\"id\":\"p1140\",\"attributes\":{\"name\":\"HSpacer01160\",\"stylesheets\":[\"\\n:host(.pn-loading.pn-arc):before, .pn-loading.pn-arc:before {\\n  background-image: url(\\\"data:image/svg+xml;base64,PHN2ZyB4bWxucz0iaHR0cDovL3d3dy53My5vcmcvMjAwMC9zdmciIHN0eWxlPSJtYXJnaW46IGF1dG87IGJhY2tncm91bmQ6IG5vbmU7IGRpc3BsYXk6IGJsb2NrOyBzaGFwZS1yZW5kZXJpbmc6IGF1dG87IiB2aWV3Qm94PSIwIDAgMTAwIDEwMCIgcHJlc2VydmVBc3BlY3RSYXRpbz0ieE1pZFlNaWQiPiAgPGNpcmNsZSBjeD0iNTAiIGN5PSI1MCIgZmlsbD0ibm9uZSIgc3Ryb2tlPSIjYzNjM2MzIiBzdHJva2Utd2lkdGg9IjEwIiByPSIzNSIgc3Ryb2tlLWRhc2hhcnJheT0iMTY0LjkzMzYxNDMxMzQ2NDE1IDU2Ljk3Nzg3MTQzNzgyMTM4Ij4gICAgPGFuaW1hdGVUcmFuc2Zvcm0gYXR0cmlidXRlTmFtZT0idHJhbnNmb3JtIiB0eXBlPSJyb3RhdGUiIHJlcGVhdENvdW50PSJpbmRlZmluaXRlIiBkdXI9IjFzIiB2YWx1ZXM9IjAgNTAgNTA7MzYwIDUwIDUwIiBrZXlUaW1lcz0iMDsxIj48L2FuaW1hdGVUcmFuc2Zvcm0+ICA8L2NpcmNsZT48L3N2Zz4=\\\");\\n  background-size: auto calc(min(50%, 400px));\\n}\",{\"id\":\"p1139\"},{\"id\":\"p1137\"},{\"id\":\"p1138\"}],\"margin\":0,\"sizing_mode\":\"stretch_width\",\"align\":\"start\"}},{\"type\":\"object\",\"name\":\"Figure\",\"id\":\"p1148\",\"attributes\":{\"width\":700,\"height\":300,\"margin\":[5,10],\"sizing_mode\":\"fixed\",\"align\":\"start\",\"x_range\":{\"type\":\"object\",\"name\":\"Range1d\",\"id\":\"p1141\",\"attributes\":{\"tags\":[[[\"comp_dol\",\"comp_dol\",null]],[]],\"start\":623.2199128536604,\"end\":10272.99864948655,\"reset_start\":623.2199128536604,\"reset_end\":10272.99864948655}},\"y_range\":{\"type\":\"object\",\"name\":\"Range1d\",\"id\":\"p1142\",\"attributes\":{\"tags\":[[[\"comp_dol_count\",\"Count\",null]],{\"type\":\"map\",\"entries\":[[\"invert_yaxis\",false],[\"autorange\",false]]}],\"end\":286.6,\"reset_start\":0.0,\"reset_end\":286.6}},\"x_scale\":{\"type\":\"object\",\"name\":\"LinearScale\",\"id\":\"p1158\"},\"y_scale\":{\"type\":\"object\",\"name\":\"LinearScale\",\"id\":\"p1159\"},\"title\":{\"type\":\"object\",\"name\":\"Title\",\"id\":\"p1151\",\"attributes\":{\"text_color\":\"black\",\"text_font_size\":\"12pt\"}},\"renderers\":[{\"type\":\"object\",\"name\":\"GlyphRenderer\",\"id\":\"p1188\",\"attributes\":{\"data_source\":{\"type\":\"object\",\"name\":\"ColumnDataSource\",\"id\":\"p1179\",\"attributes\":{\"selected\":{\"type\":\"object\",\"name\":\"Selection\",\"id\":\"p1180\",\"attributes\":{\"indices\":[],\"line_indices\":[]}},\"selection_policy\":{\"type\":\"object\",\"name\":\"UnionRenderers\",\"id\":\"p1181\"},\"data\":{\"type\":\"map\",\"entries\":[[\"top\",{\"type\":\"ndarray\",\"array\":{\"type\":\"bytes\",\"data\":\"agAAAFQAAAAFAQAAWgAAAGQAAABPAAAAPAAAAIsAAABkAAAAQwAAABYAAABAAAAAVAAAACkAAAAdAAAAEQAAAAoAAABjAAAABQAAAA8AAAA=\"},\"shape\":[20],\"dtype\":\"int32\",\"order\":\"little\"}],[\"left\",{\"type\":\"ndarray\",\"array\":{\"type\":\"bytes\",\"data\":\"ar5Wzw5hj0COjaSnHqKWQOa7nee1k51AIHXLk6ZCokBMDMgzcrulQHijxNM9NKlApDrBcwmtrEDp6N6J6hKwQH803VlQz7FAFYDbKbaLs0Cry9n5G0i1QEEX2MmBBLdA12LWmefAuEBtrtRpTX26QAT60jmzObxAmkXRCRn2vUAwkc/ZfrK/QGPu5lRyt8BALhTmPKWVwUD6OeUk2HPCQA==\"},\"shape\":[20],\"dtype\":\"float64\",\"order\":\"little\"}],[\"right\",{\"type\":\"ndarray\",\"array\":{\"type\":\"bytes\",\"data\":\"jo2kpx6ilkDmu53ntZOdQCB1y5OmQqJATAzIM3K7pUB4o8TTPTSpQKQ6wXMJraxA6ejeieoSsEB/NN1ZUM+xQBWA2ym2i7NAq8vZ+RtItUBBF9jJgQS3QNdi1pnnwLhAba7UaU19ukAE+tI5szm8QJpF0QkZ9r1AMJHP2X6yv0Bj7uZUcrfAQC4U5jyllcFA+jnlJNhzwkDFX+QMC1LDQA==\"},\"shape\":[20],\"dtype\":\"float64\",\"order\":\"little\"}],[\"comp_dol\",{\"type\":\"ndarray\",\"array\":{\"type\":\"bytes\",\"data\":\"YvanB1Mpk0C6JKFH6hqaQIopzcNAhqBAtsDJYwz/o0DiV8YD2HenQA7vwqOj8KpAO4a/Q29prkC0Dt5xHfGwQEpa3EGDrbJA4KXaEelptEB28djhTia2QAw917G04rdAoojVgRqfuUA41NNRgFu7QM8f0iHmF71AZWvQ8UvUvkB+W+fgWEjAQEiB5siLJsFAFKflsL4EwkDgzOSY8eLCQA==\"},\"shape\":[20],\"dtype\":\"float64\",\"order\":\"little\"}],[\"comp_dol_count\",{\"type\":\"ndarray\",\"array\":{\"type\":\"bytes\",\"data\":\"agAAAFQAAAAFAQAAWgAAAGQAAABPAAAAPAAAAIsAAABkAAAAQwAAABYAAABAAAAAVAAAACkAAAAdAAAAEQAAAAoAAABjAAAABQAAAA8AAAA=\"},\"shape\":[20],\"dtype\":\"int32\",\"order\":\"little\"}]]}}},\"view\":{\"type\":\"object\",\"name\":\"CDSView\",\"id\":\"p1189\",\"attributes\":{\"filter\":{\"type\":\"object\",\"name\":\"AllIndices\",\"id\":\"p1190\"}}},\"glyph\":{\"type\":\"object\",\"name\":\"Quad\",\"id\":\"p1185\",\"attributes\":{\"tags\":[\"apply_ranges\"],\"left\":{\"type\":\"field\",\"field\":\"left\"},\"right\":{\"type\":\"field\",\"field\":\"right\"},\"bottom\":{\"type\":\"value\",\"value\":0},\"top\":{\"type\":\"field\",\"field\":\"top\"},\"fill_color\":{\"type\":\"value\",\"value\":\"#30a2da\"},\"hatch_color\":{\"type\":\"value\",\"value\":\"#30a2da\"}}},\"selection_glyph\":{\"type\":\"object\",\"name\":\"Quad\",\"id\":\"p1191\",\"attributes\":{\"tags\":[\"apply_ranges\"],\"left\":{\"type\":\"field\",\"field\":\"left\"},\"right\":{\"type\":\"field\",\"field\":\"right\"},\"bottom\":{\"type\":\"value\",\"value\":0},\"top\":{\"type\":\"field\",\"field\":\"top\"},\"line_color\":{\"type\":\"value\",\"value\":\"black\"},\"line_alpha\":{\"type\":\"value\",\"value\":1.0},\"line_width\":{\"type\":\"value\",\"value\":1},\"line_join\":{\"type\":\"value\",\"value\":\"bevel\"},\"line_cap\":{\"type\":\"value\",\"value\":\"butt\"},\"line_dash\":{\"type\":\"value\",\"value\":[]},\"line_dash_offset\":{\"type\":\"value\",\"value\":0},\"fill_color\":{\"type\":\"value\",\"value\":\"#30a2da\"},\"fill_alpha\":{\"type\":\"value\",\"value\":1.0},\"hatch_color\":{\"type\":\"value\",\"value\":\"#30a2da\"},\"hatch_alpha\":{\"type\":\"value\",\"value\":1.0},\"hatch_scale\":{\"type\":\"value\",\"value\":12.0},\"hatch_pattern\":{\"type\":\"value\",\"value\":null},\"hatch_weight\":{\"type\":\"value\",\"value\":1.0}}},\"nonselection_glyph\":{\"type\":\"object\",\"name\":\"Quad\",\"id\":\"p1186\",\"attributes\":{\"tags\":[\"apply_ranges\"],\"left\":{\"type\":\"field\",\"field\":\"left\"},\"right\":{\"type\":\"field\",\"field\":\"right\"},\"bottom\":{\"type\":\"value\",\"value\":0},\"top\":{\"type\":\"field\",\"field\":\"top\"},\"line_alpha\":{\"type\":\"value\",\"value\":0.1},\"fill_color\":{\"type\":\"value\",\"value\":\"#30a2da\"},\"fill_alpha\":{\"type\":\"value\",\"value\":0.1},\"hatch_color\":{\"type\":\"value\",\"value\":\"#30a2da\"},\"hatch_alpha\":{\"type\":\"value\",\"value\":0.1}}},\"muted_glyph\":{\"type\":\"object\",\"name\":\"Quad\",\"id\":\"p1187\",\"attributes\":{\"tags\":[\"apply_ranges\"],\"left\":{\"type\":\"field\",\"field\":\"left\"},\"right\":{\"type\":\"field\",\"field\":\"right\"},\"bottom\":{\"type\":\"value\",\"value\":0},\"top\":{\"type\":\"field\",\"field\":\"top\"},\"line_alpha\":{\"type\":\"value\",\"value\":0.2},\"fill_color\":{\"type\":\"value\",\"value\":\"#30a2da\"},\"fill_alpha\":{\"type\":\"value\",\"value\":0.2},\"hatch_color\":{\"type\":\"value\",\"value\":\"#30a2da\"},\"hatch_alpha\":{\"type\":\"value\",\"value\":0.2}}}}}],\"toolbar\":{\"type\":\"object\",\"name\":\"Toolbar\",\"id\":\"p1157\",\"attributes\":{\"tools\":[{\"type\":\"object\",\"name\":\"WheelZoomTool\",\"id\":\"p1146\",\"attributes\":{\"tags\":[\"hv_created\"],\"renderers\":\"auto\",\"zoom_together\":\"none\"}},{\"type\":\"object\",\"name\":\"HoverTool\",\"id\":\"p1147\",\"attributes\":{\"tags\":[\"hv_created\"],\"renderers\":[{\"id\":\"p1188\"}],\"tooltips\":[[\"comp_dol\",\"@{comp_dol}\"],[\"Count\",\"@{comp_dol_count}\"]]}},{\"type\":\"object\",\"name\":\"SaveTool\",\"id\":\"p1170\"},{\"type\":\"object\",\"name\":\"PanTool\",\"id\":\"p1171\"},{\"type\":\"object\",\"name\":\"BoxZoomTool\",\"id\":\"p1172\",\"attributes\":{\"overlay\":{\"type\":\"object\",\"name\":\"BoxAnnotation\",\"id\":\"p1173\",\"attributes\":{\"syncable\":false,\"level\":\"overlay\",\"visible\":false,\"left\":{\"type\":\"number\",\"value\":\"nan\"},\"right\":{\"type\":\"number\",\"value\":\"nan\"},\"top\":{\"type\":\"number\",\"value\":\"nan\"},\"bottom\":{\"type\":\"number\",\"value\":\"nan\"},\"left_units\":\"canvas\",\"right_units\":\"canvas\",\"top_units\":\"canvas\",\"bottom_units\":\"canvas\",\"line_color\":\"black\",\"line_alpha\":1.0,\"line_width\":2,\"line_dash\":[4,4],\"fill_color\":\"lightgrey\",\"fill_alpha\":0.5}}}},{\"type\":\"object\",\"name\":\"ResetTool\",\"id\":\"p1178\"}],\"active_drag\":{\"id\":\"p1171\"},\"active_scroll\":{\"id\":\"p1146\"}}},\"left\":[{\"type\":\"object\",\"name\":\"LinearAxis\",\"id\":\"p1165\",\"attributes\":{\"ticker\":{\"type\":\"object\",\"name\":\"BasicTicker\",\"id\":\"p1166\",\"attributes\":{\"mantissas\":[1,2,5]}},\"formatter\":{\"type\":\"object\",\"name\":\"BasicTickFormatter\",\"id\":\"p1167\"},\"axis_label\":\"\",\"major_label_policy\":{\"type\":\"object\",\"name\":\"AllLabels\",\"id\":\"p1168\"}}}],\"below\":[{\"type\":\"object\",\"name\":\"LinearAxis\",\"id\":\"p1160\",\"attributes\":{\"ticker\":{\"type\":\"object\",\"name\":\"BasicTicker\",\"id\":\"p1161\",\"attributes\":{\"mantissas\":[1,2,5]}},\"formatter\":{\"type\":\"object\",\"name\":\"BasicTickFormatter\",\"id\":\"p1162\"},\"axis_label\":\"comp_dol\",\"major_label_policy\":{\"type\":\"object\",\"name\":\"AllLabels\",\"id\":\"p1163\"}}}],\"center\":[{\"type\":\"object\",\"name\":\"Grid\",\"id\":\"p1164\",\"attributes\":{\"axis\":{\"id\":\"p1160\"},\"grid_line_color\":null}},{\"type\":\"object\",\"name\":\"Grid\",\"id\":\"p1169\",\"attributes\":{\"dimension\":1,\"axis\":{\"id\":\"p1165\"},\"grid_line_color\":null}}],\"min_border_top\":10,\"min_border_bottom\":10,\"min_border_left\":10,\"min_border_right\":10,\"output_backend\":\"webgl\"}},{\"type\":\"object\",\"name\":\"Spacer\",\"id\":\"p1193\",\"attributes\":{\"name\":\"HSpacer01161\",\"stylesheets\":[\"\\n:host(.pn-loading.pn-arc):before, .pn-loading.pn-arc:before {\\n  background-image: url(\\\"data:image/svg+xml;base64,PHN2ZyB4bWxucz0iaHR0cDovL3d3dy53My5vcmcvMjAwMC9zdmciIHN0eWxlPSJtYXJnaW46IGF1dG87IGJhY2tncm91bmQ6IG5vbmU7IGRpc3BsYXk6IGJsb2NrOyBzaGFwZS1yZW5kZXJpbmc6IGF1dG87IiB2aWV3Qm94PSIwIDAgMTAwIDEwMCIgcHJlc2VydmVBc3BlY3RSYXRpbz0ieE1pZFlNaWQiPiAgPGNpcmNsZSBjeD0iNTAiIGN5PSI1MCIgZmlsbD0ibm9uZSIgc3Ryb2tlPSIjYzNjM2MzIiBzdHJva2Utd2lkdGg9IjEwIiByPSIzNSIgc3Ryb2tlLWRhc2hhcnJheT0iMTY0LjkzMzYxNDMxMzQ2NDE1IDU2Ljk3Nzg3MTQzNzgyMTM4Ij4gICAgPGFuaW1hdGVUcmFuc2Zvcm0gYXR0cmlidXRlTmFtZT0idHJhbnNmb3JtIiB0eXBlPSJyb3RhdGUiIHJlcGVhdENvdW50PSJpbmRlZmluaXRlIiBkdXI9IjFzIiB2YWx1ZXM9IjAgNTAgNTA7MzYwIDUwIDUwIiBrZXlUaW1lcz0iMDsxIj48L2FuaW1hdGVUcmFuc2Zvcm0+ICA8L2NpcmNsZT48L3N2Zz4=\\\");\\n  background-size: auto calc(min(50%, 400px));\\n}\",{\"id\":\"p1139\"},{\"id\":\"p1137\"},{\"id\":\"p1138\"}],\"margin\":0,\"sizing_mode\":\"stretch_width\",\"align\":\"start\"}}]}}],\"defs\":[{\"type\":\"model\",\"name\":\"ReactiveHTML1\"},{\"type\":\"model\",\"name\":\"FlexBox1\",\"properties\":[{\"name\":\"align_content\",\"kind\":\"Any\",\"default\":\"flex-start\"},{\"name\":\"align_items\",\"kind\":\"Any\",\"default\":\"flex-start\"},{\"name\":\"flex_direction\",\"kind\":\"Any\",\"default\":\"row\"},{\"name\":\"flex_wrap\",\"kind\":\"Any\",\"default\":\"wrap\"},{\"name\":\"justify_content\",\"kind\":\"Any\",\"default\":\"flex-start\"}]},{\"type\":\"model\",\"name\":\"FloatPanel1\",\"properties\":[{\"name\":\"config\",\"kind\":\"Any\",\"default\":{\"type\":\"map\"}},{\"name\":\"contained\",\"kind\":\"Any\",\"default\":true},{\"name\":\"position\",\"kind\":\"Any\",\"default\":\"right-top\"},{\"name\":\"offsetx\",\"kind\":\"Any\",\"default\":null},{\"name\":\"offsety\",\"kind\":\"Any\",\"default\":null},{\"name\":\"theme\",\"kind\":\"Any\",\"default\":\"primary\"},{\"name\":\"status\",\"kind\":\"Any\",\"default\":\"normalized\"}]},{\"type\":\"model\",\"name\":\"GridStack1\",\"properties\":[{\"name\":\"mode\",\"kind\":\"Any\",\"default\":\"warn\"},{\"name\":\"ncols\",\"kind\":\"Any\",\"default\":null},{\"name\":\"nrows\",\"kind\":\"Any\",\"default\":null},{\"name\":\"allow_resize\",\"kind\":\"Any\",\"default\":true},{\"name\":\"allow_drag\",\"kind\":\"Any\",\"default\":true},{\"name\":\"state\",\"kind\":\"Any\",\"default\":[]}]},{\"type\":\"model\",\"name\":\"drag1\",\"properties\":[{\"name\":\"slider_width\",\"kind\":\"Any\",\"default\":5},{\"name\":\"slider_color\",\"kind\":\"Any\",\"default\":\"black\"},{\"name\":\"value\",\"kind\":\"Any\",\"default\":50}]},{\"type\":\"model\",\"name\":\"click1\",\"properties\":[{\"name\":\"terminal_output\",\"kind\":\"Any\",\"default\":\"\"},{\"name\":\"debug_name\",\"kind\":\"Any\",\"default\":\"\"},{\"name\":\"clears\",\"kind\":\"Any\",\"default\":0}]},{\"type\":\"model\",\"name\":\"copy_to_clipboard1\",\"properties\":[{\"name\":\"fill\",\"kind\":\"Any\",\"default\":\"none\"},{\"name\":\"value\",\"kind\":\"Any\",\"default\":null}]},{\"type\":\"model\",\"name\":\"FastWrapper1\",\"properties\":[{\"name\":\"object\",\"kind\":\"Any\",\"default\":null},{\"name\":\"style\",\"kind\":\"Any\",\"default\":null}]},{\"type\":\"model\",\"name\":\"NotificationAreaBase1\",\"properties\":[{\"name\":\"js_events\",\"kind\":\"Any\",\"default\":{\"type\":\"map\"}},{\"name\":\"position\",\"kind\":\"Any\",\"default\":\"bottom-right\"},{\"name\":\"_clear\",\"kind\":\"Any\",\"default\":0}]},{\"type\":\"model\",\"name\":\"NotificationArea1\",\"properties\":[{\"name\":\"js_events\",\"kind\":\"Any\",\"default\":{\"type\":\"map\"}},{\"name\":\"notifications\",\"kind\":\"Any\",\"default\":[]},{\"name\":\"position\",\"kind\":\"Any\",\"default\":\"bottom-right\"},{\"name\":\"_clear\",\"kind\":\"Any\",\"default\":0},{\"name\":\"types\",\"kind\":\"Any\",\"default\":[{\"type\":\"map\",\"entries\":[[\"type\",\"warning\"],[\"background\",\"#ffc107\"],[\"icon\",{\"type\":\"map\",\"entries\":[[\"className\",\"fas fa-exclamation-triangle\"],[\"tagName\",\"i\"],[\"color\",\"white\"]]}]]},{\"type\":\"map\",\"entries\":[[\"type\",\"info\"],[\"background\",\"#007bff\"],[\"icon\",{\"type\":\"map\",\"entries\":[[\"className\",\"fas fa-info-circle\"],[\"tagName\",\"i\"],[\"color\",\"white\"]]}]]}]}]},{\"type\":\"model\",\"name\":\"Notification\",\"properties\":[{\"name\":\"background\",\"kind\":\"Any\",\"default\":null},{\"name\":\"duration\",\"kind\":\"Any\",\"default\":3000},{\"name\":\"icon\",\"kind\":\"Any\",\"default\":null},{\"name\":\"message\",\"kind\":\"Any\",\"default\":\"\"},{\"name\":\"notification_type\",\"kind\":\"Any\",\"default\":null},{\"name\":\"_destroyed\",\"kind\":\"Any\",\"default\":false}]},{\"type\":\"model\",\"name\":\"TemplateActions1\",\"properties\":[{\"name\":\"open_modal\",\"kind\":\"Any\",\"default\":0},{\"name\":\"close_modal\",\"kind\":\"Any\",\"default\":0}]},{\"type\":\"model\",\"name\":\"BootstrapTemplateActions1\",\"properties\":[{\"name\":\"open_modal\",\"kind\":\"Any\",\"default\":0},{\"name\":\"close_modal\",\"kind\":\"Any\",\"default\":0}]},{\"type\":\"model\",\"name\":\"MaterialTemplateActions1\",\"properties\":[{\"name\":\"open_modal\",\"kind\":\"Any\",\"default\":0},{\"name\":\"close_modal\",\"kind\":\"Any\",\"default\":0}]}]}};\n",
       "  var render_items = [{\"docid\":\"e584a889-56e1-43df-aee3-3a0078cf5f59\",\"roots\":{\"p1136\":\"d835c775-49f3-48d5-a066-773551440f76\"},\"root_ids\":[\"p1136\"]}];\n",
       "  var docs = Object.values(docs_json)\n",
       "  if (!docs) {\n",
       "    return\n",
       "  }\n",
       "  const py_version = docs[0].version.replace('rc', '-rc.').replace('.dev', '-dev.')\n",
       "  function embed_document(root) {\n",
       "    var Bokeh = get_bokeh(root)\n",
       "    Bokeh.embed.embed_items_notebook(docs_json, render_items);\n",
       "    for (const render_item of render_items) {\n",
       "      for (const root_id of render_item.root_ids) {\n",
       "\tconst id_el = document.getElementById(root_id)\n",
       "\tif (id_el.children.length && (id_el.children[0].className === 'bk-root')) {\n",
       "\t  const root_el = id_el.children[0]\n",
       "\t  root_el.id = root_el.id + '-rendered'\n",
       "\t}\n",
       "      }\n",
       "    }\n",
       "  }\n",
       "  function get_bokeh(root) {\n",
       "    if (root.Bokeh === undefined) {\n",
       "      return null\n",
       "    } else if (root.Bokeh.version !== py_version) {\n",
       "      if (root.Bokeh.versions === undefined || !root.Bokeh.versions.has(py_version)) {\n",
       "\treturn null\n",
       "      }\n",
       "      return root.Bokeh.versions.get(py_version);\n",
       "    } else if (root.Bokeh.version === py_version) {\n",
       "      return root.Bokeh\n",
       "    }\n",
       "    return null\n",
       "  }\n",
       "  function is_loaded(root) {\n",
       "    var Bokeh = get_bokeh(root)\n",
       "    return (Bokeh != null && Bokeh.Panel !== undefined)\n",
       "  }\n",
       "  if (is_loaded(root)) {\n",
       "    embed_document(root);\n",
       "  } else {\n",
       "    var attempts = 0;\n",
       "    var timer = setInterval(function(root) {\n",
       "      if (is_loaded(root)) {\n",
       "        clearInterval(timer);\n",
       "        embed_document(root);\n",
       "      } else if (document.readyState == \"complete\") {\n",
       "        attempts++;\n",
       "        if (attempts > 200) {\n",
       "          clearInterval(timer);\n",
       "\t  var Bokeh = get_bokeh(root)\n",
       "\t  if (Bokeh == null || Bokeh.Panel == null) {\n",
       "            console.warn(\"Panel: ERROR: Unable to run Panel code because Bokeh or Panel library is missing\");\n",
       "\t  } else {\n",
       "\t    console.warn(\"Panel: WARNING: Attempting to render but not all required libraries could be resolved.\")\n",
       "\t    embed_document(root)\n",
       "\t  }\n",
       "        }\n",
       "      }\n",
       "    }, 25, root)\n",
       "  }\n",
       "})(window);</script>"
      ],
      "text/plain": [
       ":Histogram   [comp_dol]   (comp_dol_count)"
      ]
     },
     "execution_count": 30,
     "metadata": {
      "application/vnd.holoviews_exec.v0+json": {
       "id": "p1136"
      }
     },
     "output_type": "execute_result"
    }
   ],
   "source": [
    "whole_df.filter(pl.col(\"comp_dol\")>1000, pl.col(\"comp_dol\")<10_000).select(pl.col(\"comp_dol\")).plot(kind=\"hist\")"
   ]
  },
  {
   "cell_type": "code",
   "execution_count": 31,
   "id": "1d1a83a4-a3dc-4a39-9b90-792b486cbf84",
   "metadata": {},
   "outputs": [],
   "source": [
    "whole_df = whole_df.with_columns(\n",
    "    pl.when((pl.col(\"comp_dol\")>1000) & (pl.col(\"comp_dol\")<10_000))\n",
    "        .then(pl.col(\"comp_dol\")*12)\n",
    "        .otherwise(pl.col(\"comp_dol\"))\n",
    ")\n",
    "#assuming here that the amounts between 1000-10000 are monthly estimates"
   ]
  },
  {
   "cell_type": "code",
   "execution_count": 32,
   "id": "37a40d0e-52c2-46dc-b0d7-f7698bfb37d1",
   "metadata": {},
   "outputs": [],
   "source": [
    "comp_imput = whole_df.filter(pl.col(\"comp_dol\")>0, pl.col(\"comp_dol\")<1_000_000).select(\"comp_dol\").mean()\n",
    "#mean value of compensation "
   ]
  },
  {
   "cell_type": "code",
   "execution_count": 33,
   "id": "7bae3f97-953f-4328-9c4d-b5f63a1872a2",
   "metadata": {},
   "outputs": [],
   "source": [
    "whole_df = whole_df.with_columns(\n",
    "    comp_dol = pl.when(pl.col(\"comp_dol\")>10_000_000)\n",
    "        .then(comp_imput)\n",
    "        .otherwise(pl.col(\"comp_dol\")))"
   ]
  },
  {
   "cell_type": "code",
   "execution_count": 34,
   "id": "3551455f-33d1-4a7e-8f9d-3ae5862fa415",
   "metadata": {},
   "outputs": [
    {
     "data": {},
     "metadata": {},
     "output_type": "display_data"
    },
    {
     "data": {
      "application/vnd.holoviews_exec.v0+json": "",
      "text/html": [
       "<div id='p1202'>\n",
       "  <div id=\"c0edf15f-af6b-4506-a349-e3b1e5aff476\" data-root-id=\"p1202\" style=\"display: contents;\"></div>\n",
       "</div>\n",
       "<script type=\"application/javascript\">(function(root) {\n",
       "  var docs_json = {\"cffd7bd2-9ab0-4301-b404-b21d02d62083\":{\"version\":\"3.3.4\",\"title\":\"Bokeh Application\",\"roots\":[{\"type\":\"object\",\"name\":\"Row\",\"id\":\"p1202\",\"attributes\":{\"name\":\"Row01261\",\"tags\":[\"embedded\"],\"stylesheets\":[\"\\n:host(.pn-loading.pn-arc):before, .pn-loading.pn-arc:before {\\n  background-image: url(\\\"data:image/svg+xml;base64,PHN2ZyB4bWxucz0iaHR0cDovL3d3dy53My5vcmcvMjAwMC9zdmciIHN0eWxlPSJtYXJnaW46IGF1dG87IGJhY2tncm91bmQ6IG5vbmU7IGRpc3BsYXk6IGJsb2NrOyBzaGFwZS1yZW5kZXJpbmc6IGF1dG87IiB2aWV3Qm94PSIwIDAgMTAwIDEwMCIgcHJlc2VydmVBc3BlY3RSYXRpbz0ieE1pZFlNaWQiPiAgPGNpcmNsZSBjeD0iNTAiIGN5PSI1MCIgZmlsbD0ibm9uZSIgc3Ryb2tlPSIjYzNjM2MzIiBzdHJva2Utd2lkdGg9IjEwIiByPSIzNSIgc3Ryb2tlLWRhc2hhcnJheT0iMTY0LjkzMzYxNDMxMzQ2NDE1IDU2Ljk3Nzg3MTQzNzgyMTM4Ij4gICAgPGFuaW1hdGVUcmFuc2Zvcm0gYXR0cmlidXRlTmFtZT0idHJhbnNmb3JtIiB0eXBlPSJyb3RhdGUiIHJlcGVhdENvdW50PSJpbmRlZmluaXRlIiBkdXI9IjFzIiB2YWx1ZXM9IjAgNTAgNTA7MzYwIDUwIDUwIiBrZXlUaW1lcz0iMDsxIj48L2FuaW1hdGVUcmFuc2Zvcm0+ICA8L2NpcmNsZT48L3N2Zz4=\\\");\\n  background-size: auto calc(min(50%, 400px));\\n}\",{\"type\":\"object\",\"name\":\"ImportedStyleSheet\",\"id\":\"p1205\",\"attributes\":{\"url\":\"https://cdn.holoviz.org/panel/1.3.8/dist/css/loading.css\"}},{\"type\":\"object\",\"name\":\"ImportedStyleSheet\",\"id\":\"p1261\",\"attributes\":{\"url\":\"https://cdn.holoviz.org/panel/1.3.8/dist/css/listpanel.css\"}},{\"type\":\"object\",\"name\":\"ImportedStyleSheet\",\"id\":\"p1203\",\"attributes\":{\"url\":\"https://cdn.holoviz.org/panel/1.3.8/dist/bundled/theme/default.css\"}},{\"type\":\"object\",\"name\":\"ImportedStyleSheet\",\"id\":\"p1204\",\"attributes\":{\"url\":\"https://cdn.holoviz.org/panel/1.3.8/dist/bundled/theme/native.css\"}}],\"min_width\":700,\"margin\":0,\"sizing_mode\":\"stretch_width\",\"align\":\"start\",\"children\":[{\"type\":\"object\",\"name\":\"Spacer\",\"id\":\"p1206\",\"attributes\":{\"name\":\"HSpacer01268\",\"stylesheets\":[\"\\n:host(.pn-loading.pn-arc):before, .pn-loading.pn-arc:before {\\n  background-image: url(\\\"data:image/svg+xml;base64,PHN2ZyB4bWxucz0iaHR0cDovL3d3dy53My5vcmcvMjAwMC9zdmciIHN0eWxlPSJtYXJnaW46IGF1dG87IGJhY2tncm91bmQ6IG5vbmU7IGRpc3BsYXk6IGJsb2NrOyBzaGFwZS1yZW5kZXJpbmc6IGF1dG87IiB2aWV3Qm94PSIwIDAgMTAwIDEwMCIgcHJlc2VydmVBc3BlY3RSYXRpbz0ieE1pZFlNaWQiPiAgPGNpcmNsZSBjeD0iNTAiIGN5PSI1MCIgZmlsbD0ibm9uZSIgc3Ryb2tlPSIjYzNjM2MzIiBzdHJva2Utd2lkdGg9IjEwIiByPSIzNSIgc3Ryb2tlLWRhc2hhcnJheT0iMTY0LjkzMzYxNDMxMzQ2NDE1IDU2Ljk3Nzg3MTQzNzgyMTM4Ij4gICAgPGFuaW1hdGVUcmFuc2Zvcm0gYXR0cmlidXRlTmFtZT0idHJhbnNmb3JtIiB0eXBlPSJyb3RhdGUiIHJlcGVhdENvdW50PSJpbmRlZmluaXRlIiBkdXI9IjFzIiB2YWx1ZXM9IjAgNTAgNTA7MzYwIDUwIDUwIiBrZXlUaW1lcz0iMDsxIj48L2FuaW1hdGVUcmFuc2Zvcm0+ICA8L2NpcmNsZT48L3N2Zz4=\\\");\\n  background-size: auto calc(min(50%, 400px));\\n}\",{\"id\":\"p1205\"},{\"id\":\"p1203\"},{\"id\":\"p1204\"}],\"margin\":0,\"sizing_mode\":\"stretch_width\",\"align\":\"start\"}},{\"type\":\"object\",\"name\":\"Figure\",\"id\":\"p1214\",\"attributes\":{\"width\":700,\"height\":300,\"margin\":[5,10],\"sizing_mode\":\"fixed\",\"align\":\"start\",\"x_range\":{\"type\":\"object\",\"name\":\"Range1d\",\"id\":\"p1207\",\"attributes\":{\"tags\":[[[\"comp_dol\",\"comp_dol\",null]],[]],\"start\":-41142.58705035971,\"end\":1001142.8460431654,\"reset_start\":-41142.58705035971,\"reset_end\":1001142.8460431654}},\"y_range\":{\"type\":\"object\",\"name\":\"Range1d\",\"id\":\"p1208\",\"attributes\":{\"tags\":[[[\"comp_dol_count\",\"Count\",null]],{\"type\":\"map\",\"entries\":[[\"invert_yaxis\",false],[\"autorange\",false]]}],\"end\":5317.4,\"reset_start\":0.0,\"reset_end\":5317.4}},\"x_scale\":{\"type\":\"object\",\"name\":\"LinearScale\",\"id\":\"p1224\"},\"y_scale\":{\"type\":\"object\",\"name\":\"LinearScale\",\"id\":\"p1225\"},\"title\":{\"type\":\"object\",\"name\":\"Title\",\"id\":\"p1217\",\"attributes\":{\"text_color\":\"black\",\"text_font_size\":\"12pt\"}},\"renderers\":[{\"type\":\"object\",\"name\":\"GlyphRenderer\",\"id\":\"p1254\",\"attributes\":{\"data_source\":{\"type\":\"object\",\"name\":\"ColumnDataSource\",\"id\":\"p1245\",\"attributes\":{\"selected\":{\"type\":\"object\",\"name\":\"Selection\",\"id\":\"p1246\",\"attributes\":{\"indices\":[],\"line_indices\":[]}},\"selection_policy\":{\"type\":\"object\",\"name\":\"UnionRenderers\",\"id\":\"p1247\"},\"data\":{\"type\":\"map\",\"entries\":[[\"top\",{\"type\":\"ndarray\",\"array\":{\"type\":\"bytes\",\"data\":\"4hIAAPUOAACZDAAA5wcAAJQCAADLAAAAPgAAACcAAAASAAAABwAAAAsAAAAEAAAABgAAAAIAAAAAAAAABAAAAAMAAAADAAAAAAAAAAEAAAA=\"},\"shape\":[20],\"dtype\":\"int32\",\"order\":\"little\"}],[\"left\",{\"type\":\"ndarray\",\"array\":{\"type\":\"bytes\",\"data\":\"3Jinj1aT0D+j6pXfB3DnQLlGwLoDcPdAEMzawgGUAUHEdFWoAXAHQXgd0I0BTA1BFWOluQCUEUFvt2KsAIIUQckLIJ8AcBdBI2DdkQBeGkF9tJqEAEwdQWsErDsAHSBBmK4KNQCUIUHFWGkuAAsjQfICyCcAgiRBH60mIQD5JUFMV4UaAHAnQXkB5BMA5yhBpqtCDQBeKkHTVaEGANUrQQ==\"},\"shape\":[20],\"dtype\":\"float64\",\"order\":\"little\"}],[\"right\",{\"type\":\"ndarray\",\"array\":{\"type\":\"bytes\",\"data\":\"o+qV3wdw50C5RsC6A3D3QBDM2sIBlAFBxHRVqAFwB0F4HdCNAUwNQRVjpbkAlBFBb7dirACCFEHJCyCfAHAXQSNg3ZEAXhpBfbSahABMHUFrBKw7AB0gQZiuCjUAlCFBxVhpLgALI0HyAsgnAIIkQR+tJiEA+SVBTFeFGgBwJ0F5AeQTAOcoQaarQg0AXipB01WhBgDVK0EAAAAAAEwtQQ==\"},\"shape\":[20],\"dtype\":\"float64\",\"order\":\"little\"}],[\"comp_dol\",{\"type\":\"ndarray\",\"array\":{\"type\":\"bytes\",\"data\":\"dzJBKRBw10AFnkXVA5TxQGzvOqADTP1AaiCYtQGCBEEeyRKbAV4KQei4RsAAHRBBQg0EswALE0GcYcGlAPkVQfa1fpgA5xhBUAo8iwDVG0GqXvl9AMMeQYJZWziA2CBBrgO6MYBPIkHcrRgrgMYjQQhYdySAPSVBNgLWHYC0JkFirDQXgCsoQZBWkxCAoilBvADyCYAZK0HqqlADgJAsQQ==\"},\"shape\":[20],\"dtype\":\"float64\",\"order\":\"little\"}],[\"comp_dol_count\",{\"type\":\"ndarray\",\"array\":{\"type\":\"bytes\",\"data\":\"4hIAAPUOAACZDAAA5wcAAJQCAADLAAAAPgAAACcAAAASAAAABwAAAAsAAAAEAAAABgAAAAIAAAAAAAAABAAAAAMAAAADAAAAAAAAAAEAAAA=\"},\"shape\":[20],\"dtype\":\"int32\",\"order\":\"little\"}]]}}},\"view\":{\"type\":\"object\",\"name\":\"CDSView\",\"id\":\"p1255\",\"attributes\":{\"filter\":{\"type\":\"object\",\"name\":\"AllIndices\",\"id\":\"p1256\"}}},\"glyph\":{\"type\":\"object\",\"name\":\"Quad\",\"id\":\"p1251\",\"attributes\":{\"tags\":[\"apply_ranges\"],\"left\":{\"type\":\"field\",\"field\":\"left\"},\"right\":{\"type\":\"field\",\"field\":\"right\"},\"bottom\":{\"type\":\"value\",\"value\":0},\"top\":{\"type\":\"field\",\"field\":\"top\"},\"fill_color\":{\"type\":\"value\",\"value\":\"#30a2da\"},\"hatch_color\":{\"type\":\"value\",\"value\":\"#30a2da\"}}},\"selection_glyph\":{\"type\":\"object\",\"name\":\"Quad\",\"id\":\"p1257\",\"attributes\":{\"tags\":[\"apply_ranges\"],\"left\":{\"type\":\"field\",\"field\":\"left\"},\"right\":{\"type\":\"field\",\"field\":\"right\"},\"bottom\":{\"type\":\"value\",\"value\":0},\"top\":{\"type\":\"field\",\"field\":\"top\"},\"line_color\":{\"type\":\"value\",\"value\":\"black\"},\"line_alpha\":{\"type\":\"value\",\"value\":1.0},\"line_width\":{\"type\":\"value\",\"value\":1},\"line_join\":{\"type\":\"value\",\"value\":\"bevel\"},\"line_cap\":{\"type\":\"value\",\"value\":\"butt\"},\"line_dash\":{\"type\":\"value\",\"value\":[]},\"line_dash_offset\":{\"type\":\"value\",\"value\":0},\"fill_color\":{\"type\":\"value\",\"value\":\"#30a2da\"},\"fill_alpha\":{\"type\":\"value\",\"value\":1.0},\"hatch_color\":{\"type\":\"value\",\"value\":\"#30a2da\"},\"hatch_alpha\":{\"type\":\"value\",\"value\":1.0},\"hatch_scale\":{\"type\":\"value\",\"value\":12.0},\"hatch_pattern\":{\"type\":\"value\",\"value\":null},\"hatch_weight\":{\"type\":\"value\",\"value\":1.0}}},\"nonselection_glyph\":{\"type\":\"object\",\"name\":\"Quad\",\"id\":\"p1252\",\"attributes\":{\"tags\":[\"apply_ranges\"],\"left\":{\"type\":\"field\",\"field\":\"left\"},\"right\":{\"type\":\"field\",\"field\":\"right\"},\"bottom\":{\"type\":\"value\",\"value\":0},\"top\":{\"type\":\"field\",\"field\":\"top\"},\"line_alpha\":{\"type\":\"value\",\"value\":0.1},\"fill_color\":{\"type\":\"value\",\"value\":\"#30a2da\"},\"fill_alpha\":{\"type\":\"value\",\"value\":0.1},\"hatch_color\":{\"type\":\"value\",\"value\":\"#30a2da\"},\"hatch_alpha\":{\"type\":\"value\",\"value\":0.1}}},\"muted_glyph\":{\"type\":\"object\",\"name\":\"Quad\",\"id\":\"p1253\",\"attributes\":{\"tags\":[\"apply_ranges\"],\"left\":{\"type\":\"field\",\"field\":\"left\"},\"right\":{\"type\":\"field\",\"field\":\"right\"},\"bottom\":{\"type\":\"value\",\"value\":0},\"top\":{\"type\":\"field\",\"field\":\"top\"},\"line_alpha\":{\"type\":\"value\",\"value\":0.2},\"fill_color\":{\"type\":\"value\",\"value\":\"#30a2da\"},\"fill_alpha\":{\"type\":\"value\",\"value\":0.2},\"hatch_color\":{\"type\":\"value\",\"value\":\"#30a2da\"},\"hatch_alpha\":{\"type\":\"value\",\"value\":0.2}}}}}],\"toolbar\":{\"type\":\"object\",\"name\":\"Toolbar\",\"id\":\"p1223\",\"attributes\":{\"tools\":[{\"type\":\"object\",\"name\":\"WheelZoomTool\",\"id\":\"p1212\",\"attributes\":{\"tags\":[\"hv_created\"],\"renderers\":\"auto\",\"zoom_together\":\"none\"}},{\"type\":\"object\",\"name\":\"HoverTool\",\"id\":\"p1213\",\"attributes\":{\"tags\":[\"hv_created\"],\"renderers\":[{\"id\":\"p1254\"}],\"tooltips\":[[\"comp_dol\",\"@{comp_dol}\"],[\"Count\",\"@{comp_dol_count}\"]]}},{\"type\":\"object\",\"name\":\"SaveTool\",\"id\":\"p1236\"},{\"type\":\"object\",\"name\":\"PanTool\",\"id\":\"p1237\"},{\"type\":\"object\",\"name\":\"BoxZoomTool\",\"id\":\"p1238\",\"attributes\":{\"overlay\":{\"type\":\"object\",\"name\":\"BoxAnnotation\",\"id\":\"p1239\",\"attributes\":{\"syncable\":false,\"level\":\"overlay\",\"visible\":false,\"left\":{\"type\":\"number\",\"value\":\"nan\"},\"right\":{\"type\":\"number\",\"value\":\"nan\"},\"top\":{\"type\":\"number\",\"value\":\"nan\"},\"bottom\":{\"type\":\"number\",\"value\":\"nan\"},\"left_units\":\"canvas\",\"right_units\":\"canvas\",\"top_units\":\"canvas\",\"bottom_units\":\"canvas\",\"line_color\":\"black\",\"line_alpha\":1.0,\"line_width\":2,\"line_dash\":[4,4],\"fill_color\":\"lightgrey\",\"fill_alpha\":0.5}}}},{\"type\":\"object\",\"name\":\"ResetTool\",\"id\":\"p1244\"}],\"active_drag\":{\"id\":\"p1237\"},\"active_scroll\":{\"id\":\"p1212\"}}},\"left\":[{\"type\":\"object\",\"name\":\"LinearAxis\",\"id\":\"p1231\",\"attributes\":{\"ticker\":{\"type\":\"object\",\"name\":\"BasicTicker\",\"id\":\"p1232\",\"attributes\":{\"mantissas\":[1,2,5]}},\"formatter\":{\"type\":\"object\",\"name\":\"BasicTickFormatter\",\"id\":\"p1233\"},\"axis_label\":\"\",\"major_label_policy\":{\"type\":\"object\",\"name\":\"AllLabels\",\"id\":\"p1234\"}}}],\"below\":[{\"type\":\"object\",\"name\":\"LinearAxis\",\"id\":\"p1226\",\"attributes\":{\"ticker\":{\"type\":\"object\",\"name\":\"BasicTicker\",\"id\":\"p1227\",\"attributes\":{\"mantissas\":[1,2,5]}},\"formatter\":{\"type\":\"object\",\"name\":\"BasicTickFormatter\",\"id\":\"p1228\"},\"axis_label\":\"comp_dol\",\"major_label_policy\":{\"type\":\"object\",\"name\":\"AllLabels\",\"id\":\"p1229\"}}}],\"center\":[{\"type\":\"object\",\"name\":\"Grid\",\"id\":\"p1230\",\"attributes\":{\"axis\":{\"id\":\"p1226\"},\"grid_line_color\":null}},{\"type\":\"object\",\"name\":\"Grid\",\"id\":\"p1235\",\"attributes\":{\"dimension\":1,\"axis\":{\"id\":\"p1231\"},\"grid_line_color\":null}}],\"min_border_top\":10,\"min_border_bottom\":10,\"min_border_left\":10,\"min_border_right\":10,\"output_backend\":\"webgl\"}},{\"type\":\"object\",\"name\":\"Spacer\",\"id\":\"p1259\",\"attributes\":{\"name\":\"HSpacer01269\",\"stylesheets\":[\"\\n:host(.pn-loading.pn-arc):before, .pn-loading.pn-arc:before {\\n  background-image: url(\\\"data:image/svg+xml;base64,PHN2ZyB4bWxucz0iaHR0cDovL3d3dy53My5vcmcvMjAwMC9zdmciIHN0eWxlPSJtYXJnaW46IGF1dG87IGJhY2tncm91bmQ6IG5vbmU7IGRpc3BsYXk6IGJsb2NrOyBzaGFwZS1yZW5kZXJpbmc6IGF1dG87IiB2aWV3Qm94PSIwIDAgMTAwIDEwMCIgcHJlc2VydmVBc3BlY3RSYXRpbz0ieE1pZFlNaWQiPiAgPGNpcmNsZSBjeD0iNTAiIGN5PSI1MCIgZmlsbD0ibm9uZSIgc3Ryb2tlPSIjYzNjM2MzIiBzdHJva2Utd2lkdGg9IjEwIiByPSIzNSIgc3Ryb2tlLWRhc2hhcnJheT0iMTY0LjkzMzYxNDMxMzQ2NDE1IDU2Ljk3Nzg3MTQzNzgyMTM4Ij4gICAgPGFuaW1hdGVUcmFuc2Zvcm0gYXR0cmlidXRlTmFtZT0idHJhbnNmb3JtIiB0eXBlPSJyb3RhdGUiIHJlcGVhdENvdW50PSJpbmRlZmluaXRlIiBkdXI9IjFzIiB2YWx1ZXM9IjAgNTAgNTA7MzYwIDUwIDUwIiBrZXlUaW1lcz0iMDsxIj48L2FuaW1hdGVUcmFuc2Zvcm0+ICA8L2NpcmNsZT48L3N2Zz4=\\\");\\n  background-size: auto calc(min(50%, 400px));\\n}\",{\"id\":\"p1205\"},{\"id\":\"p1203\"},{\"id\":\"p1204\"}],\"margin\":0,\"sizing_mode\":\"stretch_width\",\"align\":\"start\"}}]}}],\"defs\":[{\"type\":\"model\",\"name\":\"ReactiveHTML1\"},{\"type\":\"model\",\"name\":\"FlexBox1\",\"properties\":[{\"name\":\"align_content\",\"kind\":\"Any\",\"default\":\"flex-start\"},{\"name\":\"align_items\",\"kind\":\"Any\",\"default\":\"flex-start\"},{\"name\":\"flex_direction\",\"kind\":\"Any\",\"default\":\"row\"},{\"name\":\"flex_wrap\",\"kind\":\"Any\",\"default\":\"wrap\"},{\"name\":\"justify_content\",\"kind\":\"Any\",\"default\":\"flex-start\"}]},{\"type\":\"model\",\"name\":\"FloatPanel1\",\"properties\":[{\"name\":\"config\",\"kind\":\"Any\",\"default\":{\"type\":\"map\"}},{\"name\":\"contained\",\"kind\":\"Any\",\"default\":true},{\"name\":\"position\",\"kind\":\"Any\",\"default\":\"right-top\"},{\"name\":\"offsetx\",\"kind\":\"Any\",\"default\":null},{\"name\":\"offsety\",\"kind\":\"Any\",\"default\":null},{\"name\":\"theme\",\"kind\":\"Any\",\"default\":\"primary\"},{\"name\":\"status\",\"kind\":\"Any\",\"default\":\"normalized\"}]},{\"type\":\"model\",\"name\":\"GridStack1\",\"properties\":[{\"name\":\"mode\",\"kind\":\"Any\",\"default\":\"warn\"},{\"name\":\"ncols\",\"kind\":\"Any\",\"default\":null},{\"name\":\"nrows\",\"kind\":\"Any\",\"default\":null},{\"name\":\"allow_resize\",\"kind\":\"Any\",\"default\":true},{\"name\":\"allow_drag\",\"kind\":\"Any\",\"default\":true},{\"name\":\"state\",\"kind\":\"Any\",\"default\":[]}]},{\"type\":\"model\",\"name\":\"drag1\",\"properties\":[{\"name\":\"slider_width\",\"kind\":\"Any\",\"default\":5},{\"name\":\"slider_color\",\"kind\":\"Any\",\"default\":\"black\"},{\"name\":\"value\",\"kind\":\"Any\",\"default\":50}]},{\"type\":\"model\",\"name\":\"click1\",\"properties\":[{\"name\":\"terminal_output\",\"kind\":\"Any\",\"default\":\"\"},{\"name\":\"debug_name\",\"kind\":\"Any\",\"default\":\"\"},{\"name\":\"clears\",\"kind\":\"Any\",\"default\":0}]},{\"type\":\"model\",\"name\":\"copy_to_clipboard1\",\"properties\":[{\"name\":\"fill\",\"kind\":\"Any\",\"default\":\"none\"},{\"name\":\"value\",\"kind\":\"Any\",\"default\":null}]},{\"type\":\"model\",\"name\":\"FastWrapper1\",\"properties\":[{\"name\":\"object\",\"kind\":\"Any\",\"default\":null},{\"name\":\"style\",\"kind\":\"Any\",\"default\":null}]},{\"type\":\"model\",\"name\":\"NotificationAreaBase1\",\"properties\":[{\"name\":\"js_events\",\"kind\":\"Any\",\"default\":{\"type\":\"map\"}},{\"name\":\"position\",\"kind\":\"Any\",\"default\":\"bottom-right\"},{\"name\":\"_clear\",\"kind\":\"Any\",\"default\":0}]},{\"type\":\"model\",\"name\":\"NotificationArea1\",\"properties\":[{\"name\":\"js_events\",\"kind\":\"Any\",\"default\":{\"type\":\"map\"}},{\"name\":\"notifications\",\"kind\":\"Any\",\"default\":[]},{\"name\":\"position\",\"kind\":\"Any\",\"default\":\"bottom-right\"},{\"name\":\"_clear\",\"kind\":\"Any\",\"default\":0},{\"name\":\"types\",\"kind\":\"Any\",\"default\":[{\"type\":\"map\",\"entries\":[[\"type\",\"warning\"],[\"background\",\"#ffc107\"],[\"icon\",{\"type\":\"map\",\"entries\":[[\"className\",\"fas fa-exclamation-triangle\"],[\"tagName\",\"i\"],[\"color\",\"white\"]]}]]},{\"type\":\"map\",\"entries\":[[\"type\",\"info\"],[\"background\",\"#007bff\"],[\"icon\",{\"type\":\"map\",\"entries\":[[\"className\",\"fas fa-info-circle\"],[\"tagName\",\"i\"],[\"color\",\"white\"]]}]]}]}]},{\"type\":\"model\",\"name\":\"Notification\",\"properties\":[{\"name\":\"background\",\"kind\":\"Any\",\"default\":null},{\"name\":\"duration\",\"kind\":\"Any\",\"default\":3000},{\"name\":\"icon\",\"kind\":\"Any\",\"default\":null},{\"name\":\"message\",\"kind\":\"Any\",\"default\":\"\"},{\"name\":\"notification_type\",\"kind\":\"Any\",\"default\":null},{\"name\":\"_destroyed\",\"kind\":\"Any\",\"default\":false}]},{\"type\":\"model\",\"name\":\"TemplateActions1\",\"properties\":[{\"name\":\"open_modal\",\"kind\":\"Any\",\"default\":0},{\"name\":\"close_modal\",\"kind\":\"Any\",\"default\":0}]},{\"type\":\"model\",\"name\":\"BootstrapTemplateActions1\",\"properties\":[{\"name\":\"open_modal\",\"kind\":\"Any\",\"default\":0},{\"name\":\"close_modal\",\"kind\":\"Any\",\"default\":0}]},{\"type\":\"model\",\"name\":\"MaterialTemplateActions1\",\"properties\":[{\"name\":\"open_modal\",\"kind\":\"Any\",\"default\":0},{\"name\":\"close_modal\",\"kind\":\"Any\",\"default\":0}]}]}};\n",
       "  var render_items = [{\"docid\":\"cffd7bd2-9ab0-4301-b404-b21d02d62083\",\"roots\":{\"p1202\":\"c0edf15f-af6b-4506-a349-e3b1e5aff476\"},\"root_ids\":[\"p1202\"]}];\n",
       "  var docs = Object.values(docs_json)\n",
       "  if (!docs) {\n",
       "    return\n",
       "  }\n",
       "  const py_version = docs[0].version.replace('rc', '-rc.').replace('.dev', '-dev.')\n",
       "  function embed_document(root) {\n",
       "    var Bokeh = get_bokeh(root)\n",
       "    Bokeh.embed.embed_items_notebook(docs_json, render_items);\n",
       "    for (const render_item of render_items) {\n",
       "      for (const root_id of render_item.root_ids) {\n",
       "\tconst id_el = document.getElementById(root_id)\n",
       "\tif (id_el.children.length && (id_el.children[0].className === 'bk-root')) {\n",
       "\t  const root_el = id_el.children[0]\n",
       "\t  root_el.id = root_el.id + '-rendered'\n",
       "\t}\n",
       "      }\n",
       "    }\n",
       "  }\n",
       "  function get_bokeh(root) {\n",
       "    if (root.Bokeh === undefined) {\n",
       "      return null\n",
       "    } else if (root.Bokeh.version !== py_version) {\n",
       "      if (root.Bokeh.versions === undefined || !root.Bokeh.versions.has(py_version)) {\n",
       "\treturn null\n",
       "      }\n",
       "      return root.Bokeh.versions.get(py_version);\n",
       "    } else if (root.Bokeh.version === py_version) {\n",
       "      return root.Bokeh\n",
       "    }\n",
       "    return null\n",
       "  }\n",
       "  function is_loaded(root) {\n",
       "    var Bokeh = get_bokeh(root)\n",
       "    return (Bokeh != null && Bokeh.Panel !== undefined)\n",
       "  }\n",
       "  if (is_loaded(root)) {\n",
       "    embed_document(root);\n",
       "  } else {\n",
       "    var attempts = 0;\n",
       "    var timer = setInterval(function(root) {\n",
       "      if (is_loaded(root)) {\n",
       "        clearInterval(timer);\n",
       "        embed_document(root);\n",
       "      } else if (document.readyState == \"complete\") {\n",
       "        attempts++;\n",
       "        if (attempts > 200) {\n",
       "          clearInterval(timer);\n",
       "\t  var Bokeh = get_bokeh(root)\n",
       "\t  if (Bokeh == null || Bokeh.Panel == null) {\n",
       "            console.warn(\"Panel: ERROR: Unable to run Panel code because Bokeh or Panel library is missing\");\n",
       "\t  } else {\n",
       "\t    console.warn(\"Panel: WARNING: Attempting to render but not all required libraries could be resolved.\")\n",
       "\t    embed_document(root)\n",
       "\t  }\n",
       "        }\n",
       "      }\n",
       "    }, 25, root)\n",
       "  }\n",
       "})(window);</script>"
      ],
      "text/plain": [
       ":Histogram   [comp_dol]   (comp_dol_count)"
      ]
     },
     "execution_count": 34,
     "metadata": {
      "application/vnd.holoviews_exec.v0+json": {
       "id": "p1202"
      }
     },
     "output_type": "execute_result"
    }
   ],
   "source": [
    "whole_df.filter(pl.col(\"comp_dol\")<1_000_000).select(pl.col(\"comp_dol\")).plot(kind=\"hist\")"
   ]
  },
  {
   "cell_type": "markdown",
   "id": "a2050645-7991-4511-854d-45c3084e4c9f",
   "metadata": {},
   "source": [
    "2. Converting 'job_published_at', 'last_indexed' to Date"
   ]
  },
  {
   "cell_type": "code",
   "execution_count": 35,
   "id": "a08331af-f67c-4fc7-b4b2-d9373adcd309",
   "metadata": {},
   "outputs": [],
   "source": [
    "whole_df = whole_df.with_columns(\n",
    "    pl.col(\"job_published_at\", \"last_indexed\").str.to_datetime().cast(pl.Date)\n",
    ")"
   ]
  },
  {
   "cell_type": "markdown",
   "id": "a4a7a27d-230a-4084-bb2b-e2b69061005c",
   "metadata": {},
   "source": [
    "3. Converting 'tags_matched', 'tag_categories', 'categories' from str to list[str] and to one col with tags"
   ]
  },
  {
   "cell_type": "code",
   "execution_count": 36,
   "id": "0e4ab02a-8d5d-4785-bed1-c7ab20db0a7d",
   "metadata": {},
   "outputs": [],
   "source": [
    "def string_to_nested(df, cols):\n",
    "    \"\"\"\n",
    "    takes a df and list of columns that contain strings with lists\n",
    "    and turns them into nested datatype List\n",
    "    \"\"\"\n",
    "    for col in cols:\n",
    "        df = df.with_columns(\n",
    "            pl.col(col).str.extract_all(r\"\\w+\").cast(pl.List(pl.String))\n",
    "        )\n",
    "    return df"
   ]
  },
  {
   "cell_type": "code",
   "execution_count": 37,
   "id": "8dd8ab91-8f90-483f-841b-df1d20e546e2",
   "metadata": {},
   "outputs": [],
   "source": [
    "cols_to_change = [\"tags_matched\", \"tag_categories\", \"categories\"]\n",
    "whole_df = string_to_nested(whole_df, cols_to_change)"
   ]
  },
  {
   "cell_type": "code",
   "execution_count": 38,
   "id": "17a74b43-4479-4aa7-8127-b36a9b8713a3",
   "metadata": {},
   "outputs": [
    {
     "data": {
      "text/html": [
       "<div><style>\n",
       ".dataframe > thead > tr,\n",
       ".dataframe > tbody > tr {\n",
       "  text-align: right;\n",
       "  white-space: pre-wrap;\n",
       "}\n",
       "</style>\n",
       "<small>shape: (100_000,)</small><table border=\"1\" class=\"dataframe\"><thead><tr><th>all_tags</th></tr><tr><td>list[str]</td></tr></thead><tbody><tr><td>[&quot;Science&quot;, &quot;TypeScript&quot;, … &quot;Programming&quot;]</td></tr><tr><td>[&quot;Tools&quot;, &quot;Serverless&quot;, … &quot;Sigma&quot;]</td></tr><tr><td>[&quot;Design&quot;]</td></tr><tr><td>[&quot;PaaS&quot;, &quot;Infrastructure&quot;, … &quot;Security&quot;]</td></tr><tr><td>[&quot;iOS&quot;, &quot;Software&quot;, … &quot;Version&quot;]</td></tr><tr><td>&hellip;</td></tr><tr><td>[&quot;Shortening&quot;, &quot;Twitter&quot;, … &quot;Link&quot;]</td></tr><tr><td>[&quot;Industrial&quot;, &quot;Engineering&quot;, &quot;Mechanical&quot;]</td></tr><tr><td>[]</td></tr><tr><td>[&quot;Processing&quot;, &quot;OSS&quot;, … &quot;ML&quot;]</td></tr><tr><td>[&quot;Medical&quot;, &quot;Devices&quot;]</td></tr></tbody></table></div>"
      ],
      "text/plain": [
       "shape: (100_000,)\n",
       "Series: 'all_tags' [list[str]]\n",
       "[\n",
       "\t[\"Science\", \"TypeScript\", … \"Programming\"]\n",
       "\t[\"Tools\", \"Serverless\", … \"Sigma\"]\n",
       "\t[\"Design\"]\n",
       "\t[\"PaaS\", \"Infrastructure\", … \"Security\"]\n",
       "\t[\"iOS\", \"Software\", … \"Version\"]\n",
       "\t…\n",
       "\t[\"Shortening\", \"Twitter\", … \"Link\"]\n",
       "\t[\"Industrial\", \"Engineering\", \"Mechanical\"]\n",
       "\t[]\n",
       "\t[\"Processing\", \"OSS\", … \"ML\"]\n",
       "\t[\"Medical\", \"Devices\"]\n",
       "]"
      ]
     },
     "execution_count": 38,
     "metadata": {},
     "output_type": "execute_result"
    }
   ],
   "source": [
    "whole_df = whole_df.with_columns(\n",
    "    all_tags=pl.col(\"tags_matched\")\n",
    "    .list.concat([\"tag_categories\", \"categories\"])\n",
    "    .list.unique()\n",
    ")\n",
    "whole_df[\"all_tags\"]"
   ]
  },
  {
   "cell_type": "markdown",
   "id": "839e23d8-97d8-4d25-ab85-99d8bb96e4b0",
   "metadata": {},
   "source": [
    "4. Language/ education/hours/seniority -> pl.Categorical"
   ]
  },
  {
   "cell_type": "markdown",
   "id": "24a2df37-2cb9-4831-83ad-ae6a472e395a",
   "metadata": {},
   "source": [
    "a) language - cleaning the string, imputing the null value and casting to pl.Categorical"
   ]
  },
  {
   "cell_type": "code",
   "execution_count": 39,
   "id": "482894ef-78cb-4af1-9801-6206a640bc81",
   "metadata": {},
   "outputs": [],
   "source": [
    "whole_df = whole_df.with_columns(pl.col(\"language\").str.head(2))"
   ]
  },
  {
   "cell_type": "code",
   "execution_count": 40,
   "id": "b65d42ca-40f0-457b-ac56-119fb1b11b3c",
   "metadata": {},
   "outputs": [
    {
     "name": "stderr",
     "output_type": "stream",
     "text": [
      "/tmp/ipykernel_24935/2234765048.py:1: CategoricalRemappingWarning: Local categoricals have different encodings, expensive re-encoding is done to perform this merge operation. Consider using a StringCache or an Enum type if the categories are known in advance\n",
      "  whole_df = whole_df.with_columns(\n"
     ]
    }
   ],
   "source": [
    "whole_df = whole_df.with_columns(\n",
    "    pl.col(\"language\").fill_null(\"unknown\").cast(pl.Categorical)\n",
    ")  # introducing \"unknow\" category, only 584 nulls"
   ]
  },
  {
   "cell_type": "code",
   "execution_count": 41,
   "id": "d8826f7f-74c1-4181-b217-911670554e1f",
   "metadata": {},
   "outputs": [
    {
     "data": {
      "text/html": [
       "<div><style>\n",
       ".dataframe > thead > tr,\n",
       ".dataframe > tbody > tr {\n",
       "  text-align: right;\n",
       "  white-space: pre-wrap;\n",
       "}\n",
       "</style>\n",
       "<small>shape: (584, 23)</small><table border=\"1\" class=\"dataframe\"><thead><tr><th>job_name</th><th>job_location</th><th>hours</th><th>remote</th><th>company_name</th><th>education</th><th>tags_matched</th><th>tag_categories</th><th>categories</th><th>seniority</th><th>comp_est</th><th>language</th><th>city</th><th>country</th><th>job_published_at</th><th>last_indexed</th><th>sample_date</th><th>len_comp</th><th>est</th><th>est_float</th><th>compensation</th><th>comp_dol</th><th>all_tags</th></tr><tr><td>str</td><td>str</td><td>str</td><td>bool</td><td>str</td><td>str</td><td>list[str]</td><td>list[str]</td><td>list[str]</td><td>str</td><td>str</td><td>cat</td><td>str</td><td>str</td><td>date</td><td>date</td><td>str</td><td>u32</td><td>list[str]</td><td>list[f64]</td><td>f64</td><td>f64</td><td>list[str]</td></tr></thead><tbody><tr><td>&quot;Senior Lab Engineer - Robotics…</td><td>&quot;UrbanVault 1608, 7th Cross Opp…</td><td>&quot;Full-Time&quot;</td><td>null</td><td>&quot;CynLr&quot;</td><td>null</td><td>null</td><td>null</td><td>[&quot;Robotics&quot;]</td><td>&quot;Senior IC&quot;</td><td>&quot;&quot;</td><td>&quot;unknown&quot;</td><td>&quot;Karnataka&quot;</td><td>&quot;India&quot;</td><td>2023-05-15</td><td>2023-06-05</td><td>&quot;2023&quot;</td><td>0</td><td>[&quot;&quot;, &quot;&quot;]</td><td>[null, null]</td><td>null</td><td>null</td><td>null</td></tr><tr><td>&quot;computer engineer&quot;</td><td>null</td><td>&quot;Full-Time&quot;</td><td>null</td><td>&quot;LAMAS consulting&quot;</td><td>null</td><td>[]</td><td>[]</td><td>[&quot;Consulting&quot;]</td><td>null</td><td>&quot;&quot;</td><td>&quot;unknown&quot;</td><td>&quot;Riyadh&quot;</td><td>&quot;Saudi Arabia&quot;</td><td>null</td><td>2023-06-07</td><td>&quot;2023&quot;</td><td>0</td><td>[&quot;&quot;, &quot;&quot;]</td><td>[null, null]</td><td>null</td><td>null</td><td>[&quot;Consulting&quot;]</td></tr><tr><td>&quot;Full-stack web developer&quot;</td><td>&quot;Singapore Office&quot;</td><td>null</td><td>null</td><td>&quot;LittleLives&quot;</td><td>null</td><td>null</td><td>null</td><td>[&quot;Web&quot;, &quot;Development&quot;, &quot;Software&quot;]</td><td>null</td><td>&quot;&quot;</td><td>&quot;unknown&quot;</td><td>&quot;Singapore&quot;</td><td>&quot;Singapore&quot;</td><td>2023-06-03</td><td>2023-06-05</td><td>&quot;2023&quot;</td><td>0</td><td>[&quot;&quot;, &quot;&quot;]</td><td>[null, null]</td><td>null</td><td>null</td><td>null</td></tr><tr><td>&quot;FEA Physicist/Engineer&quot;</td><td>&quot;Aldermaston&quot;</td><td>&quot;Full-Time&quot;</td><td>null</td><td>&quot;AWE&quot;</td><td>null</td><td>null</td><td>null</td><td>[&quot;Science&quot;]</td><td>null</td><td>&quot;&quot;</td><td>&quot;unknown&quot;</td><td>null</td><td>&quot;United Kingdom&quot;</td><td>2023-05-02</td><td>2023-05-25</td><td>&quot;2023&quot;</td><td>0</td><td>[&quot;&quot;, &quot;&quot;]</td><td>[null, null]</td><td>null</td><td>null</td><td>null</td></tr><tr><td>&quot;Go Engineer&quot;</td><td>null</td><td>null</td><td>null</td><td>&quot;Rackspace&quot;</td><td>null</td><td>null</td><td>null</td><td>[]</td><td>null</td><td>&quot;&quot;</td><td>&quot;unknown&quot;</td><td>&quot;San Francisco&quot;</td><td>&quot;United States&quot;</td><td>null</td><td>2023-05-21</td><td>&quot;2023&quot;</td><td>0</td><td>[&quot;&quot;, &quot;&quot;]</td><td>[null, null]</td><td>null</td><td>null</td><td>null</td></tr><tr><td>&hellip;</td><td>&hellip;</td><td>&hellip;</td><td>&hellip;</td><td>&hellip;</td><td>&hellip;</td><td>&hellip;</td><td>&hellip;</td><td>&hellip;</td><td>&hellip;</td><td>&hellip;</td><td>&hellip;</td><td>&hellip;</td><td>&hellip;</td><td>&hellip;</td><td>&hellip;</td><td>&hellip;</td><td>&hellip;</td><td>&hellip;</td><td>&hellip;</td><td>&hellip;</td><td>&hellip;</td><td>&hellip;</td></tr><tr><td>&quot;Senior Commercial Strategy Man…</td><td>&quot;Munich, Bavaria, DEU&quot;</td><td>&quot;Full-Time&quot;</td><td>null</td><td>&quot;Amazon Deutschland Services Gm…</td><td>null</td><td>null</td><td>null</td><td>[&quot;Transportation&quot;]</td><td>&quot;Manager&quot;</td><td>&quot;&quot;</td><td>&quot;unknown&quot;</td><td>&quot;Munich&quot;</td><td>&quot;Germany&quot;</td><td>2024-03-07</td><td>2024-04-01</td><td>&quot;2024&quot;</td><td>0</td><td>[&quot;&quot;, &quot;&quot;]</td><td>[null, null]</td><td>null</td><td>null</td><td>null</td></tr><tr><td>&quot;Solutions Architect Intern&quot;</td><td>&quot;Toronto, Ontario, CAN&quot;</td><td>&quot;Full-Time&quot;</td><td>null</td><td>&quot;Amazon Development Centre Cana…</td><td>null</td><td>null</td><td>null</td><td>[&quot;Architecture&quot;, &quot;Planning&quot;]</td><td>&quot;Intern&quot;</td><td>&quot;&quot;</td><td>&quot;unknown&quot;</td><td>&quot;Toronto&quot;</td><td>&quot;Canada&quot;</td><td>2024-03-12</td><td>2024-04-01</td><td>&quot;2024&quot;</td><td>0</td><td>[&quot;&quot;, &quot;&quot;]</td><td>[null, null]</td><td>null</td><td>null</td><td>null</td></tr><tr><td>&quot;Principal Product Manager, Pla…</td><td>&quot;Tokyo, JPN&quot;</td><td>&quot;Full-Time&quot;</td><td>null</td><td>&quot;Amazon Japan G.K.&quot;</td><td>null</td><td>null</td><td>null</td><td>[]</td><td>&quot;Staff IC&quot;</td><td>&quot;&quot;</td><td>&quot;unknown&quot;</td><td>&quot;Tokyo&quot;</td><td>&quot;Japan&quot;</td><td>2024-01-23</td><td>2024-03-29</td><td>&quot;2024&quot;</td><td>0</td><td>[&quot;&quot;, &quot;&quot;]</td><td>[null, null]</td><td>null</td><td>null</td><td>null</td></tr><tr><td>&quot;Principal Product Manager - Te…</td><td>&quot;Bellevue, Washington, USA&quot;</td><td>&quot;Full-Time&quot;</td><td>null</td><td>&quot;Amazon.com Services LLC&quot;</td><td>null</td><td>null</td><td>null</td><td>[&quot;Logistics&quot;, &quot;Supply&quot;, &quot;Chain&quot;]</td><td>&quot;Staff IC&quot;</td><td>&quot;&quot;</td><td>&quot;unknown&quot;</td><td>&quot;Bellevue&quot;</td><td>&quot;United States&quot;</td><td>2024-02-14</td><td>2024-03-27</td><td>&quot;2024&quot;</td><td>0</td><td>[&quot;&quot;, &quot;&quot;]</td><td>[null, null]</td><td>null</td><td>null</td><td>null</td></tr><tr><td>&quot;Technical Infrastructure Progr…</td><td>&quot;Seattle, Washington, USA&quot;</td><td>&quot;Full-Time&quot;</td><td>null</td><td>&quot;Amazon Data Services, Inc.&quot;</td><td>null</td><td>null</td><td>null</td><td>[]</td><td>&quot;Manager&quot;</td><td>&quot;&quot;</td><td>&quot;unknown&quot;</td><td>&quot;Seattle&quot;</td><td>&quot;United States&quot;</td><td>2024-02-14</td><td>2024-03-31</td><td>&quot;2024&quot;</td><td>0</td><td>[&quot;&quot;, &quot;&quot;]</td><td>[null, null]</td><td>null</td><td>null</td><td>null</td></tr></tbody></table></div>"
      ],
      "text/plain": [
       "shape: (584, 23)\n",
       "┌────────────┬────────────┬───────────┬────────┬───┬────────────┬───────────┬──────────┬───────────┐\n",
       "│ job_name   ┆ job_locati ┆ hours     ┆ remote ┆ … ┆ est_float  ┆ compensat ┆ comp_dol ┆ all_tags  │\n",
       "│ ---        ┆ on         ┆ ---       ┆ ---    ┆   ┆ ---        ┆ ion       ┆ ---      ┆ ---       │\n",
       "│ str        ┆ ---        ┆ str       ┆ bool   ┆   ┆ list[f64]  ┆ ---       ┆ f64      ┆ list[str] │\n",
       "│            ┆ str        ┆           ┆        ┆   ┆            ┆ f64       ┆          ┆           │\n",
       "╞════════════╪════════════╪═══════════╪════════╪═══╪════════════╪═══════════╪══════════╪═══════════╡\n",
       "│ Senior Lab ┆ UrbanVault ┆ Full-Time ┆ null   ┆ … ┆ [null,     ┆ null      ┆ null     ┆ null      │\n",
       "│ Engineer - ┆ 1608, 7th  ┆           ┆        ┆   ┆ null]      ┆           ┆          ┆           │\n",
       "│ Robotics…  ┆ Cross Opp… ┆           ┆        ┆   ┆            ┆           ┆          ┆           │\n",
       "│ computer   ┆ null       ┆ Full-Time ┆ null   ┆ … ┆ [null,     ┆ null      ┆ null     ┆ [\"Consult │\n",
       "│ engineer   ┆            ┆           ┆        ┆   ┆ null]      ┆           ┆          ┆ ing\"]     │\n",
       "│ Full-stack ┆ Singapore  ┆ null      ┆ null   ┆ … ┆ [null,     ┆ null      ┆ null     ┆ null      │\n",
       "│ web        ┆ Office     ┆           ┆        ┆   ┆ null]      ┆           ┆          ┆           │\n",
       "│ developer  ┆            ┆           ┆        ┆   ┆            ┆           ┆          ┆           │\n",
       "│ FEA Physic ┆ Aldermasto ┆ Full-Time ┆ null   ┆ … ┆ [null,     ┆ null      ┆ null     ┆ null      │\n",
       "│ ist/Engine ┆ n          ┆           ┆        ┆   ┆ null]      ┆           ┆          ┆           │\n",
       "│ er         ┆            ┆           ┆        ┆   ┆            ┆           ┆          ┆           │\n",
       "│ Go         ┆ null       ┆ null      ┆ null   ┆ … ┆ [null,     ┆ null      ┆ null     ┆ null      │\n",
       "│ Engineer   ┆            ┆           ┆        ┆   ┆ null]      ┆           ┆          ┆           │\n",
       "│ …          ┆ …          ┆ …         ┆ …      ┆ … ┆ …          ┆ …         ┆ …        ┆ …         │\n",
       "│ Senior     ┆ Munich,    ┆ Full-Time ┆ null   ┆ … ┆ [null,     ┆ null      ┆ null     ┆ null      │\n",
       "│ Commercial ┆ Bavaria,   ┆           ┆        ┆   ┆ null]      ┆           ┆          ┆           │\n",
       "│ Strategy   ┆ DEU        ┆           ┆        ┆   ┆            ┆           ┆          ┆           │\n",
       "│ Man…       ┆            ┆           ┆        ┆   ┆            ┆           ┆          ┆           │\n",
       "│ Solutions  ┆ Toronto,   ┆ Full-Time ┆ null   ┆ … ┆ [null,     ┆ null      ┆ null     ┆ null      │\n",
       "│ Architect  ┆ Ontario,   ┆           ┆        ┆   ┆ null]      ┆           ┆          ┆           │\n",
       "│ Intern     ┆ CAN        ┆           ┆        ┆   ┆            ┆           ┆          ┆           │\n",
       "│ Principal  ┆ Tokyo, JPN ┆ Full-Time ┆ null   ┆ … ┆ [null,     ┆ null      ┆ null     ┆ null      │\n",
       "│ Product    ┆            ┆           ┆        ┆   ┆ null]      ┆           ┆          ┆           │\n",
       "│ Manager,   ┆            ┆           ┆        ┆   ┆            ┆           ┆          ┆           │\n",
       "│ Pla…       ┆            ┆           ┆        ┆   ┆            ┆           ┆          ┆           │\n",
       "│ Principal  ┆ Bellevue,  ┆ Full-Time ┆ null   ┆ … ┆ [null,     ┆ null      ┆ null     ┆ null      │\n",
       "│ Product    ┆ Washington ┆           ┆        ┆   ┆ null]      ┆           ┆          ┆           │\n",
       "│ Manager -  ┆ , USA      ┆           ┆        ┆   ┆            ┆           ┆          ┆           │\n",
       "│ Te…        ┆            ┆           ┆        ┆   ┆            ┆           ┆          ┆           │\n",
       "│ Technical  ┆ Seattle,   ┆ Full-Time ┆ null   ┆ … ┆ [null,     ┆ null      ┆ null     ┆ null      │\n",
       "│ Infrastruc ┆ Washington ┆           ┆        ┆   ┆ null]      ┆           ┆          ┆           │\n",
       "│ ture       ┆ , USA      ┆           ┆        ┆   ┆            ┆           ┆          ┆           │\n",
       "│ Progr…     ┆            ┆           ┆        ┆   ┆            ┆           ┆          ┆           │\n",
       "└────────────┴────────────┴───────────┴────────┴───┴────────────┴───────────┴──────────┴───────────┘"
      ]
     },
     "execution_count": 41,
     "metadata": {},
     "output_type": "execute_result"
    }
   ],
   "source": [
    "whole_df.filter(pl.col(\"language\")==\"unknown\")"
   ]
  },
  {
   "cell_type": "markdown",
   "id": "a4a81ed0-28dc-483e-a1ae-c9ce7986ebf7",
   "metadata": {},
   "source": [
    "b) education - imputing null values"
   ]
  },
  {
   "cell_type": "code",
   "execution_count": 42,
   "id": "545aceca-91ad-48ec-af3d-1df4d9b41dc3",
   "metadata": {},
   "outputs": [
    {
     "data": {
      "text/html": [
       "<div><style>\n",
       ".dataframe > thead > tr,\n",
       ".dataframe > tbody > tr {\n",
       "  text-align: right;\n",
       "  white-space: pre-wrap;\n",
       "}\n",
       "</style>\n",
       "<small>shape: (10, 2)</small><table border=\"1\" class=\"dataframe\"><thead><tr><th>education</th><th>count</th></tr><tr><td>str</td><td>u32</td></tr></thead><tbody><tr><td>&quot;High School&quot;</td><td>3509</td></tr><tr><td>&quot;Some College&quot;</td><td>19</td></tr><tr><td>&quot;No Education Requirement&quot;</td><td>16</td></tr><tr><td>&quot;Vocational&quot;</td><td>169</td></tr><tr><td>&quot;Associates&quot;</td><td>149</td></tr><tr><td>null</td><td>62098</td></tr><tr><td>&quot;Certification&quot;</td><td>1</td></tr><tr><td>&quot;Masters&quot;</td><td>1587</td></tr><tr><td>&quot;Some High School&quot;</td><td>921</td></tr><tr><td>&quot;Bachelors&quot;</td><td>30356</td></tr></tbody></table></div>"
      ],
      "text/plain": [
       "shape: (10, 2)\n",
       "┌──────────────────────────┬───────┐\n",
       "│ education                ┆ count │\n",
       "│ ---                      ┆ ---   │\n",
       "│ str                      ┆ u32   │\n",
       "╞══════════════════════════╪═══════╡\n",
       "│ High School              ┆ 3509  │\n",
       "│ Some College             ┆ 19    │\n",
       "│ No Education Requirement ┆ 16    │\n",
       "│ Vocational               ┆ 169   │\n",
       "│ Associates               ┆ 149   │\n",
       "│ null                     ┆ 62098 │\n",
       "│ Certification            ┆ 1     │\n",
       "│ Masters                  ┆ 1587  │\n",
       "│ Some High School         ┆ 921   │\n",
       "│ Bachelors                ┆ 30356 │\n",
       "└──────────────────────────┴───────┘"
      ]
     },
     "execution_count": 42,
     "metadata": {},
     "output_type": "execute_result"
    }
   ],
   "source": [
    "whole_df[\"education\"].value_counts().head(10)"
   ]
  },
  {
   "cell_type": "code",
   "execution_count": 43,
   "id": "c6c89606-3243-4ff8-9b70-8c5578c83aee",
   "metadata": {},
   "outputs": [
    {
     "data": {
      "text/html": [
       "<div><style>\n",
       ".dataframe > thead > tr,\n",
       ".dataframe > tbody > tr {\n",
       "  text-align: right;\n",
       "  white-space: pre-wrap;\n",
       "}\n",
       "</style>\n",
       "<small>shape: (7_346, 23)</small><table border=\"1\" class=\"dataframe\"><thead><tr><th>job_name</th><th>job_location</th><th>hours</th><th>remote</th><th>company_name</th><th>education</th><th>tags_matched</th><th>tag_categories</th><th>categories</th><th>seniority</th><th>comp_est</th><th>language</th><th>city</th><th>country</th><th>job_published_at</th><th>last_indexed</th><th>sample_date</th><th>len_comp</th><th>est</th><th>est_float</th><th>compensation</th><th>comp_dol</th><th>all_tags</th></tr><tr><td>str</td><td>str</td><td>str</td><td>bool</td><td>str</td><td>str</td><td>list[str]</td><td>list[str]</td><td>list[str]</td><td>str</td><td>str</td><td>cat</td><td>str</td><td>str</td><td>date</td><td>date</td><td>str</td><td>u32</td><td>list[str]</td><td>list[f64]</td><td>f64</td><td>f64</td><td>list[str]</td></tr></thead><tbody><tr><td>&quot;Mgr Systems Engineering 1&quot;</td><td>&quot;COBO05&quot;</td><td>&quot;Full-Time&quot;</td><td>null</td><td>&quot;0811 SP&quot;</td><td>&quot;Bachelors&quot;</td><td>[]</td><td>[]</td><td>[]</td><td>&quot;Manager&quot;</td><td>&quot;154000.00&quot;</td><td>&quot;en&quot;</td><td>null</td><td>&quot;United States&quot;</td><td>2023-06-05</td><td>2023-06-08</td><td>&quot;2023&quot;</td><td>9</td><td>[&quot;154000.00&quot;, &quot;154000.00&quot;]</td><td>[154000.0, 154000.0]</td><td>154000.0</td><td>154000.0</td><td>[]</td></tr><tr><td>&quot;Relay Engineer&quot;</td><td>&quot;Centennial, Colorado, United S…</td><td>&quot;Unclear&quot;</td><td>null</td><td>&quot;Electric Power Systems&quot;</td><td>&quot;Bachelors&quot;</td><td>[]</td><td>[]</td><td>[]</td><td>null</td><td>&quot;105000.00&quot;</td><td>&quot;en&quot;</td><td>&quot;Centennial&quot;</td><td>&quot;United States&quot;</td><td>2023-05-10</td><td>2023-06-04</td><td>&quot;2023&quot;</td><td>9</td><td>[&quot;105000.00&quot;, &quot;105000.00&quot;]</td><td>[105000.0, 105000.0]</td><td>105000.0</td><td>105000.0</td><td>[]</td></tr><tr><td>&quot;Chief Engineer at Large&quot;</td><td>null</td><td>&quot;Full-Time&quot;</td><td>null</td><td>&quot;All Opportunities&quot;</td><td>&quot;Bachelors&quot;</td><td>[]</td><td>[]</td><td>[]</td><td>&quot;Chief&quot;</td><td>&quot;190000.00&quot;</td><td>&quot;en&quot;</td><td>&quot;Andover&quot;</td><td>&quot;United States&quot;</td><td>2023-04-28</td><td>2023-06-07</td><td>&quot;2023&quot;</td><td>9</td><td>[&quot;190000.00&quot;, &quot;190000.00&quot;]</td><td>[190000.0, 190000.0]</td><td>190000.0</td><td>190000.0</td><td>[]</td></tr><tr><td>&quot;Industrial Engineer&quot;</td><td>&quot;Allflight HeadQuarters - Kent,…</td><td>&quot;Unclear&quot;</td><td>null</td><td>&quot;Infinity Air&quot;</td><td>&quot;Bachelors&quot;</td><td>[&quot;Microsoft&quot;]</td><td>[]</td><td>[&quot;Mechanical&quot;, &quot;Industrial&quot;, &quot;Engineering&quot;]</td><td>null</td><td>&quot;66000.00&quot;</td><td>&quot;en&quot;</td><td>&quot;Kent&quot;</td><td>&quot;United States&quot;</td><td>2023-01-16</td><td>2023-05-30</td><td>&quot;2023&quot;</td><td>8</td><td>[&quot;66000.00&quot;, &quot;66000.00&quot;]</td><td>[66000.0, 66000.0]</td><td>66000.0</td><td>66000.0</td><td>[&quot;Mechanical&quot;, &quot;Industrial&quot;, … &quot;Microsoft&quot;]</td></tr><tr><td>&quot;Database Engineer Lead&quot;</td><td>&quot;New York, NY - 399 Park Avenue&quot;</td><td>&quot;Full-Time&quot;</td><td>null</td><td>&quot;MPG Operations&quot;</td><td>&quot;Bachelors&quot;</td><td>[&quot;Vertica&quot;, &quot;Ansible&quot;, … &quot;MongoDB&quot;]</td><td>[&quot;Big&quot;, &quot;Data&quot;, … &quot;Accounting&quot;]</td><td>[&quot;Data&quot;, &quot;Storage&quot;]</td><td>null</td><td>&quot;212500.00&quot;</td><td>&quot;en&quot;</td><td>null</td><td>&quot;United States&quot;</td><td>2023-04-12</td><td>2023-05-26</td><td>&quot;2023&quot;</td><td>9</td><td>[&quot;212500.00&quot;, &quot;212500.00&quot;]</td><td>[212500.0, 212500.0]</td><td>212500.0</td><td>212500.0</td><td>[&quot;MongoDB&quot;, &quot;Infrastructure&quot;, … &quot;Config&quot;]</td></tr><tr><td>&hellip;</td><td>&hellip;</td><td>&hellip;</td><td>&hellip;</td><td>&hellip;</td><td>&hellip;</td><td>&hellip;</td><td>&hellip;</td><td>&hellip;</td><td>&hellip;</td><td>&hellip;</td><td>&hellip;</td><td>&hellip;</td><td>&hellip;</td><td>&hellip;</td><td>&hellip;</td><td>&hellip;</td><td>&hellip;</td><td>&hellip;</td><td>&hellip;</td><td>&hellip;</td><td>&hellip;</td><td>&hellip;</td></tr><tr><td>&quot;Public Safety Officer -  Secur…</td><td>&quot;Chino, California, United Stat…</td><td>&quot;Part-Time&quot;</td><td>null</td><td>&quot;Prime Healthcare&quot;</td><td>&quot;High School&quot;</td><td>[&quot;IBM&quot;]</td><td>[&quot;Infrastructure&quot;, &quot;Analytics&quot;, … &quot;IaaS&quot;]</td><td>[&quot;Public&quot;, &quot;Safety&quot;, … &quot;Security&quot;]</td><td>&quot;Unclear Seniority&quot;</td><td>&quot;20.305&quot;</td><td>&quot;en&quot;</td><td>&quot;Chino&quot;</td><td>&quot;United States&quot;</td><td>2024-03-08</td><td>2024-04-01</td><td>&quot;2024&quot;</td><td>6</td><td>[&quot;20.305&quot;, &quot;20.305&quot;]</td><td>[20.305, 20.305]</td><td>20.305</td><td>43858.8</td><td>[&quot;Security&quot;, &quot;Safety&quot;, … &quot;Analytics&quot;]</td></tr><tr><td>&quot;Product Manager&quot;</td><td>&quot;San Francisco, California, Uni…</td><td>&quot;Full-Time&quot;</td><td>false</td><td>null</td><td>&quot;Masters&quot;</td><td>[&quot;Salesforce&quot;]</td><td>[&quot;Enterprise&quot;, &quot;Customers&quot;, … &quot;Customers&quot;]</td><td>[]</td><td>&quot;IC&quot;</td><td>&quot;90000.00&quot;</td><td>&quot;en&quot;</td><td>&quot;San Francisco&quot;</td><td>&quot;United States&quot;</td><td>2024-03-08</td><td>2024-03-14</td><td>&quot;2024&quot;</td><td>8</td><td>[&quot;90000.00&quot;, &quot;90000.00&quot;]</td><td>[90000.0, 90000.0]</td><td>90000.0</td><td>90000.0</td><td>[&quot;Customers&quot;, &quot;Enterprise&quot;, … &quot;CRM&quot;]</td></tr><tr><td>&quot;Security Field Supervisor Arme…</td><td>&quot;Los Angeles, California, Unite…</td><td>&quot;Full-Time&quot;</td><td>null</td><td>&quot;Allied Universal&quot;</td><td>&quot;High School&quot;</td><td>[]</td><td>[]</td><td>[&quot;Facilities&quot;, &quot;Services&quot;, … &quot;Dentistry&quot;]</td><td>&quot;Manager&quot;</td><td>&quot;52880.00&quot;</td><td>&quot;en&quot;</td><td>&quot;Los Angeles&quot;</td><td>&quot;United States&quot;</td><td>2024-03-28</td><td>2024-03-29</td><td>&quot;2024&quot;</td><td>8</td><td>[&quot;52880.00&quot;, &quot;52880.00&quot;]</td><td>[52880.0, 52880.0]</td><td>52880.0</td><td>52880.0</td><td>[&quot;Services&quot;, &quot;Insurance&quot;, … &quot;Dentistry&quot;]</td></tr><tr><td>&quot;2024 Summer Undergraduate Inte…</td><td>&quot;Linden Ave Rochester, NY&quot;</td><td>&quot;Full-Time&quot;</td><td>null</td><td>&quot;Newport Corporation&quot;</td><td>&quot;Bachelors&quot;</td><td>[]</td><td>[]</td><td>[&quot;Manufacturing&quot;]</td><td>&quot;Intern&quot;</td><td>&quot;46000.00&quot;</td><td>&quot;en&quot;</td><td>&quot;Rochester&quot;</td><td>&quot;United States&quot;</td><td>2023-10-16</td><td>2024-03-14</td><td>&quot;2024&quot;</td><td>8</td><td>[&quot;46000.00&quot;, &quot;46000.00&quot;]</td><td>[46000.0, 46000.0]</td><td>46000.0</td><td>46000.0</td><td>[&quot;Manufacturing&quot;]</td></tr><tr><td>&quot;Senior Full Stack Software Eng…</td><td>&quot;Remote&quot;</td><td>&quot;Full-Time&quot;</td><td>true</td><td>&quot;Mogo Finance Technology&quot;</td><td>&quot;Bachelors&quot;</td><td>[&quot;S3&quot;, &quot;Ruby&quot;, … &quot;JavaScript&quot;]</td><td>[&quot;Data&quot;, &quot;Access&quot;, … &quot;OSS&quot;]</td><td>[&quot;Financial&quot;, &quot;Services&quot;, &quot;Software&quot;]</td><td>&quot;Senior IC&quot;</td><td>&quot;130000.0&quot;</td><td>&quot;en&quot;</td><td>&quot;Vancouver&quot;</td><td>&quot;Canada&quot;</td><td>2024-03-28</td><td>2024-03-29</td><td>&quot;2024&quot;</td><td>8</td><td>[&quot;130000.0&quot;, &quot;130000.0&quot;]</td><td>[130000.0, 130000.0]</td><td>130000.0</td><td>130000.0</td><td>[&quot;Databases&quot;, &quot;Languages&quot;, … &quot;App&quot;]</td></tr></tbody></table></div>"
      ],
      "text/plain": [
       "shape: (7_346, 23)\n",
       "┌────────────┬────────────┬───────────┬────────┬───┬────────────┬───────────┬──────────┬───────────┐\n",
       "│ job_name   ┆ job_locati ┆ hours     ┆ remote ┆ … ┆ est_float  ┆ compensat ┆ comp_dol ┆ all_tags  │\n",
       "│ ---        ┆ on         ┆ ---       ┆ ---    ┆   ┆ ---        ┆ ion       ┆ ---      ┆ ---       │\n",
       "│ str        ┆ ---        ┆ str       ┆ bool   ┆   ┆ list[f64]  ┆ ---       ┆ f64      ┆ list[str] │\n",
       "│            ┆ str        ┆           ┆        ┆   ┆            ┆ f64       ┆          ┆           │\n",
       "╞════════════╪════════════╪═══════════╪════════╪═══╪════════════╪═══════════╪══════════╪═══════════╡\n",
       "│ Mgr        ┆ COBO05     ┆ Full-Time ┆ null   ┆ … ┆ [154000.0, ┆ 154000.0  ┆ 154000.0 ┆ []        │\n",
       "│ Systems    ┆            ┆           ┆        ┆   ┆ 154000.0]  ┆           ┆          ┆           │\n",
       "│ Engineerin ┆            ┆           ┆        ┆   ┆            ┆           ┆          ┆           │\n",
       "│ g 1        ┆            ┆           ┆        ┆   ┆            ┆           ┆          ┆           │\n",
       "│ Relay      ┆ Centennial ┆ Unclear   ┆ null   ┆ … ┆ [105000.0, ┆ 105000.0  ┆ 105000.0 ┆ []        │\n",
       "│ Engineer   ┆ ,          ┆           ┆        ┆   ┆ 105000.0]  ┆           ┆          ┆           │\n",
       "│            ┆ Colorado,  ┆           ┆        ┆   ┆            ┆           ┆          ┆           │\n",
       "│            ┆ United S…  ┆           ┆        ┆   ┆            ┆           ┆          ┆           │\n",
       "│ Chief      ┆ null       ┆ Full-Time ┆ null   ┆ … ┆ [190000.0, ┆ 190000.0  ┆ 190000.0 ┆ []        │\n",
       "│ Engineer   ┆            ┆           ┆        ┆   ┆ 190000.0]  ┆           ┆          ┆           │\n",
       "│ at Large   ┆            ┆           ┆        ┆   ┆            ┆           ┆          ┆           │\n",
       "│ Industrial ┆ Allflight  ┆ Unclear   ┆ null   ┆ … ┆ [66000.0,  ┆ 66000.0   ┆ 66000.0  ┆ [\"Mechani │\n",
       "│ Engineer   ┆ HeadQuarte ┆           ┆        ┆   ┆ 66000.0]   ┆           ┆          ┆ cal\", \"In │\n",
       "│            ┆ rs -       ┆           ┆        ┆   ┆            ┆           ┆          ┆ dustrial\" │\n",
       "│            ┆ Kent,…     ┆           ┆        ┆   ┆            ┆           ┆          ┆ , ……      │\n",
       "│ Database   ┆ New York,  ┆ Full-Time ┆ null   ┆ … ┆ [212500.0, ┆ 212500.0  ┆ 212500.0 ┆ [\"MongoDB │\n",
       "│ Engineer   ┆ NY - 399   ┆           ┆        ┆   ┆ 212500.0]  ┆           ┆          ┆ \", \"Infra │\n",
       "│ Lead       ┆ Park       ┆           ┆        ┆   ┆            ┆           ┆          ┆ structure │\n",
       "│            ┆ Avenue     ┆           ┆        ┆   ┆            ┆           ┆          ┆ \", …      │\n",
       "│ …          ┆ …          ┆ …         ┆ …      ┆ … ┆ …          ┆ …         ┆ …        ┆ …         │\n",
       "│ Public     ┆ Chino, Cal ┆ Part-Time ┆ null   ┆ … ┆ [20.305,   ┆ 20.305    ┆ 43858.8  ┆ [\"Securit │\n",
       "│ Safety     ┆ ifornia,   ┆           ┆        ┆   ┆ 20.305]    ┆           ┆          ┆ y\",       │\n",
       "│ Officer -  ┆ United     ┆           ┆        ┆   ┆            ┆           ┆          ┆ \"Safety\", │\n",
       "│ Secur…     ┆ Stat…      ┆           ┆        ┆   ┆            ┆           ┆          ┆ … \"Anal…  │\n",
       "│ Product    ┆ San        ┆ Full-Time ┆ false  ┆ … ┆ [90000.0,  ┆ 90000.0   ┆ 90000.0  ┆ [\"Custome │\n",
       "│ Manager    ┆ Francisco, ┆           ┆        ┆   ┆ 90000.0]   ┆           ┆          ┆ rs\", \"Ent │\n",
       "│            ┆ California ┆           ┆        ┆   ┆            ┆           ┆          ┆ erprise\", │\n",
       "│            ┆ , Uni…     ┆           ┆        ┆   ┆            ┆           ┆          ┆ … …       │\n",
       "│ Security   ┆ Los        ┆ Full-Time ┆ null   ┆ … ┆ [52880.0,  ┆ 52880.0   ┆ 52880.0  ┆ [\"Service │\n",
       "│ Field      ┆ Angeles,   ┆           ┆        ┆   ┆ 52880.0]   ┆           ┆          ┆ s\", \"Insu │\n",
       "│ Supervisor ┆ California ┆           ┆        ┆   ┆            ┆           ┆          ┆ rance\", … │\n",
       "│ Arme…      ┆ , Unite…   ┆           ┆        ┆   ┆            ┆           ┆          ┆ \"D…       │\n",
       "│ 2024       ┆ Linden Ave ┆ Full-Time ┆ null   ┆ … ┆ [46000.0,  ┆ 46000.0   ┆ 46000.0  ┆ [\"Manufac │\n",
       "│ Summer Und ┆ Rochester, ┆           ┆        ┆   ┆ 46000.0]   ┆           ┆          ┆ turing\"]  │\n",
       "│ ergraduate ┆ NY         ┆           ┆        ┆   ┆            ┆           ┆          ┆           │\n",
       "│ Inte…      ┆            ┆           ┆        ┆   ┆            ┆           ┆          ┆           │\n",
       "│ Senior     ┆ Remote     ┆ Full-Time ┆ true   ┆ … ┆ [130000.0, ┆ 130000.0  ┆ 130000.0 ┆ [\"Databas │\n",
       "│ Full Stack ┆            ┆           ┆        ┆   ┆ 130000.0]  ┆           ┆          ┆ es\", \"Lan │\n",
       "│ Software   ┆            ┆           ┆        ┆   ┆            ┆           ┆          ┆ guages\",  │\n",
       "│ Eng…       ┆            ┆           ┆        ┆   ┆            ┆           ┆          ┆ … \"…      │\n",
       "└────────────┴────────────┴───────────┴────────┴───┴────────────┴───────────┴──────────┴───────────┘"
      ]
     },
     "execution_count": 43,
     "metadata": {},
     "output_type": "execute_result"
    }
   ],
   "source": [
    "whole_df.filter(pl.col(\"education\").is_not_null(), pl.col(\"compensation\")>0)\n",
    "#since about a half of compensation records contain information about education I'll leave this column and will introduce \"unknown\" category"
   ]
  },
  {
   "cell_type": "code",
   "execution_count": 44,
   "id": "dc86b25f-70f2-4150-80cc-97144820fca7",
   "metadata": {},
   "outputs": [
    {
     "data": {
      "text/html": [
       "<div><style>\n",
       ".dataframe > thead > tr,\n",
       ".dataframe > tbody > tr {\n",
       "  text-align: right;\n",
       "  white-space: pre-wrap;\n",
       "}\n",
       "</style>\n",
       "<small>shape: (657, 23)</small><table border=\"1\" class=\"dataframe\"><thead><tr><th>job_name</th><th>job_location</th><th>hours</th><th>remote</th><th>company_name</th><th>education</th><th>tags_matched</th><th>tag_categories</th><th>categories</th><th>seniority</th><th>comp_est</th><th>language</th><th>city</th><th>country</th><th>job_published_at</th><th>last_indexed</th><th>sample_date</th><th>len_comp</th><th>est</th><th>est_float</th><th>compensation</th><th>comp_dol</th><th>all_tags</th></tr><tr><td>str</td><td>str</td><td>str</td><td>bool</td><td>str</td><td>str</td><td>list[str]</td><td>list[str]</td><td>list[str]</td><td>str</td><td>str</td><td>cat</td><td>str</td><td>str</td><td>date</td><td>date</td><td>str</td><td>u32</td><td>list[str]</td><td>list[f64]</td><td>f64</td><td>f64</td><td>list[str]</td></tr></thead><tbody><tr><td>&quot;Electrical Engineer – Entry Le…</td><td>&quot;Ann Arbor&quot;</td><td>&quot;Full-Time&quot;</td><td>null</td><td>&quot;Barr Engineering Co.&quot;</td><td>&quot;Bachelors&quot;</td><td>[&quot;Excel&quot;, &quot;FactoryTalk&quot;]</td><td>[&quot;SMB&quot;, &quot;Customers&quot;, … &quot;A&quot;]</td><td>[]</td><td>&quot;Junior IC&quot;</td><td>&quot;&quot;</td><td>&quot;en&quot;</td><td>&quot;Ann Arbor&quot;</td><td>&quot;United States&quot;</td><td>2023-04-19</td><td>2023-05-25</td><td>&quot;2023&quot;</td><td>0</td><td>[&quot;&quot;, &quot;&quot;]</td><td>[null, null]</td><td>null</td><td>null</td><td>[&quot;Customers&quot;, &quot;Code&quot;, … &quot;Biz&quot;]</td></tr><tr><td>&quot;Electrical Engineer – Entry Le…</td><td>&quot;Minneapolis&quot;</td><td>&quot;Full-Time&quot;</td><td>null</td><td>&quot;Barr Engineering Co.&quot;</td><td>&quot;Bachelors&quot;</td><td>[&quot;Excel&quot;]</td><td>[&quot;Midsize&quot;, &quot;Customers&quot;, … &quot;Spreadsheets&quot;]</td><td>[]</td><td>&quot;Junior IC&quot;</td><td>&quot;&quot;</td><td>&quot;en&quot;</td><td>&quot;Minneapolis&quot;</td><td>&quot;United States&quot;</td><td>2023-04-06</td><td>2023-05-24</td><td>&quot;2023&quot;</td><td>0</td><td>[&quot;&quot;, &quot;&quot;]</td><td>[null, null]</td><td>null</td><td>null</td><td>[&quot;SMB&quot;, &quot;Midsize&quot;, … &quot;Misc&quot;]</td></tr><tr><td>&quot;Master@IBM – Junior Security C…</td><td>&quot;Zurich, Switzerland&quot;</td><td>&quot;Part-Time&quot;</td><td>null</td><td>&quot;IBM&quot;</td><td>&quot;Bachelors&quot;</td><td>[&quot;CyberArk&quot;, &quot;IBM&quot;, … &quot;Blockchain&quot;]</td><td>[&quot;OSS&quot;, &quot;Analytics&quot;, … &quot;Platforms&quot;]</td><td>[&quot;IT&quot;, &quot;Security&quot;, &quot;Consulting&quot;]</td><td>&quot;Junior IC&quot;</td><td>&quot;&quot;</td><td>&quot;zh&quot;</td><td>&quot;Zurich&quot;</td><td>&quot;Switzerland&quot;</td><td>2023-04-04</td><td>2023-05-23</td><td>&quot;2023&quot;</td><td>0</td><td>[&quot;&quot;, &quot;&quot;]</td><td>[null, null]</td><td>null</td><td>null</td><td>[&quot;Cloud&quot;, &quot;Security&quot;, … &quot;KCSP&quot;]</td></tr><tr><td>&quot;Software Developer- Entry Leve…</td><td>null</td><td>&quot;Full-Time&quot;</td><td>false</td><td>null</td><td>&quot;Some High School&quot;</td><td>[]</td><td>[]</td><td>[&quot;Software&quot;]</td><td>&quot;Junior IC&quot;</td><td>&quot;&quot;</td><td>&quot;en&quot;</td><td>&quot;Providence&quot;</td><td>&quot;United States&quot;</td><td>2022-04-27</td><td>2023-05-28</td><td>&quot;2023&quot;</td><td>0</td><td>[&quot;&quot;, &quot;&quot;]</td><td>[null, null]</td><td>null</td><td>null</td><td>[&quot;Software&quot;]</td></tr><tr><td>&quot;JUNIOR DATA SCIENTIST - Dubai,…</td><td>&quot;Dubai, UAE&quot;</td><td>&quot;Full-Time&quot;</td><td>null</td><td>&quot;Dubai, UAE.&quot;</td><td>&quot;Bachelors&quot;</td><td>[&quot;Python&quot;, &quot;Matplotlib&quot;, … &quot;seaborn&quot;]</td><td>[&quot;Data&quot;, &quot;Science&quot;, … &quot;SQL&quot;]</td><td>[]</td><td>&quot;Junior IC&quot;</td><td>&quot;60000.00&quot;</td><td>&quot;en&quot;</td><td>&quot;Prague&quot;</td><td>&quot;Czech Republic&quot;</td><td>2023-04-24</td><td>2023-06-08</td><td>&quot;2023&quot;</td><td>8</td><td>[&quot;60000.00&quot;, &quot;60000.00&quot;]</td><td>[60000.0, 60000.0]</td><td>60000.0</td><td>60000.0</td><td>[&quot;seaborn&quot;, &quot;Science&quot;, … &quot;Stat&quot;]</td></tr><tr><td>&hellip;</td><td>&hellip;</td><td>&hellip;</td><td>&hellip;</td><td>&hellip;</td><td>&hellip;</td><td>&hellip;</td><td>&hellip;</td><td>&hellip;</td><td>&hellip;</td><td>&hellip;</td><td>&hellip;</td><td>&hellip;</td><td>&hellip;</td><td>&hellip;</td><td>&hellip;</td><td>&hellip;</td><td>&hellip;</td><td>&hellip;</td><td>&hellip;</td><td>&hellip;</td><td>&hellip;</td><td>&hellip;</td></tr><tr><td>&quot;Entry Level Structural Enginee…</td><td>&quot;Charlotte, NC&quot;</td><td>null</td><td>null</td><td>&quot;LJB&quot;</td><td>&quot;Bachelors&quot;</td><td>[]</td><td>[]</td><td>[&quot;Mechanical&quot;, &quot;Industrial&quot;, &quot;Engineering&quot;]</td><td>&quot;Junior IC&quot;</td><td>null</td><td>&quot;en&quot;</td><td>&quot;Charlotte&quot;</td><td>&quot;United States&quot;</td><td>2024-03-01</td><td>2024-03-27</td><td>&quot;2024&quot;</td><td>null</td><td>[null, null]</td><td>[null, null]</td><td>null</td><td>null</td><td>[&quot;Industrial&quot;, &quot;Engineering&quot;, &quot;Mechanical&quot;]</td></tr><tr><td>&quot;Entry Level Civil/Environmenta…</td><td>&quot;Detroit, MI&quot;</td><td>&quot;Full-Time&quot;</td><td>null</td><td>&quot;Wade Trim&quot;</td><td>&quot;Bachelors&quot;</td><td>[]</td><td>[]</td><td>[]</td><td>&quot;Junior IC&quot;</td><td>null</td><td>&quot;en&quot;</td><td>&quot;Detroit&quot;</td><td>&quot;United States&quot;</td><td>2023-09-11</td><td>2024-03-16</td><td>&quot;2024&quot;</td><td>null</td><td>[null, null]</td><td>[null, null]</td><td>null</td><td>null</td><td>[]</td></tr><tr><td>&quot;Test Engineer, Junior to Inter…</td><td>&quot;Aberdeen, MD 21001&quot;</td><td>&quot;Full-Time&quot;</td><td>null</td><td>&quot;Veritech&quot;</td><td>&quot;Bachelors&quot;</td><td>[&quot;Linux&quot;]</td><td>[&quot;OS&quot;]</td><td>[]</td><td>&quot;Junior IC&quot;</td><td>null</td><td>&quot;en&quot;</td><td>&quot;Aberdeen&quot;</td><td>&quot;United States&quot;</td><td>2024-01-11</td><td>2024-03-30</td><td>&quot;2024&quot;</td><td>null</td><td>[null, null]</td><td>[null, null]</td><td>null</td><td>null</td><td>[&quot;Linux&quot;, &quot;OS&quot;]</td></tr><tr><td>&quot;Engineering Technician&quot;</td><td>&quot;Bismarck, ND&quot;</td><td>&quot;Full-Time&quot;</td><td>null</td><td>&quot;Apex Engineering Group&quot;</td><td>&quot;High School&quot;</td><td>[&quot;Excel&quot;, &quot;Google&quot;, &quot;Microsoft&quot;]</td><td>[&quot;Enterprise&quot;, &quot;Customers&quot;, … &quot;Spreadsheets&quot;]</td><td>[&quot;Transportation&quot;]</td><td>&quot;Junior IC&quot;</td><td>null</td><td>&quot;en&quot;</td><td>&quot;Bismarck&quot;</td><td>&quot;United States&quot;</td><td>2024-02-01</td><td>2024-03-27</td><td>&quot;2024&quot;</td><td>null</td><td>[null, null]</td><td>[null, null]</td><td>null</td><td>null</td><td>[&quot;No&quot;, &quot;Biz&quot;, … &quot;Treasury&quot;]</td></tr><tr><td>&quot;Associate Engineering Speciali…</td><td>&quot;Juncos, PR, Puerto Rico&quot;</td><td>&quot;Contract&quot;</td><td>null</td><td>&quot;Flexible &amp; Integrated Technica…</td><td>&quot;Bachelors&quot;</td><td>[]</td><td>[]</td><td>[&quot;Medical&quot;, &quot;Devices&quot;]</td><td>&quot;Junior IC&quot;</td><td>null</td><td>&quot;en&quot;</td><td>&quot;Juncos&quot;</td><td>&quot;United States&quot;</td><td>2024-01-29</td><td>2024-03-14</td><td>&quot;2024&quot;</td><td>null</td><td>[null, null]</td><td>[null, null]</td><td>null</td><td>null</td><td>[&quot;Medical&quot;, &quot;Devices&quot;]</td></tr></tbody></table></div>"
      ],
      "text/plain": [
       "shape: (657, 23)\n",
       "┌────────────┬────────────┬───────────┬────────┬───┬────────────┬───────────┬──────────┬───────────┐\n",
       "│ job_name   ┆ job_locati ┆ hours     ┆ remote ┆ … ┆ est_float  ┆ compensat ┆ comp_dol ┆ all_tags  │\n",
       "│ ---        ┆ on         ┆ ---       ┆ ---    ┆   ┆ ---        ┆ ion       ┆ ---      ┆ ---       │\n",
       "│ str        ┆ ---        ┆ str       ┆ bool   ┆   ┆ list[f64]  ┆ ---       ┆ f64      ┆ list[str] │\n",
       "│            ┆ str        ┆           ┆        ┆   ┆            ┆ f64       ┆          ┆           │\n",
       "╞════════════╪════════════╪═══════════╪════════╪═══╪════════════╪═══════════╪══════════╪═══════════╡\n",
       "│ Electrical ┆ Ann Arbor  ┆ Full-Time ┆ null   ┆ … ┆ [null,     ┆ null      ┆ null     ┆ [\"Custome │\n",
       "│ Engineer – ┆            ┆           ┆        ┆   ┆ null]      ┆           ┆          ┆ rs\",      │\n",
       "│ Entry Le…  ┆            ┆           ┆        ┆   ┆            ┆           ┆          ┆ \"Code\", … │\n",
       "│            ┆            ┆           ┆        ┆   ┆            ┆           ┆          ┆ \"Biz\"]    │\n",
       "│ Electrical ┆ Minneapoli ┆ Full-Time ┆ null   ┆ … ┆ [null,     ┆ null      ┆ null     ┆ [\"SMB\",   │\n",
       "│ Engineer – ┆ s          ┆           ┆        ┆   ┆ null]      ┆           ┆          ┆ \"Midsize\" │\n",
       "│ Entry Le…  ┆            ┆           ┆        ┆   ┆            ┆           ┆          ┆ , …       │\n",
       "│            ┆            ┆           ┆        ┆   ┆            ┆           ┆          ┆ \"Misc\"]   │\n",
       "│ Master@IBM ┆ Zurich,    ┆ Part-Time ┆ null   ┆ … ┆ [null,     ┆ null      ┆ null     ┆ [\"Cloud\", │\n",
       "│ – Junior   ┆ Switzerlan ┆           ┆        ┆   ┆ null]      ┆           ┆          ┆ \"Security │\n",
       "│ Security   ┆ d          ┆           ┆        ┆   ┆            ┆           ┆          ┆ \", …      │\n",
       "│ C…         ┆            ┆           ┆        ┆   ┆            ┆           ┆          ┆ \"KCSP\"…   │\n",
       "│ Software   ┆ null       ┆ Full-Time ┆ false  ┆ … ┆ [null,     ┆ null      ┆ null     ┆ [\"Softwar │\n",
       "│ Developer- ┆            ┆           ┆        ┆   ┆ null]      ┆           ┆          ┆ e\"]       │\n",
       "│ Entry      ┆            ┆           ┆        ┆   ┆            ┆           ┆          ┆           │\n",
       "│ Leve…      ┆            ┆           ┆        ┆   ┆            ┆           ┆          ┆           │\n",
       "│ JUNIOR     ┆ Dubai, UAE ┆ Full-Time ┆ null   ┆ … ┆ [60000.0,  ┆ 60000.0   ┆ 60000.0  ┆ [\"seaborn │\n",
       "│ DATA       ┆            ┆           ┆        ┆   ┆ 60000.0]   ┆           ┆          ┆ \", \"Scien │\n",
       "│ SCIENTIST  ┆            ┆           ┆        ┆   ┆            ┆           ┆          ┆ ce\", …    │\n",
       "│ - Dubai,…  ┆            ┆           ┆        ┆   ┆            ┆           ┆          ┆ \"Stat…    │\n",
       "│ …          ┆ …          ┆ …         ┆ …      ┆ … ┆ …          ┆ …         ┆ …        ┆ …         │\n",
       "│ Entry      ┆ Charlotte, ┆ null      ┆ null   ┆ … ┆ [null,     ┆ null      ┆ null     ┆ [\"Industr │\n",
       "│ Level      ┆ NC         ┆           ┆        ┆   ┆ null]      ┆           ┆          ┆ ial\", \"En │\n",
       "│ Structural ┆            ┆           ┆        ┆   ┆            ┆           ┆          ┆ gineering │\n",
       "│ Enginee…   ┆            ┆           ┆        ┆   ┆            ┆           ┆          ┆ \", …      │\n",
       "│ Entry      ┆ Detroit,   ┆ Full-Time ┆ null   ┆ … ┆ [null,     ┆ null      ┆ null     ┆ []        │\n",
       "│ Level Civi ┆ MI         ┆           ┆        ┆   ┆ null]      ┆           ┆          ┆           │\n",
       "│ l/Environm ┆            ┆           ┆        ┆   ┆            ┆           ┆          ┆           │\n",
       "│ enta…      ┆            ┆           ┆        ┆   ┆            ┆           ┆          ┆           │\n",
       "│ Test       ┆ Aberdeen,  ┆ Full-Time ┆ null   ┆ … ┆ [null,     ┆ null      ┆ null     ┆ [\"Linux\", │\n",
       "│ Engineer,  ┆ MD 21001   ┆           ┆        ┆   ┆ null]      ┆           ┆          ┆ \"OS\"]     │\n",
       "│ Junior to  ┆            ┆           ┆        ┆   ┆            ┆           ┆          ┆           │\n",
       "│ Inter…     ┆            ┆           ┆        ┆   ┆            ┆           ┆          ┆           │\n",
       "│ Engineerin ┆ Bismarck,  ┆ Full-Time ┆ null   ┆ … ┆ [null,     ┆ null      ┆ null     ┆ [\"No\",    │\n",
       "│ g          ┆ ND         ┆           ┆        ┆   ┆ null]      ┆           ┆          ┆ \"Biz\", …  │\n",
       "│ Technician ┆            ┆           ┆        ┆   ┆            ┆           ┆          ┆ \"Treasury │\n",
       "│            ┆            ┆           ┆        ┆   ┆            ┆           ┆          ┆ \"]        │\n",
       "│ Associate  ┆ Juncos,    ┆ Contract  ┆ null   ┆ … ┆ [null,     ┆ null      ┆ null     ┆ [\"Medical │\n",
       "│ Engineerin ┆ PR, Puerto ┆           ┆        ┆   ┆ null]      ┆           ┆          ┆ \", \"Devic │\n",
       "│ g          ┆ Rico       ┆           ┆        ┆   ┆            ┆           ┆          ┆ es\"]      │\n",
       "│ Speciali…  ┆            ┆           ┆        ┆   ┆            ┆           ┆          ┆           │\n",
       "└────────────┴────────────┴───────────┴────────┴───┴────────────┴───────────┴──────────┴───────────┘"
      ]
     },
     "execution_count": 44,
     "metadata": {},
     "output_type": "execute_result"
    }
   ],
   "source": [
    "whole_df.filter(pl.col(\"education\").is_not_null(), pl.col(\"seniority\")==\"Junior IC\")\n",
    "#since about one third of junior roles contain information about education I'll leave this column and will introduce \"unknown\" category"
   ]
  },
  {
   "cell_type": "code",
   "execution_count": 45,
   "id": "41fee668-bb04-446a-8d37-0fca61aa812b",
   "metadata": {},
   "outputs": [
    {
     "name": "stderr",
     "output_type": "stream",
     "text": [
      "/tmp/ipykernel_24935/984726698.py:1: CategoricalRemappingWarning: Local categoricals have different encodings, expensive re-encoding is done to perform this merge operation. Consider using a StringCache or an Enum type if the categories are known in advance\n",
      "  whole_df = whole_df.with_columns(\n"
     ]
    }
   ],
   "source": [
    "whole_df = whole_df.with_columns(\n",
    "    pl.col(\"education\").fill_null(\"unknown\").cast(pl.Categorical)\n",
    ")  # introducing \"unknow\" category \n",
    "#consider skipping this column as there are 62098 null values"
   ]
  },
  {
   "cell_type": "markdown",
   "id": "704eb93c-09a5-4a47-920d-aa7f6c444046",
   "metadata": {},
   "source": [
    "c) hours - imputing null values"
   ]
  },
  {
   "cell_type": "code",
   "execution_count": 46,
   "id": "9c69430d-96c2-43ff-b9ab-a93cbab35534",
   "metadata": {},
   "outputs": [
    {
     "name": "stderr",
     "output_type": "stream",
     "text": [
      "/tmp/ipykernel_24935/4062927793.py:1: CategoricalRemappingWarning: Local categoricals have different encodings, expensive re-encoding is done to perform this merge operation. Consider using a StringCache or an Enum type if the categories are known in advance\n",
      "  whole_df = whole_df.with_columns(\n"
     ]
    }
   ],
   "source": [
    "whole_df = whole_df.with_columns(\n",
    "    pl.col(\"hours\").fill_null(\"Unclear\").cast(pl.Categorical)\n",
    ")  # introducing \"unknow\" category in 27_739 null records"
   ]
  },
  {
   "cell_type": "code",
   "execution_count": 47,
   "id": "85f67b0c-23c4-4e4d-86e8-6d341fd246b1",
   "metadata": {},
   "outputs": [
    {
     "name": "stderr",
     "output_type": "stream",
     "text": [
      "/tmp/ipykernel_24935/3633386334.py:1: CategoricalRemappingWarning: Local categoricals have different encodings, expensive re-encoding is done to perform this merge operation. Consider using a StringCache or an Enum type if the categories are known in advance\n",
      "  whole_df = whole_df.with_columns(\n"
     ]
    }
   ],
   "source": [
    "whole_df = whole_df.with_columns(\n",
    "    pl.col(\"remote\").fill_null(\"unknown\").cast(pl.Categorical)\n",
    ")  # introducing \"unknow\" category in 27_739 null records"
   ]
  },
  {
   "cell_type": "code",
   "execution_count": 48,
   "id": "7c6eb7d8-4f80-44ec-903e-8a2287a3bb64",
   "metadata": {},
   "outputs": [
    {
     "data": {
      "text/html": [
       "<div><style>\n",
       ".dataframe > thead > tr,\n",
       ".dataframe > tbody > tr {\n",
       "  text-align: right;\n",
       "  white-space: pre-wrap;\n",
       "}\n",
       "</style>\n",
       "<small>shape: (3, 23)</small><table border=\"1\" class=\"dataframe\"><thead><tr><th>job_name</th><th>job_location</th><th>hours</th><th>remote</th><th>company_name</th><th>education</th><th>tags_matched</th><th>tag_categories</th><th>categories</th><th>seniority</th><th>comp_est</th><th>language</th><th>city</th><th>country</th><th>job_published_at</th><th>last_indexed</th><th>sample_date</th><th>len_comp</th><th>est</th><th>est_float</th><th>compensation</th><th>comp_dol</th><th>all_tags</th></tr><tr><td>str</td><td>str</td><td>cat</td><td>cat</td><td>str</td><td>cat</td><td>list[str]</td><td>list[str]</td><td>list[str]</td><td>str</td><td>str</td><td>cat</td><td>str</td><td>str</td><td>date</td><td>date</td><td>str</td><td>u32</td><td>list[str]</td><td>list[f64]</td><td>f64</td><td>f64</td><td>list[str]</td></tr></thead><tbody><tr><td>&quot;Science &amp; Engineering Circulat…</td><td>&quot;Not Remote&quot;</td><td>&quot;Student&quot;</td><td>&quot;unknown&quot;</td><td>&quot;UW-Madison&quot;</td><td>&quot;unknown&quot;</td><td>[&quot;Facebook&quot;, &quot;AMP&quot;]</td><td>[&quot;Store&quot;, &quot;Design&quot;, … &quot;AMP&quot;]</td><td>[&quot;Healthcare&quot;]</td><td>null</td><td>&quot;&quot;</td><td>&quot;en&quot;</td><td>null</td><td>null</td><td>2023-05-16</td><td>2023-05-31</td><td>&quot;2023&quot;</td><td>0</td><td>[&quot;&quot;, &quot;&quot;]</td><td>[null, null]</td><td>null</td><td>null</td><td>[&quot;Advertising&quot;, &quot;Facebook&quot;, … &quot;Sales&quot;]</td></tr><tr><td>&quot;Transportation Engineering Int…</td><td>&quot;Not Remote&quot;</td><td>&quot;Student&quot;</td><td>&quot;unknown&quot;</td><td>&quot;UW-Madison&quot;</td><td>&quot;unknown&quot;</td><td>[&quot;Facebook&quot;]</td><td>[&quot;Advertising&quot;, &quot;Social&quot;, &quot;Media&quot;]</td><td>[&quot;Transportation&quot;]</td><td>&quot;Intern&quot;</td><td>&quot;&quot;</td><td>&quot;en&quot;</td><td>null</td><td>null</td><td>2023-04-14</td><td>2023-05-31</td><td>&quot;2023&quot;</td><td>0</td><td>[&quot;&quot;, &quot;&quot;]</td><td>[null, null]</td><td>null</td><td>null</td><td>[&quot;Transportation&quot;, &quot;Facebook&quot;, … &quot;Advertising&quot;]</td></tr><tr><td>&quot;High School Youth Program Inst…</td><td>&quot;Not Remote&quot;</td><td>&quot;Student&quot;</td><td>&quot;unknown&quot;</td><td>&quot;UW-Madison&quot;</td><td>&quot;High School&quot;</td><td>[]</td><td>[]</td><td>[&quot;Primary&quot;, &quot;Secondary&quot;, … &quot;Education&quot;]</td><td>null</td><td>&quot;4650.00&quot;</td><td>&quot;en&quot;</td><td>null</td><td>null</td><td>2023-12-11</td><td>2024-03-24</td><td>&quot;2024&quot;</td><td>7</td><td>[&quot;4650.00&quot;, &quot;4650.00&quot;]</td><td>[4650.0, 4650.0]</td><td>4650.0</td><td>55800.0</td><td>[&quot;Primary&quot;, &quot;Design&quot;, … &quot;Education&quot;]</td></tr></tbody></table></div>"
      ],
      "text/plain": [
       "shape: (3, 23)\n",
       "┌────────────┬────────────┬─────────┬─────────┬───┬────────────┬────────────┬──────────┬───────────┐\n",
       "│ job_name   ┆ job_locati ┆ hours   ┆ remote  ┆ … ┆ est_float  ┆ compensati ┆ comp_dol ┆ all_tags  │\n",
       "│ ---        ┆ on         ┆ ---     ┆ ---     ┆   ┆ ---        ┆ on         ┆ ---      ┆ ---       │\n",
       "│ str        ┆ ---        ┆ cat     ┆ cat     ┆   ┆ list[f64]  ┆ ---        ┆ f64      ┆ list[str] │\n",
       "│            ┆ str        ┆         ┆         ┆   ┆            ┆ f64        ┆          ┆           │\n",
       "╞════════════╪════════════╪═════════╪═════════╪═══╪════════════╪════════════╪══════════╪═══════════╡\n",
       "│ Science &  ┆ Not Remote ┆ Student ┆ unknown ┆ … ┆ [null,     ┆ null       ┆ null     ┆ [\"Adverti │\n",
       "│ Engineerin ┆            ┆         ┆         ┆   ┆ null]      ┆            ┆          ┆ sing\",    │\n",
       "│ g          ┆            ┆         ┆         ┆   ┆            ┆            ┆          ┆ \"Facebook │\n",
       "│ Circulat…  ┆            ┆         ┆         ┆   ┆            ┆            ┆          ┆ \", … …    │\n",
       "│ Transporta ┆ Not Remote ┆ Student ┆ unknown ┆ … ┆ [null,     ┆ null       ┆ null     ┆ [\"Transpo │\n",
       "│ tion Engin ┆            ┆         ┆         ┆   ┆ null]      ┆            ┆          ┆ rtation\", │\n",
       "│ eering     ┆            ┆         ┆         ┆   ┆            ┆            ┆          ┆ \"Facebook │\n",
       "│ Int…       ┆            ┆         ┆         ┆   ┆            ┆            ┆          ┆ \",…       │\n",
       "│ High       ┆ Not Remote ┆ Student ┆ unknown ┆ … ┆ [4650.0,   ┆ 4650.0     ┆ 55800.0  ┆ [\"Primary │\n",
       "│ School     ┆            ┆         ┆         ┆   ┆ 4650.0]    ┆            ┆          ┆ \",        │\n",
       "│ Youth      ┆            ┆         ┆         ┆   ┆            ┆            ┆          ┆ \"Design\", │\n",
       "│ Program    ┆            ┆         ┆         ┆   ┆            ┆            ┆          ┆ … \"Educa… │\n",
       "│ Inst…      ┆            ┆         ┆         ┆   ┆            ┆            ┆          ┆           │\n",
       "└────────────┴────────────┴─────────┴─────────┴───┴────────────┴────────────┴──────────┴───────────┘"
      ]
     },
     "execution_count": 48,
     "metadata": {},
     "output_type": "execute_result"
    }
   ],
   "source": [
    "whole_df.filter(pl.col(\"job_location\").str.contains(\"(?i)not remote\"), pl.col(\"remote\")!=\"true\")"
   ]
  },
  {
   "cell_type": "code",
   "execution_count": 49,
   "id": "bf549830-006d-4b9f-8590-63dd67c804b4",
   "metadata": {},
   "outputs": [
    {
     "data": {
      "text/html": [
       "<div><style>\n",
       ".dataframe > thead > tr,\n",
       ".dataframe > tbody > tr {\n",
       "  text-align: right;\n",
       "  white-space: pre-wrap;\n",
       "}\n",
       "</style>\n",
       "<small>shape: (129, 23)</small><table border=\"1\" class=\"dataframe\"><thead><tr><th>job_name</th><th>job_location</th><th>hours</th><th>remote</th><th>company_name</th><th>education</th><th>tags_matched</th><th>tag_categories</th><th>categories</th><th>seniority</th><th>comp_est</th><th>language</th><th>city</th><th>country</th><th>job_published_at</th><th>last_indexed</th><th>sample_date</th><th>len_comp</th><th>est</th><th>est_float</th><th>compensation</th><th>comp_dol</th><th>all_tags</th></tr><tr><td>str</td><td>str</td><td>cat</td><td>cat</td><td>str</td><td>cat</td><td>list[str]</td><td>list[str]</td><td>list[str]</td><td>str</td><td>str</td><td>cat</td><td>str</td><td>str</td><td>date</td><td>date</td><td>str</td><td>u32</td><td>list[str]</td><td>list[f64]</td><td>f64</td><td>f64</td><td>list[str]</td></tr></thead><tbody><tr><td>&quot;Product Manager - E-Sports/Gam…</td><td>&quot;Eastern Canada|Ontario|Montrea…</td><td>&quot;Full-Time&quot;</td><td>&quot;unknown&quot;</td><td>&quot;Targeted Talent&quot;</td><td>&quot;unknown&quot;</td><td>[]</td><td>[]</td><td>[]</td><td>&quot;IC&quot;</td><td>&quot;&quot;</td><td>&quot;en&quot;</td><td>&quot;Montreal&quot;</td><td>&quot;Canada&quot;</td><td>2021-04-23</td><td>2023-05-25</td><td>&quot;2023&quot;</td><td>0</td><td>[&quot;&quot;, &quot;&quot;]</td><td>[null, null]</td><td>null</td><td>null</td><td>[]</td></tr><tr><td>&quot;Software Solution Consultant&quot;</td><td>&quot;GBR_Remote&quot;</td><td>&quot;Full-Time&quot;</td><td>&quot;unknown&quot;</td><td>&quot;UK AX&quot;</td><td>&quot;Bachelors&quot;</td><td>[&quot;Microsoft&quot;, &quot;Linux&quot;, &quot;C&quot;]</td><td>[&quot;Programming&quot;, &quot;Languages&quot;, … &quot;OSS&quot;]</td><td>[&quot;Consulting&quot;, &quot;Software&quot;]</td><td>&quot;Contract&quot;</td><td>&quot;&quot;</td><td>&quot;en&quot;</td><td>null</td><td>&quot;United Kingdom&quot;</td><td>2023-04-19</td><td>2023-05-26</td><td>&quot;2023&quot;</td><td>0</td><td>[&quot;&quot;, &quot;&quot;]</td><td>[null, null]</td><td>null</td><td>null</td><td>[&quot;OS&quot;, &quot;Consulting&quot;, … &quot;OSS&quot;]</td></tr><tr><td>&quot;Software Development Engineer …</td><td>&quot;IN.Bangalore.Remote&quot;</td><td>&quot;Full-Time&quot;</td><td>&quot;unknown&quot;</td><td>&quot;IN50&quot;</td><td>&quot;Bachelors&quot;</td><td>[&quot;Twitter&quot;, &quot;Facebook&quot;, … &quot;js&quot;]</td><td>[&quot;Stat&quot;, &quot;Tools&quot;, … &quot;Share&quot;]</td><td>[&quot;Software&quot;, &quot;Development&quot;, … &quot;Software&quot;]</td><td>null</td><td>&quot;&quot;</td><td>&quot;en&quot;</td><td>&quot;Bengaluru&quot;</td><td>&quot;India&quot;</td><td>2023-05-25</td><td>2023-05-26</td><td>&quot;2023&quot;</td><td>0</td><td>[&quot;&quot;, &quot;&quot;]</td><td>[null, null]</td><td>null</td><td>null</td><td>[&quot;Development&quot;, &quot;UI&quot;, … &quot;Related&quot;]</td></tr><tr><td>&quot;Founding Engineer&quot;</td><td>&quot;New York|Remote|Hybrid&quot;</td><td>&quot;Full-Time&quot;</td><td>&quot;unknown&quot;</td><td>&quot;NovumTech Partners&quot;</td><td>&quot;unknown&quot;</td><td>[]</td><td>[]</td><td>[]</td><td>null</td><td>&quot;&quot;</td><td>&quot;en&quot;</td><td>null</td><td>&quot;United States&quot;</td><td>2023-02-02</td><td>2023-06-05</td><td>&quot;2023&quot;</td><td>0</td><td>[&quot;&quot;, &quot;&quot;]</td><td>[null, null]</td><td>null</td><td>null</td><td>[]</td></tr><tr><td>&quot;Science &amp; Engineering Circulat…</td><td>&quot;Not Remote&quot;</td><td>&quot;Student&quot;</td><td>&quot;unknown&quot;</td><td>&quot;UW-Madison&quot;</td><td>&quot;unknown&quot;</td><td>[&quot;Facebook&quot;, &quot;AMP&quot;]</td><td>[&quot;Store&quot;, &quot;Design&quot;, … &quot;AMP&quot;]</td><td>[&quot;Healthcare&quot;]</td><td>null</td><td>&quot;&quot;</td><td>&quot;en&quot;</td><td>null</td><td>null</td><td>2023-05-16</td><td>2023-05-31</td><td>&quot;2023&quot;</td><td>0</td><td>[&quot;&quot;, &quot;&quot;]</td><td>[null, null]</td><td>null</td><td>null</td><td>[&quot;Advertising&quot;, &quot;Facebook&quot;, … &quot;Sales&quot;]</td></tr><tr><td>&hellip;</td><td>&hellip;</td><td>&hellip;</td><td>&hellip;</td><td>&hellip;</td><td>&hellip;</td><td>&hellip;</td><td>&hellip;</td><td>&hellip;</td><td>&hellip;</td><td>&hellip;</td><td>&hellip;</td><td>&hellip;</td><td>&hellip;</td><td>&hellip;</td><td>&hellip;</td><td>&hellip;</td><td>&hellip;</td><td>&hellip;</td><td>&hellip;</td><td>&hellip;</td><td>&hellip;</td><td>&hellip;</td></tr><tr><td>&quot;Licensed Civil Engineer - Data…</td><td>&quot;Remote, Omaha, NE, us&quot;</td><td>&quot;Full-Time&quot;</td><td>&quot;false&quot;</td><td>&quot;Olsson&quot;</td><td>&quot;Bachelors&quot;</td><td>[]</td><td>[]</td><td>[&quot;Civil&quot;, &quot;Engineering&quot;, … &quot;Infrastructure&quot;]</td><td>null</td><td>null</td><td>&quot;en&quot;</td><td>&quot;Omaha&quot;</td><td>&quot;United States&quot;</td><td>2024-02-22</td><td>2024-04-02</td><td>&quot;2024&quot;</td><td>null</td><td>[null, null]</td><td>[null, null]</td><td>null</td><td>null</td><td>[&quot;Network&quot;, &quot;Civil&quot;, … &quot;Infrastructure&quot;]</td></tr><tr><td>&quot;Lead Cloud Infrastructure / De…</td><td>&quot;US-NH-Portsmouth | US-Remote |…</td><td>&quot;Full-Time&quot;</td><td>&quot;unknown&quot;</td><td>&quot;Unavailable&quot;</td><td>&quot;Bachelors&quot;</td><td>[&quot;Terraform&quot;, &quot;Ansible&quot;, … &quot;Docker&quot;]</td><td>[&quot;DevOps&quot;, &quot;Automation&quot;, … &quot;Software&quot;]</td><td>[&quot;DevOps&quot;]</td><td>null</td><td>null</td><td>&quot;en&quot;</td><td>&quot;Portsmouth&quot;</td><td>&quot;United States&quot;</td><td>2022-04-01</td><td>2024-04-01</td><td>&quot;2024&quot;</td><td>null</td><td>[null, null]</td><td>[null, null]</td><td>null</td><td>null</td><td>[&quot;Software&quot;, &quot;Data&quot;, … &quot;Cloud&quot;]</td></tr><tr><td>&quot;High School Youth Program Inst…</td><td>&quot;Not Remote&quot;</td><td>&quot;Student&quot;</td><td>&quot;unknown&quot;</td><td>&quot;UW-Madison&quot;</td><td>&quot;High School&quot;</td><td>[]</td><td>[]</td><td>[&quot;Primary&quot;, &quot;Secondary&quot;, … &quot;Education&quot;]</td><td>null</td><td>&quot;4650.00&quot;</td><td>&quot;en&quot;</td><td>null</td><td>null</td><td>2023-12-11</td><td>2024-03-24</td><td>&quot;2024&quot;</td><td>7</td><td>[&quot;4650.00&quot;, &quot;4650.00&quot;]</td><td>[4650.0, 4650.0]</td><td>4650.0</td><td>55800.0</td><td>[&quot;Primary&quot;, &quot;Design&quot;, … &quot;Education&quot;]</td></tr><tr><td>&quot;Senior Customer Program Manage…</td><td>&quot;US-Remote FL&quot;</td><td>&quot;Full-Time&quot;</td><td>&quot;unknown&quot;</td><td>&quot;AVT Technology Solutions GLM&quot;</td><td>&quot;unknown&quot;</td><td>[]</td><td>[]</td><td>[]</td><td>&quot;Manager&quot;</td><td>null</td><td>&quot;en&quot;</td><td>null</td><td>&quot;United States&quot;</td><td>2024-03-25</td><td>2024-03-28</td><td>&quot;2024&quot;</td><td>null</td><td>[null, null]</td><td>[null, null]</td><td>null</td><td>null</td><td>[]</td></tr><tr><td>&quot;Data Analyst&quot;</td><td>&quot;Delhi NCR/Remote&quot;</td><td>&quot;Unclear&quot;</td><td>&quot;unknown&quot;</td><td>&quot;WIN Home Inspection&quot;</td><td>&quot;Bachelors&quot;</td><td>[&quot;Python&quot;, &quot;Excel&quot;, … &quot;Tableau&quot;]</td><td>[&quot;Enterprise&quot;, &quot;Customers&quot;, … &quot;Visualization&quot;]</td><td>[]</td><td>&quot;IC&quot;</td><td>null</td><td>&quot;en&quot;</td><td>null</td><td>null</td><td>2024-02-08</td><td>2024-03-24</td><td>&quot;2024&quot;</td><td>null</td><td>[null, null]</td><td>[null, null]</td><td>null</td><td>null</td><td>[&quot;SQL&quot;, &quot;BI&quot;, … &quot;Stat&quot;]</td></tr></tbody></table></div>"
      ],
      "text/plain": [
       "shape: (129, 23)\n",
       "┌────────────┬────────────┬───────────┬─────────┬───┬───────────┬───────────┬──────────┬───────────┐\n",
       "│ job_name   ┆ job_locati ┆ hours     ┆ remote  ┆ … ┆ est_float ┆ compensat ┆ comp_dol ┆ all_tags  │\n",
       "│ ---        ┆ on         ┆ ---       ┆ ---     ┆   ┆ ---       ┆ ion       ┆ ---      ┆ ---       │\n",
       "│ str        ┆ ---        ┆ cat       ┆ cat     ┆   ┆ list[f64] ┆ ---       ┆ f64      ┆ list[str] │\n",
       "│            ┆ str        ┆           ┆         ┆   ┆           ┆ f64       ┆          ┆           │\n",
       "╞════════════╪════════════╪═══════════╪═════════╪═══╪═══════════╪═══════════╪══════════╪═══════════╡\n",
       "│ Product    ┆ Eastern    ┆ Full-Time ┆ unknown ┆ … ┆ [null,    ┆ null      ┆ null     ┆ []        │\n",
       "│ Manager -  ┆ Canada|Ont ┆           ┆         ┆   ┆ null]     ┆           ┆          ┆           │\n",
       "│ E-Sports/G ┆ ario|Montr ┆           ┆         ┆   ┆           ┆           ┆          ┆           │\n",
       "│ am…        ┆ ea…        ┆           ┆         ┆   ┆           ┆           ┆          ┆           │\n",
       "│ Software   ┆ GBR_Remote ┆ Full-Time ┆ unknown ┆ … ┆ [null,    ┆ null      ┆ null     ┆ [\"OS\",    │\n",
       "│ Solution   ┆            ┆           ┆         ┆   ┆ null]     ┆           ┆          ┆ \"Consulti │\n",
       "│ Consultant ┆            ┆           ┆         ┆   ┆           ┆           ┆          ┆ ng\", …    │\n",
       "│            ┆            ┆           ┆         ┆   ┆           ┆           ┆          ┆ \"OSS\"]    │\n",
       "│ Software   ┆ IN.Bangalo ┆ Full-Time ┆ unknown ┆ … ┆ [null,    ┆ null      ┆ null     ┆ [\"Develop │\n",
       "│ Developmen ┆ re.Remote  ┆           ┆         ┆   ┆ null]     ┆           ┆          ┆ ment\",    │\n",
       "│ t Engineer ┆            ┆           ┆         ┆   ┆           ┆           ┆          ┆ \"UI\", …   │\n",
       "│ …          ┆            ┆           ┆         ┆   ┆           ┆           ┆          ┆ \"Relat…   │\n",
       "│ Founding   ┆ New York|R ┆ Full-Time ┆ unknown ┆ … ┆ [null,    ┆ null      ┆ null     ┆ []        │\n",
       "│ Engineer   ┆ emote|Hybr ┆           ┆         ┆   ┆ null]     ┆           ┆          ┆           │\n",
       "│            ┆ id         ┆           ┆         ┆   ┆           ┆           ┆          ┆           │\n",
       "│ Science &  ┆ Not Remote ┆ Student   ┆ unknown ┆ … ┆ [null,    ┆ null      ┆ null     ┆ [\"Adverti │\n",
       "│ Engineerin ┆            ┆           ┆         ┆   ┆ null]     ┆           ┆          ┆ sing\",    │\n",
       "│ g          ┆            ┆           ┆         ┆   ┆           ┆           ┆          ┆ \"Facebook │\n",
       "│ Circulat…  ┆            ┆           ┆         ┆   ┆           ┆           ┆          ┆ \", … …    │\n",
       "│ …          ┆ …          ┆ …         ┆ …       ┆ … ┆ …         ┆ …         ┆ …        ┆ …         │\n",
       "│ Licensed   ┆ Remote,    ┆ Full-Time ┆ false   ┆ … ┆ [null,    ┆ null      ┆ null     ┆ [\"Network │\n",
       "│ Civil      ┆ Omaha, NE, ┆           ┆         ┆   ┆ null]     ┆           ┆          ┆ \",        │\n",
       "│ Engineer - ┆ us         ┆           ┆         ┆   ┆           ┆           ┆          ┆ \"Civil\",  │\n",
       "│ Data…      ┆            ┆           ┆         ┆   ┆           ┆           ┆          ┆ …         │\n",
       "│            ┆            ┆           ┆         ┆   ┆           ┆           ┆          ┆ \"Infras…  │\n",
       "│ Lead Cloud ┆ US-NH-Port ┆ Full-Time ┆ unknown ┆ … ┆ [null,    ┆ null      ┆ null     ┆ [\"Softwar │\n",
       "│ Infrastruc ┆ smouth |   ┆           ┆         ┆   ┆ null]     ┆           ┆          ┆ e\",       │\n",
       "│ ture / De… ┆ US-Remote  ┆           ┆         ┆   ┆           ┆           ┆          ┆ \"Data\", … │\n",
       "│            ┆ |…         ┆           ┆         ┆   ┆           ┆           ┆          ┆ \"Cloud\"…  │\n",
       "│ High       ┆ Not Remote ┆ Student   ┆ unknown ┆ … ┆ [4650.0,  ┆ 4650.0    ┆ 55800.0  ┆ [\"Primary │\n",
       "│ School     ┆            ┆           ┆         ┆   ┆ 4650.0]   ┆           ┆          ┆ \",        │\n",
       "│ Youth      ┆            ┆           ┆         ┆   ┆           ┆           ┆          ┆ \"Design\", │\n",
       "│ Program    ┆            ┆           ┆         ┆   ┆           ┆           ┆          ┆ … \"Educa… │\n",
       "│ Inst…      ┆            ┆           ┆         ┆   ┆           ┆           ┆          ┆           │\n",
       "│ Senior     ┆ US-Remote  ┆ Full-Time ┆ unknown ┆ … ┆ [null,    ┆ null      ┆ null     ┆ []        │\n",
       "│ Customer   ┆ FL         ┆           ┆         ┆   ┆ null]     ┆           ┆          ┆           │\n",
       "│ Program    ┆            ┆           ┆         ┆   ┆           ┆           ┆          ┆           │\n",
       "│ Manage…    ┆            ┆           ┆         ┆   ┆           ┆           ┆          ┆           │\n",
       "│ Data       ┆ Delhi      ┆ Unclear   ┆ unknown ┆ … ┆ [null,    ┆ null      ┆ null     ┆ [\"SQL\",   │\n",
       "│ Analyst    ┆ NCR/Remote ┆           ┆         ┆   ┆ null]     ┆           ┆          ┆ \"BI\", …   │\n",
       "│            ┆            ┆           ┆         ┆   ┆           ┆           ┆          ┆ \"Stat\"]   │\n",
       "└────────────┴────────────┴───────────┴─────────┴───┴───────────┴───────────┴──────────┴───────────┘"
      ]
     },
     "execution_count": 49,
     "metadata": {},
     "output_type": "execute_result"
    }
   ],
   "source": [
    "whole_df.filter(pl.col(\"job_location\").str.contains(\"(?i)remote\"), pl.col(\"remote\")!=\"true\")"
   ]
  },
  {
   "cell_type": "code",
   "execution_count": 50,
   "id": "ceebfd35-3c17-4d1f-b232-e51d3b515233",
   "metadata": {},
   "outputs": [
    {
     "data": {
      "text/html": [
       "<div><style>\n",
       ".dataframe > thead > tr,\n",
       ".dataframe > tbody > tr {\n",
       "  text-align: right;\n",
       "  white-space: pre-wrap;\n",
       "}\n",
       "</style>\n",
       "<small>shape: (14, 23)</small><table border=\"1\" class=\"dataframe\"><thead><tr><th>job_name</th><th>job_location</th><th>hours</th><th>remote</th><th>company_name</th><th>education</th><th>tags_matched</th><th>tag_categories</th><th>categories</th><th>seniority</th><th>comp_est</th><th>language</th><th>city</th><th>country</th><th>job_published_at</th><th>last_indexed</th><th>sample_date</th><th>len_comp</th><th>est</th><th>est_float</th><th>compensation</th><th>comp_dol</th><th>all_tags</th></tr><tr><td>str</td><td>str</td><td>cat</td><td>cat</td><td>str</td><td>cat</td><td>list[str]</td><td>list[str]</td><td>list[str]</td><td>str</td><td>str</td><td>cat</td><td>str</td><td>str</td><td>date</td><td>date</td><td>str</td><td>u32</td><td>list[str]</td><td>list[f64]</td><td>f64</td><td>f64</td><td>list[str]</td></tr></thead><tbody><tr><td>&quot;Data Engineer (ElasticSearch) …</td><td>null</td><td>&quot;Unclear&quot;</td><td>&quot;unknown&quot;</td><td>&quot;TechINT Solutions Group&quot;</td><td>&quot;unknown&quot;</td><td>[&quot;JSON&quot;, &quot;Azure&quot;, … &quot;Logstash&quot;]</td><td>[&quot;Observability&quot;, &quot;Search&quot;, … &quot;Search&quot;]</td><td>[&quot;Airlines&quot;, &quot;Aerospace&quot;, &quot;Security&quot;]</td><td>null</td><td>&quot;&quot;</td><td>&quot;en&quot;</td><td>null</td><td>null</td><td>null</td><td>2023-06-05</td><td>&quot;2023&quot;</td><td>0</td><td>[&quot;&quot;, &quot;&quot;]</td><td>[null, null]</td><td>null</td><td>null</td><td>[&quot;CI&quot;, &quot;Integration&quot;, … &quot;Provisioning&quot;]</td></tr><tr><td>&quot;Staff Engineer - Paris, Montpe…</td><td>&quot;France&quot;</td><td>&quot;Full-Time&quot;</td><td>&quot;unknown&quot;</td><td>&quot;Swile&quot;</td><td>&quot;unknown&quot;</td><td>[&quot;Kotlin&quot;, &quot;Node&quot;, … &quot;AWS&quot;]</td><td>[&quot;Libraries&quot;, &quot;IaaS&quot;, … &quot;Configuration&quot;]</td><td>[]</td><td>&quot;Staff IC&quot;</td><td>&quot;&quot;</td><td>&quot;en&quot;</td><td>null</td><td>&quot;France&quot;</td><td>2022-08-30</td><td>2023-05-24</td><td>&quot;2023&quot;</td><td>0</td><td>[&quot;&quot;, &quot;&quot;]</td><td>[null, null]</td><td>null</td><td>null</td><td>[&quot;Languages&quot;, &quot;Player&quot;, … &quot;Libraries&quot;]</td></tr><tr><td>&quot;Information Systems Security O…</td><td>&quot;Beavercreek, Ohio&quot;</td><td>&quot;Unclear&quot;</td><td>&quot;unknown&quot;</td><td>&quot;Riverside Research&quot;</td><td>&quot;unknown&quot;</td><td>[&quot;ArcSight&quot;]</td><td>[&quot;Security&quot;]</td><td>[&quot;Security&quot;]</td><td>&quot;Unclear Seniority&quot;</td><td>&quot;&quot;</td><td>&quot;en&quot;</td><td>&quot;Beavercreek&quot;</td><td>&quot;United States&quot;</td><td>2023-03-16</td><td>2023-06-06</td><td>&quot;2023&quot;</td><td>0</td><td>[&quot;&quot;, &quot;&quot;]</td><td>[null, null]</td><td>null</td><td>null</td><td>[&quot;ArcSight&quot;, &quot;Security&quot;]</td></tr><tr><td>&quot;Senior Data Scientist -remote&quot;</td><td>null</td><td>&quot;Contract&quot;</td><td>&quot;false&quot;</td><td>null</td><td>&quot;Bachelors&quot;</td><td>[&quot;SQL&quot;, &quot;SAS&quot;, &quot;Python&quot;]</td><td>[&quot;SQL&quot;, &quot;General&quot;, … &quot;Tools&quot;]</td><td>[]</td><td>&quot;Senior IC&quot;</td><td>&quot;&quot;</td><td>&quot;en&quot;</td><td>&quot;San Diego&quot;</td><td>&quot;United States&quot;</td><td>2023-05-11</td><td>2023-05-26</td><td>&quot;2023&quot;</td><td>0</td><td>[&quot;&quot;, &quot;&quot;]</td><td>[null, null]</td><td>null</td><td>null</td><td>[&quot;General&quot;, &quot;Science&quot;, … &quot;Business&quot;]</td></tr><tr><td>&quot;Software Developer III/IV (hyb…</td><td>null</td><td>&quot;Unclear&quot;</td><td>&quot;unknown&quot;</td><td>&quot;LeidosBioMed&quot;</td><td>&quot;unknown&quot;</td><td>[]</td><td>[]</td><td>[&quot;Software&quot;, &quot;BioTech&quot;]</td><td>null</td><td>null</td><td>&quot;en&quot;</td><td>&quot;Frederick&quot;</td><td>&quot;United States&quot;</td><td>2023-05-19</td><td>2023-06-07</td><td>&quot;2023&quot;</td><td>null</td><td>[null, null]</td><td>[null, null]</td><td>null</td><td>null</td><td>[&quot;BioTech&quot;, &quot;Software&quot;]</td></tr><tr><td>&hellip;</td><td>&hellip;</td><td>&hellip;</td><td>&hellip;</td><td>&hellip;</td><td>&hellip;</td><td>&hellip;</td><td>&hellip;</td><td>&hellip;</td><td>&hellip;</td><td>&hellip;</td><td>&hellip;</td><td>&hellip;</td><td>&hellip;</td><td>&hellip;</td><td>&hellip;</td><td>&hellip;</td><td>&hellip;</td><td>&hellip;</td><td>&hellip;</td><td>&hellip;</td><td>&hellip;</td><td>&hellip;</td></tr><tr><td>&quot;Cloud Architect (hybrid-remote…</td><td>&quot;Lansing, MI, United States&quot;</td><td>&quot;Unclear&quot;</td><td>&quot;unknown&quot;</td><td>&quot;Nanosoft Consulting Talent Pag…</td><td>&quot;unknown&quot;</td><td>[&quot;Azure&quot;, &quot;DevOps&quot;, … &quot;Bus&quot;]</td><td>[&quot;Project&quot;, &quot;Management&quot;, … &quot;Queues&quot;]</td><td>[&quot;Architecture&quot;, &quot;Planning&quot;, &quot;Consulting&quot;]</td><td>null</td><td>null</td><td>&quot;en&quot;</td><td>&quot;Lansing&quot;</td><td>&quot;United States&quot;</td><td>null</td><td>2024-03-29</td><td>&quot;2024&quot;</td><td>null</td><td>[null, null]</td><td>[null, null]</td><td>null</td><td>null</td><td>[&quot;Compute&quot;, &quot;Products&quot;, … &quot;Planning&quot;]</td></tr><tr><td>&quot;Werkstudent im Bereich Projekt…</td><td>&quot;Daimlerstraße 6, 71229 Leonber…</td><td>&quot;Part-Time&quot;</td><td>&quot;false&quot;</td><td>&quot;Bosch Group&quot;</td><td>&quot;Bachelors&quot;</td><td>[]</td><td>[]</td><td>[&quot;Security&quot;]</td><td>null</td><td>null</td><td>&quot;de&quot;</td><td>&quot;Leonberg&quot;</td><td>&quot;Germany&quot;</td><td>2024-03-22</td><td>2024-03-30</td><td>&quot;2024&quot;</td><td>null</td><td>[null, null]</td><td>[null, null]</td><td>null</td><td>null</td><td>[&quot;Security&quot;]</td></tr><tr><td>&quot;Junior Product Owner - Ecommer…</td><td>&quot;Kraków&quot;</td><td>&quot;Unclear&quot;</td><td>&quot;unknown&quot;</td><td>null</td><td>&quot;unknown&quot;</td><td>[&quot;Mastercard&quot;]</td><td>[]</td><td>[&quot;eCom&quot;]</td><td>&quot;Junior IC&quot;</td><td>null</td><td>&quot;pl&quot;</td><td>&quot;Kraków&quot;</td><td>&quot;Poland&quot;</td><td>2024-03-26</td><td>2024-03-28</td><td>&quot;2024&quot;</td><td>null</td><td>[null, null]</td><td>[null, null]</td><td>null</td><td>null</td><td>[&quot;eCom&quot;, &quot;Mastercard&quot;]</td></tr><tr><td>&quot;Senior Software Developer ( re…</td><td>&quot;Orlando, Florida, United State…</td><td>&quot;Full-Time&quot;</td><td>&quot;false&quot;</td><td>null</td><td>&quot;Bachelors&quot;</td><td>[&quot;ASP&quot;, &quot;NET&quot;, … &quot;C&quot;]</td><td>[&quot;OSS&quot;, &quot;Programming&quot;, … &quot;Framework&quot;]</td><td>[&quot;IT&quot;, &quot;Software&quot;]</td><td>&quot;Senior IC&quot;</td><td>null</td><td>&quot;en&quot;</td><td>&quot;Orlando&quot;</td><td>&quot;United States&quot;</td><td>2021-11-29</td><td>2024-03-15</td><td>&quot;2024&quot;</td><td>null</td><td>[null, null]</td><td>[null, null]</td><td>null</td><td>null</td><td>[&quot;Languages&quot;, &quot;IT&quot;, … &quot;Stack&quot;]</td></tr><tr><td>&quot;Cloud Architect (hybrid-remote…</td><td>&quot;Lansing, MI, United States&quot;</td><td>&quot;Unclear&quot;</td><td>&quot;unknown&quot;</td><td>&quot;Nanosoft Consulting Talent Pag…</td><td>&quot;unknown&quot;</td><td>[&quot;Salesforce&quot;, &quot;Dynamics&quot;, … &quot;Studio&quot;]</td><td>[&quot;Big&quot;, &quot;Data&quot;, … &quot;BI&quot;]</td><td>[&quot;Architecture&quot;, &quot;Planning&quot;, &quot;Consulting&quot;]</td><td>null</td><td>null</td><td>&quot;en&quot;</td><td>&quot;Lansing&quot;</td><td>&quot;United States&quot;</td><td>null</td><td>2024-03-29</td><td>&quot;2024&quot;</td><td>null</td><td>[null, null]</td><td>[null, null]</td><td>null</td><td>null</td><td>[&quot;Functions&quot;, &quot;Tools&quot;, … &quot;Intelligence&quot;]</td></tr></tbody></table></div>"
      ],
      "text/plain": [
       "shape: (14, 23)\n",
       "┌────────────┬────────────┬───────────┬─────────┬───┬───────────┬───────────┬──────────┬───────────┐\n",
       "│ job_name   ┆ job_locati ┆ hours     ┆ remote  ┆ … ┆ est_float ┆ compensat ┆ comp_dol ┆ all_tags  │\n",
       "│ ---        ┆ on         ┆ ---       ┆ ---     ┆   ┆ ---       ┆ ion       ┆ ---      ┆ ---       │\n",
       "│ str        ┆ ---        ┆ cat       ┆ cat     ┆   ┆ list[f64] ┆ ---       ┆ f64      ┆ list[str] │\n",
       "│            ┆ str        ┆           ┆         ┆   ┆           ┆ f64       ┆          ┆           │\n",
       "╞════════════╪════════════╪═══════════╪═════════╪═══╪═══════════╪═══════════╪══════════╪═══════════╡\n",
       "│ Data       ┆ null       ┆ Unclear   ┆ unknown ┆ … ┆ [null,    ┆ null      ┆ null     ┆ [\"CI\",    │\n",
       "│ Engineer   ┆            ┆           ┆         ┆   ┆ null]     ┆           ┆          ┆ \"Integrat │\n",
       "│ (ElasticSe ┆            ┆           ┆         ┆   ┆           ┆           ┆          ┆ ion\", …   │\n",
       "│ arch) …    ┆            ┆           ┆         ┆   ┆           ┆           ┆          ┆ \"Provi…   │\n",
       "│ Staff      ┆ France     ┆ Full-Time ┆ unknown ┆ … ┆ [null,    ┆ null      ┆ null     ┆ [\"Languag │\n",
       "│ Engineer - ┆            ┆           ┆         ┆   ┆ null]     ┆           ┆          ┆ es\",      │\n",
       "│ Paris,     ┆            ┆           ┆         ┆   ┆           ┆           ┆          ┆ \"Player\", │\n",
       "│ Montpe…    ┆            ┆           ┆         ┆   ┆           ┆           ┆          ┆ … \"Lib…   │\n",
       "│ Informatio ┆ Beavercree ┆ Unclear   ┆ unknown ┆ … ┆ [null,    ┆ null      ┆ null     ┆ [\"ArcSigh │\n",
       "│ n Systems  ┆ k, Ohio    ┆           ┆         ┆   ┆ null]     ┆           ┆          ┆ t\", \"Secu │\n",
       "│ Security   ┆            ┆           ┆         ┆   ┆           ┆           ┆          ┆ rity\"]    │\n",
       "│ O…         ┆            ┆           ┆         ┆   ┆           ┆           ┆          ┆           │\n",
       "│ Senior     ┆ null       ┆ Contract  ┆ false   ┆ … ┆ [null,    ┆ null      ┆ null     ┆ [\"General │\n",
       "│ Data       ┆            ┆           ┆         ┆   ┆ null]     ┆           ┆          ┆ \", \"Scien │\n",
       "│ Scientist  ┆            ┆           ┆         ┆   ┆           ┆           ┆          ┆ ce\", …    │\n",
       "│ -remote    ┆            ┆           ┆         ┆   ┆           ┆           ┆          ┆ \"Busi…    │\n",
       "│ Software   ┆ null       ┆ Unclear   ┆ unknown ┆ … ┆ [null,    ┆ null      ┆ null     ┆ [\"BioTech │\n",
       "│ Developer  ┆            ┆           ┆         ┆   ┆ null]     ┆           ┆          ┆ \", \"Softw │\n",
       "│ III/IV     ┆            ┆           ┆         ┆   ┆           ┆           ┆          ┆ are\"]     │\n",
       "│ (hyb…      ┆            ┆           ┆         ┆   ┆           ┆           ┆          ┆           │\n",
       "│ …          ┆ …          ┆ …         ┆ …       ┆ … ┆ …         ┆ …         ┆ …        ┆ …         │\n",
       "│ Cloud      ┆ Lansing,   ┆ Unclear   ┆ unknown ┆ … ┆ [null,    ┆ null      ┆ null     ┆ [\"Compute │\n",
       "│ Architect  ┆ MI, United ┆           ┆         ┆   ┆ null]     ┆           ┆          ┆ \", \"Produ │\n",
       "│ (hybrid-re ┆ States     ┆           ┆         ┆   ┆           ┆           ┆          ┆ cts\", …   │\n",
       "│ mote…      ┆            ┆           ┆         ┆   ┆           ┆           ┆          ┆ \"Pla…     │\n",
       "│ Werkstuden ┆ Daimlerstr ┆ Part-Time ┆ false   ┆ … ┆ [null,    ┆ null      ┆ null     ┆ [\"Securit │\n",
       "│ t im       ┆ aße 6,     ┆           ┆         ┆   ┆ null]     ┆           ┆          ┆ y\"]       │\n",
       "│ Bereich    ┆ 71229      ┆           ┆         ┆   ┆           ┆           ┆          ┆           │\n",
       "│ Projekt…   ┆ Leonber…   ┆           ┆         ┆   ┆           ┆           ┆          ┆           │\n",
       "│ Junior     ┆ Kraków     ┆ Unclear   ┆ unknown ┆ … ┆ [null,    ┆ null      ┆ null     ┆ [\"eCom\",  │\n",
       "│ Product    ┆            ┆           ┆         ┆   ┆ null]     ┆           ┆          ┆ \"Masterca │\n",
       "│ Owner -    ┆            ┆           ┆         ┆   ┆           ┆           ┆          ┆ rd\"]      │\n",
       "│ Ecommer…   ┆            ┆           ┆         ┆   ┆           ┆           ┆          ┆           │\n",
       "│ Senior     ┆ Orlando,   ┆ Full-Time ┆ false   ┆ … ┆ [null,    ┆ null      ┆ null     ┆ [\"Languag │\n",
       "│ Software   ┆ Florida,   ┆           ┆         ┆   ┆ null]     ┆           ┆          ┆ es\",      │\n",
       "│ Developer  ┆ United     ┆           ┆         ┆   ┆           ┆           ┆          ┆ \"IT\", …   │\n",
       "│ ( re…      ┆ State…     ┆           ┆         ┆   ┆           ┆           ┆          ┆ \"Stack\"]  │\n",
       "│ Cloud      ┆ Lansing,   ┆ Unclear   ┆ unknown ┆ … ┆ [null,    ┆ null      ┆ null     ┆ [\"Functio │\n",
       "│ Architect  ┆ MI, United ┆           ┆         ┆   ┆ null]     ┆           ┆          ┆ ns\",      │\n",
       "│ (hybrid-re ┆ States     ┆           ┆         ┆   ┆           ┆           ┆          ┆ \"Tools\",  │\n",
       "│ mote…      ┆            ┆           ┆         ┆   ┆           ┆           ┆          ┆ … \"Inte…  │\n",
       "└────────────┴────────────┴───────────┴─────────┴───┴───────────┴───────────┴──────────┴───────────┘"
      ]
     },
     "execution_count": 50,
     "metadata": {},
     "output_type": "execute_result"
    }
   ],
   "source": [
    "whole_df.filter(pl.col(\"job_name\").str.contains(\"remote\"), pl.col(\"remote\")!=\"true\")"
   ]
  },
  {
   "cell_type": "code",
   "execution_count": 51,
   "id": "7e4cb87a-e219-45f8-8048-bccaaadcda1c",
   "metadata": {},
   "outputs": [
    {
     "name": "stderr",
     "output_type": "stream",
     "text": [
      "sys:1: CategoricalRemappingWarning: Local categoricals have different encodings, expensive re-encoding is done to perform this merge operation. Consider using a StringCache or an Enum type if the categories are known in advance\n"
     ]
    }
   ],
   "source": [
    "whole_df = whole_df.with_columns(\n",
    "    remote = pl.when((pl.col(\"job_name\").str.contains(\"remote\")) | (pl.col(\"job_location\").str.contains(\"(?i)remote\")))\n",
    "        .then(pl.lit(\"true\"))\n",
    "        .otherwise(pl.col(\"remote\"))\n",
    ")"
   ]
  },
  {
   "cell_type": "code",
   "execution_count": 52,
   "id": "17fa70a7-1a27-420b-9908-5b180e7156ed",
   "metadata": {},
   "outputs": [
    {
     "data": {
      "text/html": [
       "<div><style>\n",
       ".dataframe > thead > tr,\n",
       ".dataframe > tbody > tr {\n",
       "  text-align: right;\n",
       "  white-space: pre-wrap;\n",
       "}\n",
       "</style>\n",
       "<small>shape: (0, 23)</small><table border=\"1\" class=\"dataframe\"><thead><tr><th>job_name</th><th>job_location</th><th>hours</th><th>remote</th><th>company_name</th><th>education</th><th>tags_matched</th><th>tag_categories</th><th>categories</th><th>seniority</th><th>comp_est</th><th>language</th><th>city</th><th>country</th><th>job_published_at</th><th>last_indexed</th><th>sample_date</th><th>len_comp</th><th>est</th><th>est_float</th><th>compensation</th><th>comp_dol</th><th>all_tags</th></tr><tr><td>str</td><td>str</td><td>cat</td><td>cat</td><td>str</td><td>cat</td><td>list[str]</td><td>list[str]</td><td>list[str]</td><td>str</td><td>str</td><td>cat</td><td>str</td><td>str</td><td>date</td><td>date</td><td>str</td><td>u32</td><td>list[str]</td><td>list[f64]</td><td>f64</td><td>f64</td><td>list[str]</td></tr></thead><tbody></tbody></table></div>"
      ],
      "text/plain": [
       "shape: (0, 23)\n",
       "┌──────────┬──────────────┬───────┬────────┬───┬───────────┬──────────────┬──────────┬───────────┐\n",
       "│ job_name ┆ job_location ┆ hours ┆ remote ┆ … ┆ est_float ┆ compensation ┆ comp_dol ┆ all_tags  │\n",
       "│ ---      ┆ ---          ┆ ---   ┆ ---    ┆   ┆ ---       ┆ ---          ┆ ---      ┆ ---       │\n",
       "│ str      ┆ str          ┆ cat   ┆ cat    ┆   ┆ list[f64] ┆ f64          ┆ f64      ┆ list[str] │\n",
       "╞══════════╪══════════════╪═══════╪════════╪═══╪═══════════╪══════════════╪══════════╪═══════════╡\n",
       "└──────────┴──────────────┴───────┴────────┴───┴───────────┴──────────────┴──────────┴───────────┘"
      ]
     },
     "execution_count": 52,
     "metadata": {},
     "output_type": "execute_result"
    }
   ],
   "source": [
    "whole_df.filter(pl.col(\"job_name\").str.contains(\"remote\"), pl.col(\"remote\")!=\"true\")"
   ]
  },
  {
   "cell_type": "code",
   "execution_count": 53,
   "id": "5ff38a98-a04d-4c12-92cd-a937fca92d06",
   "metadata": {},
   "outputs": [
    {
     "data": {
      "text/html": [
       "<div><style>\n",
       ".dataframe > thead > tr,\n",
       ".dataframe > tbody > tr {\n",
       "  text-align: right;\n",
       "  white-space: pre-wrap;\n",
       "}\n",
       "</style>\n",
       "<small>shape: (15, 2)</small><table border=\"1\" class=\"dataframe\"><thead><tr><th>seniority</th><th>count</th></tr><tr><td>str</td><td>u32</td></tr></thead><tbody><tr><td>null</td><td>53579</td></tr><tr><td>&quot;Senior IC&quot;</td><td>17840</td></tr><tr><td>&quot;Manager&quot;</td><td>6688</td></tr><tr><td>&quot;IC&quot;</td><td>6623</td></tr><tr><td>&quot;Unclear Seniority&quot;</td><td>4593</td></tr><tr><td>&hellip;</td><td>&hellip;</td></tr><tr><td>&quot;Chief&quot;</td><td>557</td></tr><tr><td>&quot;Exec&quot;</td><td>465</td></tr><tr><td>&quot;Senior Manager&quot;</td><td>273</td></tr><tr><td>&quot;Senior Exec&quot;</td><td>8</td></tr><tr><td>&quot;Founder&quot;</td><td>3</td></tr></tbody></table></div>"
      ],
      "text/plain": [
       "shape: (15, 2)\n",
       "┌───────────────────┬───────┐\n",
       "│ seniority         ┆ count │\n",
       "│ ---               ┆ ---   │\n",
       "│ str               ┆ u32   │\n",
       "╞═══════════════════╪═══════╡\n",
       "│ null              ┆ 53579 │\n",
       "│ Senior IC         ┆ 17840 │\n",
       "│ Manager           ┆ 6688  │\n",
       "│ IC                ┆ 6623  │\n",
       "│ Unclear Seniority ┆ 4593  │\n",
       "│ …                 ┆ …     │\n",
       "│ Chief             ┆ 557   │\n",
       "│ Exec              ┆ 465   │\n",
       "│ Senior Manager    ┆ 273   │\n",
       "│ Senior Exec       ┆ 8     │\n",
       "│ Founder           ┆ 3     │\n",
       "└───────────────────┴───────┘"
      ]
     },
     "execution_count": 53,
     "metadata": {},
     "output_type": "execute_result"
    }
   ],
   "source": [
    "whole_df[\"seniority\"].value_counts(sort=True)"
   ]
  },
  {
   "cell_type": "code",
   "execution_count": 54,
   "id": "4f4e9481-7397-4157-a571-57aa2f7efc15",
   "metadata": {},
   "outputs": [
    {
     "name": "stderr",
     "output_type": "stream",
     "text": [
      "/tmp/ipykernel_24935/3224810329.py:1: CategoricalRemappingWarning: Local categoricals have different encodings, expensive re-encoding is done to perform this merge operation. Consider using a StringCache or an Enum type if the categories are known in advance\n",
      "  whole_df = whole_df.with_columns(\n"
     ]
    }
   ],
   "source": [
    "whole_df = whole_df.with_columns(\n",
    "    pl.col(\"seniority\").fill_null(\"Unclear Seniority\").cast(pl.Categorical)\n",
    ")  # filling nulls with \"Unclear Seniority\" "
   ]
  },
  {
   "cell_type": "code",
   "execution_count": 55,
   "id": "50659679-1703-4486-8638-84514406f5a5",
   "metadata": {},
   "outputs": [
    {
     "data": {
      "text/html": [
       "<div><style>\n",
       ".dataframe > thead > tr,\n",
       ".dataframe > tbody > tr {\n",
       "  text-align: right;\n",
       "  white-space: pre-wrap;\n",
       "}\n",
       "</style>\n",
       "<small>shape: (3_409, 23)</small><table border=\"1\" class=\"dataframe\"><thead><tr><th>job_name</th><th>job_location</th><th>hours</th><th>remote</th><th>company_name</th><th>education</th><th>tags_matched</th><th>tag_categories</th><th>categories</th><th>seniority</th><th>comp_est</th><th>language</th><th>city</th><th>country</th><th>job_published_at</th><th>last_indexed</th><th>sample_date</th><th>len_comp</th><th>est</th><th>est_float</th><th>compensation</th><th>comp_dol</th><th>all_tags</th></tr><tr><td>str</td><td>str</td><td>cat</td><td>cat</td><td>str</td><td>cat</td><td>list[str]</td><td>list[str]</td><td>list[str]</td><td>cat</td><td>str</td><td>cat</td><td>str</td><td>str</td><td>date</td><td>date</td><td>str</td><td>u32</td><td>list[str]</td><td>list[f64]</td><td>f64</td><td>f64</td><td>list[str]</td></tr></thead><tbody><tr><td>&quot;Sr. Planning and Hydraulic Mod…</td><td>&quot;United States&quot;</td><td>&quot;Unclear&quot;</td><td>&quot;unknown&quot;</td><td>&quot;Barge Design Solutions&quot;</td><td>&quot;unknown&quot;</td><td>[]</td><td>[]</td><td>[&quot;Design&quot;]</td><td>&quot;Senior IC&quot;</td><td>null</td><td>&quot;en&quot;</td><td>null</td><td>&quot;United States&quot;</td><td>2023-05-02</td><td>2023-06-09</td><td>&quot;2023&quot;</td><td>null</td><td>[null, null]</td><td>[null, null]</td><td>null</td><td>null</td><td>[&quot;Design&quot;]</td></tr><tr><td>&quot;Sr. Architect / Engineering Ma…</td><td>&quot;Delhi, Delhi, 110017 India&quot;</td><td>&quot;Full-Time&quot;</td><td>&quot;unknown&quot;</td><td>&quot;Zenon Analytics&quot;</td><td>&quot;unknown&quot;</td><td>[&quot;Tableau&quot;, &quot;Azure&quot;, … &quot;BI&quot;]</td><td>[&quot;Databases&quot;, &quot;Database&quot;, … &quot;IaaS&quot;]</td><td>[&quot;Architecture&quot;, &quot;Planning&quot;, … &quot;Analytics&quot;]</td><td>&quot;Director&quot;</td><td>null</td><td>&quot;en&quot;</td><td>&quot;Delhi&quot;</td><td>&quot;India&quot;</td><td>2023-02-22</td><td>2023-06-09</td><td>&quot;2023&quot;</td><td>null</td><td>[null, null]</td><td>[null, null]</td><td>null</td><td>null</td><td>[&quot;IaaS&quot;, &quot;Java&quot;, … &quot;Programming&quot;]</td></tr><tr><td>&quot;Information Technology Jr. Pro…</td><td>&quot;7700 Arlington Blvd, Falls Chu…</td><td>&quot;Full-Time&quot;</td><td>&quot;true&quot;</td><td>&quot;Blue Iris Tech Consulting&quot;</td><td>&quot;Bachelors&quot;</td><td>[&quot;Iris&quot;, &quot;AppDynamics&quot;, &quot;Excel&quot;]</td><td>[&quot;DevOps&quot;, &quot;APM&quot;, … &quot;Spreadsheets&quot;]</td><td>[&quot;Security&quot;, &quot;Consulting&quot;]</td><td>&quot;IC&quot;</td><td>&quot;&quot;</td><td>&quot;en&quot;</td><td>&quot;Falls Church&quot;</td><td>&quot;United States&quot;</td><td>2022-06-18</td><td>2023-05-30</td><td>&quot;2023&quot;</td><td>0</td><td>[&quot;&quot;, &quot;&quot;]</td><td>[null, null]</td><td>null</td><td>null</td><td>[&quot;Enterprise&quot;, &quot;No&quot;, … &quot;Consulting&quot;]</td></tr><tr><td>&quot;SR. Software Engineer - Rust, …</td><td>null</td><td>&quot;Full-Time&quot;</td><td>&quot;true&quot;</td><td>null</td><td>&quot;Bachelors&quot;</td><td>[&quot;SQL&quot;, &quot;Oracle&quot;, … &quot;Snowflake&quot;]</td><td>[&quot;Datastores&quot;, &quot;SaaS&quot;, … &quot;Databases&quot;]</td><td>[&quot;Software&quot;]</td><td>&quot;Unclear Seniority&quot;</td><td>&quot;&quot;</td><td>&quot;en&quot;</td><td>&quot;San Diego&quot;</td><td>&quot;United States&quot;</td><td>2022-03-16</td><td>2023-05-26</td><td>&quot;2023&quot;</td><td>0</td><td>[&quot;&quot;, &quot;&quot;]</td><td>[null, null]</td><td>null</td><td>null</td><td>[&quot;Languages&quot;, &quot;Warehouses&quot;, … &quot;Big&quot;]</td></tr><tr><td>&quot;Sr. Industrial Engineer - Ware…</td><td>&quot;St Louis, MO&quot;</td><td>&quot;Unclear&quot;</td><td>&quot;unknown&quot;</td><td>&quot;CCA PROFESSIONAL RECRUITING&quot;</td><td>&quot;unknown&quot;</td><td>[]</td><td>[]</td><td>[&quot;Mechanical&quot;, &quot;Industrial&quot;, … &quot;Warehousing&quot;]</td><td>&quot;Senior IC&quot;</td><td>&quot;50047.5&quot;</td><td>&quot;en&quot;</td><td>&quot;St Louis&quot;</td><td>&quot;United States&quot;</td><td>null</td><td>2023-06-05</td><td>&quot;2023&quot;</td><td>7</td><td>[&quot;50047.5&quot;, &quot;50047.5&quot;]</td><td>[50047.5, 50047.5]</td><td>50047.5</td><td>50047.5</td><td>[&quot;Staffing&quot;, &quot;Recruiting&quot;, … &quot;Engineering&quot;]</td></tr><tr><td>&hellip;</td><td>&hellip;</td><td>&hellip;</td><td>&hellip;</td><td>&hellip;</td><td>&hellip;</td><td>&hellip;</td><td>&hellip;</td><td>&hellip;</td><td>&hellip;</td><td>&hellip;</td><td>&hellip;</td><td>&hellip;</td><td>&hellip;</td><td>&hellip;</td><td>&hellip;</td><td>&hellip;</td><td>&hellip;</td><td>&hellip;</td><td>&hellip;</td><td>&hellip;</td><td>&hellip;</td><td>&hellip;</td></tr><tr><td>&quot;J.P. Morgan Wealth Management …</td><td>&quot;Wilmington, DE, United States&quot;</td><td>&quot;Full-Time&quot;</td><td>&quot;unknown&quot;</td><td>&quot;260312-SOUTH FLORIDA REGION AD…</td><td>&quot;Bachelors&quot;</td><td>[&quot;Salesforce&quot;, &quot;Jira&quot;]</td><td>[&quot;Midsize&quot;, &quot;Customers&quot;, … &quot;Management&quot;]</td><td>[]</td><td>&quot;Senior IC&quot;</td><td>null</td><td>&quot;en&quot;</td><td>&quot;Wilmington&quot;</td><td>&quot;United States&quot;</td><td>2024-03-13</td><td>2024-03-14</td><td>&quot;2024&quot;</td><td>null</td><td>[null, null]</td><td>[null, null]</td><td>null</td><td>null</td><td>[&quot;Midsize&quot;, &quot;Issue&quot;, … &quot;Jira&quot;]</td></tr><tr><td>&quot;Managed Svcs Systems Asc. Engi…</td><td>&quot;Enschede&quot;</td><td>&quot;Full-Time&quot;</td><td>&quot;unknown&quot;</td><td>&quot;Virtu Secure Web Services&quot;</td><td>&quot;unknown&quot;</td><td>[&quot;Equinix&quot;]</td><td>[]</td><td>[]</td><td>&quot;Unclear Seniority&quot;</td><td>null</td><td>&quot;en&quot;</td><td>&quot;Enschede&quot;</td><td>&quot;Netherlands&quot;</td><td>2023-10-18</td><td>2024-03-14</td><td>&quot;2024&quot;</td><td>null</td><td>[null, null]</td><td>[null, null]</td><td>null</td><td>null</td><td>[&quot;Equinix&quot;]</td></tr><tr><td>&quot;Sr. Information Assurance/Secu…</td><td>&quot;Remote from Home - US - San An…</td><td>&quot;Full-Time&quot;</td><td>&quot;true&quot;</td><td>&quot;Feditc&quot;</td><td>&quot;Bachelors&quot;</td><td>[]</td><td>[]</td><td>[&quot;Security&quot;]</td><td>&quot;Senior IC&quot;</td><td>null</td><td>&quot;en&quot;</td><td>&quot;San Antonio&quot;</td><td>&quot;United States&quot;</td><td>2023-09-06</td><td>2024-03-28</td><td>&quot;2024&quot;</td><td>null</td><td>[null, null]</td><td>[null, null]</td><td>null</td><td>null</td><td>[&quot;Security&quot;]</td></tr><tr><td>&quot;React.JS/UI Consultant&quot;</td><td>&quot;Jersey City, NJ&quot;</td><td>&quot;Full-Time&quot;</td><td>&quot;false&quot;</td><td>&quot;Sonsoft&quot;</td><td>&quot;Bachelors&quot;</td><td>[&quot;React&quot;, &quot;JavaScript&quot;]</td><td>[&quot;OSS&quot;, &quot;JavaScript&quot;, … &quot;Languages&quot;]</td><td>[&quot;Consulting&quot;]</td><td>&quot;Contract&quot;</td><td>null</td><td>&quot;en&quot;</td><td>&quot;Jersey City&quot;</td><td>&quot;United States&quot;</td><td>2017-05-11</td><td>2024-03-18</td><td>&quot;2024&quot;</td><td>null</td><td>[null, null]</td><td>[null, null]</td><td>null</td><td>null</td><td>[&quot;OSS&quot;, &quot;Consulting&quot;, … &quot;UI&quot;]</td></tr><tr><td>&quot;(Sr.) Product Manager&quot;</td><td>&quot;Hong Kong&quot;</td><td>&quot;Unclear&quot;</td><td>&quot;unknown&quot;</td><td>&quot;Novartis&quot;</td><td>&quot;unknown&quot;</td><td>[&quot;Accessibility&quot;]</td><td>[]</td><td>[&quot;China&quot;, &quot;Related&quot;]</td><td>&quot;IC&quot;</td><td>null</td><td>&quot;pt&quot;</td><td>&quot;Hong Kong&quot;</td><td>&quot;Hong Kong&quot;</td><td>null</td><td>2024-03-17</td><td>&quot;2024&quot;</td><td>null</td><td>[null, null]</td><td>[null, null]</td><td>null</td><td>null</td><td>[&quot;Accessibility&quot;, &quot;China&quot;, &quot;Related&quot;]</td></tr></tbody></table></div>"
      ],
      "text/plain": [
       "shape: (3_409, 23)\n",
       "┌────────────┬────────────┬───────────┬─────────┬───┬───────────┬───────────┬──────────┬───────────┐\n",
       "│ job_name   ┆ job_locati ┆ hours     ┆ remote  ┆ … ┆ est_float ┆ compensat ┆ comp_dol ┆ all_tags  │\n",
       "│ ---        ┆ on         ┆ ---       ┆ ---     ┆   ┆ ---       ┆ ion       ┆ ---      ┆ ---       │\n",
       "│ str        ┆ ---        ┆ cat       ┆ cat     ┆   ┆ list[f64] ┆ ---       ┆ f64      ┆ list[str] │\n",
       "│            ┆ str        ┆           ┆         ┆   ┆           ┆ f64       ┆          ┆           │\n",
       "╞════════════╪════════════╪═══════════╪═════════╪═══╪═══════════╪═══════════╪══════════╪═══════════╡\n",
       "│ Sr.        ┆ United     ┆ Unclear   ┆ unknown ┆ … ┆ [null,    ┆ null      ┆ null     ┆ [\"Design\" │\n",
       "│ Planning   ┆ States     ┆           ┆         ┆   ┆ null]     ┆           ┆          ┆ ]         │\n",
       "│ and        ┆            ┆           ┆         ┆   ┆           ┆           ┆          ┆           │\n",
       "│ Hydraulic  ┆            ┆           ┆         ┆   ┆           ┆           ┆          ┆           │\n",
       "│ Mod…       ┆            ┆           ┆         ┆   ┆           ┆           ┆          ┆           │\n",
       "│ Sr.        ┆ Delhi,     ┆ Full-Time ┆ unknown ┆ … ┆ [null,    ┆ null      ┆ null     ┆ [\"IaaS\",  │\n",
       "│ Architect  ┆ Delhi,     ┆           ┆         ┆   ┆ null]     ┆           ┆          ┆ \"Java\", … │\n",
       "│ / Engineer ┆ 110017     ┆           ┆         ┆   ┆           ┆           ┆          ┆ \"Programm │\n",
       "│ ing Ma…    ┆ India      ┆           ┆         ┆   ┆           ┆           ┆          ┆ in…       │\n",
       "│ Informatio ┆ 7700       ┆ Full-Time ┆ true    ┆ … ┆ [null,    ┆ null      ┆ null     ┆ [\"Enterpr │\n",
       "│ n          ┆ Arlington  ┆           ┆         ┆   ┆ null]     ┆           ┆          ┆ ise\",     │\n",
       "│ Technology ┆ Blvd,      ┆           ┆         ┆   ┆           ┆           ┆          ┆ \"No\", …   │\n",
       "│ Jr. Pro…   ┆ Falls Chu… ┆           ┆         ┆   ┆           ┆           ┆          ┆ \"Consul…  │\n",
       "│ SR.        ┆ null       ┆ Full-Time ┆ true    ┆ … ┆ [null,    ┆ null      ┆ null     ┆ [\"Languag │\n",
       "│ Software   ┆            ┆           ┆         ┆   ┆ null]     ┆           ┆          ┆ es\", \"War │\n",
       "│ Engineer - ┆            ┆           ┆         ┆   ┆           ┆           ┆          ┆ ehouses\", │\n",
       "│ Rust, …    ┆            ┆           ┆         ┆   ┆           ┆           ┆          ┆ … …       │\n",
       "│ Sr.        ┆ St Louis,  ┆ Unclear   ┆ unknown ┆ … ┆ [50047.5, ┆ 50047.5   ┆ 50047.5  ┆ [\"Staffin │\n",
       "│ Industrial ┆ MO         ┆           ┆         ┆   ┆ 50047.5]  ┆           ┆          ┆ g\", \"Recr │\n",
       "│ Engineer - ┆            ┆           ┆         ┆   ┆           ┆           ┆          ┆ uiting\",  │\n",
       "│ Ware…      ┆            ┆           ┆         ┆   ┆           ┆           ┆          ┆ … \"…      │\n",
       "│ …          ┆ …          ┆ …         ┆ …       ┆ … ┆ …         ┆ …         ┆ …        ┆ …         │\n",
       "│ J.P.       ┆ Wilmington ┆ Full-Time ┆ unknown ┆ … ┆ [null,    ┆ null      ┆ null     ┆ [\"Midsize │\n",
       "│ Morgan     ┆ , DE,      ┆           ┆         ┆   ┆ null]     ┆           ┆          ┆ \",        │\n",
       "│ Wealth     ┆ United     ┆           ┆         ┆   ┆           ┆           ┆          ┆ \"Issue\",  │\n",
       "│ Management ┆ States     ┆           ┆         ┆   ┆           ┆           ┆          ┆ … \"Jira\"] │\n",
       "│ …          ┆            ┆           ┆         ┆   ┆           ┆           ┆          ┆           │\n",
       "│ Managed    ┆ Enschede   ┆ Full-Time ┆ unknown ┆ … ┆ [null,    ┆ null      ┆ null     ┆ [\"Equinix │\n",
       "│ Svcs       ┆            ┆           ┆         ┆   ┆ null]     ┆           ┆          ┆ \"]        │\n",
       "│ Systems    ┆            ┆           ┆         ┆   ┆           ┆           ┆          ┆           │\n",
       "│ Asc. Engi… ┆            ┆           ┆         ┆   ┆           ┆           ┆          ┆           │\n",
       "│ Sr. Inform ┆ Remote     ┆ Full-Time ┆ true    ┆ … ┆ [null,    ┆ null      ┆ null     ┆ [\"Securit │\n",
       "│ ation Assu ┆ from Home  ┆           ┆         ┆   ┆ null]     ┆           ┆          ┆ y\"]       │\n",
       "│ rance/Secu ┆ - US - San ┆           ┆         ┆   ┆           ┆           ┆          ┆           │\n",
       "│ …          ┆ An…        ┆           ┆         ┆   ┆           ┆           ┆          ┆           │\n",
       "│ React.JS/U ┆ Jersey     ┆ Full-Time ┆ false   ┆ … ┆ [null,    ┆ null      ┆ null     ┆ [\"OSS\",   │\n",
       "│ I          ┆ City, NJ   ┆           ┆         ┆   ┆ null]     ┆           ┆          ┆ \"Consulti │\n",
       "│ Consultant ┆            ┆           ┆         ┆   ┆           ┆           ┆          ┆ ng\", …    │\n",
       "│            ┆            ┆           ┆         ┆   ┆           ┆           ┆          ┆ \"UI\"]     │\n",
       "│ (Sr.)      ┆ Hong Kong  ┆ Unclear   ┆ unknown ┆ … ┆ [null,    ┆ null      ┆ null     ┆ [\"Accessi │\n",
       "│ Product    ┆            ┆           ┆         ┆   ┆ null]     ┆           ┆          ┆ bility\",  │\n",
       "│ Manager    ┆            ┆           ┆         ┆   ┆           ┆           ┆          ┆ \"China\",  │\n",
       "│            ┆            ┆           ┆         ┆   ┆           ┆           ┆          ┆ \"Re…      │\n",
       "└────────────┴────────────┴───────────┴─────────┴───┴───────────┴───────────┴──────────┴───────────┘"
      ]
     },
     "execution_count": 55,
     "metadata": {},
     "output_type": "execute_result"
    }
   ],
   "source": [
    "whole_df.filter(pl.col(\"job_name\").str.contains(\"[a-zA-Z]+\\.\"))"
   ]
  },
  {
   "cell_type": "code",
   "execution_count": 56,
   "id": "28f6dd02-d3d0-48c6-893c-3ccb3a0a551e",
   "metadata": {},
   "outputs": [],
   "source": [
    "whole_df = whole_df.with_columns(pl.col(\"job_name\").str.to_lowercase().str.replace(\"sr.\", \"senior\").str.replace(\"jr.\", \"junior\"))\n",
    "#replacing the sr. jr. with senior and junior"
   ]
  },
  {
   "cell_type": "code",
   "execution_count": 57,
   "id": "82c3202b-e731-4bf2-8c13-f0b852c8945e",
   "metadata": {},
   "outputs": [],
   "source": [
    "whole_df = whole_df.with_columns(\n",
    "    seniority = pl.when(pl.col(\"job_name\").str.contains(\"senior\"))\n",
    "        .then(pl.lit(\"Senior IC\"))\n",
    "        .otherwise(pl.col(\"seniority\"))\n",
    ")\n",
    "#there are job_names that contain both junior and senior offers, I choose to label them as Junior IC"
   ]
  },
  {
   "cell_type": "code",
   "execution_count": 58,
   "id": "28008334-8cbf-451f-ba40-9fe33bc224a9",
   "metadata": {},
   "outputs": [],
   "source": [
    "whole_df = whole_df.with_columns(\n",
    "    seniority = pl.when(pl.col(\"job_name\").str.contains(\"junior\"))\n",
    "        .then(pl.lit(\"Junior IC\"))\n",
    "        .otherwise(pl.col(\"seniority\"))\n",
    ")"
   ]
  },
  {
   "cell_type": "code",
   "execution_count": 59,
   "id": "bd590c20-1130-4773-8b5b-1edf396dae24",
   "metadata": {},
   "outputs": [
    {
     "data": {
      "text/html": [
       "<div><style>\n",
       ".dataframe > thead > tr,\n",
       ".dataframe > tbody > tr {\n",
       "  text-align: right;\n",
       "  white-space: pre-wrap;\n",
       "}\n",
       "</style>\n",
       "<small>shape: (0, 23)</small><table border=\"1\" class=\"dataframe\"><thead><tr><th>job_name</th><th>job_location</th><th>hours</th><th>remote</th><th>company_name</th><th>education</th><th>tags_matched</th><th>tag_categories</th><th>categories</th><th>seniority</th><th>comp_est</th><th>language</th><th>city</th><th>country</th><th>job_published_at</th><th>last_indexed</th><th>sample_date</th><th>len_comp</th><th>est</th><th>est_float</th><th>compensation</th><th>comp_dol</th><th>all_tags</th></tr><tr><td>str</td><td>str</td><td>cat</td><td>cat</td><td>str</td><td>cat</td><td>list[str]</td><td>list[str]</td><td>list[str]</td><td>cat</td><td>str</td><td>cat</td><td>str</td><td>str</td><td>date</td><td>date</td><td>str</td><td>u32</td><td>list[str]</td><td>list[f64]</td><td>f64</td><td>f64</td><td>list[str]</td></tr></thead><tbody></tbody></table></div>"
      ],
      "text/plain": [
       "shape: (0, 23)\n",
       "┌──────────┬──────────────┬───────┬────────┬───┬───────────┬──────────────┬──────────┬───────────┐\n",
       "│ job_name ┆ job_location ┆ hours ┆ remote ┆ … ┆ est_float ┆ compensation ┆ comp_dol ┆ all_tags  │\n",
       "│ ---      ┆ ---          ┆ ---   ┆ ---    ┆   ┆ ---       ┆ ---          ┆ ---      ┆ ---       │\n",
       "│ str      ┆ str          ┆ cat   ┆ cat    ┆   ┆ list[f64] ┆ f64          ┆ f64      ┆ list[str] │\n",
       "╞══════════╪══════════════╪═══════╪════════╪═══╪═══════════╪══════════════╪══════════╪═══════════╡\n",
       "└──────────┴──────────────┴───────┴────────┴───┴───────────┴──────────────┴──────────┴───────────┘"
      ]
     },
     "execution_count": 59,
     "metadata": {},
     "output_type": "execute_result"
    }
   ],
   "source": [
    "whole_df.filter(pl.col(\"job_name\").str.contains(\"junior\"), pl.col(\"seniority\")!=\"Junior IC\") #sanity checks if it worked"
   ]
  },
  {
   "cell_type": "code",
   "execution_count": 60,
   "id": "612e5387-842e-4d80-bc36-b997b3ea57a6",
   "metadata": {},
   "outputs": [
    {
     "data": {
      "text/html": [
       "<div><style>\n",
       ".dataframe > thead > tr,\n",
       ".dataframe > tbody > tr {\n",
       "  text-align: right;\n",
       "  white-space: pre-wrap;\n",
       "}\n",
       "</style>\n",
       "<small>shape: (2_111, 23)</small><table border=\"1\" class=\"dataframe\"><thead><tr><th>job_name</th><th>job_location</th><th>hours</th><th>remote</th><th>company_name</th><th>education</th><th>tags_matched</th><th>tag_categories</th><th>categories</th><th>seniority</th><th>comp_est</th><th>language</th><th>city</th><th>country</th><th>job_published_at</th><th>last_indexed</th><th>sample_date</th><th>len_comp</th><th>est</th><th>est_float</th><th>compensation</th><th>comp_dol</th><th>all_tags</th></tr><tr><td>str</td><td>str</td><td>cat</td><td>cat</td><td>str</td><td>cat</td><td>list[str]</td><td>list[str]</td><td>list[str]</td><td>cat</td><td>str</td><td>cat</td><td>str</td><td>str</td><td>date</td><td>date</td><td>str</td><td>u32</td><td>list[str]</td><td>list[f64]</td><td>f64</td><td>f64</td><td>list[str]</td></tr></thead><tbody><tr><td>&quot;information technology junior …</td><td>&quot;7700 Arlington Blvd, Falls Chu…</td><td>&quot;Full-Time&quot;</td><td>&quot;true&quot;</td><td>&quot;Blue Iris Tech Consulting&quot;</td><td>&quot;Bachelors&quot;</td><td>[&quot;Iris&quot;, &quot;AppDynamics&quot;, &quot;Excel&quot;]</td><td>[&quot;DevOps&quot;, &quot;APM&quot;, … &quot;Spreadsheets&quot;]</td><td>[&quot;Security&quot;, &quot;Consulting&quot;]</td><td>&quot;Junior IC&quot;</td><td>&quot;&quot;</td><td>&quot;en&quot;</td><td>&quot;Falls Church&quot;</td><td>&quot;United States&quot;</td><td>2022-06-18</td><td>2023-05-30</td><td>&quot;2023&quot;</td><td>0</td><td>[&quot;&quot;, &quot;&quot;]</td><td>[null, null]</td><td>null</td><td>null</td><td>[&quot;Enterprise&quot;, &quot;No&quot;, … &quot;Consulting&quot;]</td></tr><tr><td>&quot;javascript engineer&quot;</td><td>&quot;Bucuresti, Sector 2, Romania&quot;</td><td>&quot;Full-Time&quot;</td><td>&quot;unknown&quot;</td><td>&quot;Atta Systems&quot;</td><td>&quot;unknown&quot;</td><td>[&quot;JavaScript&quot;, &quot;Zoom&quot;, … &quot;React&quot;]</td><td>[&quot;Collaboration&quot;, &quot;Messaging&quot;, … &quot;Libraries&quot;]</td><td>[&quot;Software&quot;, &quot;Startups&quot;]</td><td>&quot;Junior IC&quot;</td><td>&quot;&quot;</td><td>&quot;en&quot;</td><td>&quot;Bucuresti&quot;</td><td>&quot;Romania&quot;</td><td>2023-05-03</td><td>2023-05-30</td><td>&quot;2023&quot;</td><td>0</td><td>[&quot;&quot;, &quot;&quot;]</td><td>[null, null]</td><td>null</td><td>null</td><td>[&quot;OSS&quot;, &quot;Project&quot;, … &quot;DevOps&quot;]</td></tr><tr><td>&quot;electrical engineer – entry le…</td><td>&quot;Ann Arbor&quot;</td><td>&quot;Full-Time&quot;</td><td>&quot;unknown&quot;</td><td>&quot;Barr Engineering Co.&quot;</td><td>&quot;Bachelors&quot;</td><td>[&quot;Excel&quot;, &quot;FactoryTalk&quot;]</td><td>[&quot;SMB&quot;, &quot;Customers&quot;, … &quot;A&quot;]</td><td>[]</td><td>&quot;Junior IC&quot;</td><td>&quot;&quot;</td><td>&quot;en&quot;</td><td>&quot;Ann Arbor&quot;</td><td>&quot;United States&quot;</td><td>2023-04-19</td><td>2023-05-25</td><td>&quot;2023&quot;</td><td>0</td><td>[&quot;&quot;, &quot;&quot;]</td><td>[null, null]</td><td>null</td><td>null</td><td>[&quot;Customers&quot;, &quot;Code&quot;, … &quot;Biz&quot;]</td></tr><tr><td>&quot;electrical engineer – entry le…</td><td>&quot;Minneapolis&quot;</td><td>&quot;Full-Time&quot;</td><td>&quot;unknown&quot;</td><td>&quot;Barr Engineering Co.&quot;</td><td>&quot;Bachelors&quot;</td><td>[&quot;Excel&quot;]</td><td>[&quot;Midsize&quot;, &quot;Customers&quot;, … &quot;Spreadsheets&quot;]</td><td>[]</td><td>&quot;Junior IC&quot;</td><td>&quot;&quot;</td><td>&quot;en&quot;</td><td>&quot;Minneapolis&quot;</td><td>&quot;United States&quot;</td><td>2023-04-06</td><td>2023-05-24</td><td>&quot;2023&quot;</td><td>0</td><td>[&quot;&quot;, &quot;&quot;]</td><td>[null, null]</td><td>null</td><td>null</td><td>[&quot;SMB&quot;, &quot;Midsize&quot;, … &quot;Misc&quot;]</td></tr><tr><td>&quot;junior data analyst - corporat…</td><td>&quot;PT - 11 - Lisbon&quot;</td><td>&quot;Full-Time&quot;</td><td>&quot;unknown&quot;</td><td>&quot;BNP Paribas&quot;</td><td>&quot;unknown&quot;</td><td>[&quot;Excel&quot;]</td><td>[&quot;Misc&quot;, &quot;Biz&quot;, … &quot;Customers&quot;]</td><td>[&quot;Financial&quot;, &quot;Services&quot;, &quot;Business&quot;]</td><td>&quot;Junior IC&quot;</td><td>&quot;&quot;</td><td>&quot;en&quot;</td><td>&quot;Lisbon&quot;</td><td>&quot;Portugal&quot;</td><td>null</td><td>2023-05-28</td><td>&quot;2023&quot;</td><td>0</td><td>[&quot;&quot;, &quot;&quot;]</td><td>[null, null]</td><td>null</td><td>null</td><td>[&quot;Midsize&quot;, &quot;FP&quot;, … &quot;Code&quot;]</td></tr><tr><td>&hellip;</td><td>&hellip;</td><td>&hellip;</td><td>&hellip;</td><td>&hellip;</td><td>&hellip;</td><td>&hellip;</td><td>&hellip;</td><td>&hellip;</td><td>&hellip;</td><td>&hellip;</td><td>&hellip;</td><td>&hellip;</td><td>&hellip;</td><td>&hellip;</td><td>&hellip;</td><td>&hellip;</td><td>&hellip;</td><td>&hellip;</td><td>&hellip;</td><td>&hellip;</td><td>&hellip;</td><td>&hellip;</td></tr><tr><td>&quot;assistant engineer (process co…</td><td>&quot;Coimbatore&quot;</td><td>&quot;Full-Time&quot;</td><td>&quot;unknown&quot;</td><td>&quot;Sandfits Foundries&quot;</td><td>&quot;unknown&quot;</td><td>[]</td><td>[]</td><td>[]</td><td>&quot;Junior IC&quot;</td><td>&quot;360000.00&quot;</td><td>&quot;en&quot;</td><td>&quot;Coimbatore&quot;</td><td>&quot;India&quot;</td><td>2023-09-27</td><td>2024-03-22</td><td>&quot;2024&quot;</td><td>9</td><td>[&quot;360000.00&quot;, &quot;360000.00&quot;]</td><td>[360000.0, 360000.0]</td><td>360000.0</td><td>51798.561151</td><td>[]</td></tr><tr><td>&quot;junior développeur front/back-…</td><td>null</td><td>&quot;Full-Time&quot;</td><td>&quot;unknown&quot;</td><td>&quot;Advize Group&quot;</td><td>&quot;unknown&quot;</td><td>[&quot;MySQL&quot;, &quot;MongoDB&quot;, … &quot;jQuery&quot;]</td><td>[&quot;Databases&quot;, &quot;OSS&quot;, … &quot;Database&quot;]</td><td>[&quot;Fintech&quot;]</td><td>&quot;Junior IC&quot;</td><td>null</td><td>&quot;fr&quot;</td><td>null</td><td>null</td><td>2020-12-09</td><td>2024-03-18</td><td>&quot;2024&quot;</td><td>null</td><td>[null, null]</td><td>[null, null]</td><td>null</td><td>null</td><td>[&quot;CDI&quot;, &quot;jQuery&quot;, … &quot;Datastores&quot;]</td></tr><tr><td>&quot;react native developer&quot;</td><td>&quot;Bangalore&quot;</td><td>&quot;Full-Time&quot;</td><td>&quot;unknown&quot;</td><td>&quot;Athreya Business Consultancy&quot;</td><td>&quot;unknown&quot;</td><td>[&quot;TypeScript&quot;, &quot;React&quot;, … &quot;Bootstrap&quot;]</td><td>[&quot;Templating&quot;, &quot;Languages&quot;, … &quot;Framework&quot;]</td><td>[&quot;Software&quot;]</td><td>&quot;Junior IC&quot;</td><td>&quot;400000.00&quot;</td><td>&quot;en&quot;</td><td>&quot;Bangalore&quot;</td><td>&quot;India&quot;</td><td>2024-03-11</td><td>2024-03-25</td><td>&quot;2024&quot;</td><td>9</td><td>[&quot;400000.00&quot;, &quot;400000.00&quot;]</td><td>[400000.0, 400000.0]</td><td>400000.0</td><td>57553.956835</td><td>[&quot;Development&quot;, &quot;OSS&quot;, … &quot;Software&quot;]</td></tr><tr><td>&quot;engineering technician&quot;</td><td>&quot;Bismarck, ND&quot;</td><td>&quot;Full-Time&quot;</td><td>&quot;unknown&quot;</td><td>&quot;Apex Engineering Group&quot;</td><td>&quot;High School&quot;</td><td>[&quot;Excel&quot;, &quot;Google&quot;, &quot;Microsoft&quot;]</td><td>[&quot;Enterprise&quot;, &quot;Customers&quot;, … &quot;Spreadsheets&quot;]</td><td>[&quot;Transportation&quot;]</td><td>&quot;Junior IC&quot;</td><td>null</td><td>&quot;en&quot;</td><td>&quot;Bismarck&quot;</td><td>&quot;United States&quot;</td><td>2024-02-01</td><td>2024-03-27</td><td>&quot;2024&quot;</td><td>null</td><td>[null, null]</td><td>[null, null]</td><td>null</td><td>null</td><td>[&quot;No&quot;, &quot;Biz&quot;, … &quot;Treasury&quot;]</td></tr><tr><td>&quot;associate engineering speciali…</td><td>&quot;Juncos, PR, Puerto Rico&quot;</td><td>&quot;Contract&quot;</td><td>&quot;unknown&quot;</td><td>&quot;Flexible &amp; Integrated Technica…</td><td>&quot;Bachelors&quot;</td><td>[]</td><td>[]</td><td>[&quot;Medical&quot;, &quot;Devices&quot;]</td><td>&quot;Junior IC&quot;</td><td>null</td><td>&quot;en&quot;</td><td>&quot;Juncos&quot;</td><td>&quot;United States&quot;</td><td>2024-01-29</td><td>2024-03-14</td><td>&quot;2024&quot;</td><td>null</td><td>[null, null]</td><td>[null, null]</td><td>null</td><td>null</td><td>[&quot;Medical&quot;, &quot;Devices&quot;]</td></tr></tbody></table></div>"
      ],
      "text/plain": [
       "shape: (2_111, 23)\n",
       "┌────────────┬───────────┬───────────┬─────────┬───┬───────────┬───────────┬───────────┬───────────┐\n",
       "│ job_name   ┆ job_locat ┆ hours     ┆ remote  ┆ … ┆ est_float ┆ compensat ┆ comp_dol  ┆ all_tags  │\n",
       "│ ---        ┆ ion       ┆ ---       ┆ ---     ┆   ┆ ---       ┆ ion       ┆ ---       ┆ ---       │\n",
       "│ str        ┆ ---       ┆ cat       ┆ cat     ┆   ┆ list[f64] ┆ ---       ┆ f64       ┆ list[str] │\n",
       "│            ┆ str       ┆           ┆         ┆   ┆           ┆ f64       ┆           ┆           │\n",
       "╞════════════╪═══════════╪═══════════╪═════════╪═══╪═══════════╪═══════════╪═══════════╪═══════════╡\n",
       "│ informatio ┆ 7700      ┆ Full-Time ┆ true    ┆ … ┆ [null,    ┆ null      ┆ null      ┆ [\"Enterpr │\n",
       "│ n          ┆ Arlington ┆           ┆         ┆   ┆ null]     ┆           ┆           ┆ ise\",     │\n",
       "│ technology ┆ Blvd,     ┆           ┆         ┆   ┆           ┆           ┆           ┆ \"No\", …   │\n",
       "│ junior …   ┆ Falls     ┆           ┆         ┆   ┆           ┆           ┆           ┆ \"Consul…  │\n",
       "│            ┆ Chu…      ┆           ┆         ┆   ┆           ┆           ┆           ┆           │\n",
       "│ javascript ┆ Bucuresti ┆ Full-Time ┆ unknown ┆ … ┆ [null,    ┆ null      ┆ null      ┆ [\"OSS\",   │\n",
       "│ engineer   ┆ , Sector  ┆           ┆         ┆   ┆ null]     ┆           ┆           ┆ \"Project\" │\n",
       "│            ┆ 2,        ┆           ┆         ┆   ┆           ┆           ┆           ┆ , …       │\n",
       "│            ┆ Romania   ┆           ┆         ┆   ┆           ┆           ┆           ┆ \"DevOps\"] │\n",
       "│ electrical ┆ Ann Arbor ┆ Full-Time ┆ unknown ┆ … ┆ [null,    ┆ null      ┆ null      ┆ [\"Custome │\n",
       "│ engineer – ┆           ┆           ┆         ┆   ┆ null]     ┆           ┆           ┆ rs\",      │\n",
       "│ entry le…  ┆           ┆           ┆         ┆   ┆           ┆           ┆           ┆ \"Code\", … │\n",
       "│            ┆           ┆           ┆         ┆   ┆           ┆           ┆           ┆ \"Biz\"]    │\n",
       "│ electrical ┆ Minneapol ┆ Full-Time ┆ unknown ┆ … ┆ [null,    ┆ null      ┆ null      ┆ [\"SMB\",   │\n",
       "│ engineer – ┆ is        ┆           ┆         ┆   ┆ null]     ┆           ┆           ┆ \"Midsize\" │\n",
       "│ entry le…  ┆           ┆           ┆         ┆   ┆           ┆           ┆           ┆ , …       │\n",
       "│            ┆           ┆           ┆         ┆   ┆           ┆           ┆           ┆ \"Misc\"]   │\n",
       "│ junior     ┆ PT - 11 - ┆ Full-Time ┆ unknown ┆ … ┆ [null,    ┆ null      ┆ null      ┆ [\"Midsize │\n",
       "│ data       ┆ Lisbon    ┆           ┆         ┆   ┆ null]     ┆           ┆           ┆ \", \"FP\",  │\n",
       "│ analyst -  ┆           ┆           ┆         ┆   ┆           ┆           ┆           ┆ … \"Code\"] │\n",
       "│ corporat…  ┆           ┆           ┆         ┆   ┆           ┆           ┆           ┆           │\n",
       "│ …          ┆ …         ┆ …         ┆ …       ┆ … ┆ …         ┆ …         ┆ …         ┆ …         │\n",
       "│ assistant  ┆ Coimbator ┆ Full-Time ┆ unknown ┆ … ┆ [360000.0 ┆ 360000.0  ┆ 51798.561 ┆ []        │\n",
       "│ engineer   ┆ e         ┆           ┆         ┆   ┆ ,         ┆           ┆ 151       ┆           │\n",
       "│ (process   ┆           ┆           ┆         ┆   ┆ 360000.0] ┆           ┆           ┆           │\n",
       "│ co…        ┆           ┆           ┆         ┆   ┆           ┆           ┆           ┆           │\n",
       "│ junior dév ┆ null      ┆ Full-Time ┆ unknown ┆ … ┆ [null,    ┆ null      ┆ null      ┆ [\"CDI\",   │\n",
       "│ eloppeur   ┆           ┆           ┆         ┆   ┆ null]     ┆           ┆           ┆ \"jQuery\", │\n",
       "│ front/back ┆           ┆           ┆         ┆   ┆           ┆           ┆           ┆ … \"Datast │\n",
       "│ -…         ┆           ┆           ┆         ┆   ┆           ┆           ┆           ┆ ore…      │\n",
       "│ react      ┆ Bangalore ┆ Full-Time ┆ unknown ┆ … ┆ [400000.0 ┆ 400000.0  ┆ 57553.956 ┆ [\"Develop │\n",
       "│ native     ┆           ┆           ┆         ┆   ┆ ,         ┆           ┆ 835       ┆ ment\",    │\n",
       "│ developer  ┆           ┆           ┆         ┆   ┆ 400000.0] ┆           ┆           ┆ \"OSS\", …  │\n",
       "│            ┆           ┆           ┆         ┆   ┆           ┆           ┆           ┆ \"Soft…    │\n",
       "│ engineerin ┆ Bismarck, ┆ Full-Time ┆ unknown ┆ … ┆ [null,    ┆ null      ┆ null      ┆ [\"No\",    │\n",
       "│ g          ┆ ND        ┆           ┆         ┆   ┆ null]     ┆           ┆           ┆ \"Biz\", …  │\n",
       "│ technician ┆           ┆           ┆         ┆   ┆           ┆           ┆           ┆ \"Treasury │\n",
       "│            ┆           ┆           ┆         ┆   ┆           ┆           ┆           ┆ \"]        │\n",
       "│ associate  ┆ Juncos,   ┆ Contract  ┆ unknown ┆ … ┆ [null,    ┆ null      ┆ null      ┆ [\"Medical │\n",
       "│ engineerin ┆ PR,       ┆           ┆         ┆   ┆ null]     ┆           ┆           ┆ \", \"Devic │\n",
       "│ g          ┆ Puerto    ┆           ┆         ┆   ┆           ┆           ┆           ┆ es\"]      │\n",
       "│ speciali…  ┆ Rico      ┆           ┆         ┆   ┆           ┆           ┆           ┆           │\n",
       "└────────────┴───────────┴───────────┴─────────┴───┴───────────┴───────────┴───────────┴───────────┘"
      ]
     },
     "execution_count": 60,
     "metadata": {},
     "output_type": "execute_result"
    }
   ],
   "source": [
    "whole_df.filter(pl.col(\"seniority\")==\"Junior IC\") #sanity check for numbers"
   ]
  },
  {
   "cell_type": "code",
   "execution_count": 61,
   "id": "cd53a0ea-b2e4-4ce8-be23-144e7123ad58",
   "metadata": {},
   "outputs": [
    {
     "data": {
      "text/html": [
       "<div><style>\n",
       ".dataframe > thead > tr,\n",
       ".dataframe > tbody > tr {\n",
       "  text-align: right;\n",
       "  white-space: pre-wrap;\n",
       "}\n",
       "</style>\n",
       "<small>shape: (100_000, 24)</small><table border=\"1\" class=\"dataframe\"><thead><tr><th>job_name</th><th>job_location</th><th>hours</th><th>remote</th><th>company_name</th><th>education</th><th>tags_matched</th><th>tag_categories</th><th>categories</th><th>seniority</th><th>comp_est</th><th>language</th><th>city</th><th>country</th><th>job_published_at</th><th>last_indexed</th><th>sample_date</th><th>len_comp</th><th>est</th><th>est_float</th><th>compensation</th><th>comp_dol</th><th>all_tags</th><th>tags</th></tr><tr><td>str</td><td>str</td><td>cat</td><td>cat</td><td>str</td><td>cat</td><td>list[str]</td><td>list[str]</td><td>list[str]</td><td>cat</td><td>str</td><td>cat</td><td>str</td><td>str</td><td>date</td><td>date</td><td>str</td><td>u32</td><td>list[str]</td><td>list[f64]</td><td>f64</td><td>f64</td><td>list[str]</td><td>str</td></tr></thead><tbody><tr><td>&quot;backend developer&quot;</td><td>&quot;Praha, Czech Republic&quot;</td><td>&quot;Unclear&quot;</td><td>&quot;unknown&quot;</td><td>&quot;IBM&quot;</td><td>&quot;unknown&quot;</td><td>[&quot;Docker&quot;, &quot;GraphQL&quot;, … &quot;Cloud&quot;]</td><td>[&quot;Container&quot;, &quot;Orchestration&quot;, … &quot;Databases&quot;]</td><td>[&quot;Software&quot;]</td><td>&quot;Unclear Seniority&quot;</td><td>&quot;&quot;</td><td>&quot;pl&quot;</td><td>&quot;Praha&quot;</td><td>&quot;Czech Republic&quot;</td><td>2023-03-13</td><td>2023-06-05</td><td>&quot;2023&quot;</td><td>0</td><td>[&quot;&quot;, &quot;&quot;]</td><td>[null, null]</td><td>null</td><td>null</td><td>[&quot;Science&quot;, &quot;TypeScript&quot;, … &quot;Programming&quot;]</td><td>&quot;Science TypeScript Horizontal …</td></tr><tr><td>&quot;manufacturing engineer&quot;</td><td>null</td><td>&quot;Full-Time&quot;</td><td>&quot;false&quot;</td><td>null</td><td>&quot;unknown&quot;</td><td>[&quot;Sigma&quot;]</td><td>[&quot;Tools&quot;, &quot;Serverless&quot;]</td><td>[&quot;Manufacturing&quot;]</td><td>&quot;Unclear Seniority&quot;</td><td>&quot;&quot;</td><td>&quot;en&quot;</td><td>&quot;Sterling Heights&quot;</td><td>&quot;United States&quot;</td><td>2021-10-09</td><td>2023-05-24</td><td>&quot;2023&quot;</td><td>0</td><td>[&quot;&quot;, &quot;&quot;]</td><td>[null, null]</td><td>null</td><td>null</td><td>[&quot;Tools&quot;, &quot;Serverless&quot;, … &quot;Sigma&quot;]</td><td>&quot;Tools Serverless Manufacturing…</td></tr><tr><td>&quot;design engineer, motorized pro…</td><td>&quot;520 S Byrkit St Mishawaka, Ind…</td><td>&quot;Full-Time&quot;</td><td>&quot;unknown&quot;</td><td>&quot;ABI Attachments&quot;</td><td>&quot;Bachelors&quot;</td><td>[]</td><td>[]</td><td>[&quot;Design&quot;]</td><td>&quot;Senior IC&quot;</td><td>&quot;&quot;</td><td>&quot;en&quot;</td><td>&quot;Mishawaka&quot;</td><td>&quot;United States&quot;</td><td>2023-04-28</td><td>2023-05-19</td><td>&quot;2023&quot;</td><td>0</td><td>[&quot;&quot;, &quot;&quot;]</td><td>[null, null]</td><td>null</td><td>null</td><td>[&quot;Design&quot;]</td><td>&quot;Design&quot;</td></tr><tr><td>&quot;cybersecurity engineer&quot;</td><td>null</td><td>&quot;Full-Time&quot;</td><td>&quot;false&quot;</td><td>null</td><td>&quot;Bachelors&quot;</td><td>[&quot;AWS&quot;, &quot;Qualys&quot;, &quot;Splunk&quot;]</td><td>[&quot;Compute&quot;, &quot;Logging&quot;, … &quot;Security&quot;]</td><td>[&quot;Cybersecurity&quot;, &quot;Security&quot;]</td><td>&quot;Unclear Seniority&quot;</td><td>&quot;&quot;</td><td>&quot;en&quot;</td><td>&quot;Herndon&quot;</td><td>&quot;United States&quot;</td><td>2023-04-03</td><td>2023-05-28</td><td>&quot;2023&quot;</td><td>0</td><td>[&quot;&quot;, &quot;&quot;]</td><td>[null, null]</td><td>null</td><td>null</td><td>[&quot;PaaS&quot;, &quot;Infrastructure&quot;, … &quot;Security&quot;]</td><td>&quot;PaaS Infrastructure Analytics …</td></tr><tr><td>&quot;your career so choose wisely w…</td><td>&quot;Kolkata, India&quot;</td><td>&quot;Full-Time&quot;</td><td>&quot;false&quot;</td><td>&quot;Adeeba e Services&quot;</td><td>&quot;unknown&quot;</td><td>[&quot;Objective&quot;, &quot;C&quot;, … &quot;Git&quot;]</td><td>[&quot;Cloud&quot;, &quot;Native&quot;, … &quot;Control&quot;]</td><td>[&quot;Software&quot;]</td><td>&quot;Unclear Seniority&quot;</td><td>&quot;&quot;</td><td>&quot;en&quot;</td><td>&quot;Kolkata&quot;</td><td>&quot;India&quot;</td><td>2017-01-17</td><td>2023-05-30</td><td>&quot;2023&quot;</td><td>0</td><td>[&quot;&quot;, &quot;&quot;]</td><td>[null, null]</td><td>null</td><td>null</td><td>[&quot;iOS&quot;, &quot;Software&quot;, … &quot;Version&quot;]</td><td>&quot;iOS Software Runtime Storage P…</td></tr><tr><td>&hellip;</td><td>&hellip;</td><td>&hellip;</td><td>&hellip;</td><td>&hellip;</td><td>&hellip;</td><td>&hellip;</td><td>&hellip;</td><td>&hellip;</td><td>&hellip;</td><td>&hellip;</td><td>&hellip;</td><td>&hellip;</td><td>&hellip;</td><td>&hellip;</td><td>&hellip;</td><td>&hellip;</td><td>&hellip;</td><td>&hellip;</td><td>&hellip;</td><td>&hellip;</td><td>&hellip;</td><td>&hellip;</td><td>&hellip;</td></tr><tr><td>&quot;fire protection engineer (3+ y…</td><td>&quot;1455 Frazee Rd, San Diego, CA …</td><td>&quot;Full-Time&quot;</td><td>&quot;false&quot;</td><td>&quot;Coffman Engineers&quot;</td><td>&quot;unknown&quot;</td><td>[&quot;Facebook&quot;, &quot;Instagram&quot;, … &quot;Twitter&quot;]</td><td>[&quot;Tracking&quot;, &quot;Social&quot;, … &quot;CDN&quot;]</td><td>[&quot;Consulting&quot;]</td><td>&quot;Unclear Seniority&quot;</td><td>&quot;97500.00&quot;</td><td>&quot;en&quot;</td><td>&quot;San Diego&quot;</td><td>&quot;United States&quot;</td><td>2024-01-08</td><td>2024-04-01</td><td>&quot;2024&quot;</td><td>8</td><td>[&quot;97500.00&quot;, &quot;97500.00&quot;]</td><td>[97500.0, 97500.0]</td><td>97500.0</td><td>97500.0</td><td>[&quot;Shortening&quot;, &quot;Twitter&quot;, … &quot;Link&quot;]</td><td>&quot;Shortening Twitter CDN Instagr…</td></tr><tr><td>&quot;mechanical engineering intern&quot;</td><td>null</td><td>&quot;Intern&quot;</td><td>&quot;unknown&quot;</td><td>&quot;Study and Work&quot;</td><td>&quot;unknown&quot;</td><td>[]</td><td>[]</td><td>[&quot;Mechanical&quot;, &quot;Industrial&quot;, &quot;Engineering&quot;]</td><td>&quot;Intern&quot;</td><td>null</td><td>&quot;en&quot;</td><td>null</td><td>null</td><td>2024-03-12</td><td>2024-03-27</td><td>&quot;2024&quot;</td><td>null</td><td>[null, null]</td><td>[null, null]</td><td>null</td><td>null</td><td>[&quot;Industrial&quot;, &quot;Engineering&quot;, &quot;Mechanical&quot;]</td><td>&quot;Industrial Engineering Mechani…</td></tr><tr><td>&quot;automation engineer (m/f/d)&quot;</td><td>&quot;Puurs&quot;</td><td>&quot;Unclear&quot;</td><td>&quot;unknown&quot;</td><td>&quot;Novartis&quot;</td><td>&quot;unknown&quot;</td><td>[]</td><td>[]</td><td>[]</td><td>&quot;Unclear Seniority&quot;</td><td>null</td><td>&quot;fr&quot;</td><td>&quot;Puurs&quot;</td><td>&quot;Belgium&quot;</td><td>null</td><td>2024-03-16</td><td>&quot;2024&quot;</td><td>null</td><td>[null, null]</td><td>[null, null]</td><td>null</td><td>null</td><td>[]</td><td>&quot;&quot;</td></tr><tr><td>&quot;computer vision engineer (chen…</td><td>&quot;Chennai&quot;</td><td>&quot;Full-Time&quot;</td><td>&quot;false&quot;</td><td>&quot;Zigsaw&quot;</td><td>&quot;Bachelors&quot;</td><td>[&quot;PyTorch&quot;, &quot;Java&quot;, … &quot;TensorFlow&quot;]</td><td>[&quot;OSS&quot;, &quot;AI&quot;, … &quot;Languages&quot;]</td><td>[&quot;Machine&quot;, &quot;Learning&quot;]</td><td>&quot;Unclear Seniority&quot;</td><td>null</td><td>&quot;en&quot;</td><td>&quot;Chennai&quot;</td><td>&quot;India&quot;</td><td>2023-10-05</td><td>2024-03-26</td><td>&quot;2024&quot;</td><td>null</td><td>[null, null]</td><td>[null, null]</td><td>null</td><td>null</td><td>[&quot;Processing&quot;, &quot;OSS&quot;, … &quot;ML&quot;]</td><td>&quot;Processing OSS Machine Java To…</td></tr><tr><td>&quot;associate engineering speciali…</td><td>&quot;Juncos, PR, Puerto Rico&quot;</td><td>&quot;Contract&quot;</td><td>&quot;unknown&quot;</td><td>&quot;Flexible &amp; Integrated Technica…</td><td>&quot;Bachelors&quot;</td><td>[]</td><td>[]</td><td>[&quot;Medical&quot;, &quot;Devices&quot;]</td><td>&quot;Junior IC&quot;</td><td>null</td><td>&quot;en&quot;</td><td>&quot;Juncos&quot;</td><td>&quot;United States&quot;</td><td>2024-01-29</td><td>2024-03-14</td><td>&quot;2024&quot;</td><td>null</td><td>[null, null]</td><td>[null, null]</td><td>null</td><td>null</td><td>[&quot;Medical&quot;, &quot;Devices&quot;]</td><td>&quot;Medical Devices&quot;</td></tr></tbody></table></div>"
      ],
      "text/plain": [
       "shape: (100_000, 24)\n",
       "┌────────────┬────────────┬───────────┬─────────┬───┬───────────┬──────────┬───────────┬───────────┐\n",
       "│ job_name   ┆ job_locati ┆ hours     ┆ remote  ┆ … ┆ compensat ┆ comp_dol ┆ all_tags  ┆ tags      │\n",
       "│ ---        ┆ on         ┆ ---       ┆ ---     ┆   ┆ ion       ┆ ---      ┆ ---       ┆ ---       │\n",
       "│ str        ┆ ---        ┆ cat       ┆ cat     ┆   ┆ ---       ┆ f64      ┆ list[str] ┆ str       │\n",
       "│            ┆ str        ┆           ┆         ┆   ┆ f64       ┆          ┆           ┆           │\n",
       "╞════════════╪════════════╪═══════════╪═════════╪═══╪═══════════╪══════════╪═══════════╪═══════════╡\n",
       "│ backend    ┆ Praha,     ┆ Unclear   ┆ unknown ┆ … ┆ null      ┆ null     ┆ [\"Science ┆ Science   │\n",
       "│ developer  ┆ Czech      ┆           ┆         ┆   ┆           ┆          ┆ \", \"TypeS ┆ TypeScrip │\n",
       "│            ┆ Republic   ┆           ┆         ┆   ┆           ┆          ┆ cript\", … ┆ t Horizon │\n",
       "│            ┆            ┆           ┆         ┆   ┆           ┆          ┆ \"P…       ┆ tal …     │\n",
       "│ manufactur ┆ null       ┆ Full-Time ┆ false   ┆ … ┆ null      ┆ null     ┆ [\"Tools\", ┆ Tools Ser │\n",
       "│ ing        ┆            ┆           ┆         ┆   ┆           ┆          ┆ \"Serverle ┆ verless   │\n",
       "│ engineer   ┆            ┆           ┆         ┆   ┆           ┆          ┆ ss\", …    ┆ Manufactu │\n",
       "│            ┆            ┆           ┆         ┆   ┆           ┆          ┆ \"Sig…     ┆ ring…     │\n",
       "│ design     ┆ 520 S      ┆ Full-Time ┆ unknown ┆ … ┆ null      ┆ null     ┆ [\"Design\" ┆ Design    │\n",
       "│ engineer,  ┆ Byrkit St  ┆           ┆         ┆   ┆           ┆          ┆ ]         ┆           │\n",
       "│ motorized  ┆ Mishawaka, ┆           ┆         ┆   ┆           ┆          ┆           ┆           │\n",
       "│ pro…       ┆ Ind…       ┆           ┆         ┆   ┆           ┆          ┆           ┆           │\n",
       "│ cybersecur ┆ null       ┆ Full-Time ┆ false   ┆ … ┆ null      ┆ null     ┆ [\"PaaS\",  ┆ PaaS Infr │\n",
       "│ ity        ┆            ┆           ┆         ┆   ┆           ┆          ┆ \"Infrastr ┆ astructur │\n",
       "│ engineer   ┆            ┆           ┆         ┆   ┆           ┆          ┆ ucture\",  ┆ e         │\n",
       "│            ┆            ┆           ┆         ┆   ┆           ┆          ┆ … \"…      ┆ Analytics │\n",
       "│            ┆            ┆           ┆         ┆   ┆           ┆          ┆           ┆ …         │\n",
       "│ your       ┆ Kolkata,   ┆ Full-Time ┆ false   ┆ … ┆ null      ┆ null     ┆ [\"iOS\",   ┆ iOS       │\n",
       "│ career so  ┆ India      ┆           ┆         ┆   ┆           ┆          ┆ \"Software ┆ Software  │\n",
       "│ choose     ┆            ┆           ┆         ┆   ┆           ┆          ┆ \", …      ┆ Runtime   │\n",
       "│ wisely w…  ┆            ┆           ┆         ┆   ┆           ┆          ┆ \"Version… ┆ Storage   │\n",
       "│            ┆            ┆           ┆         ┆   ┆           ┆          ┆           ┆ P…        │\n",
       "│ …          ┆ …          ┆ …         ┆ …       ┆ … ┆ …         ┆ …        ┆ …         ┆ …         │\n",
       "│ fire       ┆ 1455       ┆ Full-Time ┆ false   ┆ … ┆ 97500.0   ┆ 97500.0  ┆ [\"Shorten ┆ Shortenin │\n",
       "│ protection ┆ Frazee Rd, ┆           ┆         ┆   ┆           ┆          ┆ ing\", \"Tw ┆ g Twitter │\n",
       "│ engineer   ┆ San Diego, ┆           ┆         ┆   ┆           ┆          ┆ itter\", … ┆ CDN       │\n",
       "│ (3+ y…     ┆ CA …       ┆           ┆         ┆   ┆           ┆          ┆ \"L…       ┆ Instagr…  │\n",
       "│ mechanical ┆ null       ┆ Intern    ┆ unknown ┆ … ┆ null      ┆ null     ┆ [\"Industr ┆ Industria │\n",
       "│ engineerin ┆            ┆           ┆         ┆   ┆           ┆          ┆ ial\", \"En ┆ l Enginee │\n",
       "│ g intern   ┆            ┆           ┆         ┆   ┆           ┆          ┆ gineering ┆ ring      │\n",
       "│            ┆            ┆           ┆         ┆   ┆           ┆          ┆ \", …      ┆ Mechani…  │\n",
       "│ automation ┆ Puurs      ┆ Unclear   ┆ unknown ┆ … ┆ null      ┆ null     ┆ []        ┆           │\n",
       "│ engineer   ┆            ┆           ┆         ┆   ┆           ┆          ┆           ┆           │\n",
       "│ (m/f/d)    ┆            ┆           ┆         ┆   ┆           ┆          ┆           ┆           │\n",
       "│ computer   ┆ Chennai    ┆ Full-Time ┆ false   ┆ … ┆ null      ┆ null     ┆ [\"Process ┆ Processin │\n",
       "│ vision     ┆            ┆           ┆         ┆   ┆           ┆          ┆ ing\",     ┆ g OSS     │\n",
       "│ engineer   ┆            ┆           ┆         ┆   ┆           ┆          ┆ \"OSS\", …  ┆ Machine   │\n",
       "│ (chen…     ┆            ┆           ┆         ┆   ┆           ┆          ┆ \"ML\"]     ┆ Java To…  │\n",
       "│ associate  ┆ Juncos,    ┆ Contract  ┆ unknown ┆ … ┆ null      ┆ null     ┆ [\"Medical ┆ Medical   │\n",
       "│ engineerin ┆ PR, Puerto ┆           ┆         ┆   ┆           ┆          ┆ \", \"Devic ┆ Devices   │\n",
       "│ g          ┆ Rico       ┆           ┆         ┆   ┆           ┆          ┆ es\"]      ┆           │\n",
       "│ speciali…  ┆            ┆           ┆         ┆   ┆           ┆          ┆           ┆           │\n",
       "└────────────┴────────────┴───────────┴─────────┴───┴───────────┴──────────┴───────────┴───────────┘"
      ]
     },
     "execution_count": 61,
     "metadata": {},
     "output_type": "execute_result"
    }
   ],
   "source": [
    "whole_df = whole_df.with_columns(tags = pl.col(\"all_tags\").list.join(\" \"))\n",
    "whole_df"
   ]
  },
  {
   "cell_type": "markdown",
   "id": "7e129d42-5d79-4731-a177-87acc2397034",
   "metadata": {},
   "source": [
    "5. If country/city not present use job_location"
   ]
  },
  {
   "cell_type": "code",
   "execution_count": 62,
   "id": "fdbf6d82-f591-4bd5-b69c-114f31cc3550",
   "metadata": {},
   "outputs": [
    {
     "data": {
      "text/html": [
       "<div><style>\n",
       ".dataframe > thead > tr,\n",
       ".dataframe > tbody > tr {\n",
       "  text-align: right;\n",
       "  white-space: pre-wrap;\n",
       "}\n",
       "</style>\n",
       "<small>shape: (2_968, 24)</small><table border=\"1\" class=\"dataframe\"><thead><tr><th>job_name</th><th>job_location</th><th>hours</th><th>remote</th><th>company_name</th><th>education</th><th>tags_matched</th><th>tag_categories</th><th>categories</th><th>seniority</th><th>comp_est</th><th>language</th><th>city</th><th>country</th><th>job_published_at</th><th>last_indexed</th><th>sample_date</th><th>len_comp</th><th>est</th><th>est_float</th><th>compensation</th><th>comp_dol</th><th>all_tags</th><th>tags</th></tr><tr><td>str</td><td>str</td><td>cat</td><td>cat</td><td>str</td><td>cat</td><td>list[str]</td><td>list[str]</td><td>list[str]</td><td>cat</td><td>str</td><td>cat</td><td>str</td><td>str</td><td>date</td><td>date</td><td>str</td><td>u32</td><td>list[str]</td><td>list[f64]</td><td>f64</td><td>f64</td><td>list[str]</td><td>str</td></tr></thead><tbody><tr><td>&quot;staff software engineer - back…</td><td>&quot;Remote&quot;</td><td>&quot;Full-Time&quot;</td><td>&quot;true&quot;</td><td>&quot;String Technology&quot;</td><td>&quot;unknown&quot;</td><td>[&quot;Terraform&quot;, &quot;Redis&quot;, … &quot;AWS&quot;]</td><td>[&quot;Timeseries&quot;, &quot;Database&quot;, … &quot;Databases&quot;]</td><td>[&quot;Software&quot;]</td><td>&quot;Staff IC&quot;</td><td>&quot;&quot;</td><td>&quot;en&quot;</td><td>null</td><td>null</td><td>2023-02-23</td><td>2023-06-04</td><td>&quot;2023&quot;</td><td>0</td><td>[&quot;&quot;, &quot;&quot;]</td><td>[null, null]</td><td>null</td><td>null</td><td>[&quot;Definition&quot;, &quot;Memory&quot;, … &quot;Access&quot;]</td><td>&quot;Definition Memory Timeseries C…</td></tr><tr><td>&quot;senior silicon development eng…</td><td>&quot;Korea, Republic of - KR - Buch…</td><td>&quot;Unclear&quot;</td><td>&quot;unknown&quot;</td><td>null</td><td>&quot;unknown&quot;</td><td>[]</td><td>[]</td><td>[]</td><td>&quot;Senior IC&quot;</td><td>&quot;&quot;</td><td>&quot;en&quot;</td><td>null</td><td>null</td><td>2023-05-10</td><td>2023-06-04</td><td>&quot;2023&quot;</td><td>0</td><td>[&quot;&quot;, &quot;&quot;]</td><td>[null, null]</td><td>null</td><td>null</td><td>[]</td><td>&quot;&quot;</td></tr><tr><td>&quot;senior engineer - geotech&quot;</td><td>&quot;Capetown&quot;</td><td>&quot;Full-Time&quot;</td><td>&quot;unknown&quot;</td><td>null</td><td>&quot;unknown&quot;</td><td>[]</td><td>[]</td><td>[]</td><td>&quot;Senior IC&quot;</td><td>&quot;&quot;</td><td>&quot;en&quot;</td><td>null</td><td>null</td><td>2023-05-19</td><td>2023-05-24</td><td>&quot;2023&quot;</td><td>0</td><td>[&quot;&quot;, &quot;&quot;]</td><td>[null, null]</td><td>null</td><td>null</td><td>[]</td><td>&quot;&quot;</td></tr><tr><td>&quot;senior software engineer - plc…</td><td>&quot;PLC Technologies&quot;</td><td>&quot;Unclear&quot;</td><td>&quot;unknown&quot;</td><td>&quot;YASH Technologies&quot;</td><td>&quot;unknown&quot;</td><td>[]</td><td>[]</td><td>[&quot;Software&quot;]</td><td>&quot;Senior IC&quot;</td><td>&quot;&quot;</td><td>&quot;en&quot;</td><td>null</td><td>null</td><td>2023-05-19</td><td>2023-05-31</td><td>&quot;2023&quot;</td><td>0</td><td>[&quot;&quot;, &quot;&quot;]</td><td>[null, null]</td><td>null</td><td>null</td><td>[&quot;Software&quot;]</td><td>&quot;Software&quot;</td></tr><tr><td>&quot;senior r&amp;d systems engineer&quot;</td><td>&quot;Malibu, CA&quot;</td><td>&quot;Full-Time&quot;</td><td>&quot;unknown&quot;</td><td>&quot;HRL Laboratories&quot;</td><td>&quot;Bachelors&quot;</td><td>[]</td><td>[]</td><td>[]</td><td>&quot;Senior IC&quot;</td><td>&quot;&quot;</td><td>&quot;en&quot;</td><td>null</td><td>null</td><td>2023-01-05</td><td>2023-05-26</td><td>&quot;2023&quot;</td><td>0</td><td>[&quot;&quot;, &quot;&quot;]</td><td>[null, null]</td><td>null</td><td>null</td><td>[]</td><td>&quot;&quot;</td></tr><tr><td>&hellip;</td><td>&hellip;</td><td>&hellip;</td><td>&hellip;</td><td>&hellip;</td><td>&hellip;</td><td>&hellip;</td><td>&hellip;</td><td>&hellip;</td><td>&hellip;</td><td>&hellip;</td><td>&hellip;</td><td>&hellip;</td><td>&hellip;</td><td>&hellip;</td><td>&hellip;</td><td>&hellip;</td><td>&hellip;</td><td>&hellip;</td><td>&hellip;</td><td>&hellip;</td><td>&hellip;</td><td>&hellip;</td><td>&hellip;</td></tr><tr><td>&quot;mechanical design engineer&quot;</td><td>&quot;Sandall Stones Road&quot;</td><td>&quot;Unclear&quot;</td><td>&quot;unknown&quot;</td><td>&quot;Premier Group Recruitment&quot;</td><td>&quot;unknown&quot;</td><td>[]</td><td>[]</td><td>[&quot;Recruiting&quot;, &quot;Staffing&quot;, &quot;Design&quot;]</td><td>&quot;Unclear Seniority&quot;</td><td>null</td><td>&quot;en&quot;</td><td>null</td><td>null</td><td>2024-02-23</td><td>2024-04-01</td><td>&quot;2024&quot;</td><td>null</td><td>[null, null]</td><td>[null, null]</td><td>null</td><td>null</td><td>[&quot;Recruiting&quot;, &quot;Design&quot;, &quot;Staffing&quot;]</td><td>&quot;Recruiting Design Staffing&quot;</td></tr><tr><td>&quot;softwareentwickler rpg / ibm i…</td><td>&quot;Hannover Heiligerstraße, Raven…</td><td>&quot;Full-Time&quot;</td><td>&quot;unknown&quot;</td><td>null</td><td>&quot;unknown&quot;</td><td>[&quot;IBM&quot;]</td><td>[&quot;Analytics&quot;, &quot;Infrastructure&quot;, … &quot;Platforms&quot;]</td><td>[&quot;Software&quot;]</td><td>&quot;Unclear Seniority&quot;</td><td>null</td><td>&quot;en&quot;</td><td>null</td><td>null</td><td>2024-03-19</td><td>2024-03-31</td><td>&quot;2024&quot;</td><td>null</td><td>[null, null]</td><td>[null, null]</td><td>null</td><td>null</td><td>[&quot;Access&quot;, &quot;IBM&quot;, … &quot;Science&quot;]</td><td>&quot;Access IBM Analytics Governanc…</td></tr><tr><td>&quot;senior siem support engineer (…</td><td>&quot;DC, US&quot;</td><td>&quot;Unclear&quot;</td><td>&quot;unknown&quot;</td><td>&quot;Gray Tier Technologies&quot;</td><td>&quot;unknown&quot;</td><td>[&quot;Splunk&quot;, &quot;IBM&quot;, &quot;Azure&quot;]</td><td>[&quot;Infrastructure&quot;, &quot;IaaS&quot;, … &quot;Access&quot;]</td><td>[]</td><td>&quot;Senior IC&quot;</td><td>null</td><td>&quot;en&quot;</td><td>null</td><td>null</td><td>null</td><td>2024-03-24</td><td>&quot;2024&quot;</td><td>null</td><td>[null, null]</td><td>[null, null]</td><td>null</td><td>null</td><td>[&quot;Tools&quot;, &quot;Azure&quot;, … &quot;Compute&quot;]</td><td>&quot;Tools Azure Infrastructure Sci…</td></tr><tr><td>&quot;senior full stack engineer&quot;</td><td>&quot;BRA&quot;</td><td>&quot;Unclear&quot;</td><td>&quot;true&quot;</td><td>&quot;Focus Talent Group&quot;</td><td>&quot;unknown&quot;</td><td>[&quot;AWS&quot;, &quot;React&quot;, … &quot;Java&quot;]</td><td>[&quot;Compute&quot;, &quot;DevTools&quot;, … &quot;SaaS&quot;]</td><td>[]</td><td>&quot;Senior IC&quot;</td><td>&quot;7500.00&quot;</td><td>&quot;en&quot;</td><td>null</td><td>null</td><td>null</td><td>2024-03-31</td><td>&quot;2024&quot;</td><td>7</td><td>[&quot;7500.00&quot;, &quot;7500.00&quot;]</td><td>[7500.0, 7500.0]</td><td>7500.0</td><td>90000.0</td><td>[&quot;Shopify&quot;, &quot;Multi&quot;, … &quot;Currency&quot;]</td><td>&quot;Shopify Multi OSS DevTools Dis…</td></tr><tr><td>&quot;mobile developer ios/android&quot;</td><td>&quot;DRS&quot;</td><td>&quot;Part-Time&quot;</td><td>&quot;unknown&quot;</td><td>&quot;ramblr.ai&quot;</td><td>&quot;unknown&quot;</td><td>[&quot;Swift&quot;, &quot;Kotlin&quot;]</td><td>[&quot;OSS&quot;, &quot;Cloud&quot;, … &quot;Languages&quot;]</td><td>[&quot;Mobile&quot;, &quot;Apps&quot;, … &quot;Software&quot;]</td><td>&quot;Intern&quot;</td><td>null</td><td>&quot;en&quot;</td><td>null</td><td>null</td><td>2024-02-05</td><td>2024-03-28</td><td>&quot;2024&quot;</td><td>null</td><td>[null, null]</td><td>[null, null]</td><td>null</td><td>null</td><td>[&quot;Software&quot;, &quot;iOS&quot;, … &quot;Android&quot;]</td><td>&quot;Software iOS Swift Languages A…</td></tr></tbody></table></div>"
      ],
      "text/plain": [
       "shape: (2_968, 24)\n",
       "┌────────────┬────────────┬───────────┬─────────┬───┬───────────┬──────────┬───────────┬───────────┐\n",
       "│ job_name   ┆ job_locati ┆ hours     ┆ remote  ┆ … ┆ compensat ┆ comp_dol ┆ all_tags  ┆ tags      │\n",
       "│ ---        ┆ on         ┆ ---       ┆ ---     ┆   ┆ ion       ┆ ---      ┆ ---       ┆ ---       │\n",
       "│ str        ┆ ---        ┆ cat       ┆ cat     ┆   ┆ ---       ┆ f64      ┆ list[str] ┆ str       │\n",
       "│            ┆ str        ┆           ┆         ┆   ┆ f64       ┆          ┆           ┆           │\n",
       "╞════════════╪════════════╪═══════════╪═════════╪═══╪═══════════╪══════════╪═══════════╪═══════════╡\n",
       "│ staff      ┆ Remote     ┆ Full-Time ┆ true    ┆ … ┆ null      ┆ null     ┆ [\"Definit ┆ Definitio │\n",
       "│ software   ┆            ┆           ┆         ┆   ┆           ┆          ┆ ion\",     ┆ n Memory  │\n",
       "│ engineer - ┆            ┆           ┆         ┆   ┆           ┆          ┆ \"Memory\", ┆ Timeserie │\n",
       "│ back…      ┆            ┆           ┆         ┆   ┆           ┆          ┆ … \"Ac…    ┆ s C…      │\n",
       "│ senior     ┆ Korea,     ┆ Unclear   ┆ unknown ┆ … ┆ null      ┆ null     ┆ []        ┆           │\n",
       "│ silicon    ┆ Republic   ┆           ┆         ┆   ┆           ┆          ┆           ┆           │\n",
       "│ developmen ┆ of - KR -  ┆           ┆         ┆   ┆           ┆          ┆           ┆           │\n",
       "│ t eng…     ┆ Buch…      ┆           ┆         ┆   ┆           ┆          ┆           ┆           │\n",
       "│ senior     ┆ Capetown   ┆ Full-Time ┆ unknown ┆ … ┆ null      ┆ null     ┆ []        ┆           │\n",
       "│ engineer - ┆            ┆           ┆         ┆   ┆           ┆          ┆           ┆           │\n",
       "│ geotech    ┆            ┆           ┆         ┆   ┆           ┆          ┆           ┆           │\n",
       "│ senior     ┆ PLC Techno ┆ Unclear   ┆ unknown ┆ … ┆ null      ┆ null     ┆ [\"Softwar ┆ Software  │\n",
       "│ software   ┆ logies     ┆           ┆         ┆   ┆           ┆          ┆ e\"]       ┆           │\n",
       "│ engineer - ┆            ┆           ┆         ┆   ┆           ┆          ┆           ┆           │\n",
       "│ plc…       ┆            ┆           ┆         ┆   ┆           ┆          ┆           ┆           │\n",
       "│ senior r&d ┆ Malibu, CA ┆ Full-Time ┆ unknown ┆ … ┆ null      ┆ null     ┆ []        ┆           │\n",
       "│ systems    ┆            ┆           ┆         ┆   ┆           ┆          ┆           ┆           │\n",
       "│ engineer   ┆            ┆           ┆         ┆   ┆           ┆          ┆           ┆           │\n",
       "│ …          ┆ …          ┆ …         ┆ …       ┆ … ┆ …         ┆ …        ┆ …         ┆ …         │\n",
       "│ mechanical ┆ Sandall    ┆ Unclear   ┆ unknown ┆ … ┆ null      ┆ null     ┆ [\"Recruit ┆ Recruitin │\n",
       "│ design     ┆ Stones     ┆           ┆         ┆   ┆           ┆          ┆ ing\",     ┆ g Design  │\n",
       "│ engineer   ┆ Road       ┆           ┆         ┆   ┆           ┆          ┆ \"Design\", ┆ Staffing  │\n",
       "│            ┆            ┆           ┆         ┆   ┆           ┆          ┆ \"Staf…    ┆           │\n",
       "│ softwareen ┆ Hannover   ┆ Full-Time ┆ unknown ┆ … ┆ null      ┆ null     ┆ [\"Access\" ┆ Access    │\n",
       "│ twickler   ┆ Heiligerst ┆           ┆         ┆   ┆           ┆          ┆ , \"IBM\",  ┆ IBM       │\n",
       "│ rpg / ibm  ┆ raße,      ┆           ┆         ┆   ┆           ┆          ┆ … \"Scienc ┆ Analytics │\n",
       "│ i…         ┆ Raven…     ┆           ┆         ┆   ┆           ┆          ┆ e\"]       ┆ Governanc │\n",
       "│            ┆            ┆           ┆         ┆   ┆           ┆          ┆           ┆ …         │\n",
       "│ senior     ┆ DC, US     ┆ Unclear   ┆ unknown ┆ … ┆ null      ┆ null     ┆ [\"Tools\", ┆ Tools     │\n",
       "│ siem       ┆            ┆           ┆         ┆   ┆           ┆          ┆ \"Azure\",  ┆ Azure Inf │\n",
       "│ support    ┆            ┆           ┆         ┆   ┆           ┆          ┆ … \"Comput ┆ rastructu │\n",
       "│ engineer   ┆            ┆           ┆         ┆   ┆           ┆          ┆ e\"…       ┆ re Sci…   │\n",
       "│ (…         ┆            ┆           ┆         ┆   ┆           ┆          ┆           ┆           │\n",
       "│ senior     ┆ BRA        ┆ Unclear   ┆ true    ┆ … ┆ 7500.0    ┆ 90000.0  ┆ [\"Shopify ┆ Shopify   │\n",
       "│ full stack ┆            ┆           ┆         ┆   ┆           ┆          ┆ \",        ┆ Multi OSS │\n",
       "│ engineer   ┆            ┆           ┆         ┆   ┆           ┆          ┆ \"Multi\",  ┆ DevTools  │\n",
       "│            ┆            ┆           ┆         ┆   ┆           ┆          ┆ …         ┆ Dis…      │\n",
       "│            ┆            ┆           ┆         ┆   ┆           ┆          ┆ \"Curren…  ┆           │\n",
       "│ mobile     ┆ DRS        ┆ Part-Time ┆ unknown ┆ … ┆ null      ┆ null     ┆ [\"Softwar ┆ Software  │\n",
       "│ developer  ┆            ┆           ┆         ┆   ┆           ┆          ┆ e\",       ┆ iOS Swift │\n",
       "│ ios/androi ┆            ┆           ┆         ┆   ┆           ┆          ┆ \"iOS\", …  ┆ Languages │\n",
       "│ d          ┆            ┆           ┆         ┆   ┆           ┆          ┆ \"Android… ┆ A…        │\n",
       "└────────────┴────────────┴───────────┴─────────┴───┴───────────┴──────────┴───────────┴───────────┘"
      ]
     },
     "execution_count": 62,
     "metadata": {},
     "output_type": "execute_result"
    }
   ],
   "source": [
    "whole_df.filter(pl.col(\"city\").is_null(), pl.col(\"job_location\").is_not_null())\n",
    "#I could fuzzy match my df with cities with this column and get more data out of it, I'll leave it for reiteration - 16_1519 missing\n",
    "whole_df.filter(pl.col(\"country\").is_null(), pl.col(\"job_location\").is_not_null())\n",
    "#same holds for this one, missing country is only around 2_968"
   ]
  },
  {
   "cell_type": "markdown",
   "id": "22137055-73bb-49ef-b230-c4778b1d41d8",
   "metadata": {},
   "source": [
    "6. Date cleaning"
   ]
  },
  {
   "cell_type": "code",
   "execution_count": null,
   "id": "ccc09918-a1f8-4c3c-901b-25adc2b552a1",
   "metadata": {},
   "outputs": [],
   "source": []
  },
  {
   "cell_type": "markdown",
   "id": "a9fe57f6-93b5-4b66-9814-20b035fa6e73",
   "metadata": {},
   "source": [
    "7. Join with company info, use number of employees"
   ]
  },
  {
   "cell_type": "code",
   "execution_count": 63,
   "id": "82df8f79-163c-41ee-98bc-4f034c6fe76c",
   "metadata": {},
   "outputs": [],
   "source": [
    "companies = pl.read_csv(\"companies_sorted.csv\")"
   ]
  },
  {
   "cell_type": "code",
   "execution_count": 64,
   "id": "f434d539-a63a-46d7-ae49-1ef6d207287a",
   "metadata": {},
   "outputs": [
    {
     "data": {
      "text/html": [
       "<div><style>\n",
       ".dataframe > thead > tr,\n",
       ".dataframe > tbody > tr {\n",
       "  text-align: right;\n",
       "  white-space: pre-wrap;\n",
       "}\n",
       "</style>\n",
       "<small>shape: (9, 11)</small><table border=\"1\" class=\"dataframe\"><thead><tr><th></th><th>name</th><th>domain</th><th>year founded</th><th>industry</th><th>size range</th><th>locality</th><th>country</th><th>linkedin url</th><th>current employee estimate</th><th>total employee estimate</th></tr><tr><td>i64</td><td>str</td><td>str</td><td>f64</td><td>str</td><td>str</td><td>str</td><td>str</td><td>str</td><td>i64</td><td>i64</td></tr></thead><tbody><tr><td>5872184</td><td>&quot;ibm&quot;</td><td>&quot;ibm.com&quot;</td><td>1911.0</td><td>&quot;information technology and ser…</td><td>&quot;10001+&quot;</td><td>&quot;new york, new york, united sta…</td><td>&quot;united states&quot;</td><td>&quot;linkedin.com/company/ibm&quot;</td><td>274047</td><td>716906</td></tr><tr><td>1537496</td><td>&quot;ibm&quot;</td><td>null</td><td>null</td><td>&quot;information technology and ser…</td><td>&quot;501 - 1000&quot;</td><td>null</td><td>null</td><td>&quot;linkedin.com/company/global-va…</td><td>280</td><td>931</td></tr><tr><td>6903843</td><td>&quot;ibm&quot;</td><td>null</td><td>1912.0</td><td>&quot;information technology and ser…</td><td>&quot;11 - 50&quot;</td><td>null</td><td>null</td><td>&quot;linkedin.com/company/ibm-unite…</td><td>7</td><td>50</td></tr><tr><td>2567154</td><td>&quot;ibm&quot;</td><td>null</td><td>1914.0</td><td>&quot;information technology and ser…</td><td>&quot;1 - 10&quot;</td><td>&quot;colombes, ile-de-france, franc…</td><td>&quot;france&quot;</td><td>&quot;linkedin.com/company/ibm-franc…</td><td>3</td><td>8</td></tr><tr><td>939747</td><td>&quot;ibm&quot;</td><td>&quot;mcgeemarketingconsultants.com&quot;</td><td>null</td><td>&quot;computer software&quot;</td><td>&quot;1 - 10&quot;</td><td>null</td><td>null</td><td>&quot;linkedin.com/company/mindflow&quot;</td><td>2</td><td>6</td></tr><tr><td>5479744</td><td>&quot;ibm&quot;</td><td>&quot;ezsource.com&quot;</td><td>2003.0</td><td>&quot;computer software&quot;</td><td>&quot;1 - 10&quot;</td><td>&quot;mevo modi`im, hamerkaz, israel&quot;</td><td>&quot;israel&quot;</td><td>&quot;linkedin.com/company/ezlegacy&quot;</td><td>1</td><td>12</td></tr><tr><td>5733310</td><td>&quot;ibm&quot;</td><td>null</td><td>null</td><td>null</td><td>&quot;1 - 10&quot;</td><td>null</td><td>null</td><td>&quot;linkedin.com/company/ibmdaf&quot;</td><td>0</td><td>1</td></tr><tr><td>2519019</td><td>&quot;ibm&quot;</td><td>&quot;ibmconsult.com&quot;</td><td>2012.0</td><td>&quot;marketing and advertising&quot;</td><td>&quot;1 - 10&quot;</td><td>null</td><td>null</td><td>&quot;linkedin.com/company/ibmconsul…</td><td>0</td><td>2</td></tr><tr><td>6161271</td><td>&quot;ibm&quot;</td><td>null</td><td>null</td><td>null</td><td>&quot;1 - 10&quot;</td><td>null</td><td>null</td><td>&quot;linkedin.com/company/fiokware&quot;</td><td>0</td><td>1</td></tr></tbody></table></div>"
      ],
      "text/plain": [
       "shape: (9, 11)\n",
       "┌─────────┬──────┬─────────────────┬─────────┬───┬─────────┬─────────────────┬──────────┬──────────┐\n",
       "│         ┆ name ┆ domain          ┆ year    ┆ … ┆ country ┆ linkedin url    ┆ current  ┆ total    │\n",
       "│ ---     ┆ ---  ┆ ---             ┆ founded ┆   ┆ ---     ┆ ---             ┆ employee ┆ employee │\n",
       "│ i64     ┆ str  ┆ str             ┆ ---     ┆   ┆ str     ┆ str             ┆ estimate ┆ estimate │\n",
       "│         ┆      ┆                 ┆ f64     ┆   ┆         ┆                 ┆ ---      ┆ ---      │\n",
       "│         ┆      ┆                 ┆         ┆   ┆         ┆                 ┆ i64      ┆ i64      │\n",
       "╞═════════╪══════╪═════════════════╪═════════╪═══╪═════════╪═════════════════╪══════════╪══════════╡\n",
       "│ 5872184 ┆ ibm  ┆ ibm.com         ┆ 1911.0  ┆ … ┆ united  ┆ linkedin.com/co ┆ 274047   ┆ 716906   │\n",
       "│         ┆      ┆                 ┆         ┆   ┆ states  ┆ mpany/ibm       ┆          ┆          │\n",
       "│ 1537496 ┆ ibm  ┆ null            ┆ null    ┆ … ┆ null    ┆ linkedin.com/co ┆ 280      ┆ 931      │\n",
       "│         ┆      ┆                 ┆         ┆   ┆         ┆ mpany/global-va ┆          ┆          │\n",
       "│         ┆      ┆                 ┆         ┆   ┆         ┆ …               ┆          ┆          │\n",
       "│ 6903843 ┆ ibm  ┆ null            ┆ 1912.0  ┆ … ┆ null    ┆ linkedin.com/co ┆ 7        ┆ 50       │\n",
       "│         ┆      ┆                 ┆         ┆   ┆         ┆ mpany/ibm-unite ┆          ┆          │\n",
       "│         ┆      ┆                 ┆         ┆   ┆         ┆ …               ┆          ┆          │\n",
       "│ 2567154 ┆ ibm  ┆ null            ┆ 1914.0  ┆ … ┆ france  ┆ linkedin.com/co ┆ 3        ┆ 8        │\n",
       "│         ┆      ┆                 ┆         ┆   ┆         ┆ mpany/ibm-franc ┆          ┆          │\n",
       "│         ┆      ┆                 ┆         ┆   ┆         ┆ …               ┆          ┆          │\n",
       "│ 939747  ┆ ibm  ┆ mcgeemarketingc ┆ null    ┆ … ┆ null    ┆ linkedin.com/co ┆ 2        ┆ 6        │\n",
       "│         ┆      ┆ onsultants.com  ┆         ┆   ┆         ┆ mpany/mindflow  ┆          ┆          │\n",
       "│ 5479744 ┆ ibm  ┆ ezsource.com    ┆ 2003.0  ┆ … ┆ israel  ┆ linkedin.com/co ┆ 1        ┆ 12       │\n",
       "│         ┆      ┆                 ┆         ┆   ┆         ┆ mpany/ezlegacy  ┆          ┆          │\n",
       "│ 5733310 ┆ ibm  ┆ null            ┆ null    ┆ … ┆ null    ┆ linkedin.com/co ┆ 0        ┆ 1        │\n",
       "│         ┆      ┆                 ┆         ┆   ┆         ┆ mpany/ibmdaf    ┆          ┆          │\n",
       "│ 2519019 ┆ ibm  ┆ ibmconsult.com  ┆ 2012.0  ┆ … ┆ null    ┆ linkedin.com/co ┆ 0        ┆ 2        │\n",
       "│         ┆      ┆                 ┆         ┆   ┆         ┆ mpany/ibmconsul ┆          ┆          │\n",
       "│         ┆      ┆                 ┆         ┆   ┆         ┆ …               ┆          ┆          │\n",
       "│ 6161271 ┆ ibm  ┆ null            ┆ null    ┆ … ┆ null    ┆ linkedin.com/co ┆ 0        ┆ 1        │\n",
       "│         ┆      ┆                 ┆         ┆   ┆         ┆ mpany/fiokware  ┆          ┆          │\n",
       "└─────────┴──────┴─────────────────┴─────────┴───┴─────────┴─────────────────┴──────────┴──────────┘"
      ]
     },
     "execution_count": 64,
     "metadata": {},
     "output_type": "execute_result"
    }
   ],
   "source": [
    "companies.filter(pl.col(\"name\")==\"ibm\")"
   ]
  },
  {
   "cell_type": "code",
   "execution_count": 65,
   "id": "7563b070-9fbf-4ac6-8534-51306fb13323",
   "metadata": {},
   "outputs": [],
   "source": [
    "companies_num = companies.select(pl.col(\"name\", \"current employee estimate\"))"
   ]
  },
  {
   "cell_type": "code",
   "execution_count": 66,
   "id": "a531048c-0e97-45ec-803f-72cbd7bed0af",
   "metadata": {},
   "outputs": [],
   "source": [
    "companies_unique = companies_num.group_by(\"name\").agg(pl.col(\"current employee estimate\").sum())\n"
   ]
  },
  {
   "cell_type": "code",
   "execution_count": 67,
   "id": "81d30dc5-0dfd-441b-b36a-da0e9d2a5ff5",
   "metadata": {},
   "outputs": [
    {
     "data": {
      "text/html": [
       "<div><style>\n",
       ".dataframe > thead > tr,\n",
       ".dataframe > tbody > tr {\n",
       "  text-align: right;\n",
       "  white-space: pre-wrap;\n",
       "}\n",
       "</style>\n",
       "<small>shape: (7_004_635, 2)</small><table border=\"1\" class=\"dataframe\"><thead><tr><th>name</th><th>current employee estimate</th></tr><tr><td>str</td><td>i64</td></tr></thead><tbody><tr><td>&quot;maan softwares inc.&quot;</td><td>4</td></tr><tr><td>&quot;justia&quot;</td><td>62</td></tr><tr><td>&quot;alio industries&quot;</td><td>9</td></tr><tr><td>&quot;saza solutions&quot;</td><td>4</td></tr><tr><td>&quot;grupo integra - bilbao&quot;</td><td>3</td></tr><tr><td>&hellip;</td><td>&hellip;</td></tr><tr><td>&quot;ekerler mutfak sanayi̇ i̇ç ve …</td><td>1</td></tr><tr><td>&quot;global eyes&quot;</td><td>0</td></tr><tr><td>&quot;stylish eve&quot;</td><td>10</td></tr><tr><td>&quot;m developers&quot;</td><td>1</td></tr><tr><td>&quot;fuller gilbert&quot;</td><td>1</td></tr></tbody></table></div>"
      ],
      "text/plain": [
       "shape: (7_004_635, 2)\n",
       "┌───────────────────────────────┬───────────────────────────┐\n",
       "│ name                          ┆ current employee estimate │\n",
       "│ ---                           ┆ ---                       │\n",
       "│ str                           ┆ i64                       │\n",
       "╞═══════════════════════════════╪═══════════════════════════╡\n",
       "│ maan softwares inc.           ┆ 4                         │\n",
       "│ justia                        ┆ 62                        │\n",
       "│ alio industries               ┆ 9                         │\n",
       "│ saza solutions                ┆ 4                         │\n",
       "│ grupo integra - bilbao        ┆ 3                         │\n",
       "│ …                             ┆ …                         │\n",
       "│ ekerler mutfak sanayi̇ i̇ç ve … ┆ 1                         │\n",
       "│ global eyes                   ┆ 0                         │\n",
       "│ stylish eve                   ┆ 10                        │\n",
       "│ m developers                  ┆ 1                         │\n",
       "│ fuller gilbert                ┆ 1                         │\n",
       "└───────────────────────────────┴───────────────────────────┘"
      ]
     },
     "execution_count": 67,
     "metadata": {},
     "output_type": "execute_result"
    }
   ],
   "source": [
    "companies_unique"
   ]
  },
  {
   "cell_type": "code",
   "execution_count": 68,
   "id": "f9dcf989-cfe4-4039-81ae-47190011c98c",
   "metadata": {},
   "outputs": [
    {
     "data": {
      "text/html": [
       "<div><style>\n",
       ".dataframe > thead > tr,\n",
       ".dataframe > tbody > tr {\n",
       "  text-align: right;\n",
       "  white-space: pre-wrap;\n",
       "}\n",
       "</style>\n",
       "<small>shape: (1, 2)</small><table border=\"1\" class=\"dataframe\"><thead><tr><th>name</th><th>current employee estimate</th></tr><tr><td>str</td><td>i64</td></tr></thead><tbody><tr><td>&quot;ibm&quot;</td><td>274340</td></tr></tbody></table></div>"
      ],
      "text/plain": [
       "shape: (1, 2)\n",
       "┌──────┬───────────────────────────┐\n",
       "│ name ┆ current employee estimate │\n",
       "│ ---  ┆ ---                       │\n",
       "│ str  ┆ i64                       │\n",
       "╞══════╪═══════════════════════════╡\n",
       "│ ibm  ┆ 274340                    │\n",
       "└──────┴───────────────────────────┘"
      ]
     },
     "execution_count": 68,
     "metadata": {},
     "output_type": "execute_result"
    }
   ],
   "source": [
    "companies_unique.filter(pl.col(\"name\")==\"ibm\")"
   ]
  },
  {
   "cell_type": "code",
   "execution_count": 69,
   "id": "1541da1f-cf65-4228-99ab-d40608558283",
   "metadata": {},
   "outputs": [
    {
     "data": {
      "text/html": [
       "<div><style>\n",
       ".dataframe > thead > tr,\n",
       ".dataframe > tbody > tr {\n",
       "  text-align: right;\n",
       "  white-space: pre-wrap;\n",
       "}\n",
       "</style>\n",
       "<small>shape: (100_000, 25)</small><table border=\"1\" class=\"dataframe\"><thead><tr><th>job_name</th><th>job_location</th><th>hours</th><th>remote</th><th>company_name</th><th>education</th><th>tags_matched</th><th>tag_categories</th><th>categories</th><th>seniority</th><th>comp_est</th><th>language</th><th>city</th><th>country</th><th>job_published_at</th><th>last_indexed</th><th>sample_date</th><th>len_comp</th><th>est</th><th>est_float</th><th>compensation</th><th>comp_dol</th><th>all_tags</th><th>tags</th><th>name</th></tr><tr><td>str</td><td>str</td><td>cat</td><td>cat</td><td>str</td><td>cat</td><td>list[str]</td><td>list[str]</td><td>list[str]</td><td>cat</td><td>str</td><td>cat</td><td>str</td><td>str</td><td>date</td><td>date</td><td>str</td><td>u32</td><td>list[str]</td><td>list[f64]</td><td>f64</td><td>f64</td><td>list[str]</td><td>str</td><td>str</td></tr></thead><tbody><tr><td>&quot;backend developer&quot;</td><td>&quot;Praha, Czech Republic&quot;</td><td>&quot;Unclear&quot;</td><td>&quot;unknown&quot;</td><td>&quot;IBM&quot;</td><td>&quot;unknown&quot;</td><td>[&quot;Docker&quot;, &quot;GraphQL&quot;, … &quot;Cloud&quot;]</td><td>[&quot;Container&quot;, &quot;Orchestration&quot;, … &quot;Databases&quot;]</td><td>[&quot;Software&quot;]</td><td>&quot;Unclear Seniority&quot;</td><td>&quot;&quot;</td><td>&quot;pl&quot;</td><td>&quot;Praha&quot;</td><td>&quot;Czech Republic&quot;</td><td>2023-03-13</td><td>2023-06-05</td><td>&quot;2023&quot;</td><td>0</td><td>[&quot;&quot;, &quot;&quot;]</td><td>[null, null]</td><td>null</td><td>null</td><td>[&quot;Science&quot;, &quot;TypeScript&quot;, … &quot;Programming&quot;]</td><td>&quot;Science TypeScript Horizontal …</td><td>&quot;ibm&quot;</td></tr><tr><td>&quot;manufacturing engineer&quot;</td><td>null</td><td>&quot;Full-Time&quot;</td><td>&quot;false&quot;</td><td>null</td><td>&quot;unknown&quot;</td><td>[&quot;Sigma&quot;]</td><td>[&quot;Tools&quot;, &quot;Serverless&quot;]</td><td>[&quot;Manufacturing&quot;]</td><td>&quot;Unclear Seniority&quot;</td><td>&quot;&quot;</td><td>&quot;en&quot;</td><td>&quot;Sterling Heights&quot;</td><td>&quot;United States&quot;</td><td>2021-10-09</td><td>2023-05-24</td><td>&quot;2023&quot;</td><td>0</td><td>[&quot;&quot;, &quot;&quot;]</td><td>[null, null]</td><td>null</td><td>null</td><td>[&quot;Tools&quot;, &quot;Serverless&quot;, … &quot;Sigma&quot;]</td><td>&quot;Tools Serverless Manufacturing…</td><td>null</td></tr><tr><td>&quot;design engineer, motorized pro…</td><td>&quot;520 S Byrkit St Mishawaka, Ind…</td><td>&quot;Full-Time&quot;</td><td>&quot;unknown&quot;</td><td>&quot;ABI Attachments&quot;</td><td>&quot;Bachelors&quot;</td><td>[]</td><td>[]</td><td>[&quot;Design&quot;]</td><td>&quot;Senior IC&quot;</td><td>&quot;&quot;</td><td>&quot;en&quot;</td><td>&quot;Mishawaka&quot;</td><td>&quot;United States&quot;</td><td>2023-04-28</td><td>2023-05-19</td><td>&quot;2023&quot;</td><td>0</td><td>[&quot;&quot;, &quot;&quot;]</td><td>[null, null]</td><td>null</td><td>null</td><td>[&quot;Design&quot;]</td><td>&quot;Design&quot;</td><td>&quot;abi attachments&quot;</td></tr><tr><td>&quot;cybersecurity engineer&quot;</td><td>null</td><td>&quot;Full-Time&quot;</td><td>&quot;false&quot;</td><td>null</td><td>&quot;Bachelors&quot;</td><td>[&quot;AWS&quot;, &quot;Qualys&quot;, &quot;Splunk&quot;]</td><td>[&quot;Compute&quot;, &quot;Logging&quot;, … &quot;Security&quot;]</td><td>[&quot;Cybersecurity&quot;, &quot;Security&quot;]</td><td>&quot;Unclear Seniority&quot;</td><td>&quot;&quot;</td><td>&quot;en&quot;</td><td>&quot;Herndon&quot;</td><td>&quot;United States&quot;</td><td>2023-04-03</td><td>2023-05-28</td><td>&quot;2023&quot;</td><td>0</td><td>[&quot;&quot;, &quot;&quot;]</td><td>[null, null]</td><td>null</td><td>null</td><td>[&quot;PaaS&quot;, &quot;Infrastructure&quot;, … &quot;Security&quot;]</td><td>&quot;PaaS Infrastructure Analytics …</td><td>null</td></tr><tr><td>&quot;your career so choose wisely w…</td><td>&quot;Kolkata, India&quot;</td><td>&quot;Full-Time&quot;</td><td>&quot;false&quot;</td><td>&quot;Adeeba e Services&quot;</td><td>&quot;unknown&quot;</td><td>[&quot;Objective&quot;, &quot;C&quot;, … &quot;Git&quot;]</td><td>[&quot;Cloud&quot;, &quot;Native&quot;, … &quot;Control&quot;]</td><td>[&quot;Software&quot;]</td><td>&quot;Unclear Seniority&quot;</td><td>&quot;&quot;</td><td>&quot;en&quot;</td><td>&quot;Kolkata&quot;</td><td>&quot;India&quot;</td><td>2017-01-17</td><td>2023-05-30</td><td>&quot;2023&quot;</td><td>0</td><td>[&quot;&quot;, &quot;&quot;]</td><td>[null, null]</td><td>null</td><td>null</td><td>[&quot;iOS&quot;, &quot;Software&quot;, … &quot;Version&quot;]</td><td>&quot;iOS Software Runtime Storage P…</td><td>&quot;adeeba e services&quot;</td></tr><tr><td>&hellip;</td><td>&hellip;</td><td>&hellip;</td><td>&hellip;</td><td>&hellip;</td><td>&hellip;</td><td>&hellip;</td><td>&hellip;</td><td>&hellip;</td><td>&hellip;</td><td>&hellip;</td><td>&hellip;</td><td>&hellip;</td><td>&hellip;</td><td>&hellip;</td><td>&hellip;</td><td>&hellip;</td><td>&hellip;</td><td>&hellip;</td><td>&hellip;</td><td>&hellip;</td><td>&hellip;</td><td>&hellip;</td><td>&hellip;</td><td>&hellip;</td></tr><tr><td>&quot;fire protection engineer (3+ y…</td><td>&quot;1455 Frazee Rd, San Diego, CA …</td><td>&quot;Full-Time&quot;</td><td>&quot;false&quot;</td><td>&quot;Coffman Engineers&quot;</td><td>&quot;unknown&quot;</td><td>[&quot;Facebook&quot;, &quot;Instagram&quot;, … &quot;Twitter&quot;]</td><td>[&quot;Tracking&quot;, &quot;Social&quot;, … &quot;CDN&quot;]</td><td>[&quot;Consulting&quot;]</td><td>&quot;Unclear Seniority&quot;</td><td>&quot;97500.00&quot;</td><td>&quot;en&quot;</td><td>&quot;San Diego&quot;</td><td>&quot;United States&quot;</td><td>2024-01-08</td><td>2024-04-01</td><td>&quot;2024&quot;</td><td>8</td><td>[&quot;97500.00&quot;, &quot;97500.00&quot;]</td><td>[97500.0, 97500.0]</td><td>97500.0</td><td>97500.0</td><td>[&quot;Shortening&quot;, &quot;Twitter&quot;, … &quot;Link&quot;]</td><td>&quot;Shortening Twitter CDN Instagr…</td><td>&quot;coffman engineers&quot;</td></tr><tr><td>&quot;mechanical engineering intern&quot;</td><td>null</td><td>&quot;Intern&quot;</td><td>&quot;unknown&quot;</td><td>&quot;Study and Work&quot;</td><td>&quot;unknown&quot;</td><td>[]</td><td>[]</td><td>[&quot;Mechanical&quot;, &quot;Industrial&quot;, &quot;Engineering&quot;]</td><td>&quot;Intern&quot;</td><td>null</td><td>&quot;en&quot;</td><td>null</td><td>null</td><td>2024-03-12</td><td>2024-03-27</td><td>&quot;2024&quot;</td><td>null</td><td>[null, null]</td><td>[null, null]</td><td>null</td><td>null</td><td>[&quot;Industrial&quot;, &quot;Engineering&quot;, &quot;Mechanical&quot;]</td><td>&quot;Industrial Engineering Mechani…</td><td>&quot;study and work&quot;</td></tr><tr><td>&quot;automation engineer (m/f/d)&quot;</td><td>&quot;Puurs&quot;</td><td>&quot;Unclear&quot;</td><td>&quot;unknown&quot;</td><td>&quot;Novartis&quot;</td><td>&quot;unknown&quot;</td><td>[]</td><td>[]</td><td>[]</td><td>&quot;Unclear Seniority&quot;</td><td>null</td><td>&quot;fr&quot;</td><td>&quot;Puurs&quot;</td><td>&quot;Belgium&quot;</td><td>null</td><td>2024-03-16</td><td>&quot;2024&quot;</td><td>null</td><td>[null, null]</td><td>[null, null]</td><td>null</td><td>null</td><td>[]</td><td>&quot;&quot;</td><td>&quot;novartis&quot;</td></tr><tr><td>&quot;computer vision engineer (chen…</td><td>&quot;Chennai&quot;</td><td>&quot;Full-Time&quot;</td><td>&quot;false&quot;</td><td>&quot;Zigsaw&quot;</td><td>&quot;Bachelors&quot;</td><td>[&quot;PyTorch&quot;, &quot;Java&quot;, … &quot;TensorFlow&quot;]</td><td>[&quot;OSS&quot;, &quot;AI&quot;, … &quot;Languages&quot;]</td><td>[&quot;Machine&quot;, &quot;Learning&quot;]</td><td>&quot;Unclear Seniority&quot;</td><td>null</td><td>&quot;en&quot;</td><td>&quot;Chennai&quot;</td><td>&quot;India&quot;</td><td>2023-10-05</td><td>2024-03-26</td><td>&quot;2024&quot;</td><td>null</td><td>[null, null]</td><td>[null, null]</td><td>null</td><td>null</td><td>[&quot;Processing&quot;, &quot;OSS&quot;, … &quot;ML&quot;]</td><td>&quot;Processing OSS Machine Java To…</td><td>&quot;zigsaw&quot;</td></tr><tr><td>&quot;associate engineering speciali…</td><td>&quot;Juncos, PR, Puerto Rico&quot;</td><td>&quot;Contract&quot;</td><td>&quot;unknown&quot;</td><td>&quot;Flexible &amp; Integrated Technica…</td><td>&quot;Bachelors&quot;</td><td>[]</td><td>[]</td><td>[&quot;Medical&quot;, &quot;Devices&quot;]</td><td>&quot;Junior IC&quot;</td><td>null</td><td>&quot;en&quot;</td><td>&quot;Juncos&quot;</td><td>&quot;United States&quot;</td><td>2024-01-29</td><td>2024-03-14</td><td>&quot;2024&quot;</td><td>null</td><td>[null, null]</td><td>[null, null]</td><td>null</td><td>null</td><td>[&quot;Medical&quot;, &quot;Devices&quot;]</td><td>&quot;Medical Devices&quot;</td><td>&quot;flexible &amp; integrated technica…</td></tr></tbody></table></div>"
      ],
      "text/plain": [
       "shape: (100_000, 25)\n",
       "┌────────────┬────────────┬───────────┬─────────┬───┬──────────┬───────────┬───────────┬───────────┐\n",
       "│ job_name   ┆ job_locati ┆ hours     ┆ remote  ┆ … ┆ comp_dol ┆ all_tags  ┆ tags      ┆ name      │\n",
       "│ ---        ┆ on         ┆ ---       ┆ ---     ┆   ┆ ---      ┆ ---       ┆ ---       ┆ ---       │\n",
       "│ str        ┆ ---        ┆ cat       ┆ cat     ┆   ┆ f64      ┆ list[str] ┆ str       ┆ str       │\n",
       "│            ┆ str        ┆           ┆         ┆   ┆          ┆           ┆           ┆           │\n",
       "╞════════════╪════════════╪═══════════╪═════════╪═══╪══════════╪═══════════╪═══════════╪═══════════╡\n",
       "│ backend    ┆ Praha,     ┆ Unclear   ┆ unknown ┆ … ┆ null     ┆ [\"Science ┆ Science   ┆ ibm       │\n",
       "│ developer  ┆ Czech      ┆           ┆         ┆   ┆          ┆ \", \"TypeS ┆ TypeScrip ┆           │\n",
       "│            ┆ Republic   ┆           ┆         ┆   ┆          ┆ cript\", … ┆ t Horizon ┆           │\n",
       "│            ┆            ┆           ┆         ┆   ┆          ┆ \"P…       ┆ tal …     ┆           │\n",
       "│ manufactur ┆ null       ┆ Full-Time ┆ false   ┆ … ┆ null     ┆ [\"Tools\", ┆ Tools Ser ┆ null      │\n",
       "│ ing        ┆            ┆           ┆         ┆   ┆          ┆ \"Serverle ┆ verless   ┆           │\n",
       "│ engineer   ┆            ┆           ┆         ┆   ┆          ┆ ss\", …    ┆ Manufactu ┆           │\n",
       "│            ┆            ┆           ┆         ┆   ┆          ┆ \"Sig…     ┆ ring…     ┆           │\n",
       "│ design     ┆ 520 S      ┆ Full-Time ┆ unknown ┆ … ┆ null     ┆ [\"Design\" ┆ Design    ┆ abi attac │\n",
       "│ engineer,  ┆ Byrkit St  ┆           ┆         ┆   ┆          ┆ ]         ┆           ┆ hments    │\n",
       "│ motorized  ┆ Mishawaka, ┆           ┆         ┆   ┆          ┆           ┆           ┆           │\n",
       "│ pro…       ┆ Ind…       ┆           ┆         ┆   ┆          ┆           ┆           ┆           │\n",
       "│ cybersecur ┆ null       ┆ Full-Time ┆ false   ┆ … ┆ null     ┆ [\"PaaS\",  ┆ PaaS Infr ┆ null      │\n",
       "│ ity        ┆            ┆           ┆         ┆   ┆          ┆ \"Infrastr ┆ astructur ┆           │\n",
       "│ engineer   ┆            ┆           ┆         ┆   ┆          ┆ ucture\",  ┆ e         ┆           │\n",
       "│            ┆            ┆           ┆         ┆   ┆          ┆ … \"…      ┆ Analytics ┆           │\n",
       "│            ┆            ┆           ┆         ┆   ┆          ┆           ┆ …         ┆           │\n",
       "│ your       ┆ Kolkata,   ┆ Full-Time ┆ false   ┆ … ┆ null     ┆ [\"iOS\",   ┆ iOS       ┆ adeeba e  │\n",
       "│ career so  ┆ India      ┆           ┆         ┆   ┆          ┆ \"Software ┆ Software  ┆ services  │\n",
       "│ choose     ┆            ┆           ┆         ┆   ┆          ┆ \", …      ┆ Runtime   ┆           │\n",
       "│ wisely w…  ┆            ┆           ┆         ┆   ┆          ┆ \"Version… ┆ Storage   ┆           │\n",
       "│            ┆            ┆           ┆         ┆   ┆          ┆           ┆ P…        ┆           │\n",
       "│ …          ┆ …          ┆ …         ┆ …       ┆ … ┆ …        ┆ …         ┆ …         ┆ …         │\n",
       "│ fire       ┆ 1455       ┆ Full-Time ┆ false   ┆ … ┆ 97500.0  ┆ [\"Shorten ┆ Shortenin ┆ coffman   │\n",
       "│ protection ┆ Frazee Rd, ┆           ┆         ┆   ┆          ┆ ing\", \"Tw ┆ g Twitter ┆ engineers │\n",
       "│ engineer   ┆ San Diego, ┆           ┆         ┆   ┆          ┆ itter\", … ┆ CDN       ┆           │\n",
       "│ (3+ y…     ┆ CA …       ┆           ┆         ┆   ┆          ┆ \"L…       ┆ Instagr…  ┆           │\n",
       "│ mechanical ┆ null       ┆ Intern    ┆ unknown ┆ … ┆ null     ┆ [\"Industr ┆ Industria ┆ study and │\n",
       "│ engineerin ┆            ┆           ┆         ┆   ┆          ┆ ial\", \"En ┆ l Enginee ┆ work      │\n",
       "│ g intern   ┆            ┆           ┆         ┆   ┆          ┆ gineering ┆ ring      ┆           │\n",
       "│            ┆            ┆           ┆         ┆   ┆          ┆ \", …      ┆ Mechani…  ┆           │\n",
       "│ automation ┆ Puurs      ┆ Unclear   ┆ unknown ┆ … ┆ null     ┆ []        ┆           ┆ novartis  │\n",
       "│ engineer   ┆            ┆           ┆         ┆   ┆          ┆           ┆           ┆           │\n",
       "│ (m/f/d)    ┆            ┆           ┆         ┆   ┆          ┆           ┆           ┆           │\n",
       "│ computer   ┆ Chennai    ┆ Full-Time ┆ false   ┆ … ┆ null     ┆ [\"Process ┆ Processin ┆ zigsaw    │\n",
       "│ vision     ┆            ┆           ┆         ┆   ┆          ┆ ing\",     ┆ g OSS     ┆           │\n",
       "│ engineer   ┆            ┆           ┆         ┆   ┆          ┆ \"OSS\", …  ┆ Machine   ┆           │\n",
       "│ (chen…     ┆            ┆           ┆         ┆   ┆          ┆ \"ML\"]     ┆ Java To…  ┆           │\n",
       "│ associate  ┆ Juncos,    ┆ Contract  ┆ unknown ┆ … ┆ null     ┆ [\"Medical ┆ Medical   ┆ flexible  │\n",
       "│ engineerin ┆ PR, Puerto ┆           ┆         ┆   ┆          ┆ \", \"Devic ┆ Devices   ┆ & integra │\n",
       "│ g          ┆ Rico       ┆           ┆         ┆   ┆          ┆ es\"]      ┆           ┆ ted       │\n",
       "│ speciali…  ┆            ┆           ┆         ┆   ┆          ┆           ┆           ┆ technica… │\n",
       "└────────────┴────────────┴───────────┴─────────┴───┴──────────┴───────────┴───────────┴───────────┘"
      ]
     },
     "execution_count": 69,
     "metadata": {},
     "output_type": "execute_result"
    }
   ],
   "source": [
    "whole_df = whole_df.with_columns(name = pl.col(\"company_name\").str.to_lowercase())\n",
    "whole_df"
   ]
  },
  {
   "cell_type": "code",
   "execution_count": 70,
   "id": "b500a653-8f1f-4829-9c5d-6c6b3400639f",
   "metadata": {},
   "outputs": [
    {
     "data": {
      "text/html": [
       "<div><style>\n",
       ".dataframe > thead > tr,\n",
       ".dataframe > tbody > tr {\n",
       "  text-align: right;\n",
       "  white-space: pre-wrap;\n",
       "}\n",
       "</style>\n",
       "<small>shape: (100_000, 26)</small><table border=\"1\" class=\"dataframe\"><thead><tr><th>job_name</th><th>job_location</th><th>hours</th><th>remote</th><th>company_name</th><th>education</th><th>tags_matched</th><th>tag_categories</th><th>categories</th><th>seniority</th><th>comp_est</th><th>language</th><th>city</th><th>country</th><th>job_published_at</th><th>last_indexed</th><th>sample_date</th><th>len_comp</th><th>est</th><th>est_float</th><th>compensation</th><th>comp_dol</th><th>all_tags</th><th>tags</th><th>name</th><th>current employee estimate</th></tr><tr><td>str</td><td>str</td><td>cat</td><td>cat</td><td>str</td><td>cat</td><td>list[str]</td><td>list[str]</td><td>list[str]</td><td>cat</td><td>str</td><td>cat</td><td>str</td><td>str</td><td>date</td><td>date</td><td>str</td><td>u32</td><td>list[str]</td><td>list[f64]</td><td>f64</td><td>f64</td><td>list[str]</td><td>str</td><td>str</td><td>i64</td></tr></thead><tbody><tr><td>&quot;backend developer&quot;</td><td>&quot;Praha, Czech Republic&quot;</td><td>&quot;Unclear&quot;</td><td>&quot;unknown&quot;</td><td>&quot;IBM&quot;</td><td>&quot;unknown&quot;</td><td>[&quot;Docker&quot;, &quot;GraphQL&quot;, … &quot;Cloud&quot;]</td><td>[&quot;Container&quot;, &quot;Orchestration&quot;, … &quot;Databases&quot;]</td><td>[&quot;Software&quot;]</td><td>&quot;Unclear Seniority&quot;</td><td>&quot;&quot;</td><td>&quot;pl&quot;</td><td>&quot;Praha&quot;</td><td>&quot;Czech Republic&quot;</td><td>2023-03-13</td><td>2023-06-05</td><td>&quot;2023&quot;</td><td>0</td><td>[&quot;&quot;, &quot;&quot;]</td><td>[null, null]</td><td>null</td><td>null</td><td>[&quot;Science&quot;, &quot;TypeScript&quot;, … &quot;Programming&quot;]</td><td>&quot;Science TypeScript Horizontal …</td><td>&quot;ibm&quot;</td><td>274340</td></tr><tr><td>&quot;manufacturing engineer&quot;</td><td>null</td><td>&quot;Full-Time&quot;</td><td>&quot;false&quot;</td><td>null</td><td>&quot;unknown&quot;</td><td>[&quot;Sigma&quot;]</td><td>[&quot;Tools&quot;, &quot;Serverless&quot;]</td><td>[&quot;Manufacturing&quot;]</td><td>&quot;Unclear Seniority&quot;</td><td>&quot;&quot;</td><td>&quot;en&quot;</td><td>&quot;Sterling Heights&quot;</td><td>&quot;United States&quot;</td><td>2021-10-09</td><td>2023-05-24</td><td>&quot;2023&quot;</td><td>0</td><td>[&quot;&quot;, &quot;&quot;]</td><td>[null, null]</td><td>null</td><td>null</td><td>[&quot;Tools&quot;, &quot;Serverless&quot;, … &quot;Sigma&quot;]</td><td>&quot;Tools Serverless Manufacturing…</td><td>null</td><td>null</td></tr><tr><td>&quot;design engineer, motorized pro…</td><td>&quot;520 S Byrkit St Mishawaka, Ind…</td><td>&quot;Full-Time&quot;</td><td>&quot;unknown&quot;</td><td>&quot;ABI Attachments&quot;</td><td>&quot;Bachelors&quot;</td><td>[]</td><td>[]</td><td>[&quot;Design&quot;]</td><td>&quot;Senior IC&quot;</td><td>&quot;&quot;</td><td>&quot;en&quot;</td><td>&quot;Mishawaka&quot;</td><td>&quot;United States&quot;</td><td>2023-04-28</td><td>2023-05-19</td><td>&quot;2023&quot;</td><td>0</td><td>[&quot;&quot;, &quot;&quot;]</td><td>[null, null]</td><td>null</td><td>null</td><td>[&quot;Design&quot;]</td><td>&quot;Design&quot;</td><td>&quot;abi attachments&quot;</td><td>25</td></tr><tr><td>&quot;cybersecurity engineer&quot;</td><td>null</td><td>&quot;Full-Time&quot;</td><td>&quot;false&quot;</td><td>null</td><td>&quot;Bachelors&quot;</td><td>[&quot;AWS&quot;, &quot;Qualys&quot;, &quot;Splunk&quot;]</td><td>[&quot;Compute&quot;, &quot;Logging&quot;, … &quot;Security&quot;]</td><td>[&quot;Cybersecurity&quot;, &quot;Security&quot;]</td><td>&quot;Unclear Seniority&quot;</td><td>&quot;&quot;</td><td>&quot;en&quot;</td><td>&quot;Herndon&quot;</td><td>&quot;United States&quot;</td><td>2023-04-03</td><td>2023-05-28</td><td>&quot;2023&quot;</td><td>0</td><td>[&quot;&quot;, &quot;&quot;]</td><td>[null, null]</td><td>null</td><td>null</td><td>[&quot;PaaS&quot;, &quot;Infrastructure&quot;, … &quot;Security&quot;]</td><td>&quot;PaaS Infrastructure Analytics …</td><td>null</td><td>null</td></tr><tr><td>&quot;your career so choose wisely w…</td><td>&quot;Kolkata, India&quot;</td><td>&quot;Full-Time&quot;</td><td>&quot;false&quot;</td><td>&quot;Adeeba e Services&quot;</td><td>&quot;unknown&quot;</td><td>[&quot;Objective&quot;, &quot;C&quot;, … &quot;Git&quot;]</td><td>[&quot;Cloud&quot;, &quot;Native&quot;, … &quot;Control&quot;]</td><td>[&quot;Software&quot;]</td><td>&quot;Unclear Seniority&quot;</td><td>&quot;&quot;</td><td>&quot;en&quot;</td><td>&quot;Kolkata&quot;</td><td>&quot;India&quot;</td><td>2017-01-17</td><td>2023-05-30</td><td>&quot;2023&quot;</td><td>0</td><td>[&quot;&quot;, &quot;&quot;]</td><td>[null, null]</td><td>null</td><td>null</td><td>[&quot;iOS&quot;, &quot;Software&quot;, … &quot;Version&quot;]</td><td>&quot;iOS Software Runtime Storage P…</td><td>&quot;adeeba e services&quot;</td><td>null</td></tr><tr><td>&hellip;</td><td>&hellip;</td><td>&hellip;</td><td>&hellip;</td><td>&hellip;</td><td>&hellip;</td><td>&hellip;</td><td>&hellip;</td><td>&hellip;</td><td>&hellip;</td><td>&hellip;</td><td>&hellip;</td><td>&hellip;</td><td>&hellip;</td><td>&hellip;</td><td>&hellip;</td><td>&hellip;</td><td>&hellip;</td><td>&hellip;</td><td>&hellip;</td><td>&hellip;</td><td>&hellip;</td><td>&hellip;</td><td>&hellip;</td><td>&hellip;</td><td>&hellip;</td></tr><tr><td>&quot;fire protection engineer (3+ y…</td><td>&quot;1455 Frazee Rd, San Diego, CA …</td><td>&quot;Full-Time&quot;</td><td>&quot;false&quot;</td><td>&quot;Coffman Engineers&quot;</td><td>&quot;unknown&quot;</td><td>[&quot;Facebook&quot;, &quot;Instagram&quot;, … &quot;Twitter&quot;]</td><td>[&quot;Tracking&quot;, &quot;Social&quot;, … &quot;CDN&quot;]</td><td>[&quot;Consulting&quot;]</td><td>&quot;Unclear Seniority&quot;</td><td>&quot;97500.00&quot;</td><td>&quot;en&quot;</td><td>&quot;San Diego&quot;</td><td>&quot;United States&quot;</td><td>2024-01-08</td><td>2024-04-01</td><td>&quot;2024&quot;</td><td>8</td><td>[&quot;97500.00&quot;, &quot;97500.00&quot;]</td><td>[97500.0, 97500.0]</td><td>97500.0</td><td>97500.0</td><td>[&quot;Shortening&quot;, &quot;Twitter&quot;, … &quot;Link&quot;]</td><td>&quot;Shortening Twitter CDN Instagr…</td><td>&quot;coffman engineers&quot;</td><td>279</td></tr><tr><td>&quot;mechanical engineering intern&quot;</td><td>null</td><td>&quot;Intern&quot;</td><td>&quot;unknown&quot;</td><td>&quot;Study and Work&quot;</td><td>&quot;unknown&quot;</td><td>[]</td><td>[]</td><td>[&quot;Mechanical&quot;, &quot;Industrial&quot;, &quot;Engineering&quot;]</td><td>&quot;Intern&quot;</td><td>null</td><td>&quot;en&quot;</td><td>null</td><td>null</td><td>2024-03-12</td><td>2024-03-27</td><td>&quot;2024&quot;</td><td>null</td><td>[null, null]</td><td>[null, null]</td><td>null</td><td>null</td><td>[&quot;Industrial&quot;, &quot;Engineering&quot;, &quot;Mechanical&quot;]</td><td>&quot;Industrial Engineering Mechani…</td><td>&quot;study and work&quot;</td><td>null</td></tr><tr><td>&quot;automation engineer (m/f/d)&quot;</td><td>&quot;Puurs&quot;</td><td>&quot;Unclear&quot;</td><td>&quot;unknown&quot;</td><td>&quot;Novartis&quot;</td><td>&quot;unknown&quot;</td><td>[]</td><td>[]</td><td>[]</td><td>&quot;Unclear Seniority&quot;</td><td>null</td><td>&quot;fr&quot;</td><td>&quot;Puurs&quot;</td><td>&quot;Belgium&quot;</td><td>null</td><td>2024-03-16</td><td>&quot;2024&quot;</td><td>null</td><td>[null, null]</td><td>[null, null]</td><td>null</td><td>null</td><td>[]</td><td>&quot;&quot;</td><td>&quot;novartis&quot;</td><td>44055</td></tr><tr><td>&quot;computer vision engineer (chen…</td><td>&quot;Chennai&quot;</td><td>&quot;Full-Time&quot;</td><td>&quot;false&quot;</td><td>&quot;Zigsaw&quot;</td><td>&quot;Bachelors&quot;</td><td>[&quot;PyTorch&quot;, &quot;Java&quot;, … &quot;TensorFlow&quot;]</td><td>[&quot;OSS&quot;, &quot;AI&quot;, … &quot;Languages&quot;]</td><td>[&quot;Machine&quot;, &quot;Learning&quot;]</td><td>&quot;Unclear Seniority&quot;</td><td>null</td><td>&quot;en&quot;</td><td>&quot;Chennai&quot;</td><td>&quot;India&quot;</td><td>2023-10-05</td><td>2024-03-26</td><td>&quot;2024&quot;</td><td>null</td><td>[null, null]</td><td>[null, null]</td><td>null</td><td>null</td><td>[&quot;Processing&quot;, &quot;OSS&quot;, … &quot;ML&quot;]</td><td>&quot;Processing OSS Machine Java To…</td><td>&quot;zigsaw&quot;</td><td>null</td></tr><tr><td>&quot;associate engineering speciali…</td><td>&quot;Juncos, PR, Puerto Rico&quot;</td><td>&quot;Contract&quot;</td><td>&quot;unknown&quot;</td><td>&quot;Flexible &amp; Integrated Technica…</td><td>&quot;Bachelors&quot;</td><td>[]</td><td>[]</td><td>[&quot;Medical&quot;, &quot;Devices&quot;]</td><td>&quot;Junior IC&quot;</td><td>null</td><td>&quot;en&quot;</td><td>&quot;Juncos&quot;</td><td>&quot;United States&quot;</td><td>2024-01-29</td><td>2024-03-14</td><td>&quot;2024&quot;</td><td>null</td><td>[null, null]</td><td>[null, null]</td><td>null</td><td>null</td><td>[&quot;Medical&quot;, &quot;Devices&quot;]</td><td>&quot;Medical Devices&quot;</td><td>&quot;flexible &amp; integrated technica…</td><td>null</td></tr></tbody></table></div>"
      ],
      "text/plain": [
       "shape: (100_000, 26)\n",
       "┌────────────┬───────────┬───────────┬─────────┬───┬───────────┬───────────┬───────────┬───────────┐\n",
       "│ job_name   ┆ job_locat ┆ hours     ┆ remote  ┆ … ┆ all_tags  ┆ tags      ┆ name      ┆ current   │\n",
       "│ ---        ┆ ion       ┆ ---       ┆ ---     ┆   ┆ ---       ┆ ---       ┆ ---       ┆ employee  │\n",
       "│ str        ┆ ---       ┆ cat       ┆ cat     ┆   ┆ list[str] ┆ str       ┆ str       ┆ estimate  │\n",
       "│            ┆ str       ┆           ┆         ┆   ┆           ┆           ┆           ┆ ---       │\n",
       "│            ┆           ┆           ┆         ┆   ┆           ┆           ┆           ┆ i64       │\n",
       "╞════════════╪═══════════╪═══════════╪═════════╪═══╪═══════════╪═══════════╪═══════════╪═══════════╡\n",
       "│ backend    ┆ Praha,    ┆ Unclear   ┆ unknown ┆ … ┆ [\"Science ┆ Science   ┆ ibm       ┆ 274340    │\n",
       "│ developer  ┆ Czech     ┆           ┆         ┆   ┆ \", \"TypeS ┆ TypeScrip ┆           ┆           │\n",
       "│            ┆ Republic  ┆           ┆         ┆   ┆ cript\", … ┆ t Horizon ┆           ┆           │\n",
       "│            ┆           ┆           ┆         ┆   ┆ \"P…       ┆ tal …     ┆           ┆           │\n",
       "│ manufactur ┆ null      ┆ Full-Time ┆ false   ┆ … ┆ [\"Tools\", ┆ Tools Ser ┆ null      ┆ null      │\n",
       "│ ing        ┆           ┆           ┆         ┆   ┆ \"Serverle ┆ verless   ┆           ┆           │\n",
       "│ engineer   ┆           ┆           ┆         ┆   ┆ ss\", …    ┆ Manufactu ┆           ┆           │\n",
       "│            ┆           ┆           ┆         ┆   ┆ \"Sig…     ┆ ring…     ┆           ┆           │\n",
       "│ design     ┆ 520 S     ┆ Full-Time ┆ unknown ┆ … ┆ [\"Design\" ┆ Design    ┆ abi attac ┆ 25        │\n",
       "│ engineer,  ┆ Byrkit St ┆           ┆         ┆   ┆ ]         ┆           ┆ hments    ┆           │\n",
       "│ motorized  ┆ Mishawaka ┆           ┆         ┆   ┆           ┆           ┆           ┆           │\n",
       "│ pro…       ┆ , Ind…    ┆           ┆         ┆   ┆           ┆           ┆           ┆           │\n",
       "│ cybersecur ┆ null      ┆ Full-Time ┆ false   ┆ … ┆ [\"PaaS\",  ┆ PaaS Infr ┆ null      ┆ null      │\n",
       "│ ity        ┆           ┆           ┆         ┆   ┆ \"Infrastr ┆ astructur ┆           ┆           │\n",
       "│ engineer   ┆           ┆           ┆         ┆   ┆ ucture\",  ┆ e         ┆           ┆           │\n",
       "│            ┆           ┆           ┆         ┆   ┆ … \"…      ┆ Analytics ┆           ┆           │\n",
       "│            ┆           ┆           ┆         ┆   ┆           ┆ …         ┆           ┆           │\n",
       "│ your       ┆ Kolkata,  ┆ Full-Time ┆ false   ┆ … ┆ [\"iOS\",   ┆ iOS       ┆ adeeba e  ┆ null      │\n",
       "│ career so  ┆ India     ┆           ┆         ┆   ┆ \"Software ┆ Software  ┆ services  ┆           │\n",
       "│ choose     ┆           ┆           ┆         ┆   ┆ \", …      ┆ Runtime   ┆           ┆           │\n",
       "│ wisely w…  ┆           ┆           ┆         ┆   ┆ \"Version… ┆ Storage   ┆           ┆           │\n",
       "│            ┆           ┆           ┆         ┆   ┆           ┆ P…        ┆           ┆           │\n",
       "│ …          ┆ …         ┆ …         ┆ …       ┆ … ┆ …         ┆ …         ┆ …         ┆ …         │\n",
       "│ fire       ┆ 1455      ┆ Full-Time ┆ false   ┆ … ┆ [\"Shorten ┆ Shortenin ┆ coffman   ┆ 279       │\n",
       "│ protection ┆ Frazee    ┆           ┆         ┆   ┆ ing\", \"Tw ┆ g Twitter ┆ engineers ┆           │\n",
       "│ engineer   ┆ Rd, San   ┆           ┆         ┆   ┆ itter\", … ┆ CDN       ┆           ┆           │\n",
       "│ (3+ y…     ┆ Diego, CA ┆           ┆         ┆   ┆ \"L…       ┆ Instagr…  ┆           ┆           │\n",
       "│            ┆ …         ┆           ┆         ┆   ┆           ┆           ┆           ┆           │\n",
       "│ mechanical ┆ null      ┆ Intern    ┆ unknown ┆ … ┆ [\"Industr ┆ Industria ┆ study and ┆ null      │\n",
       "│ engineerin ┆           ┆           ┆         ┆   ┆ ial\", \"En ┆ l Enginee ┆ work      ┆           │\n",
       "│ g intern   ┆           ┆           ┆         ┆   ┆ gineering ┆ ring      ┆           ┆           │\n",
       "│            ┆           ┆           ┆         ┆   ┆ \", …      ┆ Mechani…  ┆           ┆           │\n",
       "│ automation ┆ Puurs     ┆ Unclear   ┆ unknown ┆ … ┆ []        ┆           ┆ novartis  ┆ 44055     │\n",
       "│ engineer   ┆           ┆           ┆         ┆   ┆           ┆           ┆           ┆           │\n",
       "│ (m/f/d)    ┆           ┆           ┆         ┆   ┆           ┆           ┆           ┆           │\n",
       "│ computer   ┆ Chennai   ┆ Full-Time ┆ false   ┆ … ┆ [\"Process ┆ Processin ┆ zigsaw    ┆ null      │\n",
       "│ vision     ┆           ┆           ┆         ┆   ┆ ing\",     ┆ g OSS     ┆           ┆           │\n",
       "│ engineer   ┆           ┆           ┆         ┆   ┆ \"OSS\", …  ┆ Machine   ┆           ┆           │\n",
       "│ (chen…     ┆           ┆           ┆         ┆   ┆ \"ML\"]     ┆ Java To…  ┆           ┆           │\n",
       "│ associate  ┆ Juncos,   ┆ Contract  ┆ unknown ┆ … ┆ [\"Medical ┆ Medical   ┆ flexible  ┆ null      │\n",
       "│ engineerin ┆ PR,       ┆           ┆         ┆   ┆ \", \"Devic ┆ Devices   ┆ & integra ┆           │\n",
       "│ g          ┆ Puerto    ┆           ┆         ┆   ┆ es\"]      ┆           ┆ ted       ┆           │\n",
       "│ speciali…  ┆ Rico      ┆           ┆         ┆   ┆           ┆           ┆ technica… ┆           │\n",
       "└────────────┴───────────┴───────────┴─────────┴───┴───────────┴───────────┴───────────┴───────────┘"
      ]
     },
     "execution_count": 70,
     "metadata": {},
     "output_type": "execute_result"
    }
   ],
   "source": [
    "joined_df = whole_df.join(companies_unique, on=\"name\", how=\"left\")\n",
    "joined_df"
   ]
  },
  {
   "cell_type": "code",
   "execution_count": 71,
   "id": "c9126149-85d7-4d14-ac42-0fd67aae7874",
   "metadata": {},
   "outputs": [],
   "source": [
    "clean_df = joined_df.select(pl.col(\"job_name\", \"hours\", \"remote\", \"name\", \"current employee estimate\", \"education\",  \"seniority\", \"city\", \"country\",\"job_published_at\", \"sample_date\", \"tags\", \"comp_dol\"))"
   ]
  },
  {
   "cell_type": "code",
   "execution_count": 72,
   "id": "817bc758-c4b6-4c30-afe3-2db7082a76cb",
   "metadata": {},
   "outputs": [
    {
     "data": {
      "text/html": [
       "<div><style>\n",
       ".dataframe > thead > tr,\n",
       ".dataframe > tbody > tr {\n",
       "  text-align: right;\n",
       "  white-space: pre-wrap;\n",
       "}\n",
       "</style>\n",
       "<small>shape: (100_000, 13)</small><table border=\"1\" class=\"dataframe\"><thead><tr><th>job_name</th><th>hours</th><th>remote</th><th>name</th><th>current employee estimate</th><th>education</th><th>seniority</th><th>city</th><th>country</th><th>job_published_at</th><th>sample_date</th><th>tags</th><th>comp_dol</th></tr><tr><td>str</td><td>cat</td><td>cat</td><td>str</td><td>i64</td><td>cat</td><td>cat</td><td>str</td><td>str</td><td>date</td><td>str</td><td>str</td><td>f64</td></tr></thead><tbody><tr><td>&quot;backend developer&quot;</td><td>&quot;Unclear&quot;</td><td>&quot;unknown&quot;</td><td>&quot;ibm&quot;</td><td>274340</td><td>&quot;unknown&quot;</td><td>&quot;Unclear Seniority&quot;</td><td>&quot;Praha&quot;</td><td>&quot;Czech Republic&quot;</td><td>2023-03-13</td><td>&quot;2023&quot;</td><td>&quot;Science TypeScript Horizontal …</td><td>null</td></tr><tr><td>&quot;manufacturing engineer&quot;</td><td>&quot;Full-Time&quot;</td><td>&quot;false&quot;</td><td>null</td><td>null</td><td>&quot;unknown&quot;</td><td>&quot;Unclear Seniority&quot;</td><td>&quot;Sterling Heights&quot;</td><td>&quot;United States&quot;</td><td>2021-10-09</td><td>&quot;2023&quot;</td><td>&quot;Tools Serverless Manufacturing…</td><td>null</td></tr><tr><td>&quot;design engineer, motorized pro…</td><td>&quot;Full-Time&quot;</td><td>&quot;unknown&quot;</td><td>&quot;abi attachments&quot;</td><td>25</td><td>&quot;Bachelors&quot;</td><td>&quot;Senior IC&quot;</td><td>&quot;Mishawaka&quot;</td><td>&quot;United States&quot;</td><td>2023-04-28</td><td>&quot;2023&quot;</td><td>&quot;Design&quot;</td><td>null</td></tr><tr><td>&quot;cybersecurity engineer&quot;</td><td>&quot;Full-Time&quot;</td><td>&quot;false&quot;</td><td>null</td><td>null</td><td>&quot;Bachelors&quot;</td><td>&quot;Unclear Seniority&quot;</td><td>&quot;Herndon&quot;</td><td>&quot;United States&quot;</td><td>2023-04-03</td><td>&quot;2023&quot;</td><td>&quot;PaaS Infrastructure Analytics …</td><td>null</td></tr><tr><td>&quot;your career so choose wisely w…</td><td>&quot;Full-Time&quot;</td><td>&quot;false&quot;</td><td>&quot;adeeba e services&quot;</td><td>null</td><td>&quot;unknown&quot;</td><td>&quot;Unclear Seniority&quot;</td><td>&quot;Kolkata&quot;</td><td>&quot;India&quot;</td><td>2017-01-17</td><td>&quot;2023&quot;</td><td>&quot;iOS Software Runtime Storage P…</td><td>null</td></tr><tr><td>&hellip;</td><td>&hellip;</td><td>&hellip;</td><td>&hellip;</td><td>&hellip;</td><td>&hellip;</td><td>&hellip;</td><td>&hellip;</td><td>&hellip;</td><td>&hellip;</td><td>&hellip;</td><td>&hellip;</td><td>&hellip;</td></tr><tr><td>&quot;fire protection engineer (3+ y…</td><td>&quot;Full-Time&quot;</td><td>&quot;false&quot;</td><td>&quot;coffman engineers&quot;</td><td>279</td><td>&quot;unknown&quot;</td><td>&quot;Unclear Seniority&quot;</td><td>&quot;San Diego&quot;</td><td>&quot;United States&quot;</td><td>2024-01-08</td><td>&quot;2024&quot;</td><td>&quot;Shortening Twitter CDN Instagr…</td><td>97500.0</td></tr><tr><td>&quot;mechanical engineering intern&quot;</td><td>&quot;Intern&quot;</td><td>&quot;unknown&quot;</td><td>&quot;study and work&quot;</td><td>null</td><td>&quot;unknown&quot;</td><td>&quot;Intern&quot;</td><td>null</td><td>null</td><td>2024-03-12</td><td>&quot;2024&quot;</td><td>&quot;Industrial Engineering Mechani…</td><td>null</td></tr><tr><td>&quot;automation engineer (m/f/d)&quot;</td><td>&quot;Unclear&quot;</td><td>&quot;unknown&quot;</td><td>&quot;novartis&quot;</td><td>44055</td><td>&quot;unknown&quot;</td><td>&quot;Unclear Seniority&quot;</td><td>&quot;Puurs&quot;</td><td>&quot;Belgium&quot;</td><td>null</td><td>&quot;2024&quot;</td><td>&quot;&quot;</td><td>null</td></tr><tr><td>&quot;computer vision engineer (chen…</td><td>&quot;Full-Time&quot;</td><td>&quot;false&quot;</td><td>&quot;zigsaw&quot;</td><td>null</td><td>&quot;Bachelors&quot;</td><td>&quot;Unclear Seniority&quot;</td><td>&quot;Chennai&quot;</td><td>&quot;India&quot;</td><td>2023-10-05</td><td>&quot;2024&quot;</td><td>&quot;Processing OSS Machine Java To…</td><td>null</td></tr><tr><td>&quot;associate engineering speciali…</td><td>&quot;Contract&quot;</td><td>&quot;unknown&quot;</td><td>&quot;flexible &amp; integrated technica…</td><td>null</td><td>&quot;Bachelors&quot;</td><td>&quot;Junior IC&quot;</td><td>&quot;Juncos&quot;</td><td>&quot;United States&quot;</td><td>2024-01-29</td><td>&quot;2024&quot;</td><td>&quot;Medical Devices&quot;</td><td>null</td></tr></tbody></table></div>"
      ],
      "text/plain": [
       "shape: (100_000, 13)\n",
       "┌────────────┬───────────┬─────────┬────────────┬───┬───────────┬───────────┬───────────┬──────────┐\n",
       "│ job_name   ┆ hours     ┆ remote  ┆ name       ┆ … ┆ job_publi ┆ sample_da ┆ tags      ┆ comp_dol │\n",
       "│ ---        ┆ ---       ┆ ---     ┆ ---        ┆   ┆ shed_at   ┆ te        ┆ ---       ┆ ---      │\n",
       "│ str        ┆ cat       ┆ cat     ┆ str        ┆   ┆ ---       ┆ ---       ┆ str       ┆ f64      │\n",
       "│            ┆           ┆         ┆            ┆   ┆ date      ┆ str       ┆           ┆          │\n",
       "╞════════════╪═══════════╪═════════╪════════════╪═══╪═══════════╪═══════════╪═══════════╪══════════╡\n",
       "│ backend    ┆ Unclear   ┆ unknown ┆ ibm        ┆ … ┆ 2023-03-1 ┆ 2023      ┆ Science   ┆ null     │\n",
       "│ developer  ┆           ┆         ┆            ┆   ┆ 3         ┆           ┆ TypeScrip ┆          │\n",
       "│            ┆           ┆         ┆            ┆   ┆           ┆           ┆ t Horizon ┆          │\n",
       "│            ┆           ┆         ┆            ┆   ┆           ┆           ┆ tal …     ┆          │\n",
       "│ manufactur ┆ Full-Time ┆ false   ┆ null       ┆ … ┆ 2021-10-0 ┆ 2023      ┆ Tools Ser ┆ null     │\n",
       "│ ing        ┆           ┆         ┆            ┆   ┆ 9         ┆           ┆ verless   ┆          │\n",
       "│ engineer   ┆           ┆         ┆            ┆   ┆           ┆           ┆ Manufactu ┆          │\n",
       "│            ┆           ┆         ┆            ┆   ┆           ┆           ┆ ring…     ┆          │\n",
       "│ design     ┆ Full-Time ┆ unknown ┆ abi attach ┆ … ┆ 2023-04-2 ┆ 2023      ┆ Design    ┆ null     │\n",
       "│ engineer,  ┆           ┆         ┆ ments      ┆   ┆ 8         ┆           ┆           ┆          │\n",
       "│ motorized  ┆           ┆         ┆            ┆   ┆           ┆           ┆           ┆          │\n",
       "│ pro…       ┆           ┆         ┆            ┆   ┆           ┆           ┆           ┆          │\n",
       "│ cybersecur ┆ Full-Time ┆ false   ┆ null       ┆ … ┆ 2023-04-0 ┆ 2023      ┆ PaaS Infr ┆ null     │\n",
       "│ ity        ┆           ┆         ┆            ┆   ┆ 3         ┆           ┆ astructur ┆          │\n",
       "│ engineer   ┆           ┆         ┆            ┆   ┆           ┆           ┆ e         ┆          │\n",
       "│            ┆           ┆         ┆            ┆   ┆           ┆           ┆ Analytics ┆          │\n",
       "│            ┆           ┆         ┆            ┆   ┆           ┆           ┆ …         ┆          │\n",
       "│ your       ┆ Full-Time ┆ false   ┆ adeeba e   ┆ … ┆ 2017-01-1 ┆ 2023      ┆ iOS       ┆ null     │\n",
       "│ career so  ┆           ┆         ┆ services   ┆   ┆ 7         ┆           ┆ Software  ┆          │\n",
       "│ choose     ┆           ┆         ┆            ┆   ┆           ┆           ┆ Runtime   ┆          │\n",
       "│ wisely w…  ┆           ┆         ┆            ┆   ┆           ┆           ┆ Storage   ┆          │\n",
       "│            ┆           ┆         ┆            ┆   ┆           ┆           ┆ P…        ┆          │\n",
       "│ …          ┆ …         ┆ …       ┆ …          ┆ … ┆ …         ┆ …         ┆ …         ┆ …        │\n",
       "│ fire       ┆ Full-Time ┆ false   ┆ coffman    ┆ … ┆ 2024-01-0 ┆ 2024      ┆ Shortenin ┆ 97500.0  │\n",
       "│ protection ┆           ┆         ┆ engineers  ┆   ┆ 8         ┆           ┆ g Twitter ┆          │\n",
       "│ engineer   ┆           ┆         ┆            ┆   ┆           ┆           ┆ CDN       ┆          │\n",
       "│ (3+ y…     ┆           ┆         ┆            ┆   ┆           ┆           ┆ Instagr…  ┆          │\n",
       "│ mechanical ┆ Intern    ┆ unknown ┆ study and  ┆ … ┆ 2024-03-1 ┆ 2024      ┆ Industria ┆ null     │\n",
       "│ engineerin ┆           ┆         ┆ work       ┆   ┆ 2         ┆           ┆ l Enginee ┆          │\n",
       "│ g intern   ┆           ┆         ┆            ┆   ┆           ┆           ┆ ring      ┆          │\n",
       "│            ┆           ┆         ┆            ┆   ┆           ┆           ┆ Mechani…  ┆          │\n",
       "│ automation ┆ Unclear   ┆ unknown ┆ novartis   ┆ … ┆ null      ┆ 2024      ┆           ┆ null     │\n",
       "│ engineer   ┆           ┆         ┆            ┆   ┆           ┆           ┆           ┆          │\n",
       "│ (m/f/d)    ┆           ┆         ┆            ┆   ┆           ┆           ┆           ┆          │\n",
       "│ computer   ┆ Full-Time ┆ false   ┆ zigsaw     ┆ … ┆ 2023-10-0 ┆ 2024      ┆ Processin ┆ null     │\n",
       "│ vision     ┆           ┆         ┆            ┆   ┆ 5         ┆           ┆ g OSS     ┆          │\n",
       "│ engineer   ┆           ┆         ┆            ┆   ┆           ┆           ┆ Machine   ┆          │\n",
       "│ (chen…     ┆           ┆         ┆            ┆   ┆           ┆           ┆ Java To…  ┆          │\n",
       "│ associate  ┆ Contract  ┆ unknown ┆ flexible & ┆ … ┆ 2024-01-2 ┆ 2024      ┆ Medical   ┆ null     │\n",
       "│ engineerin ┆           ┆         ┆ integrated ┆   ┆ 9         ┆           ┆ Devices   ┆          │\n",
       "│ g          ┆           ┆         ┆ technica…  ┆   ┆           ┆           ┆           ┆          │\n",
       "│ speciali…  ┆           ┆         ┆            ┆   ┆           ┆           ┆           ┆          │\n",
       "└────────────┴───────────┴─────────┴────────────┴───┴───────────┴───────────┴───────────┴──────────┘"
      ]
     },
     "execution_count": 72,
     "metadata": {},
     "output_type": "execute_result"
    }
   ],
   "source": [
    "clean_df"
   ]
  },
  {
   "cell_type": "code",
   "execution_count": 73,
   "id": "b4d05d14-75b9-4a5e-8014-f9943927d89c",
   "metadata": {},
   "outputs": [],
   "source": [
    "clean_df.write_csv(\"/home/anopsy/Portfolio/junior_roles/clean_df.csv\", separator=\",\")"
   ]
  },
  {
   "cell_type": "code",
   "execution_count": null,
   "id": "ac56d390-87e6-44ea-b47b-0d4053cb804f",
   "metadata": {},
   "outputs": [],
   "source": []
  }
 ],
 "metadata": {
  "kernelspec": {
   "display_name": "venv",
   "language": "python",
   "name": "venv"
  },
  "language_info": {
   "codemirror_mode": {
    "name": "ipython",
    "version": 3
   },
   "file_extension": ".py",
   "mimetype": "text/x-python",
   "name": "python",
   "nbconvert_exporter": "python",
   "pygments_lexer": "ipython3",
   "version": "3.10.12"
  }
 },
 "nbformat": 4,
 "nbformat_minor": 5
}
